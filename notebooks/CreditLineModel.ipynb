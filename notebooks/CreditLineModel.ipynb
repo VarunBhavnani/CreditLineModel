{
 "cells": [
  {
   "cell_type": "markdown",
   "id": "d91d160d",
   "metadata": {},
   "source": [
    "# Import Data & Libraries"
   ]
  },
  {
   "cell_type": "code",
   "execution_count": null,
   "id": "b10c3593",
   "metadata": {},
   "outputs": [],
   "source": [
    "import pandas as pd\n",
    "import numpy as np\n",
    "import matplotlib.pyplot as plt\n",
    "import seaborn as sns\n",
    "from sklearn.model_selection import train_test_split\n",
    "\n",
    "import warnings\n",
    "warnings.filterwarnings('ignore')\n",
    "\n",
    "import sys\n",
    "import os\n",
    "sys.path.append(os.path.abspath('../src'))\n",
    "\n",
    "import model_utility as util"
   ]
  },
  {
   "cell_type": "code",
   "execution_count": 2,
   "id": "f783bbc4",
   "metadata": {},
   "outputs": [],
   "source": [
    "df = pd.read_excel('../data/default of credit card clients.xls',header = 1)"
   ]
  },
  {
   "cell_type": "code",
   "execution_count": 3,
   "id": "b1f34faf",
   "metadata": {},
   "outputs": [],
   "source": [
    "df_train,df_test = train_test_split(df,test_size=0.3,random_state= 42)"
   ]
  },
  {
   "cell_type": "markdown",
   "id": "e4f7bfbf",
   "metadata": {},
   "source": [
    "# Feature Engineering: Train data preparation"
   ]
  },
  {
   "cell_type": "code",
   "execution_count": 4,
   "id": "e089212f",
   "metadata": {},
   "outputs": [],
   "source": [
    "df_temp = df_train.copy()"
   ]
  },
  {
   "cell_type": "code",
   "execution_count": 5,
   "id": "10e04e0a",
   "metadata": {},
   "outputs": [
    {
     "name": "stdout",
     "output_type": "stream",
     "text": [
      "(21000, 25)\n"
     ]
    },
    {
     "data": {
      "text/html": [
       "<div>\n",
       "<style scoped>\n",
       "    .dataframe tbody tr th:only-of-type {\n",
       "        vertical-align: middle;\n",
       "    }\n",
       "\n",
       "    .dataframe tbody tr th {\n",
       "        vertical-align: top;\n",
       "    }\n",
       "\n",
       "    .dataframe thead th {\n",
       "        text-align: right;\n",
       "    }\n",
       "</style>\n",
       "<table border=\"1\" class=\"dataframe\">\n",
       "  <thead>\n",
       "    <tr style=\"text-align: right;\">\n",
       "      <th></th>\n",
       "      <th>ID</th>\n",
       "      <th>LIMIT_BAL</th>\n",
       "      <th>SEX</th>\n",
       "      <th>EDUCATION</th>\n",
       "      <th>MARRIAGE</th>\n",
       "      <th>AGE</th>\n",
       "      <th>PAY_0</th>\n",
       "      <th>PAY_2</th>\n",
       "      <th>PAY_3</th>\n",
       "      <th>PAY_4</th>\n",
       "      <th>...</th>\n",
       "      <th>BILL_AMT4</th>\n",
       "      <th>BILL_AMT5</th>\n",
       "      <th>BILL_AMT6</th>\n",
       "      <th>PAY_AMT1</th>\n",
       "      <th>PAY_AMT2</th>\n",
       "      <th>PAY_AMT3</th>\n",
       "      <th>PAY_AMT4</th>\n",
       "      <th>PAY_AMT5</th>\n",
       "      <th>PAY_AMT6</th>\n",
       "      <th>default payment next month</th>\n",
       "    </tr>\n",
       "  </thead>\n",
       "  <tbody>\n",
       "    <tr>\n",
       "      <th>28465</th>\n",
       "      <td>28466</td>\n",
       "      <td>240000</td>\n",
       "      <td>2</td>\n",
       "      <td>1</td>\n",
       "      <td>1</td>\n",
       "      <td>40</td>\n",
       "      <td>-2</td>\n",
       "      <td>-2</td>\n",
       "      <td>-2</td>\n",
       "      <td>-2</td>\n",
       "      <td>...</td>\n",
       "      <td>0</td>\n",
       "      <td>0</td>\n",
       "      <td>0</td>\n",
       "      <td>0</td>\n",
       "      <td>0</td>\n",
       "      <td>0</td>\n",
       "      <td>0</td>\n",
       "      <td>0</td>\n",
       "      <td>0</td>\n",
       "      <td>1</td>\n",
       "    </tr>\n",
       "    <tr>\n",
       "      <th>27622</th>\n",
       "      <td>27623</td>\n",
       "      <td>50000</td>\n",
       "      <td>2</td>\n",
       "      <td>1</td>\n",
       "      <td>2</td>\n",
       "      <td>23</td>\n",
       "      <td>-1</td>\n",
       "      <td>-1</td>\n",
       "      <td>-1</td>\n",
       "      <td>-1</td>\n",
       "      <td>...</td>\n",
       "      <td>4800</td>\n",
       "      <td>9810</td>\n",
       "      <td>660</td>\n",
       "      <td>2548</td>\n",
       "      <td>2321</td>\n",
       "      <td>4800</td>\n",
       "      <td>9810</td>\n",
       "      <td>660</td>\n",
       "      <td>2980</td>\n",
       "      <td>0</td>\n",
       "    </tr>\n",
       "    <tr>\n",
       "      <th>28376</th>\n",
       "      <td>28377</td>\n",
       "      <td>50000</td>\n",
       "      <td>2</td>\n",
       "      <td>2</td>\n",
       "      <td>1</td>\n",
       "      <td>36</td>\n",
       "      <td>2</td>\n",
       "      <td>2</td>\n",
       "      <td>2</td>\n",
       "      <td>2</td>\n",
       "      <td>...</td>\n",
       "      <td>47956</td>\n",
       "      <td>43578</td>\n",
       "      <td>35126</td>\n",
       "      <td>0</td>\n",
       "      <td>4700</td>\n",
       "      <td>0</td>\n",
       "      <td>2004</td>\n",
       "      <td>3500</td>\n",
       "      <td>0</td>\n",
       "      <td>0</td>\n",
       "    </tr>\n",
       "    <tr>\n",
       "      <th>10917</th>\n",
       "      <td>10918</td>\n",
       "      <td>200000</td>\n",
       "      <td>2</td>\n",
       "      <td>3</td>\n",
       "      <td>1</td>\n",
       "      <td>54</td>\n",
       "      <td>6</td>\n",
       "      <td>5</td>\n",
       "      <td>4</td>\n",
       "      <td>3</td>\n",
       "      <td>...</td>\n",
       "      <td>102549</td>\n",
       "      <td>101400</td>\n",
       "      <td>0</td>\n",
       "      <td>0</td>\n",
       "      <td>0</td>\n",
       "      <td>0</td>\n",
       "      <td>0</td>\n",
       "      <td>0</td>\n",
       "      <td>0</td>\n",
       "      <td>0</td>\n",
       "    </tr>\n",
       "    <tr>\n",
       "      <th>27234</th>\n",
       "      <td>27235</td>\n",
       "      <td>240000</td>\n",
       "      <td>1</td>\n",
       "      <td>1</td>\n",
       "      <td>1</td>\n",
       "      <td>35</td>\n",
       "      <td>-1</td>\n",
       "      <td>-1</td>\n",
       "      <td>-1</td>\n",
       "      <td>0</td>\n",
       "      <td>...</td>\n",
       "      <td>17102</td>\n",
       "      <td>13367</td>\n",
       "      <td>22659</td>\n",
       "      <td>2017</td>\n",
       "      <td>21817</td>\n",
       "      <td>1120</td>\n",
       "      <td>13434</td>\n",
       "      <td>22772</td>\n",
       "      <td>22820</td>\n",
       "      <td>0</td>\n",
       "    </tr>\n",
       "  </tbody>\n",
       "</table>\n",
       "<p>5 rows × 25 columns</p>\n",
       "</div>"
      ],
      "text/plain": [
       "          ID  LIMIT_BAL  SEX  EDUCATION  MARRIAGE  AGE  PAY_0  PAY_2  PAY_3  \\\n",
       "28465  28466     240000    2          1         1   40     -2     -2     -2   \n",
       "27622  27623      50000    2          1         2   23     -1     -1     -1   \n",
       "28376  28377      50000    2          2         1   36      2      2      2   \n",
       "10917  10918     200000    2          3         1   54      6      5      4   \n",
       "27234  27235     240000    1          1         1   35     -1     -1     -1   \n",
       "\n",
       "       PAY_4  ...  BILL_AMT4  BILL_AMT5  BILL_AMT6  PAY_AMT1  PAY_AMT2  \\\n",
       "28465     -2  ...          0          0          0         0         0   \n",
       "27622     -1  ...       4800       9810        660      2548      2321   \n",
       "28376      2  ...      47956      43578      35126         0      4700   \n",
       "10917      3  ...     102549     101400          0         0         0   \n",
       "27234      0  ...      17102      13367      22659      2017     21817   \n",
       "\n",
       "       PAY_AMT3  PAY_AMT4  PAY_AMT5  PAY_AMT6  default payment next month  \n",
       "28465         0         0         0         0                           1  \n",
       "27622      4800      9810       660      2980                           0  \n",
       "28376         0      2004      3500         0                           0  \n",
       "10917         0         0         0         0                           0  \n",
       "27234      1120     13434     22772     22820                           0  \n",
       "\n",
       "[5 rows x 25 columns]"
      ]
     },
     "execution_count": 5,
     "metadata": {},
     "output_type": "execute_result"
    }
   ],
   "source": [
    "print(df_temp.shape)\n",
    "df_temp.head()"
   ]
  },
  {
   "cell_type": "code",
   "execution_count": 6,
   "id": "329cd35c",
   "metadata": {},
   "outputs": [
    {
     "data": {
      "text/plain": [
       "array(['ID', 'LIMIT_BAL', 'SEX', 'EDUCATION', 'MARRIAGE', 'AGE', 'PAY_0',\n",
       "       'PAY_2', 'PAY_3', 'PAY_4', 'PAY_5', 'PAY_6', 'BILL_AMT1',\n",
       "       'BILL_AMT2', 'BILL_AMT3', 'BILL_AMT4', 'BILL_AMT5', 'BILL_AMT6',\n",
       "       'PAY_AMT1', 'PAY_AMT2', 'PAY_AMT3', 'PAY_AMT4', 'PAY_AMT5',\n",
       "       'PAY_AMT6', 'default payment next month'], dtype=object)"
      ]
     },
     "execution_count": 6,
     "metadata": {},
     "output_type": "execute_result"
    }
   ],
   "source": [
    "df_temp.columns.values"
   ]
  },
  {
   "cell_type": "code",
   "execution_count": 7,
   "id": "7aa58a26",
   "metadata": {},
   "outputs": [],
   "source": [
    "months_info = [\n",
    "    ('Sep', 'PAY_0', 'BILL_AMT1', 'PAY_AMT1'),\n",
    "    ('Aug', 'PAY_2', 'BILL_AMT2', 'PAY_AMT2'),\n",
    "    ('Jul', 'PAY_3', 'BILL_AMT3', 'PAY_AMT3'),\n",
    "    ('Jun', 'PAY_4', 'BILL_AMT4', 'PAY_AMT4'),\n",
    "    ('May', 'PAY_5', 'BILL_AMT5', 'PAY_AMT5'),\n",
    "    ('Apr', 'PAY_6', 'BILL_AMT6', 'PAY_AMT6'),\n",
    "]"
   ]
  },
  {
   "cell_type": "code",
   "execution_count": 8,
   "id": "b7f380b7",
   "metadata": {},
   "outputs": [],
   "source": [
    "df_temp = util.generate_monthly_features(df_temp, months_info)"
   ]
  },
  {
   "cell_type": "code",
   "execution_count": 9,
   "id": "8082aeca",
   "metadata": {},
   "outputs": [],
   "source": [
    "df_temp.rename(columns={'PAY_0':'PAY_Sep','PAY_2':'PAY_Aug','PAY_3':'PAY_Jul','PAY_4':'PAY_Jun','PAY_5':'PAY_May','PAY_6':'PAY_Apr'},inplace= True)"
   ]
  },
  {
   "cell_type": "code",
   "execution_count": 10,
   "id": "29d726dd",
   "metadata": {},
   "outputs": [],
   "source": [
    "df_temp.rename(columns={'BILL_AMT1':'BILL_AMT_Sep','BILL_AMT2':'BILL_AMT_Aug','BILL_AMT3':'BILL_AMT_Jul','BILL_AMT4':'BILL_AMT_Jun','BILL_AMT5':'BILL_AMT_May','BILL_AMT6':'BILL_AMT_Apr'},inplace= True)"
   ]
  },
  {
   "cell_type": "code",
   "execution_count": 11,
   "id": "39bdb5b2",
   "metadata": {},
   "outputs": [],
   "source": [
    "df_temp.rename(columns={'PAY_AMT1':'PAY_AMT_Sep','PAY_AMT2':'PAY_AMT_Aug','PAY_AMT3':'PAY_AMT_Jul','PAY_AMT4':'PAY_AMT_Jun','PAY_AMT5':'PAY_AMT_May','PAY_AMT6':'PAY_AMT_Apr'},inplace= True)"
   ]
  },
  {
   "cell_type": "code",
   "execution_count": 12,
   "id": "b8b17f08",
   "metadata": {},
   "outputs": [],
   "source": [
    "df_temp = util.reorder_columns_monthwise(df_temp)"
   ]
  },
  {
   "cell_type": "code",
   "execution_count": 13,
   "id": "761141e1",
   "metadata": {},
   "outputs": [
    {
     "data": {
      "text/plain": [
       "array(['ID', 'LIMIT_BAL', 'SEX', 'EDUCATION', 'MARRIAGE', 'AGE',\n",
       "       'PAY_Sep', 'BILL_AMT_Sep', 'PAY_AMT_Sep', 'utilization_ratio Sep',\n",
       "       'Paid Sep', 'Delinquent Sep', 'PAY_Aug', 'BILL_AMT_Aug',\n",
       "       'PAY_AMT_Aug', 'utilization_ratio Aug', 'Paid Aug',\n",
       "       'Delinquent Aug', 'PAY_Jul', 'BILL_AMT_Jul', 'PAY_AMT_Jul',\n",
       "       'utilization_ratio Jul', 'Paid Jul', 'Delinquent Jul', 'PAY_Jun',\n",
       "       'BILL_AMT_Jun', 'PAY_AMT_Jun', 'utilization_ratio Jun', 'Paid Jun',\n",
       "       'Delinquent Jun', 'PAY_May', 'BILL_AMT_May', 'PAY_AMT_May',\n",
       "       'utilization_ratio May', 'Paid May', 'Delinquent May', 'PAY_Apr',\n",
       "       'BILL_AMT_Apr', 'PAY_AMT_Apr', 'utilization_ratio Apr', 'Paid Apr',\n",
       "       'Delinquent Apr', 'default payment next month'], dtype=object)"
      ]
     },
     "execution_count": 13,
     "metadata": {},
     "output_type": "execute_result"
    }
   ],
   "source": [
    "df_temp.columns.values"
   ]
  },
  {
   "cell_type": "code",
   "execution_count": 14,
   "id": "91b46dd6",
   "metadata": {},
   "outputs": [
    {
     "data": {
      "text/plain": [
       "2    9796\n",
       "1    7433\n",
       "3    3444\n",
       "5     195\n",
       "4      85\n",
       "6      38\n",
       "0       9\n",
       "Name: EDUCATION, dtype: int64"
      ]
     },
     "execution_count": 14,
     "metadata": {},
     "output_type": "execute_result"
    }
   ],
   "source": [
    "df_temp['EDUCATION'].value_counts(dropna= False)"
   ]
  },
  {
   "cell_type": "code",
   "execution_count": 15,
   "id": "c1a97e06",
   "metadata": {},
   "outputs": [],
   "source": [
    "mode_education_train = df_temp['EDUCATION'].mode()\n"
   ]
  },
  {
   "cell_type": "code",
   "execution_count": 16,
   "id": "7dd6ce4c",
   "metadata": {},
   "outputs": [],
   "source": [
    "df_temp['EDUCATION'] = np.where(df_temp['EDUCATION'] == 0, mode_education_train,df_temp['EDUCATION'])"
   ]
  },
  {
   "cell_type": "code",
   "execution_count": 17,
   "id": "aa9a1a15",
   "metadata": {},
   "outputs": [],
   "source": [
    "education_mapping = {\n",
    "    1: 'Graduate School',\n",
    "    2: 'University',\n",
    "    3: 'High School',\n",
    "    4: \"Others\",\n",
    "    5: \"Others\",\n",
    "    6: \"Others\"\n",
    "}\n",
    "\n",
    "df_temp['EDUCATION'] = df_temp['EDUCATION'].map(education_mapping)"
   ]
  },
  {
   "cell_type": "code",
   "execution_count": 18,
   "id": "b02a7cf0",
   "metadata": {},
   "outputs": [
    {
     "data": {
      "text/plain": [
       "University         9805\n",
       "Graduate School    7433\n",
       "High School        3444\n",
       "Others              318\n",
       "Name: EDUCATION, dtype: int64"
      ]
     },
     "execution_count": 18,
     "metadata": {},
     "output_type": "execute_result"
    }
   ],
   "source": [
    "df_temp['EDUCATION'].value_counts(dropna= False)"
   ]
  },
  {
   "cell_type": "code",
   "execution_count": 19,
   "id": "a38f8b1c",
   "metadata": {},
   "outputs": [
    {
     "data": {
      "text/plain": [
       "2    12724\n",
       "1     8276\n",
       "Name: SEX, dtype: int64"
      ]
     },
     "execution_count": 19,
     "metadata": {},
     "output_type": "execute_result"
    }
   ],
   "source": [
    "df_temp['SEX'].value_counts(dropna= False)"
   ]
  },
  {
   "cell_type": "code",
   "execution_count": 20,
   "id": "9d556ac3",
   "metadata": {},
   "outputs": [],
   "source": [
    "gender_mapping = {\n",
    "    1: 'Male',\n",
    "    2: 'Female'\n",
    "}\n",
    "\n",
    "df_temp['SEX'] = df_temp['SEX'].map(gender_mapping)"
   ]
  },
  {
   "cell_type": "code",
   "execution_count": 21,
   "id": "82dc02ee",
   "metadata": {},
   "outputs": [
    {
     "data": {
      "text/plain": [
       "Female    12724\n",
       "Male       8276\n",
       "Name: SEX, dtype: int64"
      ]
     },
     "execution_count": 21,
     "metadata": {},
     "output_type": "execute_result"
    }
   ],
   "source": [
    "df_temp['SEX'].value_counts(dropna= False)"
   ]
  },
  {
   "cell_type": "code",
   "execution_count": 22,
   "id": "1a8ee123",
   "metadata": {},
   "outputs": [
    {
     "data": {
      "text/plain": [
       "2    11132\n",
       "1     9605\n",
       "3      228\n",
       "0       35\n",
       "Name: MARRIAGE, dtype: int64"
      ]
     },
     "execution_count": 22,
     "metadata": {},
     "output_type": "execute_result"
    }
   ],
   "source": [
    "df_temp['MARRIAGE'].value_counts(dropna= False)"
   ]
  },
  {
   "cell_type": "code",
   "execution_count": 23,
   "id": "70b328b7",
   "metadata": {},
   "outputs": [],
   "source": [
    "mode_marriage_train = df_temp['MARRIAGE'].mode()"
   ]
  },
  {
   "cell_type": "code",
   "execution_count": 24,
   "id": "34255eb3",
   "metadata": {},
   "outputs": [],
   "source": [
    "df_temp['MARRIAGE'] = np.where(df_temp['MARRIAGE'] == 0,2,df_temp['MARRIAGE'])"
   ]
  },
  {
   "cell_type": "code",
   "execution_count": 25,
   "id": "64332b14",
   "metadata": {},
   "outputs": [
    {
     "data": {
      "text/plain": [
       "2    11167\n",
       "1     9605\n",
       "3      228\n",
       "Name: MARRIAGE, dtype: int64"
      ]
     },
     "execution_count": 25,
     "metadata": {},
     "output_type": "execute_result"
    }
   ],
   "source": [
    "df_temp['MARRIAGE'].value_counts(dropna= False)"
   ]
  },
  {
   "cell_type": "code",
   "execution_count": 26,
   "id": "659b07db",
   "metadata": {},
   "outputs": [],
   "source": [
    "marital_mapping = {\n",
    "    1: 'Married',\n",
    "    2: 'Single',\n",
    "    3: 'Others'\n",
    "}\n",
    "\n",
    "df_temp['MARRIAGE'] = df_temp['MARRIAGE'].map(marital_mapping)"
   ]
  },
  {
   "cell_type": "code",
   "execution_count": 27,
   "id": "d78534fb",
   "metadata": {},
   "outputs": [
    {
     "data": {
      "text/plain": [
       "Single     11167\n",
       "Married     9605\n",
       "Others       228\n",
       "Name: MARRIAGE, dtype: int64"
      ]
     },
     "execution_count": 27,
     "metadata": {},
     "output_type": "execute_result"
    }
   ],
   "source": [
    "df_temp['MARRIAGE'].value_counts(dropna= False)"
   ]
  },
  {
   "cell_type": "code",
   "execution_count": 28,
   "id": "b0c19383",
   "metadata": {},
   "outputs": [
    {
     "data": {
      "text/plain": [
       "ID                            0\n",
       "LIMIT_BAL                     0\n",
       "SEX                           0\n",
       "EDUCATION                     0\n",
       "MARRIAGE                      0\n",
       "AGE                           0\n",
       "PAY_Sep                       0\n",
       "BILL_AMT_Sep                  0\n",
       "PAY_AMT_Sep                   0\n",
       "utilization_ratio Sep         0\n",
       "Paid Sep                      0\n",
       "Delinquent Sep                0\n",
       "PAY_Aug                       0\n",
       "BILL_AMT_Aug                  0\n",
       "PAY_AMT_Aug                   0\n",
       "utilization_ratio Aug         0\n",
       "Paid Aug                      0\n",
       "Delinquent Aug                0\n",
       "PAY_Jul                       0\n",
       "BILL_AMT_Jul                  0\n",
       "PAY_AMT_Jul                   0\n",
       "utilization_ratio Jul         0\n",
       "Paid Jul                      0\n",
       "Delinquent Jul                0\n",
       "PAY_Jun                       0\n",
       "BILL_AMT_Jun                  0\n",
       "PAY_AMT_Jun                   0\n",
       "utilization_ratio Jun         0\n",
       "Paid Jun                      0\n",
       "Delinquent Jun                0\n",
       "PAY_May                       0\n",
       "BILL_AMT_May                  0\n",
       "PAY_AMT_May                   0\n",
       "utilization_ratio May         0\n",
       "Paid May                      0\n",
       "Delinquent May                0\n",
       "PAY_Apr                       0\n",
       "BILL_AMT_Apr                  0\n",
       "PAY_AMT_Apr                   0\n",
       "utilization_ratio Apr         0\n",
       "Paid Apr                      0\n",
       "Delinquent Apr                0\n",
       "default payment next month    0\n",
       "dtype: int64"
      ]
     },
     "execution_count": 28,
     "metadata": {},
     "output_type": "execute_result"
    }
   ],
   "source": [
    "df_temp.isna().sum()"
   ]
  },
  {
   "cell_type": "code",
   "execution_count": 29,
   "id": "f659d148",
   "metadata": {},
   "outputs": [
    {
     "data": {
      "text/plain": [
       "(21000, 43)"
      ]
     },
     "execution_count": 29,
     "metadata": {},
     "output_type": "execute_result"
    }
   ],
   "source": [
    "df_temp.shape"
   ]
  },
  {
   "cell_type": "code",
   "execution_count": 30,
   "id": "1369f5b5",
   "metadata": {},
   "outputs": [],
   "source": [
    "# One-hot encoding without dropping any columns\n",
    "df_temp = pd.get_dummies(df_temp, columns=['EDUCATION', 'SEX','MARRIAGE'], drop_first=False)"
   ]
  },
  {
   "cell_type": "code",
   "execution_count": 31,
   "id": "f6ccb44f",
   "metadata": {},
   "outputs": [
    {
     "data": {
      "text/plain": [
       "array(['ID', 'LIMIT_BAL', 'AGE', 'PAY_Sep', 'BILL_AMT_Sep', 'PAY_AMT_Sep',\n",
       "       'utilization_ratio Sep', 'Paid Sep', 'Delinquent Sep', 'PAY_Aug',\n",
       "       'BILL_AMT_Aug', 'PAY_AMT_Aug', 'utilization_ratio Aug', 'Paid Aug',\n",
       "       'Delinquent Aug', 'PAY_Jul', 'BILL_AMT_Jul', 'PAY_AMT_Jul',\n",
       "       'utilization_ratio Jul', 'Paid Jul', 'Delinquent Jul', 'PAY_Jun',\n",
       "       'BILL_AMT_Jun', 'PAY_AMT_Jun', 'utilization_ratio Jun', 'Paid Jun',\n",
       "       'Delinquent Jun', 'PAY_May', 'BILL_AMT_May', 'PAY_AMT_May',\n",
       "       'utilization_ratio May', 'Paid May', 'Delinquent May', 'PAY_Apr',\n",
       "       'BILL_AMT_Apr', 'PAY_AMT_Apr', 'utilization_ratio Apr', 'Paid Apr',\n",
       "       'Delinquent Apr', 'default payment next month',\n",
       "       'EDUCATION_Graduate School', 'EDUCATION_High School',\n",
       "       'EDUCATION_Others', 'EDUCATION_University', 'SEX_Female',\n",
       "       'SEX_Male', 'MARRIAGE_Married', 'MARRIAGE_Others',\n",
       "       'MARRIAGE_Single'], dtype=object)"
      ]
     },
     "execution_count": 31,
     "metadata": {},
     "output_type": "execute_result"
    }
   ],
   "source": [
    "df_temp.columns.values"
   ]
  },
  {
   "cell_type": "code",
   "execution_count": 32,
   "id": "0dd18582",
   "metadata": {},
   "outputs": [],
   "source": [
    "#Columns to drop for multi-collinearity\n",
    "col_to_drop = ['EDUCATION_Others','SEX_Female','MARRIAGE_Others']"
   ]
  },
  {
   "cell_type": "code",
   "execution_count": 33,
   "id": "5aa20d60",
   "metadata": {},
   "outputs": [],
   "source": [
    "df_temp.drop(columns= col_to_drop, inplace= True)"
   ]
  },
  {
   "cell_type": "code",
   "execution_count": 34,
   "id": "4dfd058c",
   "metadata": {},
   "outputs": [],
   "source": [
    "df_train = df_temp.copy()"
   ]
  },
  {
   "cell_type": "code",
   "execution_count": 35,
   "id": "404a82d4",
   "metadata": {},
   "outputs": [
    {
     "name": "stdout",
     "output_type": "stream",
     "text": [
      "(21000, 46)\n"
     ]
    },
    {
     "data": {
      "text/html": [
       "<div>\n",
       "<style scoped>\n",
       "    .dataframe tbody tr th:only-of-type {\n",
       "        vertical-align: middle;\n",
       "    }\n",
       "\n",
       "    .dataframe tbody tr th {\n",
       "        vertical-align: top;\n",
       "    }\n",
       "\n",
       "    .dataframe thead th {\n",
       "        text-align: right;\n",
       "    }\n",
       "</style>\n",
       "<table border=\"1\" class=\"dataframe\">\n",
       "  <thead>\n",
       "    <tr style=\"text-align: right;\">\n",
       "      <th></th>\n",
       "      <th>ID</th>\n",
       "      <th>LIMIT_BAL</th>\n",
       "      <th>AGE</th>\n",
       "      <th>PAY_Sep</th>\n",
       "      <th>BILL_AMT_Sep</th>\n",
       "      <th>PAY_AMT_Sep</th>\n",
       "      <th>utilization_ratio Sep</th>\n",
       "      <th>Paid Sep</th>\n",
       "      <th>Delinquent Sep</th>\n",
       "      <th>PAY_Aug</th>\n",
       "      <th>...</th>\n",
       "      <th>utilization_ratio Apr</th>\n",
       "      <th>Paid Apr</th>\n",
       "      <th>Delinquent Apr</th>\n",
       "      <th>default payment next month</th>\n",
       "      <th>EDUCATION_Graduate School</th>\n",
       "      <th>EDUCATION_High School</th>\n",
       "      <th>EDUCATION_University</th>\n",
       "      <th>SEX_Male</th>\n",
       "      <th>MARRIAGE_Married</th>\n",
       "      <th>MARRIAGE_Single</th>\n",
       "    </tr>\n",
       "  </thead>\n",
       "  <tbody>\n",
       "    <tr>\n",
       "      <th>0</th>\n",
       "      <td>28466</td>\n",
       "      <td>240000</td>\n",
       "      <td>40</td>\n",
       "      <td>-2</td>\n",
       "      <td>0</td>\n",
       "      <td>0</td>\n",
       "      <td>0.000000</td>\n",
       "      <td>0</td>\n",
       "      <td>0</td>\n",
       "      <td>-2</td>\n",
       "      <td>...</td>\n",
       "      <td>0.000000</td>\n",
       "      <td>0</td>\n",
       "      <td>0</td>\n",
       "      <td>1</td>\n",
       "      <td>1</td>\n",
       "      <td>0</td>\n",
       "      <td>0</td>\n",
       "      <td>0</td>\n",
       "      <td>1</td>\n",
       "      <td>0</td>\n",
       "    </tr>\n",
       "    <tr>\n",
       "      <th>1</th>\n",
       "      <td>27623</td>\n",
       "      <td>50000</td>\n",
       "      <td>23</td>\n",
       "      <td>-1</td>\n",
       "      <td>3430</td>\n",
       "      <td>2548</td>\n",
       "      <td>0.068600</td>\n",
       "      <td>1</td>\n",
       "      <td>0</td>\n",
       "      <td>-1</td>\n",
       "      <td>...</td>\n",
       "      <td>0.013200</td>\n",
       "      <td>1</td>\n",
       "      <td>0</td>\n",
       "      <td>0</td>\n",
       "      <td>1</td>\n",
       "      <td>0</td>\n",
       "      <td>0</td>\n",
       "      <td>0</td>\n",
       "      <td>0</td>\n",
       "      <td>1</td>\n",
       "    </tr>\n",
       "    <tr>\n",
       "      <th>2</th>\n",
       "      <td>28377</td>\n",
       "      <td>50000</td>\n",
       "      <td>36</td>\n",
       "      <td>2</td>\n",
       "      <td>46203</td>\n",
       "      <td>0</td>\n",
       "      <td>0.924060</td>\n",
       "      <td>0</td>\n",
       "      <td>1</td>\n",
       "      <td>2</td>\n",
       "      <td>...</td>\n",
       "      <td>0.702520</td>\n",
       "      <td>0</td>\n",
       "      <td>0</td>\n",
       "      <td>0</td>\n",
       "      <td>0</td>\n",
       "      <td>0</td>\n",
       "      <td>1</td>\n",
       "      <td>0</td>\n",
       "      <td>1</td>\n",
       "      <td>0</td>\n",
       "    </tr>\n",
       "    <tr>\n",
       "      <th>3</th>\n",
       "      <td>10918</td>\n",
       "      <td>200000</td>\n",
       "      <td>54</td>\n",
       "      <td>6</td>\n",
       "      <td>110185</td>\n",
       "      <td>0</td>\n",
       "      <td>0.550925</td>\n",
       "      <td>0</td>\n",
       "      <td>1</td>\n",
       "      <td>5</td>\n",
       "      <td>...</td>\n",
       "      <td>0.000000</td>\n",
       "      <td>0</td>\n",
       "      <td>1</td>\n",
       "      <td>0</td>\n",
       "      <td>0</td>\n",
       "      <td>1</td>\n",
       "      <td>0</td>\n",
       "      <td>0</td>\n",
       "      <td>1</td>\n",
       "      <td>0</td>\n",
       "    </tr>\n",
       "    <tr>\n",
       "      <th>4</th>\n",
       "      <td>27235</td>\n",
       "      <td>240000</td>\n",
       "      <td>35</td>\n",
       "      <td>-1</td>\n",
       "      <td>2024</td>\n",
       "      <td>2017</td>\n",
       "      <td>0.008433</td>\n",
       "      <td>1</td>\n",
       "      <td>0</td>\n",
       "      <td>-1</td>\n",
       "      <td>...</td>\n",
       "      <td>0.094412</td>\n",
       "      <td>1</td>\n",
       "      <td>0</td>\n",
       "      <td>0</td>\n",
       "      <td>1</td>\n",
       "      <td>0</td>\n",
       "      <td>0</td>\n",
       "      <td>1</td>\n",
       "      <td>1</td>\n",
       "      <td>0</td>\n",
       "    </tr>\n",
       "  </tbody>\n",
       "</table>\n",
       "<p>5 rows × 46 columns</p>\n",
       "</div>"
      ],
      "text/plain": [
       "      ID  LIMIT_BAL  AGE  PAY_Sep  BILL_AMT_Sep  PAY_AMT_Sep  \\\n",
       "0  28466     240000   40       -2             0            0   \n",
       "1  27623      50000   23       -1          3430         2548   \n",
       "2  28377      50000   36        2         46203            0   \n",
       "3  10918     200000   54        6        110185            0   \n",
       "4  27235     240000   35       -1          2024         2017   \n",
       "\n",
       "   utilization_ratio Sep  Paid Sep  Delinquent Sep  PAY_Aug  ...  \\\n",
       "0               0.000000         0               0       -2  ...   \n",
       "1               0.068600         1               0       -1  ...   \n",
       "2               0.924060         0               1        2  ...   \n",
       "3               0.550925         0               1        5  ...   \n",
       "4               0.008433         1               0       -1  ...   \n",
       "\n",
       "   utilization_ratio Apr  Paid Apr  Delinquent Apr  \\\n",
       "0               0.000000         0               0   \n",
       "1               0.013200         1               0   \n",
       "2               0.702520         0               0   \n",
       "3               0.000000         0               1   \n",
       "4               0.094412         1               0   \n",
       "\n",
       "   default payment next month  EDUCATION_Graduate School  \\\n",
       "0                           1                          1   \n",
       "1                           0                          1   \n",
       "2                           0                          0   \n",
       "3                           0                          0   \n",
       "4                           0                          1   \n",
       "\n",
       "   EDUCATION_High School  EDUCATION_University  SEX_Male  MARRIAGE_Married  \\\n",
       "0                      0                     0         0                 1   \n",
       "1                      0                     0         0                 0   \n",
       "2                      0                     1         0                 1   \n",
       "3                      1                     0         0                 1   \n",
       "4                      0                     0         1                 1   \n",
       "\n",
       "   MARRIAGE_Single  \n",
       "0                0  \n",
       "1                1  \n",
       "2                0  \n",
       "3                0  \n",
       "4                0  \n",
       "\n",
       "[5 rows x 46 columns]"
      ]
     },
     "execution_count": 35,
     "metadata": {},
     "output_type": "execute_result"
    }
   ],
   "source": [
    "print(df_train.shape)\n",
    "df_train.head()"
   ]
  },
  {
   "cell_type": "code",
   "execution_count": 36,
   "id": "af8939c3",
   "metadata": {},
   "outputs": [
    {
     "data": {
      "text/plain": [
       "Index(['ID', 'LIMIT_BAL', 'AGE', 'PAY_Sep', 'BILL_AMT_Sep', 'PAY_AMT_Sep',\n",
       "       'utilization_ratio Sep', 'Paid Sep', 'Delinquent Sep', 'PAY_Aug',\n",
       "       'BILL_AMT_Aug', 'PAY_AMT_Aug', 'utilization_ratio Aug', 'Paid Aug',\n",
       "       'Delinquent Aug', 'PAY_Jul', 'BILL_AMT_Jul', 'PAY_AMT_Jul',\n",
       "       'utilization_ratio Jul', 'Paid Jul', 'Delinquent Jul', 'PAY_Jun',\n",
       "       'BILL_AMT_Jun', 'PAY_AMT_Jun', 'utilization_ratio Jun', 'Paid Jun',\n",
       "       'Delinquent Jun', 'PAY_May', 'BILL_AMT_May', 'PAY_AMT_May',\n",
       "       'utilization_ratio May', 'Paid May', 'Delinquent May', 'PAY_Apr',\n",
       "       'BILL_AMT_Apr', 'PAY_AMT_Apr', 'utilization_ratio Apr', 'Paid Apr',\n",
       "       'Delinquent Apr', 'default payment next month',\n",
       "       'EDUCATION_Graduate School', 'EDUCATION_High School',\n",
       "       'EDUCATION_University', 'SEX_Male', 'MARRIAGE_Married',\n",
       "       'MARRIAGE_Single'],\n",
       "      dtype='object')"
      ]
     },
     "execution_count": 36,
     "metadata": {},
     "output_type": "execute_result"
    }
   ],
   "source": [
    "df_train.columns"
   ]
  },
  {
   "cell_type": "code",
   "execution_count": 37,
   "id": "56a93003",
   "metadata": {},
   "outputs": [],
   "source": [
    "# Binary features already in 0/1 format — manually completed\n",
    "already_one_hot_encoded_cols = [\n",
    "    'Paid Sep', 'Delinquent Sep',\n",
    "    'Paid Aug', 'Delinquent Aug',\n",
    "    'Paid Jul', 'Delinquent Jul',\n",
    "    'Paid Jun', 'Delinquent Jun',\n",
    "    'Paid May', 'Delinquent May',\n",
    "    'Paid Apr', 'Delinquent Apr',\n",
    "    'EDUCATION_Graduate School', 'EDUCATION_High School',\n",
    "    'EDUCATION_University', 'SEX_Male', 'MARRIAGE_Married',\n",
    "    'MARRIAGE_Single'\n",
    "]"
   ]
  },
  {
   "cell_type": "code",
   "execution_count": 38,
   "id": "0fb62e0b",
   "metadata": {},
   "outputs": [],
   "source": [
    "cols_to_ignore_for_woe = already_one_hot_encoded_cols + ['ID']"
   ]
  },
  {
   "cell_type": "code",
   "execution_count": 39,
   "id": "429df1ae",
   "metadata": {},
   "outputs": [
    {
     "data": {
      "text/plain": [
       "['Paid Sep',\n",
       " 'Delinquent Sep',\n",
       " 'Paid Aug',\n",
       " 'Delinquent Aug',\n",
       " 'Paid Jul',\n",
       " 'Delinquent Jul',\n",
       " 'Paid Jun',\n",
       " 'Delinquent Jun',\n",
       " 'Paid May',\n",
       " 'Delinquent May',\n",
       " 'Paid Apr',\n",
       " 'Delinquent Apr',\n",
       " 'EDUCATION_Graduate School',\n",
       " 'EDUCATION_High School',\n",
       " 'EDUCATION_University',\n",
       " 'SEX_Male',\n",
       " 'MARRIAGE_Married',\n",
       " 'MARRIAGE_Single',\n",
       " 'ID']"
      ]
     },
     "execution_count": 39,
     "metadata": {},
     "output_type": "execute_result"
    }
   ],
   "source": [
    "cols_to_ignore_for_woe"
   ]
  },
  {
   "cell_type": "code",
   "execution_count": 40,
   "id": "714ca23c",
   "metadata": {},
   "outputs": [],
   "source": [
    "woe_temp,iv_df = util.compute_iv_optimize(df_train.drop(columns=cols_to_ignore_for_woe),target = 'default payment next month',min_bin_pct= 0.02,plot = False)"
   ]
  },
  {
   "cell_type": "code",
   "execution_count": 41,
   "id": "57016632",
   "metadata": {},
   "outputs": [
    {
     "data": {
      "text/html": [
       "<div>\n",
       "<style scoped>\n",
       "    .dataframe tbody tr th:only-of-type {\n",
       "        vertical-align: middle;\n",
       "    }\n",
       "\n",
       "    .dataframe tbody tr th {\n",
       "        vertical-align: top;\n",
       "    }\n",
       "\n",
       "    .dataframe thead th {\n",
       "        text-align: right;\n",
       "    }\n",
       "</style>\n",
       "<table border=\"1\" class=\"dataframe\">\n",
       "  <thead>\n",
       "    <tr style=\"text-align: right;\">\n",
       "      <th></th>\n",
       "      <th>Feature</th>\n",
       "      <th>bin</th>\n",
       "      <th>Total Observations</th>\n",
       "      <th>Non events</th>\n",
       "      <th>Events</th>\n",
       "      <th>% of Non events</th>\n",
       "      <th>% of Events</th>\n",
       "      <th>WoE</th>\n",
       "      <th>IV</th>\n",
       "    </tr>\n",
       "  </thead>\n",
       "  <tbody>\n",
       "    <tr>\n",
       "      <th>0</th>\n",
       "      <td>LIMIT_BAL</td>\n",
       "      <td>(9999.999, 30000.0]</td>\n",
       "      <td>2843</td>\n",
       "      <td>1790</td>\n",
       "      <td>1053</td>\n",
       "      <td>0.109654</td>\n",
       "      <td>0.225192</td>\n",
       "      <td>-0.719621</td>\n",
       "      <td>0.083144</td>\n",
       "    </tr>\n",
       "    <tr>\n",
       "      <th>1</th>\n",
       "      <td>LIMIT_BAL</td>\n",
       "      <td>(30000.0, 140000.0]</td>\n",
       "      <td>7886</td>\n",
       "      <td>5899</td>\n",
       "      <td>1987</td>\n",
       "      <td>0.361370</td>\n",
       "      <td>0.424936</td>\n",
       "      <td>-0.162036</td>\n",
       "      <td>0.010300</td>\n",
       "    </tr>\n",
       "    <tr>\n",
       "      <th>2</th>\n",
       "      <td>LIMIT_BAL</td>\n",
       "      <td>(140000.0, 1000000.0]</td>\n",
       "      <td>10271</td>\n",
       "      <td>8635</td>\n",
       "      <td>1636</td>\n",
       "      <td>0.528976</td>\n",
       "      <td>0.349872</td>\n",
       "      <td>0.413376</td>\n",
       "      <td>0.074037</td>\n",
       "    </tr>\n",
       "    <tr>\n",
       "      <th>3</th>\n",
       "      <td>AGE</td>\n",
       "      <td>(20.999, 25.0]</td>\n",
       "      <td>2745</td>\n",
       "      <td>2006</td>\n",
       "      <td>739</td>\n",
       "      <td>0.122887</td>\n",
       "      <td>0.158041</td>\n",
       "      <td>-0.251593</td>\n",
       "      <td>0.008845</td>\n",
       "    </tr>\n",
       "    <tr>\n",
       "      <th>4</th>\n",
       "      <td>AGE</td>\n",
       "      <td>(25.0, 75.0]</td>\n",
       "      <td>18255</td>\n",
       "      <td>14318</td>\n",
       "      <td>3937</td>\n",
       "      <td>0.877113</td>\n",
       "      <td>0.841959</td>\n",
       "      <td>0.040905</td>\n",
       "      <td>0.001438</td>\n",
       "    </tr>\n",
       "    <tr>\n",
       "      <th>...</th>\n",
       "      <td>...</td>\n",
       "      <td>...</td>\n",
       "      <td>...</td>\n",
       "      <td>...</td>\n",
       "      <td>...</td>\n",
       "      <td>...</td>\n",
       "      <td>...</td>\n",
       "      <td>...</td>\n",
       "      <td>...</td>\n",
       "    </tr>\n",
       "    <tr>\n",
       "      <th>70</th>\n",
       "      <td>PAY_AMT_Apr</td>\n",
       "      <td>(1500.0, 5000.0]</td>\n",
       "      <td>6339</td>\n",
       "      <td>5087</td>\n",
       "      <td>1252</td>\n",
       "      <td>0.311627</td>\n",
       "      <td>0.267750</td>\n",
       "      <td>0.151753</td>\n",
       "      <td>0.006658</td>\n",
       "    </tr>\n",
       "    <tr>\n",
       "      <th>71</th>\n",
       "      <td>PAY_AMT_Apr</td>\n",
       "      <td>(5000.0, 527143.0]</td>\n",
       "      <td>3971</td>\n",
       "      <td>3414</td>\n",
       "      <td>557</td>\n",
       "      <td>0.209140</td>\n",
       "      <td>0.119119</td>\n",
       "      <td>0.562881</td>\n",
       "      <td>0.050671</td>\n",
       "    </tr>\n",
       "    <tr>\n",
       "      <th>72</th>\n",
       "      <td>utilization_ratio Apr</td>\n",
       "      <td>(-1.511, 0.349]</td>\n",
       "      <td>12600</td>\n",
       "      <td>10302</td>\n",
       "      <td>2298</td>\n",
       "      <td>0.631095</td>\n",
       "      <td>0.491446</td>\n",
       "      <td>0.250105</td>\n",
       "      <td>0.034927</td>\n",
       "    </tr>\n",
       "    <tr>\n",
       "      <th>73</th>\n",
       "      <td>utilization_ratio Apr</td>\n",
       "      <td>(0.349, 0.671]</td>\n",
       "      <td>4200</td>\n",
       "      <td>3198</td>\n",
       "      <td>1002</td>\n",
       "      <td>0.195908</td>\n",
       "      <td>0.214286</td>\n",
       "      <td>-0.089666</td>\n",
       "      <td>0.001648</td>\n",
       "    </tr>\n",
       "    <tr>\n",
       "      <th>74</th>\n",
       "      <td>utilization_ratio Apr</td>\n",
       "      <td>(0.671, 3.886]</td>\n",
       "      <td>4200</td>\n",
       "      <td>2824</td>\n",
       "      <td>1376</td>\n",
       "      <td>0.172997</td>\n",
       "      <td>0.294269</td>\n",
       "      <td>-0.531220</td>\n",
       "      <td>0.064422</td>\n",
       "    </tr>\n",
       "  </tbody>\n",
       "</table>\n",
       "<p>75 rows × 9 columns</p>\n",
       "</div>"
      ],
      "text/plain": [
       "                  Feature                    bin  Total Observations  \\\n",
       "0               LIMIT_BAL    (9999.999, 30000.0]                2843   \n",
       "1               LIMIT_BAL    (30000.0, 140000.0]                7886   \n",
       "2               LIMIT_BAL  (140000.0, 1000000.0]               10271   \n",
       "3                     AGE         (20.999, 25.0]                2745   \n",
       "4                     AGE           (25.0, 75.0]               18255   \n",
       "..                    ...                    ...                 ...   \n",
       "70            PAY_AMT_Apr       (1500.0, 5000.0]                6339   \n",
       "71            PAY_AMT_Apr     (5000.0, 527143.0]                3971   \n",
       "72  utilization_ratio Apr        (-1.511, 0.349]               12600   \n",
       "73  utilization_ratio Apr         (0.349, 0.671]                4200   \n",
       "74  utilization_ratio Apr         (0.671, 3.886]                4200   \n",
       "\n",
       "    Non events  Events  % of Non events  % of Events       WoE        IV  \n",
       "0         1790    1053         0.109654     0.225192 -0.719621  0.083144  \n",
       "1         5899    1987         0.361370     0.424936 -0.162036  0.010300  \n",
       "2         8635    1636         0.528976     0.349872  0.413376  0.074037  \n",
       "3         2006     739         0.122887     0.158041 -0.251593  0.008845  \n",
       "4        14318    3937         0.877113     0.841959  0.040905  0.001438  \n",
       "..         ...     ...              ...          ...       ...       ...  \n",
       "70        5087    1252         0.311627     0.267750  0.151753  0.006658  \n",
       "71        3414     557         0.209140     0.119119  0.562881  0.050671  \n",
       "72       10302    2298         0.631095     0.491446  0.250105  0.034927  \n",
       "73        3198    1002         0.195908     0.214286 -0.089666  0.001648  \n",
       "74        2824    1376         0.172997     0.294269 -0.531220  0.064422  \n",
       "\n",
       "[75 rows x 9 columns]"
      ]
     },
     "execution_count": 41,
     "metadata": {},
     "output_type": "execute_result"
    }
   ],
   "source": [
    "woe_temp"
   ]
  },
  {
   "cell_type": "code",
   "execution_count": 42,
   "id": "34b18d80",
   "metadata": {},
   "outputs": [],
   "source": [
    "df_train_woe = util.apply_woe_binning(df_train, woe_temp)"
   ]
  },
  {
   "cell_type": "code",
   "execution_count": 43,
   "id": "ebe74f3c",
   "metadata": {},
   "outputs": [
    {
     "data": {
      "text/plain": [
       "Index(['ID', 'LIMIT_BAL', 'AGE', 'PAY_Sep', 'BILL_AMT_Sep', 'PAY_AMT_Sep',\n",
       "       'utilization_ratio Sep', 'Paid Sep', 'Delinquent Sep', 'PAY_Aug',\n",
       "       'BILL_AMT_Aug', 'PAY_AMT_Aug', 'utilization_ratio Aug', 'Paid Aug',\n",
       "       'Delinquent Aug', 'PAY_Jul', 'BILL_AMT_Jul', 'PAY_AMT_Jul',\n",
       "       'utilization_ratio Jul', 'Paid Jul', 'Delinquent Jul', 'PAY_Jun',\n",
       "       'BILL_AMT_Jun', 'PAY_AMT_Jun', 'utilization_ratio Jun', 'Paid Jun',\n",
       "       'Delinquent Jun', 'PAY_May', 'BILL_AMT_May', 'PAY_AMT_May',\n",
       "       'utilization_ratio May', 'Paid May', 'Delinquent May', 'PAY_Apr',\n",
       "       'BILL_AMT_Apr', 'PAY_AMT_Apr', 'utilization_ratio Apr', 'Paid Apr',\n",
       "       'Delinquent Apr', 'default payment next month',\n",
       "       'EDUCATION_Graduate School', 'EDUCATION_High School',\n",
       "       'EDUCATION_University', 'SEX_Male', 'MARRIAGE_Married',\n",
       "       'MARRIAGE_Single'],\n",
       "      dtype='object')"
      ]
     },
     "execution_count": 43,
     "metadata": {},
     "output_type": "execute_result"
    }
   ],
   "source": [
    "df_train_woe.columns"
   ]
  },
  {
   "cell_type": "code",
   "execution_count": 44,
   "id": "c33f6e0e",
   "metadata": {},
   "outputs": [
    {
     "data": {
      "text/plain": [
       "0    12724\n",
       "1     8276\n",
       "Name: SEX_Male, dtype: int64"
      ]
     },
     "execution_count": 44,
     "metadata": {},
     "output_type": "execute_result"
    }
   ],
   "source": [
    "df_train_woe['SEX_Male'].value_counts(dropna= False)"
   ]
  },
  {
   "cell_type": "markdown",
   "id": "decf74b0",
   "metadata": {},
   "source": [
    "# Feature Elimination: Train Data"
   ]
  },
  {
   "cell_type": "code",
   "execution_count": 45,
   "id": "2391f6f5",
   "metadata": {},
   "outputs": [],
   "source": [
    "iv_features = iv_df[iv_df['IV'] >= 0.02]['Feature'].tolist()"
   ]
  },
  {
   "cell_type": "code",
   "execution_count": 46,
   "id": "6966b56f",
   "metadata": {},
   "outputs": [
    {
     "data": {
      "text/plain": [
       "['LIMIT_BAL',\n",
       " 'PAY_AMT_Apr',\n",
       " 'PAY_AMT_Aug',\n",
       " 'PAY_AMT_Jul',\n",
       " 'PAY_AMT_Jun',\n",
       " 'PAY_AMT_May',\n",
       " 'PAY_AMT_Sep',\n",
       " 'PAY_Apr',\n",
       " 'PAY_Aug',\n",
       " 'PAY_Jul',\n",
       " 'PAY_Jun',\n",
       " 'PAY_May',\n",
       " 'PAY_Sep',\n",
       " 'utilization_ratio Apr',\n",
       " 'utilization_ratio Aug',\n",
       " 'utilization_ratio Jul',\n",
       " 'utilization_ratio Jun',\n",
       " 'utilization_ratio May',\n",
       " 'utilization_ratio Sep']"
      ]
     },
     "execution_count": 46,
     "metadata": {},
     "output_type": "execute_result"
    }
   ],
   "source": [
    "iv_features"
   ]
  },
  {
   "cell_type": "code",
   "execution_count": 47,
   "id": "f1862b64",
   "metadata": {},
   "outputs": [
    {
     "data": {
      "text/plain": [
       "['Paid Sep',\n",
       " 'Delinquent Sep',\n",
       " 'Paid Aug',\n",
       " 'Delinquent Aug',\n",
       " 'Paid Jul',\n",
       " 'Delinquent Jul',\n",
       " 'Paid Jun',\n",
       " 'Delinquent Jun',\n",
       " 'Paid May',\n",
       " 'Delinquent May',\n",
       " 'Paid Apr',\n",
       " 'Delinquent Apr',\n",
       " 'EDUCATION_Graduate School',\n",
       " 'EDUCATION_High School',\n",
       " 'EDUCATION_University',\n",
       " 'SEX_Male',\n",
       " 'MARRIAGE_Married',\n",
       " 'MARRIAGE_Single']"
      ]
     },
     "execution_count": 47,
     "metadata": {},
     "output_type": "execute_result"
    }
   ],
   "source": [
    "already_one_hot_encoded_cols"
   ]
  },
  {
   "cell_type": "code",
   "execution_count": 48,
   "id": "1fdbd6d7",
   "metadata": {},
   "outputs": [],
   "source": [
    "cols_to_select = iv_features + already_one_hot_encoded_cols"
   ]
  },
  {
   "cell_type": "code",
   "execution_count": 49,
   "id": "2155b251",
   "metadata": {},
   "outputs": [
    {
     "data": {
      "text/plain": [
       "37"
      ]
     },
     "execution_count": 49,
     "metadata": {},
     "output_type": "execute_result"
    }
   ],
   "source": [
    "len(cols_to_select)"
   ]
  },
  {
   "cell_type": "code",
   "execution_count": 50,
   "id": "a6168aeb",
   "metadata": {},
   "outputs": [],
   "source": [
    "cols_to_select.append('default payment next month')"
   ]
  },
  {
   "cell_type": "code",
   "execution_count": 51,
   "id": "408e0e51",
   "metadata": {},
   "outputs": [
    {
     "data": {
      "text/plain": [
       "38"
      ]
     },
     "execution_count": 51,
     "metadata": {},
     "output_type": "execute_result"
    }
   ],
   "source": [
    "len(cols_to_select)"
   ]
  },
  {
   "cell_type": "code",
   "execution_count": 52,
   "id": "fb0bcafe",
   "metadata": {},
   "outputs": [],
   "source": [
    "df_train_woe = df_train_woe[cols_to_select]"
   ]
  },
  {
   "cell_type": "code",
   "execution_count": 53,
   "id": "b6abc0bb",
   "metadata": {},
   "outputs": [],
   "source": [
    "features = list(woe_temp['Feature'].unique())\n",
    "\n",
    "monotonic_increase = []\n",
    "monotonic_decrease = []\n",
    "non_monotonic = []\n",
    "\n",
    "for att in features:\n",
    "    if woe_temp[woe_temp['Feature'] == att]['WoE'].is_monotonic_increasing:\n",
    "        monotonic_increase.append(att)\n",
    "    elif woe_temp[woe_temp['Feature'] == att]['WoE'].is_monotonic_decreasing:\n",
    "        monotonic_decrease.append(att)\n",
    "    else:\n",
    "        non_monotonic.append(att)\n"
   ]
  },
  {
   "cell_type": "code",
   "execution_count": 54,
   "id": "8925b43c",
   "metadata": {},
   "outputs": [
    {
     "data": {
      "text/plain": [
       "['LIMIT_BAL',\n",
       " 'AGE',\n",
       " 'BILL_AMT_Sep',\n",
       " 'PAY_AMT_Sep',\n",
       " 'BILL_AMT_Aug',\n",
       " 'PAY_AMT_Aug',\n",
       " 'PAY_AMT_Jul',\n",
       " 'BILL_AMT_Jun',\n",
       " 'PAY_AMT_Jun',\n",
       " 'PAY_AMT_May',\n",
       " 'PAY_AMT_Apr']"
      ]
     },
     "execution_count": 54,
     "metadata": {},
     "output_type": "execute_result"
    }
   ],
   "source": [
    "monotonic_increase"
   ]
  },
  {
   "cell_type": "code",
   "execution_count": 55,
   "id": "149a6824",
   "metadata": {},
   "outputs": [
    {
     "data": {
      "text/plain": [
       "['PAY_Sep',\n",
       " 'PAY_Aug',\n",
       " 'PAY_Jul',\n",
       " 'PAY_Jun',\n",
       " 'PAY_May',\n",
       " 'utilization_ratio May',\n",
       " 'PAY_Apr',\n",
       " 'BILL_AMT_Apr',\n",
       " 'utilization_ratio Apr']"
      ]
     },
     "execution_count": 55,
     "metadata": {},
     "output_type": "execute_result"
    }
   ],
   "source": [
    "monotonic_decrease"
   ]
  },
  {
   "cell_type": "code",
   "execution_count": 56,
   "id": "de050c8f",
   "metadata": {},
   "outputs": [
    {
     "data": {
      "text/plain": [
       "['utilization_ratio Sep',\n",
       " 'utilization_ratio Aug',\n",
       " 'BILL_AMT_Jul',\n",
       " 'utilization_ratio Jul',\n",
       " 'utilization_ratio Jun',\n",
       " 'BILL_AMT_May']"
      ]
     },
     "execution_count": 56,
     "metadata": {},
     "output_type": "execute_result"
    }
   ],
   "source": [
    "non_monotonic"
   ]
  },
  {
   "cell_type": "code",
   "execution_count": 57,
   "id": "3e10d0bc",
   "metadata": {},
   "outputs": [
    {
     "data": {
      "text/plain": [
       "Index(['LIMIT_BAL', 'PAY_AMT_Apr', 'PAY_AMT_Aug', 'PAY_AMT_Jul', 'PAY_AMT_Jun',\n",
       "       'PAY_AMT_May', 'PAY_AMT_Sep', 'PAY_Apr', 'PAY_Aug', 'PAY_Jul',\n",
       "       'PAY_Jun', 'PAY_May', 'PAY_Sep', 'utilization_ratio Apr',\n",
       "       'utilization_ratio Aug', 'utilization_ratio Jul',\n",
       "       'utilization_ratio Jun', 'utilization_ratio May',\n",
       "       'utilization_ratio Sep', 'Paid Sep', 'Delinquent Sep', 'Paid Aug',\n",
       "       'Delinquent Aug', 'Paid Jul', 'Delinquent Jul', 'Paid Jun',\n",
       "       'Delinquent Jun', 'Paid May', 'Delinquent May', 'Paid Apr',\n",
       "       'Delinquent Apr', 'EDUCATION_Graduate School', 'EDUCATION_High School',\n",
       "       'EDUCATION_University', 'SEX_Male', 'MARRIAGE_Married',\n",
       "       'MARRIAGE_Single', 'default payment next month'],\n",
       "      dtype='object')"
      ]
     },
     "execution_count": 57,
     "metadata": {},
     "output_type": "execute_result"
    }
   ],
   "source": [
    "df_train_woe.columns"
   ]
  },
  {
   "cell_type": "code",
   "execution_count": 58,
   "id": "5dcfca32",
   "metadata": {},
   "outputs": [],
   "source": [
    "slect_features = list(set(cols_to_select) - set(non_monotonic))"
   ]
  },
  {
   "cell_type": "code",
   "execution_count": 59,
   "id": "e05b4692",
   "metadata": {},
   "outputs": [
    {
     "data": {
      "text/plain": [
       "['Paid Jun',\n",
       " 'EDUCATION_Graduate School',\n",
       " 'PAY_AMT_Sep',\n",
       " 'EDUCATION_High School',\n",
       " 'Delinquent Aug',\n",
       " 'Delinquent Jun',\n",
       " 'PAY_AMT_Apr',\n",
       " 'PAY_Jul',\n",
       " 'Delinquent Apr',\n",
       " 'LIMIT_BAL',\n",
       " 'MARRIAGE_Married',\n",
       " 'Paid Sep',\n",
       " 'Paid Apr',\n",
       " 'PAY_AMT_Jul',\n",
       " 'utilization_ratio Apr',\n",
       " 'Delinquent May',\n",
       " 'PAY_AMT_Jun',\n",
       " 'PAY_Aug',\n",
       " 'PAY_AMT_May',\n",
       " 'EDUCATION_University',\n",
       " 'Paid Aug',\n",
       " 'utilization_ratio May',\n",
       " 'Delinquent Sep',\n",
       " 'default payment next month',\n",
       " 'Delinquent Jul',\n",
       " 'SEX_Male',\n",
       " 'PAY_AMT_Aug',\n",
       " 'Paid Jul',\n",
       " 'MARRIAGE_Single',\n",
       " 'PAY_Sep',\n",
       " 'PAY_Apr',\n",
       " 'PAY_May',\n",
       " 'Paid May',\n",
       " 'PAY_Jun']"
      ]
     },
     "execution_count": 59,
     "metadata": {},
     "output_type": "execute_result"
    }
   ],
   "source": [
    "slect_features"
   ]
  },
  {
   "cell_type": "code",
   "execution_count": 60,
   "id": "3ba21e23",
   "metadata": {},
   "outputs": [],
   "source": [
    "df_train_woe = df_train_woe[slect_features]"
   ]
  },
  {
   "cell_type": "code",
   "execution_count": 61,
   "id": "ecbbbe21",
   "metadata": {},
   "outputs": [
    {
     "data": {
      "text/plain": [
       "(21000, 34)"
      ]
     },
     "execution_count": 61,
     "metadata": {},
     "output_type": "execute_result"
    }
   ],
   "source": [
    "df_train_woe.shape"
   ]
  },
  {
   "cell_type": "code",
   "execution_count": 62,
   "id": "bb68bf28",
   "metadata": {},
   "outputs": [
    {
     "data": {
      "text/plain": [
       "Paid Jun                        int64\n",
       "EDUCATION_Graduate School       uint8\n",
       "PAY_AMT_Sep                   float64\n",
       "EDUCATION_High School           uint8\n",
       "Delinquent Aug                  int64\n",
       "Delinquent Jun                  int64\n",
       "PAY_AMT_Apr                   float64\n",
       "PAY_Jul                       float64\n",
       "Delinquent Apr                  int64\n",
       "LIMIT_BAL                     float64\n",
       "MARRIAGE_Married                uint8\n",
       "Paid Sep                        int64\n",
       "Paid Apr                        int64\n",
       "PAY_AMT_Jul                   float64\n",
       "utilization_ratio Apr         float64\n",
       "Delinquent May                  int64\n",
       "PAY_AMT_Jun                   float64\n",
       "PAY_Aug                       float64\n",
       "PAY_AMT_May                   float64\n",
       "EDUCATION_University            uint8\n",
       "Paid Aug                        int64\n",
       "utilization_ratio May         float64\n",
       "Delinquent Sep                  int64\n",
       "default payment next month      int64\n",
       "Delinquent Jul                  int64\n",
       "SEX_Male                        uint8\n",
       "PAY_AMT_Aug                   float64\n",
       "Paid Jul                        int64\n",
       "MARRIAGE_Single                 uint8\n",
       "PAY_Sep                       float64\n",
       "PAY_Apr                       float64\n",
       "PAY_May                       float64\n",
       "Paid May                        int64\n",
       "PAY_Jun                       float64\n",
       "dtype: object"
      ]
     },
     "execution_count": 62,
     "metadata": {},
     "output_type": "execute_result"
    }
   ],
   "source": [
    "df_train_woe.dtypes"
   ]
  },
  {
   "cell_type": "code",
   "execution_count": 63,
   "id": "994bcdbe",
   "metadata": {},
   "outputs": [],
   "source": [
    "features_in_woe = woe_temp['Feature'].unique().tolist()\n",
    "\n",
    "for cols in df_train_woe.columns: \n",
    "    if cols in features_in_woe:\n",
    "        df_train_woe[cols] = df_train_woe[cols].astype('float')"
   ]
  },
  {
   "cell_type": "code",
   "execution_count": 64,
   "id": "a9946d24",
   "metadata": {},
   "outputs": [
    {
     "data": {
      "text/plain": [
       "Paid Jun                        int64\n",
       "EDUCATION_Graduate School       uint8\n",
       "PAY_AMT_Sep                   float64\n",
       "EDUCATION_High School           uint8\n",
       "Delinquent Aug                  int64\n",
       "Delinquent Jun                  int64\n",
       "PAY_AMT_Apr                   float64\n",
       "PAY_Jul                       float64\n",
       "Delinquent Apr                  int64\n",
       "LIMIT_BAL                     float64\n",
       "MARRIAGE_Married                uint8\n",
       "Paid Sep                        int64\n",
       "Paid Apr                        int64\n",
       "PAY_AMT_Jul                   float64\n",
       "utilization_ratio Apr         float64\n",
       "Delinquent May                  int64\n",
       "PAY_AMT_Jun                   float64\n",
       "PAY_Aug                       float64\n",
       "PAY_AMT_May                   float64\n",
       "EDUCATION_University            uint8\n",
       "Paid Aug                        int64\n",
       "utilization_ratio May         float64\n",
       "Delinquent Sep                  int64\n",
       "default payment next month      int64\n",
       "Delinquent Jul                  int64\n",
       "SEX_Male                        uint8\n",
       "PAY_AMT_Aug                   float64\n",
       "Paid Jul                        int64\n",
       "MARRIAGE_Single                 uint8\n",
       "PAY_Sep                       float64\n",
       "PAY_Apr                       float64\n",
       "PAY_May                       float64\n",
       "Paid May                        int64\n",
       "PAY_Jun                       float64\n",
       "dtype: object"
      ]
     },
     "execution_count": 64,
     "metadata": {},
     "output_type": "execute_result"
    }
   ],
   "source": [
    "df_train_woe.dtypes"
   ]
  },
  {
   "cell_type": "code",
   "execution_count": 65,
   "id": "97047890",
   "metadata": {},
   "outputs": [
    {
     "data": {
      "image/png": "[encoded data removed]",
      "text/plain": [
       "<Figure size 1200x1000 with 2 Axes>"
      ]
     },
     "metadata": {},
     "output_type": "display_data"
    },
    {
     "data": {
      "text/html": [
       "<div>\n",
       "<style scoped>\n",
       "    .dataframe tbody tr th:only-of-type {\n",
       "        vertical-align: middle;\n",
       "    }\n",
       "\n",
       "    .dataframe tbody tr th {\n",
       "        vertical-align: top;\n",
       "    }\n",
       "\n",
       "    .dataframe thead th {\n",
       "        text-align: right;\n",
       "    }\n",
       "</style>\n",
       "<table border=\"1\" class=\"dataframe\">\n",
       "  <thead>\n",
       "    <tr style=\"text-align: right;\">\n",
       "      <th></th>\n",
       "      <th>Feature 1</th>\n",
       "      <th>Feature 2</th>\n",
       "      <th>Correlation</th>\n",
       "      <th>Absolute Correlation</th>\n",
       "    </tr>\n",
       "  </thead>\n",
       "  <tbody>\n",
       "    <tr>\n",
       "      <th>0</th>\n",
       "      <td>Delinquent May</td>\n",
       "      <td>PAY_May</td>\n",
       "      <td>-1.000000</td>\n",
       "      <td>1.000000</td>\n",
       "    </tr>\n",
       "    <tr>\n",
       "      <th>1</th>\n",
       "      <td>PAY_Jul</td>\n",
       "      <td>Delinquent Jul</td>\n",
       "      <td>-1.000000</td>\n",
       "      <td>1.000000</td>\n",
       "    </tr>\n",
       "    <tr>\n",
       "      <th>2</th>\n",
       "      <td>Delinquent Aug</td>\n",
       "      <td>PAY_Aug</td>\n",
       "      <td>-1.000000</td>\n",
       "      <td>1.000000</td>\n",
       "    </tr>\n",
       "    <tr>\n",
       "      <th>3</th>\n",
       "      <td>Delinquent Jun</td>\n",
       "      <td>PAY_Jun</td>\n",
       "      <td>-1.000000</td>\n",
       "      <td>1.000000</td>\n",
       "    </tr>\n",
       "    <tr>\n",
       "      <th>4</th>\n",
       "      <td>Delinquent Apr</td>\n",
       "      <td>PAY_Apr</td>\n",
       "      <td>-1.000000</td>\n",
       "      <td>1.000000</td>\n",
       "    </tr>\n",
       "    <tr>\n",
       "      <th>5</th>\n",
       "      <td>MARRIAGE_Married</td>\n",
       "      <td>MARRIAGE_Single</td>\n",
       "      <td>-0.978401</td>\n",
       "      <td>0.978401</td>\n",
       "    </tr>\n",
       "    <tr>\n",
       "      <th>6</th>\n",
       "      <td>PAY_AMT_Sep</td>\n",
       "      <td>Paid Sep</td>\n",
       "      <td>0.920457</td>\n",
       "      <td>0.920457</td>\n",
       "    </tr>\n",
       "    <tr>\n",
       "      <th>7</th>\n",
       "      <td>Delinquent Sep</td>\n",
       "      <td>PAY_Sep</td>\n",
       "      <td>-0.908848</td>\n",
       "      <td>0.908848</td>\n",
       "    </tr>\n",
       "    <tr>\n",
       "      <th>8</th>\n",
       "      <td>utilization_ratio Apr</td>\n",
       "      <td>utilization_ratio May</td>\n",
       "      <td>0.816214</td>\n",
       "      <td>0.816214</td>\n",
       "    </tr>\n",
       "    <tr>\n",
       "      <th>9</th>\n",
       "      <td>EDUCATION_Graduate School</td>\n",
       "      <td>EDUCATION_University</td>\n",
       "      <td>-0.692711</td>\n",
       "      <td>0.692711</td>\n",
       "    </tr>\n",
       "  </tbody>\n",
       "</table>\n",
       "</div>"
      ],
      "text/plain": [
       "                   Feature 1              Feature 2  Correlation  \\\n",
       "0             Delinquent May                PAY_May    -1.000000   \n",
       "1                    PAY_Jul         Delinquent Jul    -1.000000   \n",
       "2             Delinquent Aug                PAY_Aug    -1.000000   \n",
       "3             Delinquent Jun                PAY_Jun    -1.000000   \n",
       "4             Delinquent Apr                PAY_Apr    -1.000000   \n",
       "5           MARRIAGE_Married        MARRIAGE_Single    -0.978401   \n",
       "6                PAY_AMT_Sep               Paid Sep     0.920457   \n",
       "7             Delinquent Sep                PAY_Sep    -0.908848   \n",
       "8      utilization_ratio Apr  utilization_ratio May     0.816214   \n",
       "9  EDUCATION_Graduate School   EDUCATION_University    -0.692711   \n",
       "\n",
       "   Absolute Correlation  \n",
       "0              1.000000  \n",
       "1              1.000000  \n",
       "2              1.000000  \n",
       "3              1.000000  \n",
       "4              1.000000  \n",
       "5              0.978401  \n",
       "6              0.920457  \n",
       "7              0.908848  \n",
       "8              0.816214  \n",
       "9              0.692711  "
      ]
     },
     "execution_count": 65,
     "metadata": {},
     "output_type": "execute_result"
    }
   ],
   "source": [
    "# Assuming df_train is your DataFrame\n",
    "correlation_table = util.correlation_summary(df_train_woe)\n",
    "\n",
    "# View top correlations\n",
    "correlation_table.head(10)"
   ]
  },
  {
   "cell_type": "code",
   "execution_count": 66,
   "id": "e11434ff",
   "metadata": {},
   "outputs": [
    {
     "data": {
      "text/html": [
       "<div>\n",
       "<style scoped>\n",
       "    .dataframe tbody tr th:only-of-type {\n",
       "        vertical-align: middle;\n",
       "    }\n",
       "\n",
       "    .dataframe tbody tr th {\n",
       "        vertical-align: top;\n",
       "    }\n",
       "\n",
       "    .dataframe thead th {\n",
       "        text-align: right;\n",
       "    }\n",
       "</style>\n",
       "<table border=\"1\" class=\"dataframe\">\n",
       "  <thead>\n",
       "    <tr style=\"text-align: right;\">\n",
       "      <th></th>\n",
       "      <th>Feature</th>\n",
       "      <th>IV</th>\n",
       "    </tr>\n",
       "  </thead>\n",
       "  <tbody>\n",
       "    <tr>\n",
       "      <th>0</th>\n",
       "      <td>AGE</td>\n",
       "      <td>0.010283</td>\n",
       "    </tr>\n",
       "    <tr>\n",
       "      <th>1</th>\n",
       "      <td>BILL_AMT_Apr</td>\n",
       "      <td>0.004611</td>\n",
       "    </tr>\n",
       "    <tr>\n",
       "      <th>2</th>\n",
       "      <td>BILL_AMT_Aug</td>\n",
       "      <td>0.003012</td>\n",
       "    </tr>\n",
       "    <tr>\n",
       "      <th>3</th>\n",
       "      <td>BILL_AMT_Jul</td>\n",
       "      <td>0.008554</td>\n",
       "    </tr>\n",
       "    <tr>\n",
       "      <th>4</th>\n",
       "      <td>BILL_AMT_Jun</td>\n",
       "      <td>0.001147</td>\n",
       "    </tr>\n",
       "    <tr>\n",
       "      <th>5</th>\n",
       "      <td>BILL_AMT_May</td>\n",
       "      <td>0.014649</td>\n",
       "    </tr>\n",
       "    <tr>\n",
       "      <th>6</th>\n",
       "      <td>BILL_AMT_Sep</td>\n",
       "      <td>0.005165</td>\n",
       "    </tr>\n",
       "    <tr>\n",
       "      <th>7</th>\n",
       "      <td>LIMIT_BAL</td>\n",
       "      <td>0.167481</td>\n",
       "    </tr>\n",
       "    <tr>\n",
       "      <th>8</th>\n",
       "      <td>PAY_AMT_Apr</td>\n",
       "      <td>0.090321</td>\n",
       "    </tr>\n",
       "    <tr>\n",
       "      <th>9</th>\n",
       "      <td>PAY_AMT_Aug</td>\n",
       "      <td>0.059331</td>\n",
       "    </tr>\n",
       "    <tr>\n",
       "      <th>10</th>\n",
       "      <td>PAY_AMT_Jul</td>\n",
       "      <td>0.109810</td>\n",
       "    </tr>\n",
       "    <tr>\n",
       "      <th>11</th>\n",
       "      <td>PAY_AMT_Jun</td>\n",
       "      <td>0.082331</td>\n",
       "    </tr>\n",
       "    <tr>\n",
       "      <th>12</th>\n",
       "      <td>PAY_AMT_May</td>\n",
       "      <td>0.068228</td>\n",
       "    </tr>\n",
       "    <tr>\n",
       "      <th>13</th>\n",
       "      <td>PAY_AMT_Sep</td>\n",
       "      <td>0.125502</td>\n",
       "    </tr>\n",
       "    <tr>\n",
       "      <th>14</th>\n",
       "      <td>PAY_Apr</td>\n",
       "      <td>0.281494</td>\n",
       "    </tr>\n",
       "    <tr>\n",
       "      <th>15</th>\n",
       "      <td>PAY_Aug</td>\n",
       "      <td>0.569411</td>\n",
       "    </tr>\n",
       "    <tr>\n",
       "      <th>16</th>\n",
       "      <td>PAY_Jul</td>\n",
       "      <td>0.434986</td>\n",
       "    </tr>\n",
       "    <tr>\n",
       "      <th>17</th>\n",
       "      <td>PAY_Jun</td>\n",
       "      <td>0.366326</td>\n",
       "    </tr>\n",
       "    <tr>\n",
       "      <th>18</th>\n",
       "      <td>PAY_May</td>\n",
       "      <td>0.327989</td>\n",
       "    </tr>\n",
       "    <tr>\n",
       "      <th>19</th>\n",
       "      <td>PAY_Sep</td>\n",
       "      <td>0.871415</td>\n",
       "    </tr>\n",
       "    <tr>\n",
       "      <th>20</th>\n",
       "      <td>utilization_ratio Apr</td>\n",
       "      <td>0.100997</td>\n",
       "    </tr>\n",
       "    <tr>\n",
       "      <th>21</th>\n",
       "      <td>utilization_ratio Aug</td>\n",
       "      <td>0.092772</td>\n",
       "    </tr>\n",
       "    <tr>\n",
       "      <th>22</th>\n",
       "      <td>utilization_ratio Jul</td>\n",
       "      <td>0.088591</td>\n",
       "    </tr>\n",
       "    <tr>\n",
       "      <th>23</th>\n",
       "      <td>utilization_ratio Jun</td>\n",
       "      <td>0.102001</td>\n",
       "    </tr>\n",
       "    <tr>\n",
       "      <th>24</th>\n",
       "      <td>utilization_ratio May</td>\n",
       "      <td>0.078822</td>\n",
       "    </tr>\n",
       "    <tr>\n",
       "      <th>25</th>\n",
       "      <td>utilization_ratio Sep</td>\n",
       "      <td>0.088380</td>\n",
       "    </tr>\n",
       "  </tbody>\n",
       "</table>\n",
       "</div>"
      ],
      "text/plain": [
       "                  Feature        IV\n",
       "0                     AGE  0.010283\n",
       "1            BILL_AMT_Apr  0.004611\n",
       "2            BILL_AMT_Aug  0.003012\n",
       "3            BILL_AMT_Jul  0.008554\n",
       "4            BILL_AMT_Jun  0.001147\n",
       "5            BILL_AMT_May  0.014649\n",
       "6            BILL_AMT_Sep  0.005165\n",
       "7               LIMIT_BAL  0.167481\n",
       "8             PAY_AMT_Apr  0.090321\n",
       "9             PAY_AMT_Aug  0.059331\n",
       "10            PAY_AMT_Jul  0.109810\n",
       "11            PAY_AMT_Jun  0.082331\n",
       "12            PAY_AMT_May  0.068228\n",
       "13            PAY_AMT_Sep  0.125502\n",
       "14                PAY_Apr  0.281494\n",
       "15                PAY_Aug  0.569411\n",
       "16                PAY_Jul  0.434986\n",
       "17                PAY_Jun  0.366326\n",
       "18                PAY_May  0.327989\n",
       "19                PAY_Sep  0.871415\n",
       "20  utilization_ratio Apr  0.100997\n",
       "21  utilization_ratio Aug  0.092772\n",
       "22  utilization_ratio Jul  0.088591\n",
       "23  utilization_ratio Jun  0.102001\n",
       "24  utilization_ratio May  0.078822\n",
       "25  utilization_ratio Sep  0.088380"
      ]
     },
     "execution_count": 66,
     "metadata": {},
     "output_type": "execute_result"
    }
   ],
   "source": [
    "iv_df"
   ]
  },
  {
   "cell_type": "code",
   "execution_count": 67,
   "id": "4ea91014",
   "metadata": {},
   "outputs": [],
   "source": [
    "# Step 1: Join IV for Feature 1\n",
    "correlation_with_iv = correlation_table.merge(\n",
    "    iv_df.rename(columns={'Feature': 'Feature 1', 'IV': 'IV Feature 1'}),\n",
    "    on='Feature 1',\n",
    "    how='left'\n",
    ")\n",
    "\n",
    "# Step 2: Join IV for Feature 2\n",
    "correlation_with_iv = correlation_with_iv.merge(\n",
    "    iv_df.rename(columns={'Feature': 'Feature 2', 'IV': 'IV Feature 2'}),\n",
    "    on='Feature 2',\n",
    "    how='left'\n",
    ")\n",
    "\n",
    "# Final output\n",
    "correlation_with_iv = correlation_with_iv[\n",
    "    ['Feature 1', 'Feature 2', 'Correlation', 'Absolute Correlation', 'IV Feature 1', 'IV Feature 2']\n",
    "]"
   ]
  },
  {
   "cell_type": "code",
   "execution_count": 68,
   "id": "55066c52",
   "metadata": {},
   "outputs": [
    {
     "data": {
      "text/html": [
       "<div>\n",
       "<style scoped>\n",
       "    .dataframe tbody tr th:only-of-type {\n",
       "        vertical-align: middle;\n",
       "    }\n",
       "\n",
       "    .dataframe tbody tr th {\n",
       "        vertical-align: top;\n",
       "    }\n",
       "\n",
       "    .dataframe thead th {\n",
       "        text-align: right;\n",
       "    }\n",
       "</style>\n",
       "<table border=\"1\" class=\"dataframe\">\n",
       "  <thead>\n",
       "    <tr style=\"text-align: right;\">\n",
       "      <th></th>\n",
       "      <th>Feature 1</th>\n",
       "      <th>Feature 2</th>\n",
       "      <th>Correlation</th>\n",
       "      <th>Absolute Correlation</th>\n",
       "      <th>IV Feature 1</th>\n",
       "      <th>IV Feature 2</th>\n",
       "    </tr>\n",
       "  </thead>\n",
       "  <tbody>\n",
       "    <tr>\n",
       "      <th>0</th>\n",
       "      <td>Delinquent May</td>\n",
       "      <td>PAY_May</td>\n",
       "      <td>-1.000000</td>\n",
       "      <td>1.000000</td>\n",
       "      <td>NaN</td>\n",
       "      <td>0.327989</td>\n",
       "    </tr>\n",
       "    <tr>\n",
       "      <th>1</th>\n",
       "      <td>PAY_Jul</td>\n",
       "      <td>Delinquent Jul</td>\n",
       "      <td>-1.000000</td>\n",
       "      <td>1.000000</td>\n",
       "      <td>0.434986</td>\n",
       "      <td>NaN</td>\n",
       "    </tr>\n",
       "    <tr>\n",
       "      <th>2</th>\n",
       "      <td>Delinquent Aug</td>\n",
       "      <td>PAY_Aug</td>\n",
       "      <td>-1.000000</td>\n",
       "      <td>1.000000</td>\n",
       "      <td>NaN</td>\n",
       "      <td>0.569411</td>\n",
       "    </tr>\n",
       "    <tr>\n",
       "      <th>3</th>\n",
       "      <td>Delinquent Jun</td>\n",
       "      <td>PAY_Jun</td>\n",
       "      <td>-1.000000</td>\n",
       "      <td>1.000000</td>\n",
       "      <td>NaN</td>\n",
       "      <td>0.366326</td>\n",
       "    </tr>\n",
       "    <tr>\n",
       "      <th>4</th>\n",
       "      <td>Delinquent Apr</td>\n",
       "      <td>PAY_Apr</td>\n",
       "      <td>-1.000000</td>\n",
       "      <td>1.000000</td>\n",
       "      <td>NaN</td>\n",
       "      <td>0.281494</td>\n",
       "    </tr>\n",
       "    <tr>\n",
       "      <th>...</th>\n",
       "      <td>...</td>\n",
       "      <td>...</td>\n",
       "      <td>...</td>\n",
       "      <td>...</td>\n",
       "      <td>...</td>\n",
       "      <td>...</td>\n",
       "    </tr>\n",
       "    <tr>\n",
       "      <th>556</th>\n",
       "      <td>MARRIAGE_Married</td>\n",
       "      <td>Delinquent Jul</td>\n",
       "      <td>-0.000342</td>\n",
       "      <td>0.000342</td>\n",
       "      <td>NaN</td>\n",
       "      <td>NaN</td>\n",
       "    </tr>\n",
       "    <tr>\n",
       "      <th>557</th>\n",
       "      <td>PAY_Jul</td>\n",
       "      <td>MARRIAGE_Married</td>\n",
       "      <td>0.000342</td>\n",
       "      <td>0.000342</td>\n",
       "      <td>0.434986</td>\n",
       "      <td>NaN</td>\n",
       "    </tr>\n",
       "    <tr>\n",
       "      <th>558</th>\n",
       "      <td>PAY_Jul</td>\n",
       "      <td>MARRIAGE_Single</td>\n",
       "      <td>0.000233</td>\n",
       "      <td>0.000233</td>\n",
       "      <td>0.434986</td>\n",
       "      <td>NaN</td>\n",
       "    </tr>\n",
       "    <tr>\n",
       "      <th>559</th>\n",
       "      <td>Delinquent Jul</td>\n",
       "      <td>MARRIAGE_Single</td>\n",
       "      <td>-0.000233</td>\n",
       "      <td>0.000233</td>\n",
       "      <td>NaN</td>\n",
       "      <td>NaN</td>\n",
       "    </tr>\n",
       "    <tr>\n",
       "      <th>560</th>\n",
       "      <td>SEX_Male</td>\n",
       "      <td>Paid Jul</td>\n",
       "      <td>-0.000230</td>\n",
       "      <td>0.000230</td>\n",
       "      <td>NaN</td>\n",
       "      <td>NaN</td>\n",
       "    </tr>\n",
       "  </tbody>\n",
       "</table>\n",
       "<p>561 rows × 6 columns</p>\n",
       "</div>"
      ],
      "text/plain": [
       "            Feature 1         Feature 2  Correlation  Absolute Correlation  \\\n",
       "0      Delinquent May           PAY_May    -1.000000              1.000000   \n",
       "1             PAY_Jul    Delinquent Jul    -1.000000              1.000000   \n",
       "2      Delinquent Aug           PAY_Aug    -1.000000              1.000000   \n",
       "3      Delinquent Jun           PAY_Jun    -1.000000              1.000000   \n",
       "4      Delinquent Apr           PAY_Apr    -1.000000              1.000000   \n",
       "..                ...               ...          ...                   ...   \n",
       "556  MARRIAGE_Married    Delinquent Jul    -0.000342              0.000342   \n",
       "557           PAY_Jul  MARRIAGE_Married     0.000342              0.000342   \n",
       "558           PAY_Jul   MARRIAGE_Single     0.000233              0.000233   \n",
       "559    Delinquent Jul   MARRIAGE_Single    -0.000233              0.000233   \n",
       "560          SEX_Male          Paid Jul    -0.000230              0.000230   \n",
       "\n",
       "     IV Feature 1  IV Feature 2  \n",
       "0             NaN      0.327989  \n",
       "1        0.434986           NaN  \n",
       "2             NaN      0.569411  \n",
       "3             NaN      0.366326  \n",
       "4             NaN      0.281494  \n",
       "..            ...           ...  \n",
       "556           NaN           NaN  \n",
       "557      0.434986           NaN  \n",
       "558      0.434986           NaN  \n",
       "559           NaN           NaN  \n",
       "560           NaN           NaN  \n",
       "\n",
       "[561 rows x 6 columns]"
      ]
     },
     "execution_count": 68,
     "metadata": {},
     "output_type": "execute_result"
    }
   ],
   "source": [
    "correlation_with_iv"
   ]
  },
  {
   "cell_type": "code",
   "execution_count": 69,
   "id": "93d065df",
   "metadata": {},
   "outputs": [],
   "source": [
    "high_corr_df = correlation_with_iv[correlation_with_iv['Absolute Correlation'] >= 0.8]"
   ]
  },
  {
   "cell_type": "code",
   "execution_count": 70,
   "id": "7cfcc0ea",
   "metadata": {},
   "outputs": [
    {
     "data": {
      "text/html": [
       "<div>\n",
       "<style scoped>\n",
       "    .dataframe tbody tr th:only-of-type {\n",
       "        vertical-align: middle;\n",
       "    }\n",
       "\n",
       "    .dataframe tbody tr th {\n",
       "        vertical-align: top;\n",
       "    }\n",
       "\n",
       "    .dataframe thead th {\n",
       "        text-align: right;\n",
       "    }\n",
       "</style>\n",
       "<table border=\"1\" class=\"dataframe\">\n",
       "  <thead>\n",
       "    <tr style=\"text-align: right;\">\n",
       "      <th></th>\n",
       "      <th>Feature 1</th>\n",
       "      <th>Feature 2</th>\n",
       "      <th>Correlation</th>\n",
       "      <th>Absolute Correlation</th>\n",
       "      <th>IV Feature 1</th>\n",
       "      <th>IV Feature 2</th>\n",
       "    </tr>\n",
       "  </thead>\n",
       "  <tbody>\n",
       "    <tr>\n",
       "      <th>0</th>\n",
       "      <td>Delinquent May</td>\n",
       "      <td>PAY_May</td>\n",
       "      <td>-1.000000</td>\n",
       "      <td>1.000000</td>\n",
       "      <td>NaN</td>\n",
       "      <td>0.327989</td>\n",
       "    </tr>\n",
       "    <tr>\n",
       "      <th>1</th>\n",
       "      <td>PAY_Jul</td>\n",
       "      <td>Delinquent Jul</td>\n",
       "      <td>-1.000000</td>\n",
       "      <td>1.000000</td>\n",
       "      <td>0.434986</td>\n",
       "      <td>NaN</td>\n",
       "    </tr>\n",
       "    <tr>\n",
       "      <th>2</th>\n",
       "      <td>Delinquent Aug</td>\n",
       "      <td>PAY_Aug</td>\n",
       "      <td>-1.000000</td>\n",
       "      <td>1.000000</td>\n",
       "      <td>NaN</td>\n",
       "      <td>0.569411</td>\n",
       "    </tr>\n",
       "    <tr>\n",
       "      <th>3</th>\n",
       "      <td>Delinquent Jun</td>\n",
       "      <td>PAY_Jun</td>\n",
       "      <td>-1.000000</td>\n",
       "      <td>1.000000</td>\n",
       "      <td>NaN</td>\n",
       "      <td>0.366326</td>\n",
       "    </tr>\n",
       "    <tr>\n",
       "      <th>4</th>\n",
       "      <td>Delinquent Apr</td>\n",
       "      <td>PAY_Apr</td>\n",
       "      <td>-1.000000</td>\n",
       "      <td>1.000000</td>\n",
       "      <td>NaN</td>\n",
       "      <td>0.281494</td>\n",
       "    </tr>\n",
       "    <tr>\n",
       "      <th>5</th>\n",
       "      <td>MARRIAGE_Married</td>\n",
       "      <td>MARRIAGE_Single</td>\n",
       "      <td>-0.978401</td>\n",
       "      <td>0.978401</td>\n",
       "      <td>NaN</td>\n",
       "      <td>NaN</td>\n",
       "    </tr>\n",
       "    <tr>\n",
       "      <th>6</th>\n",
       "      <td>PAY_AMT_Sep</td>\n",
       "      <td>Paid Sep</td>\n",
       "      <td>0.920457</td>\n",
       "      <td>0.920457</td>\n",
       "      <td>0.125502</td>\n",
       "      <td>NaN</td>\n",
       "    </tr>\n",
       "    <tr>\n",
       "      <th>7</th>\n",
       "      <td>Delinquent Sep</td>\n",
       "      <td>PAY_Sep</td>\n",
       "      <td>-0.908848</td>\n",
       "      <td>0.908848</td>\n",
       "      <td>NaN</td>\n",
       "      <td>0.871415</td>\n",
       "    </tr>\n",
       "    <tr>\n",
       "      <th>8</th>\n",
       "      <td>utilization_ratio Apr</td>\n",
       "      <td>utilization_ratio May</td>\n",
       "      <td>0.816214</td>\n",
       "      <td>0.816214</td>\n",
       "      <td>0.100997</td>\n",
       "      <td>0.078822</td>\n",
       "    </tr>\n",
       "  </tbody>\n",
       "</table>\n",
       "</div>"
      ],
      "text/plain": [
       "               Feature 1              Feature 2  Correlation  \\\n",
       "0         Delinquent May                PAY_May    -1.000000   \n",
       "1                PAY_Jul         Delinquent Jul    -1.000000   \n",
       "2         Delinquent Aug                PAY_Aug    -1.000000   \n",
       "3         Delinquent Jun                PAY_Jun    -1.000000   \n",
       "4         Delinquent Apr                PAY_Apr    -1.000000   \n",
       "5       MARRIAGE_Married        MARRIAGE_Single    -0.978401   \n",
       "6            PAY_AMT_Sep               Paid Sep     0.920457   \n",
       "7         Delinquent Sep                PAY_Sep    -0.908848   \n",
       "8  utilization_ratio Apr  utilization_ratio May     0.816214   \n",
       "\n",
       "   Absolute Correlation  IV Feature 1  IV Feature 2  \n",
       "0              1.000000           NaN      0.327989  \n",
       "1              1.000000      0.434986           NaN  \n",
       "2              1.000000           NaN      0.569411  \n",
       "3              1.000000           NaN      0.366326  \n",
       "4              1.000000           NaN      0.281494  \n",
       "5              0.978401           NaN           NaN  \n",
       "6              0.920457      0.125502           NaN  \n",
       "7              0.908848           NaN      0.871415  \n",
       "8              0.816214      0.100997      0.078822  "
      ]
     },
     "execution_count": 70,
     "metadata": {},
     "output_type": "execute_result"
    }
   ],
   "source": [
    "high_corr_df"
   ]
  },
  {
   "cell_type": "code",
   "execution_count": 71,
   "id": "2c60492b",
   "metadata": {},
   "outputs": [
    {
     "data": {
      "text/plain": [
       "Index(['Paid Jun', 'EDUCATION_Graduate School', 'PAY_AMT_Sep',\n",
       "       'EDUCATION_High School', 'Delinquent Aug', 'Delinquent Jun',\n",
       "       'PAY_AMT_Apr', 'PAY_Jul', 'Delinquent Apr', 'LIMIT_BAL',\n",
       "       'MARRIAGE_Married', 'Paid Sep', 'Paid Apr', 'PAY_AMT_Jul',\n",
       "       'utilization_ratio Apr', 'Delinquent May', 'PAY_AMT_Jun', 'PAY_Aug',\n",
       "       'PAY_AMT_May', 'EDUCATION_University', 'Paid Aug',\n",
       "       'utilization_ratio May', 'Delinquent Sep', 'default payment next month',\n",
       "       'Delinquent Jul', 'SEX_Male', 'PAY_AMT_Aug', 'Paid Jul',\n",
       "       'MARRIAGE_Single', 'PAY_Sep', 'PAY_Apr', 'PAY_May', 'Paid May',\n",
       "       'PAY_Jun'],\n",
       "      dtype='object')"
      ]
     },
     "execution_count": 71,
     "metadata": {},
     "output_type": "execute_result"
    }
   ],
   "source": [
    "df_train_woe.columns"
   ]
  },
  {
   "cell_type": "code",
   "execution_count": 72,
   "id": "97bcbf16",
   "metadata": {},
   "outputs": [],
   "source": [
    "high_corr_to_drop = ['Delinquent Aug','Delinquent Sep','Delinquent May','Delinquent Apr','Delinquent Jul','Delinquent Jun']"
   ]
  },
  {
   "cell_type": "code",
   "execution_count": 73,
   "id": "f7c7d40a",
   "metadata": {},
   "outputs": [],
   "source": [
    "df_train_woe.drop(columns=high_corr_to_drop,inplace= True)"
   ]
  },
  {
   "cell_type": "code",
   "execution_count": 74,
   "id": "b2bb5076",
   "metadata": {},
   "outputs": [
    {
     "name": "stdout",
     "output_type": "stream",
     "text": [
      "(21000, 28)\n"
     ]
    },
    {
     "data": {
      "text/html": [
       "<div>\n",
       "<style scoped>\n",
       "    .dataframe tbody tr th:only-of-type {\n",
       "        vertical-align: middle;\n",
       "    }\n",
       "\n",
       "    .dataframe tbody tr th {\n",
       "        vertical-align: top;\n",
       "    }\n",
       "\n",
       "    .dataframe thead th {\n",
       "        text-align: right;\n",
       "    }\n",
       "</style>\n",
       "<table border=\"1\" class=\"dataframe\">\n",
       "  <thead>\n",
       "    <tr style=\"text-align: right;\">\n",
       "      <th></th>\n",
       "      <th>Paid Jun</th>\n",
       "      <th>EDUCATION_Graduate School</th>\n",
       "      <th>PAY_AMT_Sep</th>\n",
       "      <th>EDUCATION_High School</th>\n",
       "      <th>PAY_AMT_Apr</th>\n",
       "      <th>PAY_Jul</th>\n",
       "      <th>LIMIT_BAL</th>\n",
       "      <th>MARRIAGE_Married</th>\n",
       "      <th>Paid Sep</th>\n",
       "      <th>Paid Apr</th>\n",
       "      <th>...</th>\n",
       "      <th>default payment next month</th>\n",
       "      <th>SEX_Male</th>\n",
       "      <th>PAY_AMT_Aug</th>\n",
       "      <th>Paid Jul</th>\n",
       "      <th>MARRIAGE_Single</th>\n",
       "      <th>PAY_Sep</th>\n",
       "      <th>PAY_Apr</th>\n",
       "      <th>PAY_May</th>\n",
       "      <th>Paid May</th>\n",
       "      <th>PAY_Jun</th>\n",
       "    </tr>\n",
       "  </thead>\n",
       "  <tbody>\n",
       "    <tr>\n",
       "      <th>0</th>\n",
       "      <td>0</td>\n",
       "      <td>1</td>\n",
       "      <td>-0.638323</td>\n",
       "      <td>0</td>\n",
       "      <td>-0.246391</td>\n",
       "      <td>0.323462</td>\n",
       "      <td>0.413376</td>\n",
       "      <td>1</td>\n",
       "      <td>0</td>\n",
       "      <td>0</td>\n",
       "      <td>...</td>\n",
       "      <td>1</td>\n",
       "      <td>0</td>\n",
       "      <td>-0.070933</td>\n",
       "      <td>0</td>\n",
       "      <td>0</td>\n",
       "      <td>0.572969</td>\n",
       "      <td>0.214400</td>\n",
       "      <td>0.227175</td>\n",
       "      <td>0</td>\n",
       "      <td>0.265533</td>\n",
       "    </tr>\n",
       "    <tr>\n",
       "      <th>1</th>\n",
       "      <td>1</td>\n",
       "      <td>1</td>\n",
       "      <td>0.198678</td>\n",
       "      <td>0</td>\n",
       "      <td>0.151753</td>\n",
       "      <td>0.323462</td>\n",
       "      <td>-0.162036</td>\n",
       "      <td>0</td>\n",
       "      <td>1</td>\n",
       "      <td>1</td>\n",
       "      <td>...</td>\n",
       "      <td>0</td>\n",
       "      <td>0</td>\n",
       "      <td>-0.070933</td>\n",
       "      <td>1</td>\n",
       "      <td>1</td>\n",
       "      <td>0.572969</td>\n",
       "      <td>0.214400</td>\n",
       "      <td>0.227175</td>\n",
       "      <td>1</td>\n",
       "      <td>0.265533</td>\n",
       "    </tr>\n",
       "    <tr>\n",
       "      <th>2</th>\n",
       "      <td>1</td>\n",
       "      <td>0</td>\n",
       "      <td>-0.638323</td>\n",
       "      <td>0</td>\n",
       "      <td>-0.246391</td>\n",
       "      <td>-1.394027</td>\n",
       "      <td>-0.162036</td>\n",
       "      <td>1</td>\n",
       "      <td>0</td>\n",
       "      <td>0</td>\n",
       "      <td>...</td>\n",
       "      <td>0</td>\n",
       "      <td>0</td>\n",
       "      <td>-0.070933</td>\n",
       "      <td>0</td>\n",
       "      <td>0</td>\n",
       "      <td>-2.093205</td>\n",
       "      <td>0.214400</td>\n",
       "      <td>0.227175</td>\n",
       "      <td>1</td>\n",
       "      <td>-1.421810</td>\n",
       "    </tr>\n",
       "    <tr>\n",
       "      <th>3</th>\n",
       "      <td>0</td>\n",
       "      <td>0</td>\n",
       "      <td>-0.638323</td>\n",
       "      <td>1</td>\n",
       "      <td>-0.246391</td>\n",
       "      <td>-1.394027</td>\n",
       "      <td>0.413376</td>\n",
       "      <td>1</td>\n",
       "      <td>0</td>\n",
       "      <td>0</td>\n",
       "      <td>...</td>\n",
       "      <td>0</td>\n",
       "      <td>0</td>\n",
       "      <td>-0.070933</td>\n",
       "      <td>0</td>\n",
       "      <td>0</td>\n",
       "      <td>-2.093205</td>\n",
       "      <td>-1.343668</td>\n",
       "      <td>-1.483083</td>\n",
       "      <td>0</td>\n",
       "      <td>-1.421810</td>\n",
       "    </tr>\n",
       "    <tr>\n",
       "      <th>4</th>\n",
       "      <td>1</td>\n",
       "      <td>1</td>\n",
       "      <td>0.198678</td>\n",
       "      <td>0</td>\n",
       "      <td>0.562881</td>\n",
       "      <td>0.323462</td>\n",
       "      <td>0.413376</td>\n",
       "      <td>1</td>\n",
       "      <td>1</td>\n",
       "      <td>1</td>\n",
       "      <td>...</td>\n",
       "      <td>0</td>\n",
       "      <td>1</td>\n",
       "      <td>0.840548</td>\n",
       "      <td>1</td>\n",
       "      <td>0</td>\n",
       "      <td>0.572969</td>\n",
       "      <td>0.214400</td>\n",
       "      <td>0.227175</td>\n",
       "      <td>1</td>\n",
       "      <td>0.265533</td>\n",
       "    </tr>\n",
       "  </tbody>\n",
       "</table>\n",
       "<p>5 rows × 28 columns</p>\n",
       "</div>"
      ],
      "text/plain": [
       "   Paid Jun  EDUCATION_Graduate School  PAY_AMT_Sep  EDUCATION_High School  \\\n",
       "0         0                          1    -0.638323                      0   \n",
       "1         1                          1     0.198678                      0   \n",
       "2         1                          0    -0.638323                      0   \n",
       "3         0                          0    -0.638323                      1   \n",
       "4         1                          1     0.198678                      0   \n",
       "\n",
       "   PAY_AMT_Apr   PAY_Jul  LIMIT_BAL  MARRIAGE_Married  Paid Sep  Paid Apr  \\\n",
       "0    -0.246391  0.323462   0.413376                 1         0         0   \n",
       "1     0.151753  0.323462  -0.162036                 0         1         1   \n",
       "2    -0.246391 -1.394027  -0.162036                 1         0         0   \n",
       "3    -0.246391 -1.394027   0.413376                 1         0         0   \n",
       "4     0.562881  0.323462   0.413376                 1         1         1   \n",
       "\n",
       "   ...  default payment next month  SEX_Male  PAY_AMT_Aug  Paid Jul  \\\n",
       "0  ...                           1         0    -0.070933         0   \n",
       "1  ...                           0         0    -0.070933         1   \n",
       "2  ...                           0         0    -0.070933         0   \n",
       "3  ...                           0         0    -0.070933         0   \n",
       "4  ...                           0         1     0.840548         1   \n",
       "\n",
       "   MARRIAGE_Single   PAY_Sep   PAY_Apr   PAY_May  Paid May   PAY_Jun  \n",
       "0                0  0.572969  0.214400  0.227175         0  0.265533  \n",
       "1                1  0.572969  0.214400  0.227175         1  0.265533  \n",
       "2                0 -2.093205  0.214400  0.227175         1 -1.421810  \n",
       "3                0 -2.093205 -1.343668 -1.483083         0 -1.421810  \n",
       "4                0  0.572969  0.214400  0.227175         1  0.265533  \n",
       "\n",
       "[5 rows x 28 columns]"
      ]
     },
     "execution_count": 74,
     "metadata": {},
     "output_type": "execute_result"
    }
   ],
   "source": [
    "print(df_train_woe.shape)\n",
    "df_train_woe.head()"
   ]
  },
  {
   "cell_type": "code",
   "execution_count": 75,
   "id": "cc3fccad",
   "metadata": {},
   "outputs": [
    {
     "data": {
      "text/plain": [
       "Index(['Paid Jun', 'EDUCATION_Graduate School', 'PAY_AMT_Sep',\n",
       "       'EDUCATION_High School', 'PAY_AMT_Apr', 'PAY_Jul', 'LIMIT_BAL',\n",
       "       'MARRIAGE_Married', 'Paid Sep', 'Paid Apr', 'PAY_AMT_Jul',\n",
       "       'utilization_ratio Apr', 'PAY_AMT_Jun', 'PAY_Aug', 'PAY_AMT_May',\n",
       "       'EDUCATION_University', 'Paid Aug', 'utilization_ratio May',\n",
       "       'default payment next month', 'SEX_Male', 'PAY_AMT_Aug', 'Paid Jul',\n",
       "       'MARRIAGE_Single', 'PAY_Sep', 'PAY_Apr', 'PAY_May', 'Paid May',\n",
       "       'PAY_Jun'],\n",
       "      dtype='object')"
      ]
     },
     "execution_count": 75,
     "metadata": {},
     "output_type": "execute_result"
    }
   ],
   "source": [
    "df_train_woe.columns"
   ]
  },
  {
   "cell_type": "markdown",
   "id": "e88b17de",
   "metadata": {},
   "source": [
    "# Feature Selection: Train Data"
   ]
  },
  {
   "cell_type": "code",
   "execution_count": 76,
   "id": "dab7e0f1",
   "metadata": {},
   "outputs": [],
   "source": [
    "X_train = df_train_woe.drop(columns='default payment next month')\n",
    "y_train = df_train_woe['default payment next month']"
   ]
  },
  {
   "cell_type": "code",
   "execution_count": 77,
   "id": "25b0b91e",
   "metadata": {},
   "outputs": [
    {
     "name": "stdout",
     "output_type": "stream",
     "text": [
      "Dropping 'PAY_AMT_May' with p-value 0.9890\n",
      "Dropping 'MARRIAGE_Married' with p-value 0.8315\n",
      "Dropping 'Paid Aug' with p-value 0.6801\n",
      "Dropping 'PAY_AMT_Sep' with p-value 0.4750\n",
      "Dropping 'Paid May' with p-value 0.4425\n",
      "Dropping 'Paid Apr' with p-value 0.5024\n",
      "Dropping 'utilization_ratio May' with p-value 0.0925\n",
      "Dropping 'PAY_May' with p-value 0.0579\n",
      "Dropping 'Paid Jul' with p-value 0.0905\n",
      "Selected features: ['const', 'Paid Jun', 'EDUCATION_Graduate School', 'EDUCATION_High School', 'PAY_AMT_Apr', 'PAY_Jul', 'LIMIT_BAL', 'Paid Sep', 'PAY_AMT_Jul', 'utilization_ratio Apr', 'PAY_AMT_Jun', 'PAY_Aug', 'EDUCATION_University', 'SEX_Male', 'PAY_AMT_Aug', 'MARRIAGE_Single', 'PAY_Sep', 'PAY_Apr', 'PAY_Jun']\n",
      "                                OLS Regression Results                                \n",
      "======================================================================================\n",
      "Dep. Variable:     default payment next month   R-squared:                       0.214\n",
      "Model:                                    OLS   Adj. R-squared:                  0.213\n",
      "Method:                         Least Squares   F-statistic:                     317.6\n",
      "Date:                        Tue, 24 Jun 2025   Prob (F-statistic):               0.00\n",
      "Time:                                00:07:55   Log-Likelihood:                -8851.1\n",
      "No. Observations:                       21000   AIC:                         1.774e+04\n",
      "Df Residuals:                           20981   BIC:                         1.789e+04\n",
      "Df Model:                                  18                                         \n",
      "Covariance Type:                    nonrobust                                         \n",
      "=============================================================================================\n",
      "                                coef    std err          t      P>|t|      [0.025      0.975]\n",
      "---------------------------------------------------------------------------------------------\n",
      "const                         0.2356      0.022     10.604      0.000       0.192       0.279\n",
      "Paid Jun                     -0.0329      0.008     -4.305      0.000      -0.048      -0.018\n",
      "EDUCATION_Graduate School     0.0866      0.021      4.088      0.000       0.045       0.128\n",
      "EDUCATION_High School         0.0827      0.022      3.812      0.000       0.040       0.125\n",
      "PAY_AMT_Apr                  -0.0332      0.010     -3.223      0.001      -0.053      -0.013\n",
      "PAY_Jul                      -0.0421      0.006     -6.533      0.000      -0.055      -0.029\n",
      "LIMIT_BAL                    -0.0445      0.008     -5.588      0.000      -0.060      -0.029\n",
      "Paid Sep                     -0.0321      0.008     -3.899      0.000      -0.048      -0.016\n",
      "PAY_AMT_Jul                  -0.0340      0.010     -3.527      0.000      -0.053      -0.015\n",
      "utilization_ratio Apr        -0.0537      0.010     -5.398      0.000      -0.073      -0.034\n",
      "PAY_AMT_Jun                  -0.0265      0.012     -2.261      0.024      -0.049      -0.004\n",
      "PAY_Aug                      -0.0159      0.006     -2.574      0.010      -0.028      -0.004\n",
      "EDUCATION_University          0.0889      0.021      4.217      0.000       0.048       0.130\n",
      "SEX_Male                      0.0178      0.005      3.401      0.001       0.008       0.028\n",
      "PAY_AMT_Aug                  -0.0221      0.010     -2.209      0.027      -0.042      -0.002\n",
      "MARRIAGE_Single              -0.0285      0.005     -5.437      0.000      -0.039      -0.018\n",
      "PAY_Sep                      -0.1456      0.004    -35.863      0.000      -0.154      -0.138\n",
      "PAY_Apr                      -0.0515      0.006     -8.000      0.000      -0.064      -0.039\n",
      "PAY_Jun                      -0.0296      0.007     -4.452      0.000      -0.043      -0.017\n",
      "==============================================================================\n",
      "Omnibus:                     3287.943   Durbin-Watson:                   2.001\n",
      "Prob(Omnibus):                  0.000   Jarque-Bera (JB):             5053.368\n",
      "Skew:                           1.142   Prob(JB):                         0.00\n",
      "Kurtosis:                       3.748   Cond. No.                         30.2\n",
      "==============================================================================\n",
      "\n",
      "Notes:\n",
      "[1] Standard Errors assume that the covariance matrix of the errors is correctly specified.\n"
     ]
    }
   ],
   "source": [
    "# Assuming you have:\n",
    "# X = your feature dataframe (after one-hot encoding)\n",
    "# y = your target variable\n",
    "\n",
    "selected_features, final_model = util.backward_elimination(X_train, y_train)\n",
    "\n",
    "# Print final retained features\n",
    "print(\"Selected features:\", selected_features)\n",
    "\n",
    "# View summary\n",
    "print(final_model.summary())\n"
   ]
  },
  {
   "cell_type": "code",
   "execution_count": 78,
   "id": "c3c081f9",
   "metadata": {},
   "outputs": [
    {
     "data": {
      "text/plain": [
       "['const',\n",
       " 'Paid Jun',\n",
       " 'EDUCATION_Graduate School',\n",
       " 'EDUCATION_High School',\n",
       " 'PAY_AMT_Apr',\n",
       " 'PAY_Jul',\n",
       " 'LIMIT_BAL',\n",
       " 'Paid Sep',\n",
       " 'PAY_AMT_Jul',\n",
       " 'utilization_ratio Apr',\n",
       " 'PAY_AMT_Jun',\n",
       " 'PAY_Aug',\n",
       " 'EDUCATION_University',\n",
       " 'SEX_Male',\n",
       " 'PAY_AMT_Aug',\n",
       " 'MARRIAGE_Single',\n",
       " 'PAY_Sep',\n",
       " 'PAY_Apr',\n",
       " 'PAY_Jun']"
      ]
     },
     "execution_count": 78,
     "metadata": {},
     "output_type": "execute_result"
    }
   ],
   "source": [
    "selected_features"
   ]
  },
  {
   "cell_type": "code",
   "execution_count": 79,
   "id": "3f7348cf",
   "metadata": {},
   "outputs": [
    {
     "data": {
      "text/plain": [
       "18"
      ]
     },
     "execution_count": 79,
     "metadata": {},
     "output_type": "execute_result"
    }
   ],
   "source": [
    "len(selected_features) - 1"
   ]
  },
  {
   "cell_type": "markdown",
   "id": "e9b4ce61",
   "metadata": {},
   "source": [
    "# Feature Engineering: Test Data"
   ]
  },
  {
   "cell_type": "code",
   "execution_count": 80,
   "id": "6f24af9d",
   "metadata": {},
   "outputs": [],
   "source": [
    "df_temp = df_test.copy()"
   ]
  },
  {
   "cell_type": "code",
   "execution_count": 81,
   "id": "8ba0dc22",
   "metadata": {},
   "outputs": [
    {
     "name": "stdout",
     "output_type": "stream",
     "text": [
      "(9000, 25)\n"
     ]
    },
    {
     "data": {
      "text/html": [
       "<div>\n",
       "<style scoped>\n",
       "    .dataframe tbody tr th:only-of-type {\n",
       "        vertical-align: middle;\n",
       "    }\n",
       "\n",
       "    .dataframe tbody tr th {\n",
       "        vertical-align: top;\n",
       "    }\n",
       "\n",
       "    .dataframe thead th {\n",
       "        text-align: right;\n",
       "    }\n",
       "</style>\n",
       "<table border=\"1\" class=\"dataframe\">\n",
       "  <thead>\n",
       "    <tr style=\"text-align: right;\">\n",
       "      <th></th>\n",
       "      <th>ID</th>\n",
       "      <th>LIMIT_BAL</th>\n",
       "      <th>SEX</th>\n",
       "      <th>EDUCATION</th>\n",
       "      <th>MARRIAGE</th>\n",
       "      <th>AGE</th>\n",
       "      <th>PAY_0</th>\n",
       "      <th>PAY_2</th>\n",
       "      <th>PAY_3</th>\n",
       "      <th>PAY_4</th>\n",
       "      <th>...</th>\n",
       "      <th>BILL_AMT4</th>\n",
       "      <th>BILL_AMT5</th>\n",
       "      <th>BILL_AMT6</th>\n",
       "      <th>PAY_AMT1</th>\n",
       "      <th>PAY_AMT2</th>\n",
       "      <th>PAY_AMT3</th>\n",
       "      <th>PAY_AMT4</th>\n",
       "      <th>PAY_AMT5</th>\n",
       "      <th>PAY_AMT6</th>\n",
       "      <th>default payment next month</th>\n",
       "    </tr>\n",
       "  </thead>\n",
       "  <tbody>\n",
       "    <tr>\n",
       "      <th>2308</th>\n",
       "      <td>2309</td>\n",
       "      <td>30000</td>\n",
       "      <td>1</td>\n",
       "      <td>2</td>\n",
       "      <td>2</td>\n",
       "      <td>25</td>\n",
       "      <td>0</td>\n",
       "      <td>0</td>\n",
       "      <td>0</td>\n",
       "      <td>0</td>\n",
       "      <td>...</td>\n",
       "      <td>12580</td>\n",
       "      <td>13716</td>\n",
       "      <td>14828</td>\n",
       "      <td>1500</td>\n",
       "      <td>2000</td>\n",
       "      <td>1500</td>\n",
       "      <td>1500</td>\n",
       "      <td>1500</td>\n",
       "      <td>2000</td>\n",
       "      <td>0</td>\n",
       "    </tr>\n",
       "    <tr>\n",
       "      <th>22404</th>\n",
       "      <td>22405</td>\n",
       "      <td>150000</td>\n",
       "      <td>2</td>\n",
       "      <td>1</td>\n",
       "      <td>2</td>\n",
       "      <td>26</td>\n",
       "      <td>0</td>\n",
       "      <td>0</td>\n",
       "      <td>0</td>\n",
       "      <td>0</td>\n",
       "      <td>...</td>\n",
       "      <td>101581</td>\n",
       "      <td>77741</td>\n",
       "      <td>77264</td>\n",
       "      <td>4486</td>\n",
       "      <td>4235</td>\n",
       "      <td>3161</td>\n",
       "      <td>2647</td>\n",
       "      <td>2669</td>\n",
       "      <td>2669</td>\n",
       "      <td>0</td>\n",
       "    </tr>\n",
       "    <tr>\n",
       "      <th>23397</th>\n",
       "      <td>23398</td>\n",
       "      <td>70000</td>\n",
       "      <td>2</td>\n",
       "      <td>3</td>\n",
       "      <td>1</td>\n",
       "      <td>32</td>\n",
       "      <td>0</td>\n",
       "      <td>0</td>\n",
       "      <td>0</td>\n",
       "      <td>0</td>\n",
       "      <td>...</td>\n",
       "      <td>69753</td>\n",
       "      <td>70111</td>\n",
       "      <td>70212</td>\n",
       "      <td>2431</td>\n",
       "      <td>3112</td>\n",
       "      <td>3000</td>\n",
       "      <td>2438</td>\n",
       "      <td>2500</td>\n",
       "      <td>2554</td>\n",
       "      <td>0</td>\n",
       "    </tr>\n",
       "    <tr>\n",
       "      <th>25058</th>\n",
       "      <td>25059</td>\n",
       "      <td>130000</td>\n",
       "      <td>1</td>\n",
       "      <td>3</td>\n",
       "      <td>2</td>\n",
       "      <td>49</td>\n",
       "      <td>0</td>\n",
       "      <td>0</td>\n",
       "      <td>0</td>\n",
       "      <td>0</td>\n",
       "      <td>...</td>\n",
       "      <td>16898</td>\n",
       "      <td>11236</td>\n",
       "      <td>6944</td>\n",
       "      <td>1610</td>\n",
       "      <td>1808</td>\n",
       "      <td>7014</td>\n",
       "      <td>27</td>\n",
       "      <td>7011</td>\n",
       "      <td>4408</td>\n",
       "      <td>0</td>\n",
       "    </tr>\n",
       "    <tr>\n",
       "      <th>2664</th>\n",
       "      <td>2665</td>\n",
       "      <td>50000</td>\n",
       "      <td>2</td>\n",
       "      <td>2</td>\n",
       "      <td>2</td>\n",
       "      <td>36</td>\n",
       "      <td>0</td>\n",
       "      <td>0</td>\n",
       "      <td>0</td>\n",
       "      <td>0</td>\n",
       "      <td>...</td>\n",
       "      <td>19574</td>\n",
       "      <td>20295</td>\n",
       "      <td>19439</td>\n",
       "      <td>2000</td>\n",
       "      <td>1500</td>\n",
       "      <td>1000</td>\n",
       "      <td>1800</td>\n",
       "      <td>0</td>\n",
       "      <td>1000</td>\n",
       "      <td>1</td>\n",
       "    </tr>\n",
       "  </tbody>\n",
       "</table>\n",
       "<p>5 rows × 25 columns</p>\n",
       "</div>"
      ],
      "text/plain": [
       "          ID  LIMIT_BAL  SEX  EDUCATION  MARRIAGE  AGE  PAY_0  PAY_2  PAY_3  \\\n",
       "2308    2309      30000    1          2         2   25      0      0      0   \n",
       "22404  22405     150000    2          1         2   26      0      0      0   \n",
       "23397  23398      70000    2          3         1   32      0      0      0   \n",
       "25058  25059     130000    1          3         2   49      0      0      0   \n",
       "2664    2665      50000    2          2         2   36      0      0      0   \n",
       "\n",
       "       PAY_4  ...  BILL_AMT4  BILL_AMT5  BILL_AMT6  PAY_AMT1  PAY_AMT2  \\\n",
       "2308       0  ...      12580      13716      14828      1500      2000   \n",
       "22404      0  ...     101581      77741      77264      4486      4235   \n",
       "23397      0  ...      69753      70111      70212      2431      3112   \n",
       "25058      0  ...      16898      11236       6944      1610      1808   \n",
       "2664       0  ...      19574      20295      19439      2000      1500   \n",
       "\n",
       "       PAY_AMT3  PAY_AMT4  PAY_AMT5  PAY_AMT6  default payment next month  \n",
       "2308       1500      1500      1500      2000                           0  \n",
       "22404      3161      2647      2669      2669                           0  \n",
       "23397      3000      2438      2500      2554                           0  \n",
       "25058      7014        27      7011      4408                           0  \n",
       "2664       1000      1800         0      1000                           1  \n",
       "\n",
       "[5 rows x 25 columns]"
      ]
     },
     "execution_count": 81,
     "metadata": {},
     "output_type": "execute_result"
    }
   ],
   "source": [
    "print(df_temp.shape)\n",
    "df_temp.head()"
   ]
  },
  {
   "cell_type": "code",
   "execution_count": 82,
   "id": "8edaabfa",
   "metadata": {},
   "outputs": [
    {
     "data": {
      "text/plain": [
       "array(['ID', 'LIMIT_BAL', 'SEX', 'EDUCATION', 'MARRIAGE', 'AGE', 'PAY_0',\n",
       "       'PAY_2', 'PAY_3', 'PAY_4', 'PAY_5', 'PAY_6', 'BILL_AMT1',\n",
       "       'BILL_AMT2', 'BILL_AMT3', 'BILL_AMT4', 'BILL_AMT5', 'BILL_AMT6',\n",
       "       'PAY_AMT1', 'PAY_AMT2', 'PAY_AMT3', 'PAY_AMT4', 'PAY_AMT5',\n",
       "       'PAY_AMT6', 'default payment next month'], dtype=object)"
      ]
     },
     "execution_count": 82,
     "metadata": {},
     "output_type": "execute_result"
    }
   ],
   "source": [
    "df_temp.columns.values"
   ]
  },
  {
   "cell_type": "code",
   "execution_count": 83,
   "id": "4f389e34",
   "metadata": {},
   "outputs": [],
   "source": [
    "months_info = [\n",
    "    ('Sep', 'PAY_0', 'BILL_AMT1', 'PAY_AMT1'),\n",
    "    ('Aug', 'PAY_2', 'BILL_AMT2', 'PAY_AMT2'),\n",
    "    ('Jul', 'PAY_3', 'BILL_AMT3', 'PAY_AMT3'),\n",
    "    ('Jun', 'PAY_4', 'BILL_AMT4', 'PAY_AMT4'),\n",
    "    ('May', 'PAY_5', 'BILL_AMT5', 'PAY_AMT5'),\n",
    "    ('Apr', 'PAY_6', 'BILL_AMT6', 'PAY_AMT6'),\n",
    "]"
   ]
  },
  {
   "cell_type": "code",
   "execution_count": 84,
   "id": "ac8fcf04",
   "metadata": {},
   "outputs": [],
   "source": [
    "df_temp = util.generate_monthly_features(df_temp, months_info)"
   ]
  },
  {
   "cell_type": "code",
   "execution_count": 85,
   "id": "f5ffca6f",
   "metadata": {},
   "outputs": [],
   "source": [
    "df_temp.rename(columns={'PAY_0':'PAY_Sep','PAY_2':'PAY_Aug','PAY_3':'PAY_Jul','PAY_4':'PAY_Jun','PAY_5':'PAY_May','PAY_6':'PAY_Apr'},inplace= True)"
   ]
  },
  {
   "cell_type": "code",
   "execution_count": 86,
   "id": "94fe19b0",
   "metadata": {},
   "outputs": [],
   "source": [
    "df_temp.rename(columns={'BILL_AMT1':'BILL_AMT_Sep','BILL_AMT2':'BILL_AMT_Aug','BILL_AMT3':'BILL_AMT_Jul','BILL_AMT4':'BILL_AMT_Jun','BILL_AMT5':'BILL_AMT_May','BILL_AMT6':'BILL_AMT_Apr'},inplace= True)"
   ]
  },
  {
   "cell_type": "code",
   "execution_count": 87,
   "id": "4c18aa73",
   "metadata": {},
   "outputs": [],
   "source": [
    "df_temp.rename(columns={'PAY_AMT1':'PAY_AMT_Sep','PAY_AMT2':'PAY_AMT_Aug','PAY_AMT3':'PAY_AMT_Jul','PAY_AMT4':'PAY_AMT_Jun','PAY_AMT5':'PAY_AMT_May','PAY_AMT6':'PAY_AMT_Apr'},inplace= True)"
   ]
  },
  {
   "cell_type": "code",
   "execution_count": 88,
   "id": "4f7390d1",
   "metadata": {},
   "outputs": [
    {
     "data": {
      "text/plain": [
       "array(['ID', 'LIMIT_BAL', 'SEX', 'EDUCATION', 'MARRIAGE', 'AGE',\n",
       "       'PAY_Sep', 'PAY_Aug', 'PAY_Jul', 'PAY_Jun', 'PAY_May', 'PAY_Apr',\n",
       "       'BILL_AMT_Sep', 'BILL_AMT_Aug', 'BILL_AMT_Jul', 'BILL_AMT_Jun',\n",
       "       'BILL_AMT_May', 'BILL_AMT_Apr', 'PAY_AMT_Sep', 'PAY_AMT_Aug',\n",
       "       'PAY_AMT_Jul', 'PAY_AMT_Jun', 'PAY_AMT_May', 'PAY_AMT_Apr',\n",
       "       'default payment next month', 'utilization_ratio Sep', 'Paid Sep',\n",
       "       'Delinquent Sep', 'utilization_ratio Aug', 'Paid Aug',\n",
       "       'Delinquent Aug', 'utilization_ratio Jul', 'Paid Jul',\n",
       "       'Delinquent Jul', 'utilization_ratio Jun', 'Paid Jun',\n",
       "       'Delinquent Jun', 'utilization_ratio May', 'Paid May',\n",
       "       'Delinquent May', 'utilization_ratio Apr', 'Paid Apr',\n",
       "       'Delinquent Apr'], dtype=object)"
      ]
     },
     "execution_count": 88,
     "metadata": {},
     "output_type": "execute_result"
    }
   ],
   "source": [
    "df_temp.columns.values"
   ]
  },
  {
   "cell_type": "code",
   "execution_count": 89,
   "id": "8f48bca3",
   "metadata": {},
   "outputs": [],
   "source": [
    "df_temp = util.reorder_columns_monthwise(df_temp)"
   ]
  },
  {
   "cell_type": "code",
   "execution_count": 90,
   "id": "abc1e633",
   "metadata": {},
   "outputs": [
    {
     "data": {
      "text/plain": [
       "array(['ID', 'LIMIT_BAL', 'SEX', 'EDUCATION', 'MARRIAGE', 'AGE',\n",
       "       'PAY_Sep', 'BILL_AMT_Sep', 'PAY_AMT_Sep', 'utilization_ratio Sep',\n",
       "       'Paid Sep', 'Delinquent Sep', 'PAY_Aug', 'BILL_AMT_Aug',\n",
       "       'PAY_AMT_Aug', 'utilization_ratio Aug', 'Paid Aug',\n",
       "       'Delinquent Aug', 'PAY_Jul', 'BILL_AMT_Jul', 'PAY_AMT_Jul',\n",
       "       'utilization_ratio Jul', 'Paid Jul', 'Delinquent Jul', 'PAY_Jun',\n",
       "       'BILL_AMT_Jun', 'PAY_AMT_Jun', 'utilization_ratio Jun', 'Paid Jun',\n",
       "       'Delinquent Jun', 'PAY_May', 'BILL_AMT_May', 'PAY_AMT_May',\n",
       "       'utilization_ratio May', 'Paid May', 'Delinquent May', 'PAY_Apr',\n",
       "       'BILL_AMT_Apr', 'PAY_AMT_Apr', 'utilization_ratio Apr', 'Paid Apr',\n",
       "       'Delinquent Apr', 'default payment next month'], dtype=object)"
      ]
     },
     "execution_count": 90,
     "metadata": {},
     "output_type": "execute_result"
    }
   ],
   "source": [
    "df_temp.columns.values"
   ]
  },
  {
   "cell_type": "code",
   "execution_count": 91,
   "id": "766ca30b",
   "metadata": {},
   "outputs": [
    {
     "data": {
      "text/plain": [
       "2    4234\n",
       "1    3152\n",
       "3    1473\n",
       "5      85\n",
       "4      38\n",
       "6      13\n",
       "0       5\n",
       "Name: EDUCATION, dtype: int64"
      ]
     },
     "execution_count": 91,
     "metadata": {},
     "output_type": "execute_result"
    }
   ],
   "source": [
    "df_temp['EDUCATION'].value_counts(dropna= False)"
   ]
  },
  {
   "cell_type": "code",
   "execution_count": 92,
   "id": "9423a186",
   "metadata": {},
   "outputs": [],
   "source": [
    "df_temp['EDUCATION'] = np.where(df_temp['EDUCATION'] == 0, mode_education_train,df_temp['EDUCATION'])"
   ]
  },
  {
   "cell_type": "code",
   "execution_count": 93,
   "id": "3c79ec53",
   "metadata": {},
   "outputs": [],
   "source": [
    "education_mapping = {\n",
    "    1: 'Graduate School',\n",
    "    2: 'University',\n",
    "    3: 'High School',\n",
    "    4: \"Others\",\n",
    "    5: \"Others\",\n",
    "    6: \"Others\"\n",
    "}\n",
    "\n",
    "df_temp['EDUCATION'] = df_temp['EDUCATION'].map(education_mapping)"
   ]
  },
  {
   "cell_type": "code",
   "execution_count": 94,
   "id": "e9b11060",
   "metadata": {},
   "outputs": [
    {
     "data": {
      "text/plain": [
       "University         4239\n",
       "Graduate School    3152\n",
       "High School        1473\n",
       "Others              136\n",
       "Name: EDUCATION, dtype: int64"
      ]
     },
     "execution_count": 94,
     "metadata": {},
     "output_type": "execute_result"
    }
   ],
   "source": [
    "df_temp['EDUCATION'].value_counts(dropna= False)"
   ]
  },
  {
   "cell_type": "code",
   "execution_count": 95,
   "id": "c958175d",
   "metadata": {},
   "outputs": [
    {
     "data": {
      "text/plain": [
       "2    5388\n",
       "1    3612\n",
       "Name: SEX, dtype: int64"
      ]
     },
     "execution_count": 95,
     "metadata": {},
     "output_type": "execute_result"
    }
   ],
   "source": [
    "df_temp['SEX'].value_counts(dropna= False)"
   ]
  },
  {
   "cell_type": "code",
   "execution_count": 96,
   "id": "61d2b799",
   "metadata": {},
   "outputs": [],
   "source": [
    "gender_mapping = {\n",
    "    1: 'Male',\n",
    "    2: 'Female'\n",
    "}\n",
    "\n",
    "df_temp['SEX'] = df_temp['SEX'].map(gender_mapping)"
   ]
  },
  {
   "cell_type": "code",
   "execution_count": 97,
   "id": "b4aa2034",
   "metadata": {},
   "outputs": [
    {
     "data": {
      "text/plain": [
       "Female    5388\n",
       "Male      3612\n",
       "Name: SEX, dtype: int64"
      ]
     },
     "execution_count": 97,
     "metadata": {},
     "output_type": "execute_result"
    }
   ],
   "source": [
    "df_temp['SEX'].value_counts(dropna= False)"
   ]
  },
  {
   "cell_type": "code",
   "execution_count": 98,
   "id": "8066fd77",
   "metadata": {},
   "outputs": [
    {
     "data": {
      "text/plain": [
       "2    4832\n",
       "1    4054\n",
       "3      95\n",
       "0      19\n",
       "Name: MARRIAGE, dtype: int64"
      ]
     },
     "execution_count": 98,
     "metadata": {},
     "output_type": "execute_result"
    }
   ],
   "source": [
    "df_temp['MARRIAGE'].value_counts(dropna= False)"
   ]
  },
  {
   "cell_type": "code",
   "execution_count": 99,
   "id": "d3699c3f",
   "metadata": {},
   "outputs": [],
   "source": [
    "df_temp['MARRIAGE'] = np.where(df_temp['MARRIAGE'] == 0,2,df_temp['MARRIAGE'])"
   ]
  },
  {
   "cell_type": "code",
   "execution_count": 100,
   "id": "4c690945",
   "metadata": {},
   "outputs": [
    {
     "data": {
      "text/plain": [
       "2    4851\n",
       "1    4054\n",
       "3      95\n",
       "Name: MARRIAGE, dtype: int64"
      ]
     },
     "execution_count": 100,
     "metadata": {},
     "output_type": "execute_result"
    }
   ],
   "source": [
    "df_temp['MARRIAGE'].value_counts(dropna= False)"
   ]
  },
  {
   "cell_type": "code",
   "execution_count": 101,
   "id": "ce1653e9",
   "metadata": {},
   "outputs": [],
   "source": [
    "marital_mapping = {\n",
    "    1: 'Married',\n",
    "    2: 'Single',\n",
    "    3: 'Others'\n",
    "}\n",
    "\n",
    "df_temp['MARRIAGE'] = df_temp['MARRIAGE'].map(marital_mapping)"
   ]
  },
  {
   "cell_type": "code",
   "execution_count": 102,
   "id": "88b463c6",
   "metadata": {},
   "outputs": [
    {
     "data": {
      "text/plain": [
       "Single     4851\n",
       "Married    4054\n",
       "Others       95\n",
       "Name: MARRIAGE, dtype: int64"
      ]
     },
     "execution_count": 102,
     "metadata": {},
     "output_type": "execute_result"
    }
   ],
   "source": [
    "df_temp['MARRIAGE'].value_counts(dropna= False)"
   ]
  },
  {
   "cell_type": "code",
   "execution_count": 103,
   "id": "1b515fe1",
   "metadata": {},
   "outputs": [
    {
     "data": {
      "text/plain": [
       "ID                            0\n",
       "LIMIT_BAL                     0\n",
       "SEX                           0\n",
       "EDUCATION                     0\n",
       "MARRIAGE                      0\n",
       "AGE                           0\n",
       "PAY_Sep                       0\n",
       "BILL_AMT_Sep                  0\n",
       "PAY_AMT_Sep                   0\n",
       "utilization_ratio Sep         0\n",
       "Paid Sep                      0\n",
       "Delinquent Sep                0\n",
       "PAY_Aug                       0\n",
       "BILL_AMT_Aug                  0\n",
       "PAY_AMT_Aug                   0\n",
       "utilization_ratio Aug         0\n",
       "Paid Aug                      0\n",
       "Delinquent Aug                0\n",
       "PAY_Jul                       0\n",
       "BILL_AMT_Jul                  0\n",
       "PAY_AMT_Jul                   0\n",
       "utilization_ratio Jul         0\n",
       "Paid Jul                      0\n",
       "Delinquent Jul                0\n",
       "PAY_Jun                       0\n",
       "BILL_AMT_Jun                  0\n",
       "PAY_AMT_Jun                   0\n",
       "utilization_ratio Jun         0\n",
       "Paid Jun                      0\n",
       "Delinquent Jun                0\n",
       "PAY_May                       0\n",
       "BILL_AMT_May                  0\n",
       "PAY_AMT_May                   0\n",
       "utilization_ratio May         0\n",
       "Paid May                      0\n",
       "Delinquent May                0\n",
       "PAY_Apr                       0\n",
       "BILL_AMT_Apr                  0\n",
       "PAY_AMT_Apr                   0\n",
       "utilization_ratio Apr         0\n",
       "Paid Apr                      0\n",
       "Delinquent Apr                0\n",
       "default payment next month    0\n",
       "dtype: int64"
      ]
     },
     "execution_count": 103,
     "metadata": {},
     "output_type": "execute_result"
    }
   ],
   "source": [
    "df_temp.isna().sum()"
   ]
  },
  {
   "cell_type": "code",
   "execution_count": 104,
   "id": "ea8e3afc",
   "metadata": {},
   "outputs": [
    {
     "data": {
      "text/plain": [
       "(9000, 43)"
      ]
     },
     "execution_count": 104,
     "metadata": {},
     "output_type": "execute_result"
    }
   ],
   "source": [
    "df_temp.shape"
   ]
  },
  {
   "cell_type": "code",
   "execution_count": 105,
   "id": "ddc1cc01",
   "metadata": {},
   "outputs": [],
   "source": [
    "# One-hot encoding without dropping any columns\n",
    "df_temp = pd.get_dummies(df_temp, columns=['EDUCATION', 'SEX','MARRIAGE'], drop_first=False)"
   ]
  },
  {
   "cell_type": "code",
   "execution_count": 106,
   "id": "d860a8f2",
   "metadata": {},
   "outputs": [
    {
     "data": {
      "text/plain": [
       "array(['ID', 'LIMIT_BAL', 'AGE', 'PAY_Sep', 'BILL_AMT_Sep', 'PAY_AMT_Sep',\n",
       "       'utilization_ratio Sep', 'Paid Sep', 'Delinquent Sep', 'PAY_Aug',\n",
       "       'BILL_AMT_Aug', 'PAY_AMT_Aug', 'utilization_ratio Aug', 'Paid Aug',\n",
       "       'Delinquent Aug', 'PAY_Jul', 'BILL_AMT_Jul', 'PAY_AMT_Jul',\n",
       "       'utilization_ratio Jul', 'Paid Jul', 'Delinquent Jul', 'PAY_Jun',\n",
       "       'BILL_AMT_Jun', 'PAY_AMT_Jun', 'utilization_ratio Jun', 'Paid Jun',\n",
       "       'Delinquent Jun', 'PAY_May', 'BILL_AMT_May', 'PAY_AMT_May',\n",
       "       'utilization_ratio May', 'Paid May', 'Delinquent May', 'PAY_Apr',\n",
       "       'BILL_AMT_Apr', 'PAY_AMT_Apr', 'utilization_ratio Apr', 'Paid Apr',\n",
       "       'Delinquent Apr', 'default payment next month',\n",
       "       'EDUCATION_Graduate School', 'EDUCATION_High School',\n",
       "       'EDUCATION_Others', 'EDUCATION_University', 'SEX_Female',\n",
       "       'SEX_Male', 'MARRIAGE_Married', 'MARRIAGE_Others',\n",
       "       'MARRIAGE_Single'], dtype=object)"
      ]
     },
     "execution_count": 106,
     "metadata": {},
     "output_type": "execute_result"
    }
   ],
   "source": [
    "df_temp.columns.values"
   ]
  },
  {
   "cell_type": "code",
   "execution_count": 107,
   "id": "b55ce17d",
   "metadata": {},
   "outputs": [],
   "source": [
    "#Columns to drop for multi-collinearity\n",
    "col_to_drop = ['EDUCATION_Others','SEX_Female','MARRIAGE_Others']"
   ]
  },
  {
   "cell_type": "code",
   "execution_count": 108,
   "id": "1746c371",
   "metadata": {},
   "outputs": [],
   "source": [
    "df_temp.drop(columns= col_to_drop, inplace= True)"
   ]
  },
  {
   "cell_type": "code",
   "execution_count": 109,
   "id": "7037850a",
   "metadata": {},
   "outputs": [],
   "source": [
    "df_test = df_temp.copy()"
   ]
  },
  {
   "cell_type": "code",
   "execution_count": 110,
   "id": "08528f36",
   "metadata": {},
   "outputs": [
    {
     "name": "stdout",
     "output_type": "stream",
     "text": [
      "(9000, 46)\n"
     ]
    },
    {
     "data": {
      "text/html": [
       "<div>\n",
       "<style scoped>\n",
       "    .dataframe tbody tr th:only-of-type {\n",
       "        vertical-align: middle;\n",
       "    }\n",
       "\n",
       "    .dataframe tbody tr th {\n",
       "        vertical-align: top;\n",
       "    }\n",
       "\n",
       "    .dataframe thead th {\n",
       "        text-align: right;\n",
       "    }\n",
       "</style>\n",
       "<table border=\"1\" class=\"dataframe\">\n",
       "  <thead>\n",
       "    <tr style=\"text-align: right;\">\n",
       "      <th></th>\n",
       "      <th>ID</th>\n",
       "      <th>LIMIT_BAL</th>\n",
       "      <th>AGE</th>\n",
       "      <th>PAY_Sep</th>\n",
       "      <th>BILL_AMT_Sep</th>\n",
       "      <th>PAY_AMT_Sep</th>\n",
       "      <th>utilization_ratio Sep</th>\n",
       "      <th>Paid Sep</th>\n",
       "      <th>Delinquent Sep</th>\n",
       "      <th>PAY_Aug</th>\n",
       "      <th>...</th>\n",
       "      <th>utilization_ratio Apr</th>\n",
       "      <th>Paid Apr</th>\n",
       "      <th>Delinquent Apr</th>\n",
       "      <th>default payment next month</th>\n",
       "      <th>EDUCATION_Graduate School</th>\n",
       "      <th>EDUCATION_High School</th>\n",
       "      <th>EDUCATION_University</th>\n",
       "      <th>SEX_Male</th>\n",
       "      <th>MARRIAGE_Married</th>\n",
       "      <th>MARRIAGE_Single</th>\n",
       "    </tr>\n",
       "  </thead>\n",
       "  <tbody>\n",
       "    <tr>\n",
       "      <th>0</th>\n",
       "      <td>2309</td>\n",
       "      <td>30000</td>\n",
       "      <td>25</td>\n",
       "      <td>0</td>\n",
       "      <td>8864</td>\n",
       "      <td>1500</td>\n",
       "      <td>0.295467</td>\n",
       "      <td>1</td>\n",
       "      <td>0</td>\n",
       "      <td>0</td>\n",
       "      <td>...</td>\n",
       "      <td>0.494267</td>\n",
       "      <td>1</td>\n",
       "      <td>0</td>\n",
       "      <td>0</td>\n",
       "      <td>0</td>\n",
       "      <td>0</td>\n",
       "      <td>1</td>\n",
       "      <td>1</td>\n",
       "      <td>0</td>\n",
       "      <td>1</td>\n",
       "    </tr>\n",
       "    <tr>\n",
       "      <th>1</th>\n",
       "      <td>22405</td>\n",
       "      <td>150000</td>\n",
       "      <td>26</td>\n",
       "      <td>0</td>\n",
       "      <td>136736</td>\n",
       "      <td>4486</td>\n",
       "      <td>0.911573</td>\n",
       "      <td>1</td>\n",
       "      <td>0</td>\n",
       "      <td>0</td>\n",
       "      <td>...</td>\n",
       "      <td>0.515093</td>\n",
       "      <td>1</td>\n",
       "      <td>0</td>\n",
       "      <td>0</td>\n",
       "      <td>1</td>\n",
       "      <td>0</td>\n",
       "      <td>0</td>\n",
       "      <td>0</td>\n",
       "      <td>0</td>\n",
       "      <td>1</td>\n",
       "    </tr>\n",
       "    <tr>\n",
       "      <th>2</th>\n",
       "      <td>23398</td>\n",
       "      <td>70000</td>\n",
       "      <td>32</td>\n",
       "      <td>0</td>\n",
       "      <td>70122</td>\n",
       "      <td>2431</td>\n",
       "      <td>1.001743</td>\n",
       "      <td>1</td>\n",
       "      <td>0</td>\n",
       "      <td>0</td>\n",
       "      <td>...</td>\n",
       "      <td>1.003029</td>\n",
       "      <td>1</td>\n",
       "      <td>0</td>\n",
       "      <td>0</td>\n",
       "      <td>0</td>\n",
       "      <td>1</td>\n",
       "      <td>0</td>\n",
       "      <td>0</td>\n",
       "      <td>1</td>\n",
       "      <td>0</td>\n",
       "    </tr>\n",
       "    <tr>\n",
       "      <th>3</th>\n",
       "      <td>25059</td>\n",
       "      <td>130000</td>\n",
       "      <td>49</td>\n",
       "      <td>0</td>\n",
       "      <td>20678</td>\n",
       "      <td>1610</td>\n",
       "      <td>0.159062</td>\n",
       "      <td>1</td>\n",
       "      <td>0</td>\n",
       "      <td>0</td>\n",
       "      <td>...</td>\n",
       "      <td>0.053415</td>\n",
       "      <td>1</td>\n",
       "      <td>0</td>\n",
       "      <td>0</td>\n",
       "      <td>0</td>\n",
       "      <td>1</td>\n",
       "      <td>0</td>\n",
       "      <td>1</td>\n",
       "      <td>0</td>\n",
       "      <td>1</td>\n",
       "    </tr>\n",
       "    <tr>\n",
       "      <th>4</th>\n",
       "      <td>2665</td>\n",
       "      <td>50000</td>\n",
       "      <td>36</td>\n",
       "      <td>0</td>\n",
       "      <td>94228</td>\n",
       "      <td>2000</td>\n",
       "      <td>1.884560</td>\n",
       "      <td>1</td>\n",
       "      <td>0</td>\n",
       "      <td>0</td>\n",
       "      <td>...</td>\n",
       "      <td>0.388780</td>\n",
       "      <td>1</td>\n",
       "      <td>1</td>\n",
       "      <td>1</td>\n",
       "      <td>0</td>\n",
       "      <td>0</td>\n",
       "      <td>1</td>\n",
       "      <td>0</td>\n",
       "      <td>0</td>\n",
       "      <td>1</td>\n",
       "    </tr>\n",
       "  </tbody>\n",
       "</table>\n",
       "<p>5 rows × 46 columns</p>\n",
       "</div>"
      ],
      "text/plain": [
       "      ID  LIMIT_BAL  AGE  PAY_Sep  BILL_AMT_Sep  PAY_AMT_Sep  \\\n",
       "0   2309      30000   25        0          8864         1500   \n",
       "1  22405     150000   26        0        136736         4486   \n",
       "2  23398      70000   32        0         70122         2431   \n",
       "3  25059     130000   49        0         20678         1610   \n",
       "4   2665      50000   36        0         94228         2000   \n",
       "\n",
       "   utilization_ratio Sep  Paid Sep  Delinquent Sep  PAY_Aug  ...  \\\n",
       "0               0.295467         1               0        0  ...   \n",
       "1               0.911573         1               0        0  ...   \n",
       "2               1.001743         1               0        0  ...   \n",
       "3               0.159062         1               0        0  ...   \n",
       "4               1.884560         1               0        0  ...   \n",
       "\n",
       "   utilization_ratio Apr  Paid Apr  Delinquent Apr  \\\n",
       "0               0.494267         1               0   \n",
       "1               0.515093         1               0   \n",
       "2               1.003029         1               0   \n",
       "3               0.053415         1               0   \n",
       "4               0.388780         1               1   \n",
       "\n",
       "   default payment next month  EDUCATION_Graduate School  \\\n",
       "0                           0                          0   \n",
       "1                           0                          1   \n",
       "2                           0                          0   \n",
       "3                           0                          0   \n",
       "4                           1                          0   \n",
       "\n",
       "   EDUCATION_High School  EDUCATION_University  SEX_Male  MARRIAGE_Married  \\\n",
       "0                      0                     1         1                 0   \n",
       "1                      0                     0         0                 0   \n",
       "2                      1                     0         0                 1   \n",
       "3                      1                     0         1                 0   \n",
       "4                      0                     1         0                 0   \n",
       "\n",
       "   MARRIAGE_Single  \n",
       "0                1  \n",
       "1                1  \n",
       "2                0  \n",
       "3                1  \n",
       "4                1  \n",
       "\n",
       "[5 rows x 46 columns]"
      ]
     },
     "execution_count": 110,
     "metadata": {},
     "output_type": "execute_result"
    }
   ],
   "source": [
    "print(df_test.shape)\n",
    "df_test.head()"
   ]
  },
  {
   "cell_type": "code",
   "execution_count": 111,
   "id": "c1ac777d",
   "metadata": {},
   "outputs": [
    {
     "data": {
      "text/plain": [
       "Index(['ID', 'LIMIT_BAL', 'AGE', 'PAY_Sep', 'BILL_AMT_Sep', 'PAY_AMT_Sep',\n",
       "       'utilization_ratio Sep', 'Paid Sep', 'Delinquent Sep', 'PAY_Aug',\n",
       "       'BILL_AMT_Aug', 'PAY_AMT_Aug', 'utilization_ratio Aug', 'Paid Aug',\n",
       "       'Delinquent Aug', 'PAY_Jul', 'BILL_AMT_Jul', 'PAY_AMT_Jul',\n",
       "       'utilization_ratio Jul', 'Paid Jul', 'Delinquent Jul', 'PAY_Jun',\n",
       "       'BILL_AMT_Jun', 'PAY_AMT_Jun', 'utilization_ratio Jun', 'Paid Jun',\n",
       "       'Delinquent Jun', 'PAY_May', 'BILL_AMT_May', 'PAY_AMT_May',\n",
       "       'utilization_ratio May', 'Paid May', 'Delinquent May', 'PAY_Apr',\n",
       "       'BILL_AMT_Apr', 'PAY_AMT_Apr', 'utilization_ratio Apr', 'Paid Apr',\n",
       "       'Delinquent Apr', 'default payment next month',\n",
       "       'EDUCATION_Graduate School', 'EDUCATION_High School',\n",
       "       'EDUCATION_University', 'SEX_Male', 'MARRIAGE_Married',\n",
       "       'MARRIAGE_Single'],\n",
       "      dtype='object')"
      ]
     },
     "execution_count": 111,
     "metadata": {},
     "output_type": "execute_result"
    }
   ],
   "source": [
    "df_test.columns"
   ]
  },
  {
   "cell_type": "code",
   "execution_count": 112,
   "id": "fac697d9",
   "metadata": {},
   "outputs": [],
   "source": [
    "df_test_woe = util.apply_woe_binning(df_test, woe_temp)"
   ]
  },
  {
   "cell_type": "code",
   "execution_count": 113,
   "id": "2b5270b9",
   "metadata": {},
   "outputs": [
    {
     "data": {
      "text/plain": [
       "Index(['ID', 'LIMIT_BAL', 'AGE', 'PAY_Sep', 'BILL_AMT_Sep', 'PAY_AMT_Sep',\n",
       "       'utilization_ratio Sep', 'Paid Sep', 'Delinquent Sep', 'PAY_Aug',\n",
       "       'BILL_AMT_Aug', 'PAY_AMT_Aug', 'utilization_ratio Aug', 'Paid Aug',\n",
       "       'Delinquent Aug', 'PAY_Jul', 'BILL_AMT_Jul', 'PAY_AMT_Jul',\n",
       "       'utilization_ratio Jul', 'Paid Jul', 'Delinquent Jul', 'PAY_Jun',\n",
       "       'BILL_AMT_Jun', 'PAY_AMT_Jun', 'utilization_ratio Jun', 'Paid Jun',\n",
       "       'Delinquent Jun', 'PAY_May', 'BILL_AMT_May', 'PAY_AMT_May',\n",
       "       'utilization_ratio May', 'Paid May', 'Delinquent May', 'PAY_Apr',\n",
       "       'BILL_AMT_Apr', 'PAY_AMT_Apr', 'utilization_ratio Apr', 'Paid Apr',\n",
       "       'Delinquent Apr', 'default payment next month',\n",
       "       'EDUCATION_Graduate School', 'EDUCATION_High School',\n",
       "       'EDUCATION_University', 'SEX_Male', 'MARRIAGE_Married',\n",
       "       'MARRIAGE_Single'],\n",
       "      dtype='object')"
      ]
     },
     "execution_count": 113,
     "metadata": {},
     "output_type": "execute_result"
    }
   ],
   "source": [
    "df_test_woe.columns"
   ]
  },
  {
   "cell_type": "code",
   "execution_count": 114,
   "id": "09dad2fd",
   "metadata": {},
   "outputs": [
    {
     "data": {
      "text/plain": [
       "-0.054388    5385\n",
       " 0.084808    3615\n",
       "Name: BILL_AMT_Apr, dtype: int64"
      ]
     },
     "execution_count": 114,
     "metadata": {},
     "output_type": "execute_result"
    }
   ],
   "source": [
    "df_test_woe['BILL_AMT_Apr'].value_counts(dropna= False)"
   ]
  },
  {
   "cell_type": "code",
   "execution_count": 115,
   "id": "8a0e289d",
   "metadata": {},
   "outputs": [
    {
     "data": {
      "text/plain": [
       "290   -339603\n",
       "Name: BILL_AMT6, dtype: int64"
      ]
     },
     "execution_count": 115,
     "metadata": {},
     "output_type": "execute_result"
    }
   ],
   "source": [
    "df[df['ID']==291]['BILL_AMT6']"
   ]
  },
  {
   "cell_type": "code",
   "execution_count": 116,
   "id": "110534d6",
   "metadata": {},
   "outputs": [
    {
     "data": {
      "text/html": [
       "<div>\n",
       "<style scoped>\n",
       "    .dataframe tbody tr th:only-of-type {\n",
       "        vertical-align: middle;\n",
       "    }\n",
       "\n",
       "    .dataframe tbody tr th {\n",
       "        vertical-align: top;\n",
       "    }\n",
       "\n",
       "    .dataframe thead th {\n",
       "        text-align: right;\n",
       "    }\n",
       "</style>\n",
       "<table border=\"1\" class=\"dataframe\">\n",
       "  <thead>\n",
       "    <tr style=\"text-align: right;\">\n",
       "      <th></th>\n",
       "      <th>Feature</th>\n",
       "      <th>bin</th>\n",
       "      <th>Total Observations</th>\n",
       "      <th>Non events</th>\n",
       "      <th>Events</th>\n",
       "      <th>% of Non events</th>\n",
       "      <th>% of Events</th>\n",
       "      <th>WoE</th>\n",
       "      <th>IV</th>\n",
       "    </tr>\n",
       "  </thead>\n",
       "  <tbody>\n",
       "    <tr>\n",
       "      <th>67</th>\n",
       "      <td>BILL_AMT_Apr</td>\n",
       "      <td>(-209051.001, 8791.2]</td>\n",
       "      <td>8400</td>\n",
       "      <td>6650</td>\n",
       "      <td>1750</td>\n",
       "      <td>0.407376</td>\n",
       "      <td>0.374251</td>\n",
       "      <td>0.084808</td>\n",
       "      <td>0.002809</td>\n",
       "    </tr>\n",
       "    <tr>\n",
       "      <th>68</th>\n",
       "      <td>BILL_AMT_Apr</td>\n",
       "      <td>(8791.2, 961664.0]</td>\n",
       "      <td>12600</td>\n",
       "      <td>9674</td>\n",
       "      <td>2926</td>\n",
       "      <td>0.592624</td>\n",
       "      <td>0.625749</td>\n",
       "      <td>-0.054388</td>\n",
       "      <td>0.001802</td>\n",
       "    </tr>\n",
       "  </tbody>\n",
       "</table>\n",
       "</div>"
      ],
      "text/plain": [
       "         Feature                    bin  Total Observations  Non events  \\\n",
       "67  BILL_AMT_Apr  (-209051.001, 8791.2]                8400        6650   \n",
       "68  BILL_AMT_Apr     (8791.2, 961664.0]               12600        9674   \n",
       "\n",
       "    Events  % of Non events  % of Events       WoE        IV  \n",
       "67    1750         0.407376     0.374251  0.084808  0.002809  \n",
       "68    2926         0.592624     0.625749 -0.054388  0.001802  "
      ]
     },
     "execution_count": 116,
     "metadata": {},
     "output_type": "execute_result"
    }
   ],
   "source": [
    "woe_temp[woe_temp['Feature']== 'BILL_AMT_Apr']"
   ]
  },
  {
   "cell_type": "code",
   "execution_count": 117,
   "id": "fe7947c5",
   "metadata": {},
   "outputs": [
    {
     "data": {
      "text/plain": [
       "ID                            0\n",
       "LIMIT_BAL                     0\n",
       "AGE                           0\n",
       "PAY_Sep                       0\n",
       "BILL_AMT_Sep                  0\n",
       "PAY_AMT_Sep                   0\n",
       "utilization_ratio Sep         0\n",
       "Paid Sep                      0\n",
       "Delinquent Sep                0\n",
       "PAY_Aug                       0\n",
       "BILL_AMT_Aug                  0\n",
       "PAY_AMT_Aug                   0\n",
       "utilization_ratio Aug         0\n",
       "Paid Aug                      0\n",
       "Delinquent Aug                0\n",
       "PAY_Jul                       0\n",
       "BILL_AMT_Jul                  0\n",
       "PAY_AMT_Jul                   0\n",
       "utilization_ratio Jul         0\n",
       "Paid Jul                      0\n",
       "Delinquent Jul                0\n",
       "PAY_Jun                       0\n",
       "BILL_AMT_Jun                  0\n",
       "PAY_AMT_Jun                   0\n",
       "utilization_ratio Jun         0\n",
       "Paid Jun                      0\n",
       "Delinquent Jun                0\n",
       "PAY_May                       0\n",
       "BILL_AMT_May                  0\n",
       "PAY_AMT_May                   0\n",
       "utilization_ratio May         0\n",
       "Paid May                      0\n",
       "Delinquent May                0\n",
       "PAY_Apr                       0\n",
       "BILL_AMT_Apr                  0\n",
       "PAY_AMT_Apr                   0\n",
       "utilization_ratio Apr         0\n",
       "Paid Apr                      0\n",
       "Delinquent Apr                0\n",
       "default payment next month    0\n",
       "EDUCATION_Graduate School     0\n",
       "EDUCATION_High School         0\n",
       "EDUCATION_University          0\n",
       "SEX_Male                      0\n",
       "MARRIAGE_Married              0\n",
       "MARRIAGE_Single               0\n",
       "dtype: int64"
      ]
     },
     "execution_count": 117,
     "metadata": {},
     "output_type": "execute_result"
    }
   ],
   "source": [
    "df_test_woe.isna().sum()"
   ]
  },
  {
   "cell_type": "markdown",
   "id": "d89662e3",
   "metadata": {},
   "source": [
    "# Final Feature Selection: Train and Test"
   ]
  },
  {
   "cell_type": "code",
   "execution_count": 118,
   "id": "1cff2eea",
   "metadata": {},
   "outputs": [],
   "source": [
    "X_test = df_test_woe.drop(columns='default payment next month')\n",
    "y_test = df_test_woe['default payment next month']"
   ]
  },
  {
   "cell_type": "code",
   "execution_count": 119,
   "id": "fd91ed27",
   "metadata": {},
   "outputs": [],
   "source": [
    "selected_features.remove('const')"
   ]
  },
  {
   "cell_type": "code",
   "execution_count": 120,
   "id": "cf52b7c1",
   "metadata": {},
   "outputs": [],
   "source": [
    "X_train_selected = X_train[selected_features]\n",
    "X_test_selected = X_test[selected_features]"
   ]
  },
  {
   "cell_type": "code",
   "execution_count": 121,
   "id": "a1d92c12",
   "metadata": {},
   "outputs": [
    {
     "name": "stdout",
     "output_type": "stream",
     "text": [
      "(21000, 18)\n",
      "(9000, 18)\n"
     ]
    }
   ],
   "source": [
    "print(X_train_selected.shape)\n",
    "print(X_test_selected.shape)"
   ]
  },
  {
   "cell_type": "markdown",
   "id": "ffcb0c80",
   "metadata": {},
   "source": [
    "# Model Development"
   ]
  },
  {
   "cell_type": "code",
   "execution_count": 122,
   "id": "e9104c32",
   "metadata": {},
   "outputs": [
    {
     "data": {
      "text/html": [
       "<div>\n",
       "<style scoped>\n",
       "    .dataframe tbody tr th:only-of-type {\n",
       "        vertical-align: middle;\n",
       "    }\n",
       "\n",
       "    .dataframe tbody tr th {\n",
       "        vertical-align: top;\n",
       "    }\n",
       "\n",
       "    .dataframe thead th {\n",
       "        text-align: right;\n",
       "    }\n",
       "</style>\n",
       "<table border=\"1\" class=\"dataframe\">\n",
       "  <thead>\n",
       "    <tr style=\"text-align: right;\">\n",
       "      <th></th>\n",
       "      <th>Sample</th>\n",
       "      <th>#Observations</th>\n",
       "      <th>%Bad</th>\n",
       "    </tr>\n",
       "  </thead>\n",
       "  <tbody>\n",
       "    <tr>\n",
       "      <th>0</th>\n",
       "      <td>Train</td>\n",
       "      <td>21000</td>\n",
       "      <td>22.27</td>\n",
       "    </tr>\n",
       "    <tr>\n",
       "      <th>1</th>\n",
       "      <td>Test</td>\n",
       "      <td>9000</td>\n",
       "      <td>21.78</td>\n",
       "    </tr>\n",
       "  </tbody>\n",
       "</table>\n",
       "</div>"
      ],
      "text/plain": [
       "  Sample  #Observations   %Bad\n",
       "0  Train          21000  22.27\n",
       "1   Test           9000  21.78"
      ]
     },
     "execution_count": 122,
     "metadata": {},
     "output_type": "execute_result"
    }
   ],
   "source": [
    "util.Bad_rate_infp(df_train,df_test,'default payment next month')"
   ]
  },
  {
   "cell_type": "code",
   "execution_count": 123,
   "id": "de3211b9",
   "metadata": {},
   "outputs": [],
   "source": [
    "X_test_selected.fillna(0,inplace=True)"
   ]
  },
  {
   "cell_type": "code",
   "execution_count": 124,
   "id": "992978c2",
   "metadata": {},
   "outputs": [
    {
     "data": {
      "text/plain": [
       "Paid Jun                     0\n",
       "EDUCATION_Graduate School    0\n",
       "EDUCATION_High School        0\n",
       "PAY_AMT_Apr                  0\n",
       "PAY_Jul                      0\n",
       "LIMIT_BAL                    0\n",
       "Paid Sep                     0\n",
       "PAY_AMT_Jul                  0\n",
       "utilization_ratio Apr        0\n",
       "PAY_AMT_Jun                  0\n",
       "PAY_Aug                      0\n",
       "EDUCATION_University         0\n",
       "SEX_Male                     0\n",
       "PAY_AMT_Aug                  0\n",
       "MARRIAGE_Single              0\n",
       "PAY_Sep                      0\n",
       "PAY_Apr                      0\n",
       "PAY_Jun                      0\n",
       "dtype: int64"
      ]
     },
     "execution_count": 124,
     "metadata": {},
     "output_type": "execute_result"
    }
   ],
   "source": [
    "X_test_selected.isna().sum()"
   ]
  },
  {
   "cell_type": "code",
   "execution_count": 126,
   "id": "9cd6ec71",
   "metadata": {},
   "outputs": [
    {
     "name": "stdout",
     "output_type": "stream",
     "text": [
      "Optimization terminated successfully.\n",
      "         Current function value: 0.434238\n",
      "         Iterations 7\n",
      "                               Logit Regression Results                               \n",
      "======================================================================================\n",
      "Dep. Variable:     default payment next month   No. Observations:                21000\n",
      "Model:                                  Logit   Df Residuals:                    20981\n",
      "Method:                                   MLE   Df Model:                           18\n",
      "Date:                        Tue, 24 Jun 2025   Pseudo R-squ.:                  0.1811\n",
      "Time:                                00:07:57   Log-Likelihood:                -9119.0\n",
      "converged:                               True   LL-Null:                       -11136.\n",
      "Covariance Type:                    nonrobust   LLR p-value:                     0.000\n",
      "======================================================================================\n",
      "====================================================================================================\n",
      "                              Coef.  Std.Err.          z          P>|z|    [0.025    0.975]    VIF\n",
      "const                     -1.743044  0.220519  -7.904295   2.694539e-15 -2.175253 -1.310836  76.12\n",
      "Paid Jun                  -0.211955  0.052519  -4.035765   5.442467e-05 -0.314891 -0.109019   1.51\n",
      "EDUCATION_Graduate School  0.911154  0.216508   4.208412   2.571713e-05  0.486807  1.335501  15.83\n",
      "EDUCATION_High School      0.881209  0.218735   4.028662   5.609518e-05  0.452496  1.309921   9.96\n",
      "PAY_AMT_Apr               -0.285924  0.079313  -3.605026   3.121213e-04 -0.441374 -0.130474   1.58\n",
      "PAY_Jul                   -0.225396  0.041418  -5.442009   5.268299e-08 -0.306574 -0.144219   2.28\n",
      "LIMIT_BAL                 -0.279542  0.056944  -4.909038   9.152404e-07 -0.391151 -0.167933   1.58\n",
      "Paid Sep                  -0.234589  0.054561  -4.299576   1.711253e-05 -0.341526 -0.127651   1.52\n",
      "PAY_AMT_Jul               -0.327384  0.072687  -4.504044   6.667231e-06 -0.469847 -0.184920   1.65\n",
      "utilization_ratio Apr     -0.409392  0.072798  -5.623693   1.869179e-08 -0.552073 -0.266711   1.45\n",
      "PAY_AMT_Jun               -0.238390  0.089574  -2.661369   7.782365e-03 -0.413952 -0.062828   1.83\n",
      "PAY_Aug                   -0.048223  0.037972  -1.269976   2.040930e-01 -0.122646  0.026200   2.75\n",
      "EDUCATION_University       0.926299  0.215662   4.295143   1.745807e-05  0.503609  1.348988  17.06\n",
      "SEX_Male                   0.127544  0.038210   3.337994   8.438556e-04  0.052654  0.202434   1.01\n",
      "PAY_AMT_Aug               -0.282823  0.088464  -3.197052   1.388398e-03 -0.456209 -0.109437   1.16\n",
      "MARRIAGE_Single           -0.207195  0.038674  -5.357515   8.437432e-08 -0.282994 -0.131396   1.06\n",
      "PAY_Sep                   -0.726106  0.024085 -30.147163  1.168529e-199 -0.773313 -0.678900   1.87\n",
      "PAY_Apr                   -0.287429  0.040799  -7.045065   1.853750e-12 -0.367393 -0.207465   1.45\n",
      "PAY_Jun                   -0.115077  0.042545  -2.704811   6.834323e-03 -0.198465 -0.031690   2.01\n",
      "\n",
      "Confusion Matrix:\n",
      "[[6699  341]\n",
      " [1310  650]]\n",
      "\n",
      "Classification Report:\n",
      "              precision    recall  f1-score   support\n",
      "\n",
      "           0     0.8364    0.9516    0.8903      7040\n",
      "           1     0.6559    0.3316    0.4405      1960\n",
      "\n",
      "    accuracy                         0.8166      9000\n",
      "   macro avg     0.7462    0.6416    0.6654      9000\n",
      "weighted avg     0.7971    0.8166    0.7923      9000\n",
      "\n",
      "Test Accuracy: 0.8166\n",
      "Test AUC Score: 0.7650\n",
      "                              Coef.  Std.Err.          z          P>|z|  \\\n",
      "const                     -1.743044  0.220519  -7.904295   2.694539e-15   \n",
      "Paid Jun                  -0.211955  0.052519  -4.035765   5.442467e-05   \n",
      "EDUCATION_Graduate School  0.911154  0.216508   4.208412   2.571713e-05   \n",
      "EDUCATION_High School      0.881209  0.218735   4.028662   5.609518e-05   \n",
      "PAY_AMT_Apr               -0.285924  0.079313  -3.605026   3.121213e-04   \n",
      "PAY_Jul                   -0.225396  0.041418  -5.442009   5.268299e-08   \n",
      "LIMIT_BAL                 -0.279542  0.056944  -4.909038   9.152404e-07   \n",
      "Paid Sep                  -0.234589  0.054561  -4.299576   1.711253e-05   \n",
      "PAY_AMT_Jul               -0.327384  0.072687  -4.504044   6.667231e-06   \n",
      "utilization_ratio Apr     -0.409392  0.072798  -5.623693   1.869179e-08   \n",
      "PAY_AMT_Jun               -0.238390  0.089574  -2.661369   7.782365e-03   \n",
      "PAY_Aug                   -0.048223  0.037972  -1.269976   2.040930e-01   \n",
      "EDUCATION_University       0.926299  0.215662   4.295143   1.745807e-05   \n",
      "SEX_Male                   0.127544  0.038210   3.337994   8.438556e-04   \n",
      "PAY_AMT_Aug               -0.282823  0.088464  -3.197052   1.388398e-03   \n",
      "MARRIAGE_Single           -0.207195  0.038674  -5.357515   8.437432e-08   \n",
      "PAY_Sep                   -0.726106  0.024085 -30.147163  1.168529e-199   \n",
      "PAY_Apr                   -0.287429  0.040799  -7.045065   1.853750e-12   \n",
      "PAY_Jun                   -0.115077  0.042545  -2.704811   6.834323e-03   \n",
      "\n",
      "                             [0.025    0.975]    VIF  \n",
      "const                     -2.175253 -1.310836  76.12  \n",
      "Paid Jun                  -0.314891 -0.109019   1.51  \n",
      "EDUCATION_Graduate School  0.486807  1.335501  15.83  \n",
      "EDUCATION_High School      0.452496  1.309921   9.96  \n",
      "PAY_AMT_Apr               -0.441374 -0.130474   1.58  \n",
      "PAY_Jul                   -0.306574 -0.144219   2.28  \n",
      "LIMIT_BAL                 -0.391151 -0.167933   1.58  \n",
      "Paid Sep                  -0.341526 -0.127651   1.52  \n",
      "PAY_AMT_Jul               -0.469847 -0.184920   1.65  \n",
      "utilization_ratio Apr     -0.552073 -0.266711   1.45  \n",
      "PAY_AMT_Jun               -0.413952 -0.062828   1.83  \n",
      "PAY_Aug                   -0.122646  0.026200   2.75  \n",
      "EDUCATION_University       0.503609  1.348988  17.06  \n",
      "SEX_Male                   0.052654  0.202434   1.01  \n",
      "PAY_AMT_Aug               -0.456209 -0.109437   1.16  \n",
      "MARRIAGE_Single           -0.282994 -0.131396   1.06  \n",
      "PAY_Sep                   -0.773313 -0.678900   1.87  \n",
      "PAY_Apr                   -0.367393 -0.207465   1.45  \n",
      "PAY_Jun                   -0.198465 -0.031690   2.01  \n"
     ]
    }
   ],
   "source": [
    "result,summary_with_vif = util.logit_model_report(X_train_selected, y_train, X_test_selected, y_test)\n",
    "\n",
    "# View summary with VIF\n",
    "print(summary_with_vif)"
   ]
  },
  {
   "cell_type": "code",
   "execution_count": 127,
   "id": "dedddf65",
   "metadata": {},
   "outputs": [],
   "source": [
    "cols_to_drop_high_vif = ['PAY_Aug','PAY_Jun','EDUCATION_High School','EDUCATION_University','EDUCATION_Graduate School']\n",
    "\n",
    "X_train_selected.drop(columns= cols_to_drop_high_vif, inplace= True)\n",
    "X_test_selected.drop(columns=cols_to_drop_high_vif, inplace= True)"
   ]
  },
  {
   "cell_type": "code",
   "execution_count": 128,
   "id": "12244a07",
   "metadata": {},
   "outputs": [
    {
     "name": "stdout",
     "output_type": "stream",
     "text": [
      "(21000, 13)\n",
      "(9000, 13)\n"
     ]
    }
   ],
   "source": [
    "print(X_train_selected.shape)\n",
    "print(X_test_selected.shape)"
   ]
  },
  {
   "cell_type": "code",
   "execution_count": null,
   "id": "bf859d3f",
   "metadata": {},
   "outputs": [
    {
     "name": "stdout",
     "output_type": "stream",
     "text": [
      "Optimization terminated successfully.\n",
      "         Current function value: 0.435014\n",
      "         Iterations 6\n",
      "                               Logit Regression Results                               \n",
      "======================================================================================\n",
      "Dep. Variable:     default payment next month   No. Observations:                21000\n",
      "Model:                                  Logit   Df Residuals:                    20986\n",
      "Method:                                   MLE   Df Model:                           13\n",
      "Date:                        Tue, 24 Jun 2025   Pseudo R-squ.:                  0.1796\n",
      "Time:                                00:07:57   Log-Likelihood:                -9135.3\n",
      "converged:                               True   LL-Null:                       -11136.\n",
      "Covariance Type:                    nonrobust   LLR p-value:                     0.000\n",
      "======================================================================================\n",
      "====================================================================================================\n",
      "                          Coef.  Std.Err.          z          P>|z|    [0.025    0.975]    VIF\n",
      "const                 -0.827585  0.056168 -14.734134   3.891562e-49 -0.937672 -0.717498  10.82\n",
      "Paid Jun              -0.206584  0.051773  -3.990219   6.601239e-05 -0.308057 -0.105112   1.48\n",
      "PAY_AMT_Apr           -0.264744  0.079073  -3.348101   8.136735e-04 -0.419724 -0.109764   1.58\n",
      "PAY_Jul               -0.304494  0.031822  -9.568643   1.083183e-21 -0.366864 -0.242124   1.48\n",
      "LIMIT_BAL             -0.280594  0.055232  -5.080262   3.769156e-07 -0.388847 -0.172341   1.51\n",
      "Paid Sep              -0.259210  0.049419  -5.245160   1.561471e-07 -0.356070 -0.162351   1.30\n",
      "PAY_AMT_Jul           -0.368859  0.070199  -5.254485   1.484394e-07 -0.506446 -0.231272   1.55\n",
      "utilization_ratio Apr -0.444491  0.071781  -6.192319   5.928539e-10 -0.585179 -0.303803   1.42\n",
      "PAY_AMT_Jun           -0.244647  0.089524  -2.732765   6.280520e-03 -0.420111 -0.069184   1.83\n",
      "SEX_Male               0.128982  0.038144   3.381491   7.209368e-04  0.054222  0.203743   1.01\n",
      "PAY_AMT_Aug           -0.268174  0.088097  -3.044089   2.333857e-03 -0.440840 -0.095508   1.15\n",
      "MARRIAGE_Single       -0.205156  0.037724  -5.438405   5.375953e-08 -0.279093 -0.131219   1.01\n",
      "PAY_Sep               -0.742158  0.021537 -34.460091  3.179621e-260 -0.784369 -0.699947   1.46\n",
      "PAY_Apr               -0.327963  0.038731  -8.467715   2.502540e-17 -0.403875 -0.252052   1.32\n",
      "\n",
      "Confusion Matrix:\n",
      "[[6692  348]\n",
      " [1307  653]]\n",
      "\n",
      "Classification Report:\n",
      "              precision    recall  f1-score   support\n",
      "\n",
      "           0     0.8366    0.9506    0.8900      7040\n",
      "           1     0.6523    0.3332    0.4411      1960\n",
      "\n",
      "    accuracy                         0.8161      9000\n",
      "   macro avg     0.7445    0.6419    0.6655      9000\n",
      "weighted avg     0.7965    0.8161    0.7922      9000\n",
      "\n",
      "Test Accuracy: 0.8161\n",
      "Test AUC Score: 0.7632\n",
      "                          Coef.  Std.Err.          z          P>|z|    [0.025  \\\n",
      "const                 -0.827585  0.056168 -14.734134   3.891562e-49 -0.937672   \n",
      "Paid Jun              -0.206584  0.051773  -3.990219   6.601239e-05 -0.308057   \n",
      "PAY_AMT_Apr           -0.264744  0.079073  -3.348101   8.136735e-04 -0.419724   \n",
      "PAY_Jul               -0.304494  0.031822  -9.568643   1.083183e-21 -0.366864   \n",
      "LIMIT_BAL             -0.280594  0.055232  -5.080262   3.769156e-07 -0.388847   \n",
      "Paid Sep              -0.259210  0.049419  -5.245160   1.561471e-07 -0.356070   \n",
      "PAY_AMT_Jul           -0.368859  0.070199  -5.254485   1.484394e-07 -0.506446   \n",
      "utilization_ratio Apr -0.444491  0.071781  -6.192319   5.928539e-10 -0.585179   \n",
      "PAY_AMT_Jun           -0.244647  0.089524  -2.732765   6.280520e-03 -0.420111   \n",
      "SEX_Male               0.128982  0.038144   3.381491   7.209368e-04  0.054222   \n",
      "PAY_AMT_Aug           -0.268174  0.088097  -3.044089   2.333857e-03 -0.440840   \n",
      "MARRIAGE_Single       -0.205156  0.037724  -5.438405   5.375953e-08 -0.279093   \n",
      "PAY_Sep               -0.742158  0.021537 -34.460091  3.179621e-260 -0.784369   \n",
      "PAY_Apr               -0.327963  0.038731  -8.467715   2.502540e-17 -0.403875   \n",
      "\n",
      "                         0.975]    VIF  \n",
      "const                 -0.717498  10.82  \n",
      "Paid Jun              -0.105112   1.48  \n",
      "PAY_AMT_Apr           -0.109764   1.58  \n",
      "PAY_Jul               -0.242124   1.48  \n",
      "LIMIT_BAL             -0.172341   1.51  \n",
      "Paid Sep              -0.162351   1.30  \n",
      "PAY_AMT_Jul           -0.231272   1.55  \n",
      "utilization_ratio Apr -0.303803   1.42  \n",
      "PAY_AMT_Jun           -0.069184   1.83  \n",
      "SEX_Male               0.203743   1.01  \n",
      "PAY_AMT_Aug           -0.095508   1.15  \n",
      "MARRIAGE_Single       -0.131219   1.01  \n",
      "PAY_Sep               -0.699947   1.46  \n",
      "PAY_Apr               -0.252052   1.32  \n"
     ]
    }
   ],
   "source": [
    "result,summary_with_vif = util.logit_model_report(X_train_selected, y_train, X_test_selected, y_test)\n",
    "\n",
    "# View summary with VIF\n",
    "print(summary_with_vif)"
   ]
  },
  {
   "cell_type": "code",
   "execution_count": 130,
   "id": "5ba2acbc",
   "metadata": {},
   "outputs": [],
   "source": [
    "# Predict probabilities and labels\n",
    "y_train_pred_prob = result.predict(sm.add_constant(X_train_selected))\n",
    "y_test_pred_prob = result.predict(sm.add_constant(X_test_selected))\n",
    "\n",
    "y_train_pred_label = (y_train_pred_prob >= 0.5).astype(int)\n",
    "y_test_pred_label = (y_test_pred_prob >= 0.5).astype(int)"
   ]
  },
  {
   "cell_type": "code",
   "execution_count": 132,
   "id": "3362c574",
   "metadata": {},
   "outputs": [
    {
     "data": {
      "image/png": "[encoded data removed]",
      "text/plain": [
       "<Figure size 1200x1000 with 2 Axes>"
      ]
     },
     "metadata": {},
     "output_type": "display_data"
    },
    {
     "data": {
      "text/html": [
       "<div>\n",
       "<style scoped>\n",
       "    .dataframe tbody tr th:only-of-type {\n",
       "        vertical-align: middle;\n",
       "    }\n",
       "\n",
       "    .dataframe tbody tr th {\n",
       "        vertical-align: top;\n",
       "    }\n",
       "\n",
       "    .dataframe thead th {\n",
       "        text-align: right;\n",
       "    }\n",
       "</style>\n",
       "<table border=\"1\" class=\"dataframe\">\n",
       "  <thead>\n",
       "    <tr style=\"text-align: right;\">\n",
       "      <th></th>\n",
       "      <th>Feature 1</th>\n",
       "      <th>Feature 2</th>\n",
       "      <th>Correlation</th>\n",
       "      <th>Absolute Correlation</th>\n",
       "    </tr>\n",
       "  </thead>\n",
       "  <tbody>\n",
       "    <tr>\n",
       "      <th>0</th>\n",
       "      <td>PAY_AMT_Apr</td>\n",
       "      <td>PAY_AMT_Jun</td>\n",
       "      <td>0.498851</td>\n",
       "      <td>0.498851</td>\n",
       "    </tr>\n",
       "    <tr>\n",
       "      <th>1</th>\n",
       "      <td>Paid Jun</td>\n",
       "      <td>PAY_AMT_Jun</td>\n",
       "      <td>0.482982</td>\n",
       "      <td>0.482982</td>\n",
       "    </tr>\n",
       "    <tr>\n",
       "      <th>2</th>\n",
       "      <td>PAY_Jul</td>\n",
       "      <td>PAY_Sep</td>\n",
       "      <td>0.476032</td>\n",
       "      <td>0.476032</td>\n",
       "    </tr>\n",
       "    <tr>\n",
       "      <th>3</th>\n",
       "      <td>PAY_AMT_Apr</td>\n",
       "      <td>PAY_AMT_Jul</td>\n",
       "      <td>0.466896</td>\n",
       "      <td>0.466896</td>\n",
       "    </tr>\n",
       "    <tr>\n",
       "      <th>4</th>\n",
       "      <td>PAY_AMT_Jul</td>\n",
       "      <td>PAY_AMT_Jun</td>\n",
       "      <td>0.458772</td>\n",
       "      <td>0.458772</td>\n",
       "    </tr>\n",
       "    <tr>\n",
       "      <th>...</th>\n",
       "      <td>...</td>\n",
       "      <td>...</td>\n",
       "      <td>...</td>\n",
       "      <td>...</td>\n",
       "    </tr>\n",
       "    <tr>\n",
       "      <th>73</th>\n",
       "      <td>PAY_AMT_Jul</td>\n",
       "      <td>MARRIAGE_Single</td>\n",
       "      <td>-0.007223</td>\n",
       "      <td>0.007223</td>\n",
       "    </tr>\n",
       "    <tr>\n",
       "      <th>74</th>\n",
       "      <td>SEX_Male</td>\n",
       "      <td>PAY_AMT_Aug</td>\n",
       "      <td>0.005002</td>\n",
       "      <td>0.005002</td>\n",
       "    </tr>\n",
       "    <tr>\n",
       "      <th>75</th>\n",
       "      <td>Paid Jun</td>\n",
       "      <td>MARRIAGE_Single</td>\n",
       "      <td>0.004265</td>\n",
       "      <td>0.004265</td>\n",
       "    </tr>\n",
       "    <tr>\n",
       "      <th>76</th>\n",
       "      <td>Paid Jun</td>\n",
       "      <td>SEX_Male</td>\n",
       "      <td>0.003859</td>\n",
       "      <td>0.003859</td>\n",
       "    </tr>\n",
       "    <tr>\n",
       "      <th>77</th>\n",
       "      <td>PAY_Jul</td>\n",
       "      <td>MARRIAGE_Single</td>\n",
       "      <td>0.000233</td>\n",
       "      <td>0.000233</td>\n",
       "    </tr>\n",
       "  </tbody>\n",
       "</table>\n",
       "<p>78 rows × 4 columns</p>\n",
       "</div>"
      ],
      "text/plain": [
       "      Feature 1        Feature 2  Correlation  Absolute Correlation\n",
       "0   PAY_AMT_Apr      PAY_AMT_Jun     0.498851              0.498851\n",
       "1      Paid Jun      PAY_AMT_Jun     0.482982              0.482982\n",
       "2       PAY_Jul          PAY_Sep     0.476032              0.476032\n",
       "3   PAY_AMT_Apr      PAY_AMT_Jul     0.466896              0.466896\n",
       "4   PAY_AMT_Jul      PAY_AMT_Jun     0.458772              0.458772\n",
       "..          ...              ...          ...                   ...\n",
       "73  PAY_AMT_Jul  MARRIAGE_Single    -0.007223              0.007223\n",
       "74     SEX_Male      PAY_AMT_Aug     0.005002              0.005002\n",
       "75     Paid Jun  MARRIAGE_Single     0.004265              0.004265\n",
       "76     Paid Jun         SEX_Male     0.003859              0.003859\n",
       "77      PAY_Jul  MARRIAGE_Single     0.000233              0.000233\n",
       "\n",
       "[78 rows x 4 columns]"
      ]
     },
     "execution_count": 132,
     "metadata": {},
     "output_type": "execute_result"
    }
   ],
   "source": [
    "util.correlation_summary(X_train_selected)"
   ]
  },
  {
   "cell_type": "code",
   "execution_count": 133,
   "id": "5f245b13",
   "metadata": {},
   "outputs": [
    {
     "data": {
      "image/png": "[encoded data removed]",
      "text/plain": [
       "<Figure size 800x600 with 1 Axes>"
      ]
     },
     "metadata": {},
     "output_type": "display_data"
    }
   ],
   "source": [
    "util.plot_lorenz_curve_train_test(y_train, y_train_pred_prob, y_test, y_test_pred_prob)"
   ]
  },
  {
   "cell_type": "code",
   "execution_count": 134,
   "id": "11594f61",
   "metadata": {},
   "outputs": [
    {
     "data": {
      "text/html": [
       "<div>\n",
       "<style scoped>\n",
       "    .dataframe tbody tr th:only-of-type {\n",
       "        vertical-align: middle;\n",
       "    }\n",
       "\n",
       "    .dataframe tbody tr th {\n",
       "        vertical-align: top;\n",
       "    }\n",
       "\n",
       "    .dataframe thead th {\n",
       "        text-align: right;\n",
       "    }\n",
       "</style>\n",
       "<table border=\"1\" class=\"dataframe\">\n",
       "  <thead>\n",
       "    <tr style=\"text-align: right;\">\n",
       "      <th></th>\n",
       "      <th>Sample</th>\n",
       "      <th>AUC</th>\n",
       "      <th>Gini</th>\n",
       "      <th>Accuracy</th>\n",
       "    </tr>\n",
       "  </thead>\n",
       "  <tbody>\n",
       "    <tr>\n",
       "      <th>0</th>\n",
       "      <td>Train</td>\n",
       "      <td>0.772764</td>\n",
       "      <td>0.545529</td>\n",
       "      <td>0.819333</td>\n",
       "    </tr>\n",
       "    <tr>\n",
       "      <th>1</th>\n",
       "      <td>Test</td>\n",
       "      <td>0.763242</td>\n",
       "      <td>0.526485</td>\n",
       "      <td>0.816111</td>\n",
       "    </tr>\n",
       "  </tbody>\n",
       "</table>\n",
       "</div>"
      ],
      "text/plain": [
       "  Sample       AUC      Gini  Accuracy\n",
       "0  Train  0.772764  0.545529  0.819333\n",
       "1   Test  0.763242  0.526485  0.816111"
      ]
     },
     "execution_count": 134,
     "metadata": {},
     "output_type": "execute_result"
    }
   ],
   "source": [
    "# Evaluate\n",
    "util.evaluate_model_performance(\n",
    "    y_train, y_train_pred_prob, y_train_pred_label,\n",
    "    y_test, y_test_pred_prob, y_test_pred_label\n",
    ")\n"
   ]
  },
  {
   "cell_type": "code",
   "execution_count": 135,
   "id": "2b1725bb",
   "metadata": {},
   "outputs": [],
   "source": [
    "# Example usage:\n",
    "ks_table_train = util.calculate_ks_table(y_train, y_train_pred_prob)"
   ]
  },
  {
   "cell_type": "code",
   "execution_count": 136,
   "id": "78d2a955",
   "metadata": {},
   "outputs": [
    {
     "data": {
      "text/html": [
       "<div>\n",
       "<style scoped>\n",
       "    .dataframe tbody tr th:only-of-type {\n",
       "        vertical-align: middle;\n",
       "    }\n",
       "\n",
       "    .dataframe tbody tr th {\n",
       "        vertical-align: top;\n",
       "    }\n",
       "\n",
       "    .dataframe thead th {\n",
       "        text-align: right;\n",
       "    }\n",
       "</style>\n",
       "<table border=\"1\" class=\"dataframe\">\n",
       "  <thead>\n",
       "    <tr style=\"text-align: right;\">\n",
       "      <th></th>\n",
       "      <th>Predicted Group</th>\n",
       "      <th>Total Apps</th>\n",
       "      <th>Bad Counts</th>\n",
       "      <th>Good Counts</th>\n",
       "      <th>Minimum Predicted</th>\n",
       "      <th>Maximum Predicted</th>\n",
       "      <th>Average Predicted</th>\n",
       "      <th>Error Actual</th>\n",
       "      <th>Bad %</th>\n",
       "      <th>Good %</th>\n",
       "      <th>Cumulative Bad %</th>\n",
       "      <th>Cumulative Good %</th>\n",
       "      <th>KS</th>\n",
       "      <th>Predicted Rank</th>\n",
       "      <th>Actual Rank</th>\n",
       "      <th>Rank Order Break</th>\n",
       "    </tr>\n",
       "  </thead>\n",
       "  <tbody>\n",
       "    <tr>\n",
       "      <th>0</th>\n",
       "      <td>(0.999, 2100.9]</td>\n",
       "      <td>2100</td>\n",
       "      <td>1457</td>\n",
       "      <td>643</td>\n",
       "      <td>0.552087</td>\n",
       "      <td>0.920127</td>\n",
       "      <td>0.710396</td>\n",
       "      <td>0.693810</td>\n",
       "      <td>31.16</td>\n",
       "      <td>3.94</td>\n",
       "      <td>31.16</td>\n",
       "      <td>3.94</td>\n",
       "      <td>27.22</td>\n",
       "      <td>1</td>\n",
       "      <td>1</td>\n",
       "      <td>0</td>\n",
       "    </tr>\n",
       "    <tr>\n",
       "      <th>1</th>\n",
       "      <td>(2100.9, 4200.8]</td>\n",
       "      <td>2100</td>\n",
       "      <td>925</td>\n",
       "      <td>1175</td>\n",
       "      <td>0.314424</td>\n",
       "      <td>0.551824</td>\n",
       "      <td>0.417500</td>\n",
       "      <td>0.440476</td>\n",
       "      <td>19.78</td>\n",
       "      <td>7.20</td>\n",
       "      <td>50.94</td>\n",
       "      <td>11.14</td>\n",
       "      <td>39.80</td>\n",
       "      <td>2</td>\n",
       "      <td>2</td>\n",
       "      <td>0</td>\n",
       "    </tr>\n",
       "    <tr>\n",
       "      <th>2</th>\n",
       "      <td>(4200.8, 6300.7]</td>\n",
       "      <td>2100</td>\n",
       "      <td>516</td>\n",
       "      <td>1584</td>\n",
       "      <td>0.203787</td>\n",
       "      <td>0.314424</td>\n",
       "      <td>0.245397</td>\n",
       "      <td>0.245714</td>\n",
       "      <td>11.04</td>\n",
       "      <td>9.70</td>\n",
       "      <td>61.98</td>\n",
       "      <td>20.84</td>\n",
       "      <td>41.14</td>\n",
       "      <td>3</td>\n",
       "      <td>3</td>\n",
       "      <td>0</td>\n",
       "    </tr>\n",
       "    <tr>\n",
       "      <th>3</th>\n",
       "      <td>(6300.7, 8400.6]</td>\n",
       "      <td>2100</td>\n",
       "      <td>434</td>\n",
       "      <td>1666</td>\n",
       "      <td>0.168480</td>\n",
       "      <td>0.203787</td>\n",
       "      <td>0.184731</td>\n",
       "      <td>0.206667</td>\n",
       "      <td>9.28</td>\n",
       "      <td>10.21</td>\n",
       "      <td>71.26</td>\n",
       "      <td>31.05</td>\n",
       "      <td>40.21</td>\n",
       "      <td>4</td>\n",
       "      <td>4</td>\n",
       "      <td>0</td>\n",
       "    </tr>\n",
       "    <tr>\n",
       "      <th>4</th>\n",
       "      <td>(8400.6, 10500.5]</td>\n",
       "      <td>2100</td>\n",
       "      <td>329</td>\n",
       "      <td>1771</td>\n",
       "      <td>0.144714</td>\n",
       "      <td>0.168480</td>\n",
       "      <td>0.155863</td>\n",
       "      <td>0.156667</td>\n",
       "      <td>7.04</td>\n",
       "      <td>10.85</td>\n",
       "      <td>78.29</td>\n",
       "      <td>41.90</td>\n",
       "      <td>36.40</td>\n",
       "      <td>5</td>\n",
       "      <td>5</td>\n",
       "      <td>0</td>\n",
       "    </tr>\n",
       "    <tr>\n",
       "      <th>5</th>\n",
       "      <td>(10500.5, 12600.4]</td>\n",
       "      <td>2100</td>\n",
       "      <td>295</td>\n",
       "      <td>1805</td>\n",
       "      <td>0.126187</td>\n",
       "      <td>0.144714</td>\n",
       "      <td>0.135724</td>\n",
       "      <td>0.140476</td>\n",
       "      <td>6.31</td>\n",
       "      <td>11.06</td>\n",
       "      <td>84.60</td>\n",
       "      <td>52.95</td>\n",
       "      <td>31.65</td>\n",
       "      <td>6</td>\n",
       "      <td>6</td>\n",
       "      <td>0</td>\n",
       "    </tr>\n",
       "    <tr>\n",
       "      <th>6</th>\n",
       "      <td>(12600.4, 14700.3]</td>\n",
       "      <td>2100</td>\n",
       "      <td>231</td>\n",
       "      <td>1869</td>\n",
       "      <td>0.111481</td>\n",
       "      <td>0.126187</td>\n",
       "      <td>0.118682</td>\n",
       "      <td>0.110000</td>\n",
       "      <td>4.94</td>\n",
       "      <td>11.45</td>\n",
       "      <td>89.54</td>\n",
       "      <td>64.40</td>\n",
       "      <td>25.14</td>\n",
       "      <td>7</td>\n",
       "      <td>7</td>\n",
       "      <td>0</td>\n",
       "    </tr>\n",
       "    <tr>\n",
       "      <th>7</th>\n",
       "      <td>(14700.3, 16800.2]</td>\n",
       "      <td>2100</td>\n",
       "      <td>224</td>\n",
       "      <td>1876</td>\n",
       "      <td>0.095427</td>\n",
       "      <td>0.111481</td>\n",
       "      <td>0.103304</td>\n",
       "      <td>0.106667</td>\n",
       "      <td>4.79</td>\n",
       "      <td>11.49</td>\n",
       "      <td>94.33</td>\n",
       "      <td>75.89</td>\n",
       "      <td>18.44</td>\n",
       "      <td>8</td>\n",
       "      <td>8</td>\n",
       "      <td>0</td>\n",
       "    </tr>\n",
       "    <tr>\n",
       "      <th>8</th>\n",
       "      <td>(16800.2, 18900.1]</td>\n",
       "      <td>2100</td>\n",
       "      <td>158</td>\n",
       "      <td>1942</td>\n",
       "      <td>0.080012</td>\n",
       "      <td>0.095427</td>\n",
       "      <td>0.088279</td>\n",
       "      <td>0.075238</td>\n",
       "      <td>3.38</td>\n",
       "      <td>11.90</td>\n",
       "      <td>97.71</td>\n",
       "      <td>87.79</td>\n",
       "      <td>9.92</td>\n",
       "      <td>9</td>\n",
       "      <td>9</td>\n",
       "      <td>0</td>\n",
       "    </tr>\n",
       "    <tr>\n",
       "      <th>9</th>\n",
       "      <td>(18900.1, 21000.0]</td>\n",
       "      <td>2100</td>\n",
       "      <td>107</td>\n",
       "      <td>1993</td>\n",
       "      <td>0.043541</td>\n",
       "      <td>0.080012</td>\n",
       "      <td>0.066790</td>\n",
       "      <td>0.050952</td>\n",
       "      <td>2.29</td>\n",
       "      <td>12.21</td>\n",
       "      <td>100.00</td>\n",
       "      <td>100.00</td>\n",
       "      <td>0.00</td>\n",
       "      <td>10</td>\n",
       "      <td>10</td>\n",
       "      <td>0</td>\n",
       "    </tr>\n",
       "  </tbody>\n",
       "</table>\n",
       "</div>"
      ],
      "text/plain": [
       "      Predicted Group  Total Apps  Bad Counts  Good Counts  Minimum Predicted  \\\n",
       "0     (0.999, 2100.9]        2100        1457          643           0.552087   \n",
       "1    (2100.9, 4200.8]        2100         925         1175           0.314424   \n",
       "2    (4200.8, 6300.7]        2100         516         1584           0.203787   \n",
       "3    (6300.7, 8400.6]        2100         434         1666           0.168480   \n",
       "4   (8400.6, 10500.5]        2100         329         1771           0.144714   \n",
       "5  (10500.5, 12600.4]        2100         295         1805           0.126187   \n",
       "6  (12600.4, 14700.3]        2100         231         1869           0.111481   \n",
       "7  (14700.3, 16800.2]        2100         224         1876           0.095427   \n",
       "8  (16800.2, 18900.1]        2100         158         1942           0.080012   \n",
       "9  (18900.1, 21000.0]        2100         107         1993           0.043541   \n",
       "\n",
       "   Maximum Predicted  Average Predicted  Error Actual  Bad %  Good %  \\\n",
       "0           0.920127           0.710396      0.693810  31.16    3.94   \n",
       "1           0.551824           0.417500      0.440476  19.78    7.20   \n",
       "2           0.314424           0.245397      0.245714  11.04    9.70   \n",
       "3           0.203787           0.184731      0.206667   9.28   10.21   \n",
       "4           0.168480           0.155863      0.156667   7.04   10.85   \n",
       "5           0.144714           0.135724      0.140476   6.31   11.06   \n",
       "6           0.126187           0.118682      0.110000   4.94   11.45   \n",
       "7           0.111481           0.103304      0.106667   4.79   11.49   \n",
       "8           0.095427           0.088279      0.075238   3.38   11.90   \n",
       "9           0.080012           0.066790      0.050952   2.29   12.21   \n",
       "\n",
       "   Cumulative Bad %  Cumulative Good %     KS  Predicted Rank  Actual Rank  \\\n",
       "0             31.16               3.94  27.22               1            1   \n",
       "1             50.94              11.14  39.80               2            2   \n",
       "2             61.98              20.84  41.14               3            3   \n",
       "3             71.26              31.05  40.21               4            4   \n",
       "4             78.29              41.90  36.40               5            5   \n",
       "5             84.60              52.95  31.65               6            6   \n",
       "6             89.54              64.40  25.14               7            7   \n",
       "7             94.33              75.89  18.44               8            8   \n",
       "8             97.71              87.79   9.92               9            9   \n",
       "9            100.00             100.00   0.00              10           10   \n",
       "\n",
       "   Rank Order Break  \n",
       "0                 0  \n",
       "1                 0  \n",
       "2                 0  \n",
       "3                 0  \n",
       "4                 0  \n",
       "5                 0  \n",
       "6                 0  \n",
       "7                 0  \n",
       "8                 0  \n",
       "9                 0  "
      ]
     },
     "execution_count": 136,
     "metadata": {},
     "output_type": "execute_result"
    }
   ],
   "source": [
    "ks_table_train"
   ]
  },
  {
   "cell_type": "code",
   "execution_count": 137,
   "id": "1e40e939",
   "metadata": {},
   "outputs": [],
   "source": [
    "ks_table_test = util.calculate_ks_table(y_test, y_test_pred_prob)"
   ]
  },
  {
   "cell_type": "code",
   "execution_count": 138,
   "id": "e03897f1",
   "metadata": {},
   "outputs": [
    {
     "data": {
      "text/html": [
       "<div>\n",
       "<style scoped>\n",
       "    .dataframe tbody tr th:only-of-type {\n",
       "        vertical-align: middle;\n",
       "    }\n",
       "\n",
       "    .dataframe tbody tr th {\n",
       "        vertical-align: top;\n",
       "    }\n",
       "\n",
       "    .dataframe thead th {\n",
       "        text-align: right;\n",
       "    }\n",
       "</style>\n",
       "<table border=\"1\" class=\"dataframe\">\n",
       "  <thead>\n",
       "    <tr style=\"text-align: right;\">\n",
       "      <th></th>\n",
       "      <th>Predicted Group</th>\n",
       "      <th>Total Apps</th>\n",
       "      <th>Bad Counts</th>\n",
       "      <th>Good Counts</th>\n",
       "      <th>Minimum Predicted</th>\n",
       "      <th>Maximum Predicted</th>\n",
       "      <th>Average Predicted</th>\n",
       "      <th>Error Actual</th>\n",
       "      <th>Bad %</th>\n",
       "      <th>Good %</th>\n",
       "      <th>Cumulative Bad %</th>\n",
       "      <th>Cumulative Good %</th>\n",
       "      <th>KS</th>\n",
       "      <th>Predicted Rank</th>\n",
       "      <th>Actual Rank</th>\n",
       "      <th>Rank Order Break</th>\n",
       "    </tr>\n",
       "  </thead>\n",
       "  <tbody>\n",
       "    <tr>\n",
       "      <th>0</th>\n",
       "      <td>(0.999, 900.9]</td>\n",
       "      <td>900</td>\n",
       "      <td>599</td>\n",
       "      <td>301</td>\n",
       "      <td>0.533640</td>\n",
       "      <td>0.907846</td>\n",
       "      <td>0.702619</td>\n",
       "      <td>0.665556</td>\n",
       "      <td>30.56</td>\n",
       "      <td>4.28</td>\n",
       "      <td>30.56</td>\n",
       "      <td>4.28</td>\n",
       "      <td>26.29</td>\n",
       "      <td>1</td>\n",
       "      <td>1</td>\n",
       "      <td>0</td>\n",
       "    </tr>\n",
       "    <tr>\n",
       "      <th>1</th>\n",
       "      <td>(900.9, 1800.8]</td>\n",
       "      <td>900</td>\n",
       "      <td>369</td>\n",
       "      <td>531</td>\n",
       "      <td>0.318482</td>\n",
       "      <td>0.533640</td>\n",
       "      <td>0.406578</td>\n",
       "      <td>0.410000</td>\n",
       "      <td>18.83</td>\n",
       "      <td>7.54</td>\n",
       "      <td>49.39</td>\n",
       "      <td>11.82</td>\n",
       "      <td>37.57</td>\n",
       "      <td>2</td>\n",
       "      <td>2</td>\n",
       "      <td>0</td>\n",
       "    </tr>\n",
       "    <tr>\n",
       "      <th>2</th>\n",
       "      <td>(1800.8, 2700.7]</td>\n",
       "      <td>900</td>\n",
       "      <td>245</td>\n",
       "      <td>655</td>\n",
       "      <td>0.203787</td>\n",
       "      <td>0.318446</td>\n",
       "      <td>0.248553</td>\n",
       "      <td>0.272222</td>\n",
       "      <td>12.50</td>\n",
       "      <td>9.30</td>\n",
       "      <td>61.89</td>\n",
       "      <td>21.12</td>\n",
       "      <td>40.77</td>\n",
       "      <td>3</td>\n",
       "      <td>3</td>\n",
       "      <td>0</td>\n",
       "    </tr>\n",
       "    <tr>\n",
       "      <th>3</th>\n",
       "      <td>(2700.7, 3600.6]</td>\n",
       "      <td>900</td>\n",
       "      <td>176</td>\n",
       "      <td>724</td>\n",
       "      <td>0.166809</td>\n",
       "      <td>0.203787</td>\n",
       "      <td>0.183865</td>\n",
       "      <td>0.195556</td>\n",
       "      <td>8.98</td>\n",
       "      <td>10.28</td>\n",
       "      <td>70.87</td>\n",
       "      <td>31.41</td>\n",
       "      <td>39.46</td>\n",
       "      <td>4</td>\n",
       "      <td>4</td>\n",
       "      <td>0</td>\n",
       "    </tr>\n",
       "    <tr>\n",
       "      <th>4</th>\n",
       "      <td>(3600.6, 4500.5]</td>\n",
       "      <td>900</td>\n",
       "      <td>130</td>\n",
       "      <td>770</td>\n",
       "      <td>0.142741</td>\n",
       "      <td>0.166700</td>\n",
       "      <td>0.154558</td>\n",
       "      <td>0.144444</td>\n",
       "      <td>6.63</td>\n",
       "      <td>10.94</td>\n",
       "      <td>77.50</td>\n",
       "      <td>42.34</td>\n",
       "      <td>35.16</td>\n",
       "      <td>5</td>\n",
       "      <td>5</td>\n",
       "      <td>0</td>\n",
       "    </tr>\n",
       "    <tr>\n",
       "      <th>5</th>\n",
       "      <td>(4500.5, 5400.4]</td>\n",
       "      <td>900</td>\n",
       "      <td>125</td>\n",
       "      <td>775</td>\n",
       "      <td>0.125121</td>\n",
       "      <td>0.142715</td>\n",
       "      <td>0.134575</td>\n",
       "      <td>0.138889</td>\n",
       "      <td>6.38</td>\n",
       "      <td>11.01</td>\n",
       "      <td>83.88</td>\n",
       "      <td>53.35</td>\n",
       "      <td>30.53</td>\n",
       "      <td>6</td>\n",
       "      <td>6</td>\n",
       "      <td>0</td>\n",
       "    </tr>\n",
       "    <tr>\n",
       "      <th>6</th>\n",
       "      <td>(5400.4, 6300.3]</td>\n",
       "      <td>900</td>\n",
       "      <td>105</td>\n",
       "      <td>795</td>\n",
       "      <td>0.110006</td>\n",
       "      <td>0.125121</td>\n",
       "      <td>0.118031</td>\n",
       "      <td>0.116667</td>\n",
       "      <td>5.36</td>\n",
       "      <td>11.29</td>\n",
       "      <td>89.23</td>\n",
       "      <td>64.64</td>\n",
       "      <td>24.59</td>\n",
       "      <td>7</td>\n",
       "      <td>7</td>\n",
       "      <td>0</td>\n",
       "    </tr>\n",
       "    <tr>\n",
       "      <th>7</th>\n",
       "      <td>(6300.3, 7200.2]</td>\n",
       "      <td>900</td>\n",
       "      <td>87</td>\n",
       "      <td>813</td>\n",
       "      <td>0.094817</td>\n",
       "      <td>0.110006</td>\n",
       "      <td>0.102753</td>\n",
       "      <td>0.096667</td>\n",
       "      <td>4.44</td>\n",
       "      <td>11.55</td>\n",
       "      <td>93.67</td>\n",
       "      <td>76.19</td>\n",
       "      <td>17.48</td>\n",
       "      <td>8</td>\n",
       "      <td>8</td>\n",
       "      <td>0</td>\n",
       "    </tr>\n",
       "    <tr>\n",
       "      <th>8</th>\n",
       "      <td>(7200.2, 8100.1]</td>\n",
       "      <td>900</td>\n",
       "      <td>59</td>\n",
       "      <td>841</td>\n",
       "      <td>0.078402</td>\n",
       "      <td>0.094817</td>\n",
       "      <td>0.087798</td>\n",
       "      <td>0.065556</td>\n",
       "      <td>3.01</td>\n",
       "      <td>11.95</td>\n",
       "      <td>96.68</td>\n",
       "      <td>88.14</td>\n",
       "      <td>8.54</td>\n",
       "      <td>9</td>\n",
       "      <td>9</td>\n",
       "      <td>0</td>\n",
       "    </tr>\n",
       "    <tr>\n",
       "      <th>9</th>\n",
       "      <td>(8100.1, 9000.0]</td>\n",
       "      <td>900</td>\n",
       "      <td>65</td>\n",
       "      <td>835</td>\n",
       "      <td>0.043541</td>\n",
       "      <td>0.078289</td>\n",
       "      <td>0.066216</td>\n",
       "      <td>0.072222</td>\n",
       "      <td>3.32</td>\n",
       "      <td>11.86</td>\n",
       "      <td>100.00</td>\n",
       "      <td>100.00</td>\n",
       "      <td>0.00</td>\n",
       "      <td>10</td>\n",
       "      <td>10</td>\n",
       "      <td>0</td>\n",
       "    </tr>\n",
       "  </tbody>\n",
       "</table>\n",
       "</div>"
      ],
      "text/plain": [
       "    Predicted Group  Total Apps  Bad Counts  Good Counts  Minimum Predicted  \\\n",
       "0    (0.999, 900.9]         900         599          301           0.533640   \n",
       "1   (900.9, 1800.8]         900         369          531           0.318482   \n",
       "2  (1800.8, 2700.7]         900         245          655           0.203787   \n",
       "3  (2700.7, 3600.6]         900         176          724           0.166809   \n",
       "4  (3600.6, 4500.5]         900         130          770           0.142741   \n",
       "5  (4500.5, 5400.4]         900         125          775           0.125121   \n",
       "6  (5400.4, 6300.3]         900         105          795           0.110006   \n",
       "7  (6300.3, 7200.2]         900          87          813           0.094817   \n",
       "8  (7200.2, 8100.1]         900          59          841           0.078402   \n",
       "9  (8100.1, 9000.0]         900          65          835           0.043541   \n",
       "\n",
       "   Maximum Predicted  Average Predicted  Error Actual  Bad %  Good %  \\\n",
       "0           0.907846           0.702619      0.665556  30.56    4.28   \n",
       "1           0.533640           0.406578      0.410000  18.83    7.54   \n",
       "2           0.318446           0.248553      0.272222  12.50    9.30   \n",
       "3           0.203787           0.183865      0.195556   8.98   10.28   \n",
       "4           0.166700           0.154558      0.144444   6.63   10.94   \n",
       "5           0.142715           0.134575      0.138889   6.38   11.01   \n",
       "6           0.125121           0.118031      0.116667   5.36   11.29   \n",
       "7           0.110006           0.102753      0.096667   4.44   11.55   \n",
       "8           0.094817           0.087798      0.065556   3.01   11.95   \n",
       "9           0.078289           0.066216      0.072222   3.32   11.86   \n",
       "\n",
       "   Cumulative Bad %  Cumulative Good %     KS  Predicted Rank  Actual Rank  \\\n",
       "0             30.56               4.28  26.29               1            1   \n",
       "1             49.39              11.82  37.57               2            2   \n",
       "2             61.89              21.12  40.77               3            3   \n",
       "3             70.87              31.41  39.46               4            4   \n",
       "4             77.50              42.34  35.16               5            5   \n",
       "5             83.88              53.35  30.53               6            6   \n",
       "6             89.23              64.64  24.59               7            7   \n",
       "7             93.67              76.19  17.48               8            8   \n",
       "8             96.68              88.14   8.54               9            9   \n",
       "9            100.00             100.00   0.00              10           10   \n",
       "\n",
       "   Rank Order Break  \n",
       "0                 0  \n",
       "1                 0  \n",
       "2                 0  \n",
       "3                 0  \n",
       "4                 0  \n",
       "5                 0  \n",
       "6                 0  \n",
       "7                 0  \n",
       "8                 0  \n",
       "9                 0  "
      ]
     },
     "execution_count": 138,
     "metadata": {},
     "output_type": "execute_result"
    }
   ],
   "source": [
    "ks_table_test"
   ]
  },
  {
   "cell_type": "code",
   "execution_count": 139,
   "id": "2b04e03f",
   "metadata": {},
   "outputs": [
    {
     "data": {
      "text/html": [
       "<div>\n",
       "<style scoped>\n",
       "    .dataframe tbody tr th:only-of-type {\n",
       "        vertical-align: middle;\n",
       "    }\n",
       "\n",
       "    .dataframe tbody tr th {\n",
       "        vertical-align: top;\n",
       "    }\n",
       "\n",
       "    .dataframe thead th {\n",
       "        text-align: right;\n",
       "    }\n",
       "</style>\n",
       "<table border=\"1\" class=\"dataframe\">\n",
       "  <thead>\n",
       "    <tr style=\"text-align: right;\">\n",
       "      <th></th>\n",
       "      <th>Sample</th>\n",
       "      <th>Max KS</th>\n",
       "      <th>KS 30th Percentile</th>\n",
       "    </tr>\n",
       "  </thead>\n",
       "  <tbody>\n",
       "    <tr>\n",
       "      <th>0</th>\n",
       "      <td>Train</td>\n",
       "      <td>41.14</td>\n",
       "      <td>41.14</td>\n",
       "    </tr>\n",
       "    <tr>\n",
       "      <th>1</th>\n",
       "      <td>Test</td>\n",
       "      <td>40.77</td>\n",
       "      <td>40.77</td>\n",
       "    </tr>\n",
       "  </tbody>\n",
       "</table>\n",
       "</div>"
      ],
      "text/plain": [
       "  Sample  Max KS  KS 30th Percentile\n",
       "0  Train   41.14               41.14\n",
       "1   Test   40.77               40.77"
      ]
     },
     "execution_count": 139,
     "metadata": {},
     "output_type": "execute_result"
    }
   ],
   "source": [
    "util.ks_info(y_train,y_train_pred_prob,y_test,y_test_pred_prob)"
   ]
  },
  {
   "cell_type": "code",
   "execution_count": 140,
   "id": "f14f2489",
   "metadata": {},
   "outputs": [
    {
     "data": {
      "text/plain": [
       "(21000, 13)"
      ]
     },
     "execution_count": 140,
     "metadata": {},
     "output_type": "execute_result"
    }
   ],
   "source": [
    "X_train_selected.shape"
   ]
  },
  {
   "cell_type": "code",
   "execution_count": 141,
   "id": "69f73763",
   "metadata": {},
   "outputs": [
    {
     "data": {
      "text/plain": [
       "(9000, 13)"
      ]
     },
     "execution_count": 141,
     "metadata": {},
     "output_type": "execute_result"
    }
   ],
   "source": [
    "X_test_selected.shape"
   ]
  },
  {
   "cell_type": "code",
   "execution_count": 142,
   "id": "ec974c8e",
   "metadata": {},
   "outputs": [],
   "source": [
    "import pandas as pd\n",
    "\n",
    "# Combine training data\n",
    "df_train_2 = pd.concat([X_train_selected, y_train,y_train_pred_prob], axis=1)\n",
    "\n",
    "# Combine testing data\n",
    "df_test_2 = pd.concat([X_test_selected, y_test,y_test_pred_prob], axis=1)\n"
   ]
  },
  {
   "cell_type": "code",
   "execution_count": 143,
   "id": "28040ddc",
   "metadata": {},
   "outputs": [
    {
     "data": {
      "text/plain": [
       "(21000, 46)"
      ]
     },
     "execution_count": 143,
     "metadata": {},
     "output_type": "execute_result"
    }
   ],
   "source": [
    "df_train.shape"
   ]
  },
  {
   "cell_type": "code",
   "execution_count": 144,
   "id": "bf7e4f23",
   "metadata": {},
   "outputs": [
    {
     "data": {
      "text/plain": [
       "(21000, 15)"
      ]
     },
     "execution_count": 144,
     "metadata": {},
     "output_type": "execute_result"
    }
   ],
   "source": [
    "df_train_2.shape"
   ]
  },
  {
   "cell_type": "code",
   "execution_count": 145,
   "id": "1da8fe5c",
   "metadata": {},
   "outputs": [
    {
     "data": {
      "text/plain": [
       "(9000, 46)"
      ]
     },
     "execution_count": 145,
     "metadata": {},
     "output_type": "execute_result"
    }
   ],
   "source": [
    "df_test.shape"
   ]
  },
  {
   "cell_type": "code",
   "execution_count": 146,
   "id": "40aa34dc",
   "metadata": {},
   "outputs": [
    {
     "data": {
      "text/plain": [
       "(9000, 15)"
      ]
     },
     "execution_count": 146,
     "metadata": {},
     "output_type": "execute_result"
    }
   ],
   "source": [
    "df_test_2.shape"
   ]
  },
  {
   "cell_type": "code",
   "execution_count": 147,
   "id": "1a0c72c8",
   "metadata": {},
   "outputs": [],
   "source": [
    "df_train_2.rename(columns={0:'PD'},inplace=True)"
   ]
  },
  {
   "cell_type": "code",
   "execution_count": 148,
   "id": "c2f78b3c",
   "metadata": {},
   "outputs": [],
   "source": [
    "df_test_2.rename(columns={0:'PD'},inplace=True)"
   ]
  },
  {
   "cell_type": "code",
   "execution_count": 149,
   "id": "508cf638",
   "metadata": {},
   "outputs": [],
   "source": [
    "df_train_2['adjusted_limit'] = df_train_2.apply(\n",
    "    lambda x: util.adjust_credit_limit(x['LIMIT_BAL'], x['PD']),\n",
    "    axis=1\n",
    ")"
   ]
  },
  {
   "cell_type": "code",
   "execution_count": 150,
   "id": "ed1e8772",
   "metadata": {},
   "outputs": [],
   "source": [
    "df_test_2['adjusted_limit'] = df_test_2.apply(\n",
    "    lambda x: util.adjust_credit_limit(x['LIMIT_BAL'], x['PD']),\n",
    "    axis=1\n",
    ")"
   ]
  },
  {
   "cell_type": "code",
   "execution_count": 151,
   "id": "12c4ae2c",
   "metadata": {},
   "outputs": [],
   "source": [
    "df_train_2['limit_action'] = df_train_2['PD'].apply(util.get_limit_action)"
   ]
  },
  {
   "cell_type": "code",
   "execution_count": 152,
   "id": "e3245f79",
   "metadata": {},
   "outputs": [],
   "source": [
    "df_test_2['limit_action'] = df_test_2['PD'].apply(util.get_limit_action)"
   ]
  },
  {
   "cell_type": "code",
   "execution_count": 153,
   "id": "52b259a5",
   "metadata": {},
   "outputs": [
    {
     "data": {
      "text/plain": [
       "limit_action\n",
       "Decrease Slightly                0.080740\n",
       "Hold                             0.046436\n",
       "Review/Decrease Significantly    0.264025\n",
       "Name: PD, dtype: float64"
      ]
     },
     "execution_count": 153,
     "metadata": {},
     "output_type": "execute_result"
    }
   ],
   "source": [
    "df_train_2.groupby('limit_action')['PD'].mean()"
   ]
  },
  {
   "cell_type": "code",
   "execution_count": 154,
   "id": "7d8b14b5",
   "metadata": {},
   "outputs": [
    {
     "data": {
      "text/plain": [
       "Review/Decrease Significantly    16287\n",
       "Decrease Slightly                 4576\n",
       "Hold                               137\n",
       "Name: limit_action, dtype: int64"
      ]
     },
     "execution_count": 154,
     "metadata": {},
     "output_type": "execute_result"
    }
   ],
   "source": [
    "df_train_2['limit_action'].value_counts(dropna=False)"
   ]
  },
  {
   "cell_type": "code",
   "execution_count": 158,
   "id": "dc51fb33",
   "metadata": {},
   "outputs": [],
   "source": [
    "import pickle\n",
    "\n",
    "# Save the model object (result)\n",
    "with open('../models/logit_model.pkl', 'wb') as f:\n",
    "    pickle.dump(result, f)"
   ]
  },
  {
   "cell_type": "code",
   "execution_count": 157,
   "id": "9d81fb40",
   "metadata": {},
   "outputs": [],
   "source": [
    "woe_temp.to_json('../models/woe_bins.json', orient='records', lines=True)\n"
   ]
  }
 ],
 "metadata": {
  "kernelspec": {
   "display_name": "base",
   "language": "python",
   "name": "python3"
  },
  "language_info": {
   "codemirror_mode": {
    "name": "ipython",
    "version": 3
   },
   "file_extension": ".py",
   "mimetype": "text/x-python",
   "name": "python",
   "nbconvert_exporter": "python",
   "pygments_lexer": "ipython3",
   "version": "3.10.9"
  }
 },
 "nbformat": 4,
 "nbformat_minor": 5
}
