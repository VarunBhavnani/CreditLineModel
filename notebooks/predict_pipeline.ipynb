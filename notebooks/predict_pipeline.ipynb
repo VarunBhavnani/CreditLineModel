{
 "cells": [
  {
   "cell_type": "code",
   "execution_count": 1,
   "id": "2ad09b82",
   "metadata": {},
   "outputs": [],
   "source": [
    "import pandas as pd\n",
    "import numpy as np\n",
    "import matplotlib.pyplot as plt\n",
    "import seaborn as sns\n",
    "from sklearn.model_selection import train_test_split\n",
    "\n",
    "import warnings\n",
    "warnings.filterwarnings('ignore')\n",
    "\n",
    "import sys\n",
    "import os\n",
    "sys.path.append(os.path.abspath('../src'))\n",
    "\n",
    "import model_utility as util"
   ]
  },
  {
   "cell_type": "code",
   "execution_count": 2,
   "id": "0b7c557c",
   "metadata": {},
   "outputs": [],
   "source": [
    "df = pd.read_excel('../data/default of credit card clients.xls',header = 1)"
   ]
  },
  {
   "cell_type": "code",
   "execution_count": 3,
   "id": "c4478b1c",
   "metadata": {},
   "outputs": [],
   "source": [
    "import pandas as pd\n",
    "import numpy as np\n",
    "import pickle\n",
    "import statsmodels.api as sm\n",
    "import json\n",
    "import joblib\n",
    "\n",
    "import os\n",
    "sys.path.append(os.path.abspath('../src'))\n",
    "\n",
    "# Load model\n",
    "model = joblib.load('../models/logit_model.pkl')\n",
    "\n",
    "# Load woe_temp from JSON\n",
    "with open('../models/woe_bins.json', 'r') as f:\n",
    "    woe_temp = pd.read_json(f, orient='records', lines=True)\n",
    "\n",
    "# Final model features used for prediction (excluding target)\n",
    "final_model_features = [\n",
    "    \"Paid Jun\", \"PAY_AMT_Apr\", \"PAY_Jul\", \"LIMIT_BAL\", \"Paid Sep\",\n",
    "    \"PAY_AMT_Jul\", \"utilization_ratio Apr\", \"PAY_AMT_Jun\", \"SEX_Male\",\n",
    "    \"PAY_AMT_Aug\", \"MARRIAGE_Single\", \"PAY_Sep\", \"PAY_Apr\"\n",
    "]\n",
    "\n",
    "months_info = [\n",
    "    ('Sep', 'PAY_0', 'BILL_AMT1', 'PAY_AMT1'),\n",
    "    ('Aug', 'PAY_2', 'BILL_AMT2', 'PAY_AMT2'),\n",
    "    ('Jul', 'PAY_3', 'BILL_AMT3', 'PAY_AMT3'),\n",
    "    ('Jun', 'PAY_4', 'BILL_AMT4', 'PAY_AMT4'),\n",
    "    ('May', 'PAY_5', 'BILL_AMT5', 'PAY_AMT5'),\n",
    "    ('Apr', 'PAY_6', 'BILL_AMT6', 'PAY_AMT6'),\n",
    "]\n",
    "\n",
    "education_mapping = {\n",
    "    1: 'Graduate School', 2: 'University', 3: 'High School',\n",
    "    4: \"Others\", 5: \"Others\", 6: \"Others\"\n",
    "}\n",
    "\n",
    "gender_mapping = {1: 'Male', 2: 'Female'}\n",
    "\n",
    "marital_mapping = {1: 'Married', 2: 'Single', 3: 'Others'}\n",
    "\n",
    "# Use actual mode values from training\n",
    "mode_education_train = 2  # 'University'\n",
    "mode_marriage_train = 2   # 'Married'\n",
    "\n",
    "def predict_pipeline(input_df):\n",
    "    # Drop target column if present\n",
    "    if 'default payment next month' in input_df.columns:\n",
    "        input_df = input_df.drop(columns=['default payment next month'])\n",
    "\n",
    "    df_temp = util.generate_monthly_features(input_df, months_info)\n",
    "\n",
    "    # Rename columns for clarity\n",
    "    df_temp.rename(columns={\n",
    "        'PAY_0': 'PAY_Sep', 'PAY_2': 'PAY_Aug', 'PAY_3': 'PAY_Jul',\n",
    "        'PAY_4': 'PAY_Jun', 'PAY_5': 'PAY_May', 'PAY_6': 'PAY_Apr',\n",
    "        'BILL_AMT1': 'BILL_AMT_Sep', 'BILL_AMT2': 'BILL_AMT_Aug',\n",
    "        'BILL_AMT3': 'BILL_AMT_Jul', 'BILL_AMT4': 'BILL_AMT_Jun',\n",
    "        'BILL_AMT5': 'BILL_AMT_May', 'BILL_AMT6': 'BILL_AMT_Apr',\n",
    "        'PAY_AMT1': 'PAY_AMT_Sep', 'PAY_AMT2': 'PAY_AMT_Aug',\n",
    "        'PAY_AMT3': 'PAY_AMT_Jul', 'PAY_AMT4': 'PAY_AMT_Jun',\n",
    "        'PAY_AMT5': 'PAY_AMT_May', 'PAY_AMT6': 'PAY_AMT_Apr'\n",
    "    }, inplace=True)\n",
    "\n",
    "    #df_temp = util.reorder_columns_monthwise(df_temp)\n",
    "\n",
    "    # Clean and map EDUCATION, SEX, MARRIAGE\n",
    "    df_temp['EDUCATION'] = np.where(df_temp['EDUCATION'] == 0, mode_education_train, df_temp['EDUCATION'])\n",
    "    df_temp['EDUCATION'] = df_temp['EDUCATION'].map(education_mapping)\n",
    "\n",
    "    df_temp['SEX'] = df_temp['SEX'].map(gender_mapping)\n",
    "\n",
    "    df_temp['MARRIAGE'] = np.where(df_temp['MARRIAGE'] == 0, mode_marriage_train, df_temp['MARRIAGE'])\n",
    "    df_temp['MARRIAGE'] = df_temp['MARRIAGE'].map(marital_mapping)\n",
    "\n",
    "    # One-hot encoding\n",
    "    df_temp = pd.get_dummies(df_temp, columns=['EDUCATION', 'SEX', 'MARRIAGE'], drop_first=False)\n",
    "\n",
    "    # Drop unnecessary dummies\n",
    "    col_to_drop = ['EDUCATION_Others', 'SEX_Female', 'MARRIAGE_Others']\n",
    "    df_temp.drop(columns=[col for col in col_to_drop if col in df_temp.columns], inplace=True)\n",
    "    \n",
    "    # Ensure all final_model_features are present in df_temp\n",
    "    for col in final_model_features:\n",
    "        if col not in df_temp.columns:\n",
    "            df_temp[col] = 0\n",
    "\n",
    "\n",
    "    # Apply WOE transformation\n",
    "    df_temp_woe = util.apply_woe_binning(df_temp, woe_temp)\n",
    "\n",
    "    # Filter only model input features\n",
    "    X_model = df_temp_woe[final_model_features]\n",
    "    \n",
    "    X_model = X_model.fillna(0)  # simple fix if it makes sense\n",
    "\n",
    "\n",
    "    # Add constant (for statsmodels)\n",
    "    X_model = sm.add_constant(X_model, has_constant='add')\n",
    "\n",
    "    # Predict probability (PD)\n",
    "    pd_prob = model.predict(X_model)\n",
    "\n",
    "    # Predict binary label\n",
    "    pd_label = (pd_prob >= 0.5).astype(int)\n",
    "\n",
    "    # Append to original data\n",
    "    df_temp['PD'] = pd_prob\n",
    "    df_temp['Predicted_Label'] = pd_label\n",
    "\n",
    "    # Adjust limit & get action\n",
    "    df_temp['adjusted_limit'] = df_temp.apply(\n",
    "        lambda x: util.adjust_credit_limit(x['LIMIT_BAL'], x['PD']), axis=1\n",
    "    )\n",
    "    df_temp['limit_action'] = df_temp['PD'].apply(util.get_limit_action)\n",
    "\n",
    "    return df_temp"
   ]
  },
  {
   "cell_type": "code",
   "execution_count": 4,
   "id": "40c7c570",
   "metadata": {},
   "outputs": [],
   "source": [
    "cust_id = 20\n",
    "cust_row = df[df['ID'] == cust_id]"
   ]
  },
  {
   "cell_type": "code",
   "execution_count": 5,
   "id": "d22f5237",
   "metadata": {},
   "outputs": [
    {
     "data": {
      "text/plain": [
       "1"
      ]
     },
     "execution_count": 5,
     "metadata": {},
     "output_type": "execute_result"
    }
   ],
   "source": [
    "len(cust_row)"
   ]
  },
  {
   "cell_type": "code",
   "execution_count": 6,
   "id": "ce31aa39",
   "metadata": {},
   "outputs": [
    {
     "data": {
      "text/plain": [
       "(30000, 25)"
      ]
     },
     "execution_count": 6,
     "metadata": {},
     "output_type": "execute_result"
    }
   ],
   "source": [
    "df.shape"
   ]
  },
  {
   "cell_type": "code",
   "execution_count": 7,
   "id": "bef33e19",
   "metadata": {},
   "outputs": [
    {
     "data": {
      "text/plain": [
       "(1, 25)"
      ]
     },
     "execution_count": 7,
     "metadata": {},
     "output_type": "execute_result"
    }
   ],
   "source": [
    "cust_row.shape"
   ]
  },
  {
   "cell_type": "code",
   "execution_count": 8,
   "id": "d2eb3607",
   "metadata": {},
   "outputs": [
    {
     "data": {
      "text/html": [
       "<div>\n",
       "<style scoped>\n",
       "    .dataframe tbody tr th:only-of-type {\n",
       "        vertical-align: middle;\n",
       "    }\n",
       "\n",
       "    .dataframe tbody tr th {\n",
       "        vertical-align: top;\n",
       "    }\n",
       "\n",
       "    .dataframe thead th {\n",
       "        text-align: right;\n",
       "    }\n",
       "</style>\n",
       "<table border=\"1\" class=\"dataframe\">\n",
       "  <thead>\n",
       "    <tr style=\"text-align: right;\">\n",
       "      <th></th>\n",
       "      <th>ID</th>\n",
       "      <th>LIMIT_BAL</th>\n",
       "      <th>SEX</th>\n",
       "      <th>EDUCATION</th>\n",
       "      <th>MARRIAGE</th>\n",
       "      <th>AGE</th>\n",
       "      <th>PAY_0</th>\n",
       "      <th>PAY_2</th>\n",
       "      <th>PAY_3</th>\n",
       "      <th>PAY_4</th>\n",
       "      <th>...</th>\n",
       "      <th>BILL_AMT4</th>\n",
       "      <th>BILL_AMT5</th>\n",
       "      <th>BILL_AMT6</th>\n",
       "      <th>PAY_AMT1</th>\n",
       "      <th>PAY_AMT2</th>\n",
       "      <th>PAY_AMT3</th>\n",
       "      <th>PAY_AMT4</th>\n",
       "      <th>PAY_AMT5</th>\n",
       "      <th>PAY_AMT6</th>\n",
       "      <th>default payment next month</th>\n",
       "    </tr>\n",
       "  </thead>\n",
       "  <tbody>\n",
       "    <tr>\n",
       "      <th>19</th>\n",
       "      <td>20</td>\n",
       "      <td>180000</td>\n",
       "      <td>2</td>\n",
       "      <td>1</td>\n",
       "      <td>2</td>\n",
       "      <td>29</td>\n",
       "      <td>1</td>\n",
       "      <td>-2</td>\n",
       "      <td>-2</td>\n",
       "      <td>-2</td>\n",
       "      <td>...</td>\n",
       "      <td>0</td>\n",
       "      <td>0</td>\n",
       "      <td>0</td>\n",
       "      <td>0</td>\n",
       "      <td>0</td>\n",
       "      <td>0</td>\n",
       "      <td>0</td>\n",
       "      <td>0</td>\n",
       "      <td>0</td>\n",
       "      <td>0</td>\n",
       "    </tr>\n",
       "  </tbody>\n",
       "</table>\n",
       "<p>1 rows × 25 columns</p>\n",
       "</div>"
      ],
      "text/plain": [
       "    ID  LIMIT_BAL  SEX  EDUCATION  MARRIAGE  AGE  PAY_0  PAY_2  PAY_3  PAY_4  \\\n",
       "19  20     180000    2          1         2   29      1     -2     -2     -2   \n",
       "\n",
       "    ...  BILL_AMT4  BILL_AMT5  BILL_AMT6  PAY_AMT1  PAY_AMT2  PAY_AMT3  \\\n",
       "19  ...          0          0          0         0         0         0   \n",
       "\n",
       "    PAY_AMT4  PAY_AMT5  PAY_AMT6  default payment next month  \n",
       "19         0         0         0                           0  \n",
       "\n",
       "[1 rows x 25 columns]"
      ]
     },
     "execution_count": 8,
     "metadata": {},
     "output_type": "execute_result"
    }
   ],
   "source": [
    "cust_row.head()"
   ]
  },
  {
   "cell_type": "code",
   "execution_count": 9,
   "id": "42e077d6",
   "metadata": {},
   "outputs": [],
   "source": [
    "results = predict_pipeline(cust_row)"
   ]
  },
  {
   "cell_type": "code",
   "execution_count": 10,
   "id": "604513ff",
   "metadata": {},
   "outputs": [
    {
     "name": "stdout",
     "output_type": "stream",
     "text": [
      "   ID  LIMIT_BAL        PD  Predicted_Label  adjusted_limit  \\\n",
      "0  20     180000  0.218778                0         90000.0   \n",
      "\n",
      "                    limit_action  \n",
      "0  Review/Decrease Significantly  \n"
     ]
    }
   ],
   "source": [
    "result_columns = ['ID', 'LIMIT_BAL','PD', 'Predicted_Label', 'adjusted_limit', 'limit_action']\n",
    "print(results[result_columns])"
   ]
  },
  {
   "cell_type": "code",
   "execution_count": 11,
   "id": "fe0e7961",
   "metadata": {},
   "outputs": [
    {
     "name": "stdout",
     "output_type": "stream",
     "text": [
      "{'ID': 20, 'LIMIT_BAL': 180000, 'PD': 0.2187777856529065, 'Predicted_Label': 0, 'adjusted_limit': 90000.0, 'limit_action': 'Review/Decrease Significantly'}\n"
     ]
    }
   ],
   "source": [
    "result_dict = results[result_columns].iloc[0].to_dict()\n",
    "print(result_dict)"
   ]
  },
  {
   "cell_type": "code",
   "execution_count": 12,
   "id": "1780faf8",
   "metadata": {},
   "outputs": [],
   "source": [
    "results2 = predict_pipeline(df)"
   ]
  },
  {
   "cell_type": "code",
   "execution_count": 13,
   "id": "5049dfa8",
   "metadata": {},
   "outputs": [
    {
     "data": {
      "text/plain": [
       "Review/Decrease Significantly    24365\n",
       "Decrease Slightly                 5635\n",
       "Name: limit_action, dtype: int64"
      ]
     },
     "execution_count": 13,
     "metadata": {},
     "output_type": "execute_result"
    }
   ],
   "source": [
    "results2['limit_action'].value_counts(dropna= False)"
   ]
  },
  {
   "cell_type": "code",
   "execution_count": 15,
   "id": "02b49c34",
   "metadata": {},
   "outputs": [
    {
     "data": {
      "text/plain": [
       "0            1\n",
       "1            2\n",
       "2            3\n",
       "3            4\n",
       "4            5\n",
       "         ...  \n",
       "29995    29996\n",
       "29996    29997\n",
       "29997    29998\n",
       "29998    29999\n",
       "29999    30000\n",
       "Name: ID, Length: 24365, dtype: int64"
      ]
     },
     "execution_count": 15,
     "metadata": {},
     "output_type": "execute_result"
    }
   ],
   "source": [
    "results2[results2['limit_action'] == 'Review/Decrease Significantly']['ID']"
   ]
  },
  {
   "cell_type": "code",
   "execution_count": 14,
   "id": "bd67c825",
   "metadata": {},
   "outputs": [
    {
     "data": {
      "text/plain": [
       "12          13\n",
       "14          15\n",
       "20          21\n",
       "30          31\n",
       "33          34\n",
       "         ...  \n",
       "29954    29955\n",
       "29957    29958\n",
       "29959    29960\n",
       "29975    29976\n",
       "29977    29978\n",
       "Name: ID, Length: 5635, dtype: int64"
      ]
     },
     "execution_count": 14,
     "metadata": {},
     "output_type": "execute_result"
    }
   ],
   "source": [
    "results2[results2['limit_action'] == 'Decrease Slightly']['ID']"
   ]
  }
 ],
 "metadata": {
  "kernelspec": {
   "display_name": "base",
   "language": "python",
   "name": "python3"
  },
  "language_info": {
   "codemirror_mode": {
    "name": "ipython",
    "version": 3
   },
   "file_extension": ".py",
   "mimetype": "text/x-python",
   "name": "python",
   "nbconvert_exporter": "python",
   "pygments_lexer": "ipython3",
   "version": "3.10.9"
  }
 },
 "nbformat": 4,
 "nbformat_minor": 5
}
