{
 "cells": [
  {
   "cell_type": "markdown",
   "id": "d91d160d",
   "metadata": {},
   "source": [
    "# Import Data & Libraries"
   ]
  },
  {
   "cell_type": "code",
   "execution_count": 1,
   "id": "b10c3593",
   "metadata": {},
   "outputs": [],
   "source": [
    "import pandas as pd\n",
    "import numpy as np\n",
    "import matplotlib.pyplot as plt\n",
    "import seaborn as sns\n",
    "from sklearn.model_selection import train_test_split\n",
    "from sklearn.preprocessing import StandardScaler\n",
    "from sklearn.linear_model import LogisticRegression\n",
    "from sklearn.metrics import classification_report, roc_auc_score\n",
    "\n",
    "import warnings\n",
    "warnings.filterwarnings('ignore')"
   ]
  },
  {
   "cell_type": "code",
   "execution_count": 2,
   "id": "f783bbc4",
   "metadata": {},
   "outputs": [],
   "source": [
    "df = pd.read_excel('default of credit card clients.xls',header = 1)"
   ]
  },
  {
   "cell_type": "code",
   "execution_count": 3,
   "id": "b1f34faf",
   "metadata": {},
   "outputs": [],
   "source": [
    "df_train,df_test = train_test_split(df,test_size=0.3,random_state= 42)"
   ]
  },
  {
   "cell_type": "markdown",
   "id": "e4f7bfbf",
   "metadata": {},
   "source": [
    "# Feature Engineering: Train data preparation"
   ]
  },
  {
   "cell_type": "code",
   "execution_count": 4,
   "id": "e089212f",
   "metadata": {},
   "outputs": [],
   "source": [
    "df_temp = df_train.copy()"
   ]
  },
  {
   "cell_type": "code",
   "execution_count": 5,
   "id": "10e04e0a",
   "metadata": {},
   "outputs": [
    {
     "name": "stdout",
     "output_type": "stream",
     "text": [
      "(21000, 25)\n"
     ]
    },
    {
     "data": {
      "text/html": [
       "<div>\n",
       "<style scoped>\n",
       "    .dataframe tbody tr th:only-of-type {\n",
       "        vertical-align: middle;\n",
       "    }\n",
       "\n",
       "    .dataframe tbody tr th {\n",
       "        vertical-align: top;\n",
       "    }\n",
       "\n",
       "    .dataframe thead th {\n",
       "        text-align: right;\n",
       "    }\n",
       "</style>\n",
       "<table border=\"1\" class=\"dataframe\">\n",
       "  <thead>\n",
       "    <tr style=\"text-align: right;\">\n",
       "      <th></th>\n",
       "      <th>ID</th>\n",
       "      <th>LIMIT_BAL</th>\n",
       "      <th>SEX</th>\n",
       "      <th>EDUCATION</th>\n",
       "      <th>MARRIAGE</th>\n",
       "      <th>AGE</th>\n",
       "      <th>PAY_0</th>\n",
       "      <th>PAY_2</th>\n",
       "      <th>PAY_3</th>\n",
       "      <th>PAY_4</th>\n",
       "      <th>...</th>\n",
       "      <th>BILL_AMT4</th>\n",
       "      <th>BILL_AMT5</th>\n",
       "      <th>BILL_AMT6</th>\n",
       "      <th>PAY_AMT1</th>\n",
       "      <th>PAY_AMT2</th>\n",
       "      <th>PAY_AMT3</th>\n",
       "      <th>PAY_AMT4</th>\n",
       "      <th>PAY_AMT5</th>\n",
       "      <th>PAY_AMT6</th>\n",
       "      <th>default payment next month</th>\n",
       "    </tr>\n",
       "  </thead>\n",
       "  <tbody>\n",
       "    <tr>\n",
       "      <th>28465</th>\n",
       "      <td>28466</td>\n",
       "      <td>240000</td>\n",
       "      <td>2</td>\n",
       "      <td>1</td>\n",
       "      <td>1</td>\n",
       "      <td>40</td>\n",
       "      <td>-2</td>\n",
       "      <td>-2</td>\n",
       "      <td>-2</td>\n",
       "      <td>-2</td>\n",
       "      <td>...</td>\n",
       "      <td>0</td>\n",
       "      <td>0</td>\n",
       "      <td>0</td>\n",
       "      <td>0</td>\n",
       "      <td>0</td>\n",
       "      <td>0</td>\n",
       "      <td>0</td>\n",
       "      <td>0</td>\n",
       "      <td>0</td>\n",
       "      <td>1</td>\n",
       "    </tr>\n",
       "    <tr>\n",
       "      <th>27622</th>\n",
       "      <td>27623</td>\n",
       "      <td>50000</td>\n",
       "      <td>2</td>\n",
       "      <td>1</td>\n",
       "      <td>2</td>\n",
       "      <td>23</td>\n",
       "      <td>-1</td>\n",
       "      <td>-1</td>\n",
       "      <td>-1</td>\n",
       "      <td>-1</td>\n",
       "      <td>...</td>\n",
       "      <td>4800</td>\n",
       "      <td>9810</td>\n",
       "      <td>660</td>\n",
       "      <td>2548</td>\n",
       "      <td>2321</td>\n",
       "      <td>4800</td>\n",
       "      <td>9810</td>\n",
       "      <td>660</td>\n",
       "      <td>2980</td>\n",
       "      <td>0</td>\n",
       "    </tr>\n",
       "    <tr>\n",
       "      <th>28376</th>\n",
       "      <td>28377</td>\n",
       "      <td>50000</td>\n",
       "      <td>2</td>\n",
       "      <td>2</td>\n",
       "      <td>1</td>\n",
       "      <td>36</td>\n",
       "      <td>2</td>\n",
       "      <td>2</td>\n",
       "      <td>2</td>\n",
       "      <td>2</td>\n",
       "      <td>...</td>\n",
       "      <td>47956</td>\n",
       "      <td>43578</td>\n",
       "      <td>35126</td>\n",
       "      <td>0</td>\n",
       "      <td>4700</td>\n",
       "      <td>0</td>\n",
       "      <td>2004</td>\n",
       "      <td>3500</td>\n",
       "      <td>0</td>\n",
       "      <td>0</td>\n",
       "    </tr>\n",
       "    <tr>\n",
       "      <th>10917</th>\n",
       "      <td>10918</td>\n",
       "      <td>200000</td>\n",
       "      <td>2</td>\n",
       "      <td>3</td>\n",
       "      <td>1</td>\n",
       "      <td>54</td>\n",
       "      <td>6</td>\n",
       "      <td>5</td>\n",
       "      <td>4</td>\n",
       "      <td>3</td>\n",
       "      <td>...</td>\n",
       "      <td>102549</td>\n",
       "      <td>101400</td>\n",
       "      <td>0</td>\n",
       "      <td>0</td>\n",
       "      <td>0</td>\n",
       "      <td>0</td>\n",
       "      <td>0</td>\n",
       "      <td>0</td>\n",
       "      <td>0</td>\n",
       "      <td>0</td>\n",
       "    </tr>\n",
       "    <tr>\n",
       "      <th>27234</th>\n",
       "      <td>27235</td>\n",
       "      <td>240000</td>\n",
       "      <td>1</td>\n",
       "      <td>1</td>\n",
       "      <td>1</td>\n",
       "      <td>35</td>\n",
       "      <td>-1</td>\n",
       "      <td>-1</td>\n",
       "      <td>-1</td>\n",
       "      <td>0</td>\n",
       "      <td>...</td>\n",
       "      <td>17102</td>\n",
       "      <td>13367</td>\n",
       "      <td>22659</td>\n",
       "      <td>2017</td>\n",
       "      <td>21817</td>\n",
       "      <td>1120</td>\n",
       "      <td>13434</td>\n",
       "      <td>22772</td>\n",
       "      <td>22820</td>\n",
       "      <td>0</td>\n",
       "    </tr>\n",
       "  </tbody>\n",
       "</table>\n",
       "<p>5 rows × 25 columns</p>\n",
       "</div>"
      ],
      "text/plain": [
       "          ID  LIMIT_BAL  SEX  EDUCATION  MARRIAGE  AGE  PAY_0  PAY_2  PAY_3  \\\n",
       "28465  28466     240000    2          1         1   40     -2     -2     -2   \n",
       "27622  27623      50000    2          1         2   23     -1     -1     -1   \n",
       "28376  28377      50000    2          2         1   36      2      2      2   \n",
       "10917  10918     200000    2          3         1   54      6      5      4   \n",
       "27234  27235     240000    1          1         1   35     -1     -1     -1   \n",
       "\n",
       "       PAY_4  ...  BILL_AMT4  BILL_AMT5  BILL_AMT6  PAY_AMT1  PAY_AMT2  \\\n",
       "28465     -2  ...          0          0          0         0         0   \n",
       "27622     -1  ...       4800       9810        660      2548      2321   \n",
       "28376      2  ...      47956      43578      35126         0      4700   \n",
       "10917      3  ...     102549     101400          0         0         0   \n",
       "27234      0  ...      17102      13367      22659      2017     21817   \n",
       "\n",
       "       PAY_AMT3  PAY_AMT4  PAY_AMT5  PAY_AMT6  default payment next month  \n",
       "28465         0         0         0         0                           1  \n",
       "27622      4800      9810       660      2980                           0  \n",
       "28376         0      2004      3500         0                           0  \n",
       "10917         0         0         0         0                           0  \n",
       "27234      1120     13434     22772     22820                           0  \n",
       "\n",
       "[5 rows x 25 columns]"
      ]
     },
     "execution_count": 5,
     "metadata": {},
     "output_type": "execute_result"
    }
   ],
   "source": [
    "print(df_temp.shape)\n",
    "df_temp.head()"
   ]
  },
  {
   "cell_type": "code",
   "execution_count": 6,
   "id": "329cd35c",
   "metadata": {},
   "outputs": [
    {
     "data": {
      "text/plain": [
       "array(['ID', 'LIMIT_BAL', 'SEX', 'EDUCATION', 'MARRIAGE', 'AGE', 'PAY_0',\n",
       "       'PAY_2', 'PAY_3', 'PAY_4', 'PAY_5', 'PAY_6', 'BILL_AMT1',\n",
       "       'BILL_AMT2', 'BILL_AMT3', 'BILL_AMT4', 'BILL_AMT5', 'BILL_AMT6',\n",
       "       'PAY_AMT1', 'PAY_AMT2', 'PAY_AMT3', 'PAY_AMT4', 'PAY_AMT5',\n",
       "       'PAY_AMT6', 'default payment next month'], dtype=object)"
      ]
     },
     "execution_count": 6,
     "metadata": {},
     "output_type": "execute_result"
    }
   ],
   "source": [
    "df_temp.columns.values"
   ]
  },
  {
   "cell_type": "code",
   "execution_count": 7,
   "id": "7aa58a26",
   "metadata": {},
   "outputs": [],
   "source": [
    "months_info = [\n",
    "    ('Sep', 'PAY_0', 'BILL_AMT1', 'PAY_AMT1'),\n",
    "    ('Aug', 'PAY_2', 'BILL_AMT2', 'PAY_AMT2'),\n",
    "    ('Jul', 'PAY_3', 'BILL_AMT3', 'PAY_AMT3'),\n",
    "    ('Jun', 'PAY_4', 'BILL_AMT4', 'PAY_AMT4'),\n",
    "    ('May', 'PAY_5', 'BILL_AMT5', 'PAY_AMT5'),\n",
    "    ('Apr', 'PAY_6', 'BILL_AMT6', 'PAY_AMT6'),\n",
    "]"
   ]
  },
  {
   "cell_type": "code",
   "execution_count": 8,
   "id": "2477335c",
   "metadata": {},
   "outputs": [],
   "source": [
    "def generate_monthly_features(df,months_info):\n",
    "    \n",
    "    dfs = []\n",
    "    \n",
    "    for month,pay_col,bill_col,pay_amt_col in months_info:\n",
    "        temp_df = df[['ID','LIMIT_BAL',pay_col,bill_col,pay_amt_col]].copy()\n",
    "        \n",
    "        temp_df[f'utilization_ratio {month}'] = temp_df[bill_col]/temp_df['LIMIT_BAL']\n",
    "\n",
    "        temp_df[f'Paid {month}'] = np.where(temp_df[pay_amt_col] > 0, 1,0)\n",
    "\n",
    "        temp_df[f'Delinquent {month}'] = np.where(temp_df[pay_col] >= 1, 1,0)\n",
    "        \n",
    "        keep_cols = ['ID',f'utilization_ratio {month}',f'Paid {month}',f'Delinquent {month}']\n",
    "        \n",
    "        dfs.append(temp_df[keep_cols])\n",
    "    \n",
    "    for temp_df in dfs:\n",
    "        df = pd.merge(df,temp_df,on='ID',how='inner')\n",
    "            \n",
    "    return df"
   ]
  },
  {
   "cell_type": "code",
   "execution_count": 9,
   "id": "b7f380b7",
   "metadata": {},
   "outputs": [],
   "source": [
    "df_temp = generate_monthly_features(df_temp, months_info)"
   ]
  },
  {
   "cell_type": "code",
   "execution_count": 10,
   "id": "8082aeca",
   "metadata": {},
   "outputs": [],
   "source": [
    "df_temp.rename(columns={'PAY_0':'PAY_Sep','PAY_2':'PAY_Aug','PAY_3':'PAY_Jul','PAY_4':'PAY_Jun','PAY_5':'PAY_May','PAY_6':'PAY_Apr'},inplace= True)"
   ]
  },
  {
   "cell_type": "code",
   "execution_count": 11,
   "id": "29d726dd",
   "metadata": {},
   "outputs": [],
   "source": [
    "df_temp.rename(columns={'BILL_AMT1':'BILL_AMT_Sep','BILL_AMT2':'BILL_AMT_Aug','BILL_AMT3':'BILL_AMT_Jul','BILL_AMT4':'BILL_AMT_Jun','BILL_AMT5':'BILL_AMT_May','BILL_AMT6':'BILL_AMT_Apr'},inplace= True)"
   ]
  },
  {
   "cell_type": "code",
   "execution_count": 12,
   "id": "39bdb5b2",
   "metadata": {},
   "outputs": [],
   "source": [
    "df_temp.rename(columns={'PAY_AMT1':'PAY_AMT_Sep','PAY_AMT2':'PAY_AMT_Aug','PAY_AMT3':'PAY_AMT_Jul','PAY_AMT4':'PAY_AMT_Jun','PAY_AMT5':'PAY_AMT_May','PAY_AMT6':'PAY_AMT_Apr'},inplace= True)"
   ]
  },
  {
   "cell_type": "code",
   "execution_count": 13,
   "id": "bda2f630",
   "metadata": {},
   "outputs": [
    {
     "data": {
      "text/plain": [
       "array(['ID', 'LIMIT_BAL', 'SEX', 'EDUCATION', 'MARRIAGE', 'AGE',\n",
       "       'PAY_Sep', 'PAY_Aug', 'PAY_Jul', 'PAY_Jun', 'PAY_May', 'PAY_Apr',\n",
       "       'BILL_AMT_Sep', 'BILL_AMT_Aug', 'BILL_AMT_Jul', 'BILL_AMT_Jun',\n",
       "       'BILL_AMT_May', 'BILL_AMT_Apr', 'PAY_AMT_Sep', 'PAY_AMT_Aug',\n",
       "       'PAY_AMT_Jul', 'PAY_AMT_Jun', 'PAY_AMT_May', 'PAY_AMT_Apr',\n",
       "       'default payment next month', 'utilization_ratio Sep', 'Paid Sep',\n",
       "       'Delinquent Sep', 'utilization_ratio Aug', 'Paid Aug',\n",
       "       'Delinquent Aug', 'utilization_ratio Jul', 'Paid Jul',\n",
       "       'Delinquent Jul', 'utilization_ratio Jun', 'Paid Jun',\n",
       "       'Delinquent Jun', 'utilization_ratio May', 'Paid May',\n",
       "       'Delinquent May', 'utilization_ratio Apr', 'Paid Apr',\n",
       "       'Delinquent Apr'], dtype=object)"
      ]
     },
     "execution_count": 13,
     "metadata": {},
     "output_type": "execute_result"
    }
   ],
   "source": [
    "df_temp.columns.values"
   ]
  },
  {
   "cell_type": "code",
   "execution_count": 14,
   "id": "504eaea3",
   "metadata": {},
   "outputs": [],
   "source": [
    "def reorder_columns_monthwise(df):\n",
    "    base_cols = ['ID', 'LIMIT_BAL', 'SEX', 'EDUCATION', 'MARRIAGE', 'AGE']\n",
    "    target_col = ['default payment next month']\n",
    "    \n",
    "    months = ['Sep', 'Aug', 'Jul', 'Jun', 'May', 'Apr']\n",
    "    ordered_month_cols = []\n",
    "\n",
    "    for month in months:\n",
    "        for prefix in ['PAY', 'BILL_AMT', 'PAY_AMT', 'utilization_ratio', 'Paid', 'Delinquent']:\n",
    "            col_name = f'{prefix} {month}' if prefix in ['utilization_ratio', 'Paid', 'Delinquent'] else f'{prefix}_{month}'\n",
    "            if col_name in df.columns:\n",
    "                ordered_month_cols.append(col_name)\n",
    "\n",
    "    new_order = base_cols + ordered_month_cols + target_col\n",
    "    return df[new_order]"
   ]
  },
  {
   "cell_type": "code",
   "execution_count": 15,
   "id": "b8b17f08",
   "metadata": {},
   "outputs": [],
   "source": [
    "df_temp = reorder_columns_monthwise(df_temp)"
   ]
  },
  {
   "cell_type": "code",
   "execution_count": 16,
   "id": "761141e1",
   "metadata": {},
   "outputs": [
    {
     "data": {
      "text/plain": [
       "array(['ID', 'LIMIT_BAL', 'SEX', 'EDUCATION', 'MARRIAGE', 'AGE',\n",
       "       'PAY_Sep', 'BILL_AMT_Sep', 'PAY_AMT_Sep', 'utilization_ratio Sep',\n",
       "       'Paid Sep', 'Delinquent Sep', 'PAY_Aug', 'BILL_AMT_Aug',\n",
       "       'PAY_AMT_Aug', 'utilization_ratio Aug', 'Paid Aug',\n",
       "       'Delinquent Aug', 'PAY_Jul', 'BILL_AMT_Jul', 'PAY_AMT_Jul',\n",
       "       'utilization_ratio Jul', 'Paid Jul', 'Delinquent Jul', 'PAY_Jun',\n",
       "       'BILL_AMT_Jun', 'PAY_AMT_Jun', 'utilization_ratio Jun', 'Paid Jun',\n",
       "       'Delinquent Jun', 'PAY_May', 'BILL_AMT_May', 'PAY_AMT_May',\n",
       "       'utilization_ratio May', 'Paid May', 'Delinquent May', 'PAY_Apr',\n",
       "       'BILL_AMT_Apr', 'PAY_AMT_Apr', 'utilization_ratio Apr', 'Paid Apr',\n",
       "       'Delinquent Apr', 'default payment next month'], dtype=object)"
      ]
     },
     "execution_count": 16,
     "metadata": {},
     "output_type": "execute_result"
    }
   ],
   "source": [
    "df_temp.columns.values"
   ]
  },
  {
   "cell_type": "code",
   "execution_count": 17,
   "id": "91b46dd6",
   "metadata": {},
   "outputs": [
    {
     "data": {
      "text/plain": [
       "2    9796\n",
       "1    7433\n",
       "3    3444\n",
       "5     195\n",
       "4      85\n",
       "6      38\n",
       "0       9\n",
       "Name: EDUCATION, dtype: int64"
      ]
     },
     "execution_count": 17,
     "metadata": {},
     "output_type": "execute_result"
    }
   ],
   "source": [
    "df_temp['EDUCATION'].value_counts(dropna= False)"
   ]
  },
  {
   "cell_type": "code",
   "execution_count": 19,
   "id": "c1a97e06",
   "metadata": {},
   "outputs": [],
   "source": [
    "mode_education_train = df_temp['EDUCATION'].mode()\n"
   ]
  },
  {
   "cell_type": "code",
   "execution_count": 20,
   "id": "7dd6ce4c",
   "metadata": {},
   "outputs": [],
   "source": [
    "df_temp['EDUCATION'] = np.where(df_temp['EDUCATION'] == 0, mode_education_train,df_temp['EDUCATION'])"
   ]
  },
  {
   "cell_type": "code",
   "execution_count": 21,
   "id": "aa9a1a15",
   "metadata": {},
   "outputs": [],
   "source": [
    "education_mapping = {\n",
    "    1: 'Graduate School',\n",
    "    2: 'University',\n",
    "    3: 'High School',\n",
    "    4: \"Others\",\n",
    "    5: \"Others\",\n",
    "    6: \"Others\"\n",
    "}\n",
    "\n",
    "df_temp['EDUCATION'] = df_temp['EDUCATION'].map(education_mapping)"
   ]
  },
  {
   "cell_type": "code",
   "execution_count": 22,
   "id": "b02a7cf0",
   "metadata": {},
   "outputs": [
    {
     "data": {
      "text/plain": [
       "University         9805\n",
       "Graduate School    7433\n",
       "High School        3444\n",
       "Others              318\n",
       "Name: EDUCATION, dtype: int64"
      ]
     },
     "execution_count": 22,
     "metadata": {},
     "output_type": "execute_result"
    }
   ],
   "source": [
    "df_temp['EDUCATION'].value_counts(dropna= False)"
   ]
  },
  {
   "cell_type": "code",
   "execution_count": 23,
   "id": "a38f8b1c",
   "metadata": {},
   "outputs": [
    {
     "data": {
      "text/plain": [
       "2    12724\n",
       "1     8276\n",
       "Name: SEX, dtype: int64"
      ]
     },
     "execution_count": 23,
     "metadata": {},
     "output_type": "execute_result"
    }
   ],
   "source": [
    "df_temp['SEX'].value_counts(dropna= False)"
   ]
  },
  {
   "cell_type": "code",
   "execution_count": 24,
   "id": "9d556ac3",
   "metadata": {},
   "outputs": [],
   "source": [
    "gender_mapping = {\n",
    "    1: 'Male',\n",
    "    2: 'Female'\n",
    "}\n",
    "\n",
    "df_temp['SEX'] = df_temp['SEX'].map(gender_mapping)"
   ]
  },
  {
   "cell_type": "code",
   "execution_count": 25,
   "id": "82dc02ee",
   "metadata": {},
   "outputs": [
    {
     "data": {
      "text/plain": [
       "Female    12724\n",
       "Male       8276\n",
       "Name: SEX, dtype: int64"
      ]
     },
     "execution_count": 25,
     "metadata": {},
     "output_type": "execute_result"
    }
   ],
   "source": [
    "df_temp['SEX'].value_counts(dropna= False)"
   ]
  },
  {
   "cell_type": "code",
   "execution_count": 26,
   "id": "1a8ee123",
   "metadata": {},
   "outputs": [
    {
     "data": {
      "text/plain": [
       "2    11132\n",
       "1     9605\n",
       "3      228\n",
       "0       35\n",
       "Name: MARRIAGE, dtype: int64"
      ]
     },
     "execution_count": 26,
     "metadata": {},
     "output_type": "execute_result"
    }
   ],
   "source": [
    "df_temp['MARRIAGE'].value_counts(dropna= False)"
   ]
  },
  {
   "cell_type": "code",
   "execution_count": 27,
   "id": "70b328b7",
   "metadata": {},
   "outputs": [],
   "source": [
    "mode_marriage_train = df_temp['MARRIAGE'].mode()"
   ]
  },
  {
   "cell_type": "code",
   "execution_count": 28,
   "id": "34255eb3",
   "metadata": {},
   "outputs": [],
   "source": [
    "df_temp['MARRIAGE'] = np.where(df_temp['MARRIAGE'] == 0,2,df_temp['MARRIAGE'])"
   ]
  },
  {
   "cell_type": "code",
   "execution_count": 29,
   "id": "64332b14",
   "metadata": {},
   "outputs": [
    {
     "data": {
      "text/plain": [
       "2    11167\n",
       "1     9605\n",
       "3      228\n",
       "Name: MARRIAGE, dtype: int64"
      ]
     },
     "execution_count": 29,
     "metadata": {},
     "output_type": "execute_result"
    }
   ],
   "source": [
    "df_temp['MARRIAGE'].value_counts(dropna= False)"
   ]
  },
  {
   "cell_type": "code",
   "execution_count": 30,
   "id": "659b07db",
   "metadata": {},
   "outputs": [],
   "source": [
    "marital_mapping = {\n",
    "    1: 'Married',\n",
    "    2: 'Single',\n",
    "    3: 'Others'\n",
    "}\n",
    "\n",
    "df_temp['MARRIAGE'] = df_temp['MARRIAGE'].map(marital_mapping)"
   ]
  },
  {
   "cell_type": "code",
   "execution_count": 31,
   "id": "d78534fb",
   "metadata": {},
   "outputs": [
    {
     "data": {
      "text/plain": [
       "Single     11167\n",
       "Married     9605\n",
       "Others       228\n",
       "Name: MARRIAGE, dtype: int64"
      ]
     },
     "execution_count": 31,
     "metadata": {},
     "output_type": "execute_result"
    }
   ],
   "source": [
    "df_temp['MARRIAGE'].value_counts(dropna= False)"
   ]
  },
  {
   "cell_type": "code",
   "execution_count": 32,
   "id": "b0c19383",
   "metadata": {},
   "outputs": [
    {
     "data": {
      "text/plain": [
       "ID                            0\n",
       "LIMIT_BAL                     0\n",
       "SEX                           0\n",
       "EDUCATION                     0\n",
       "MARRIAGE                      0\n",
       "AGE                           0\n",
       "PAY_Sep                       0\n",
       "BILL_AMT_Sep                  0\n",
       "PAY_AMT_Sep                   0\n",
       "utilization_ratio Sep         0\n",
       "Paid Sep                      0\n",
       "Delinquent Sep                0\n",
       "PAY_Aug                       0\n",
       "BILL_AMT_Aug                  0\n",
       "PAY_AMT_Aug                   0\n",
       "utilization_ratio Aug         0\n",
       "Paid Aug                      0\n",
       "Delinquent Aug                0\n",
       "PAY_Jul                       0\n",
       "BILL_AMT_Jul                  0\n",
       "PAY_AMT_Jul                   0\n",
       "utilization_ratio Jul         0\n",
       "Paid Jul                      0\n",
       "Delinquent Jul                0\n",
       "PAY_Jun                       0\n",
       "BILL_AMT_Jun                  0\n",
       "PAY_AMT_Jun                   0\n",
       "utilization_ratio Jun         0\n",
       "Paid Jun                      0\n",
       "Delinquent Jun                0\n",
       "PAY_May                       0\n",
       "BILL_AMT_May                  0\n",
       "PAY_AMT_May                   0\n",
       "utilization_ratio May         0\n",
       "Paid May                      0\n",
       "Delinquent May                0\n",
       "PAY_Apr                       0\n",
       "BILL_AMT_Apr                  0\n",
       "PAY_AMT_Apr                   0\n",
       "utilization_ratio Apr         0\n",
       "Paid Apr                      0\n",
       "Delinquent Apr                0\n",
       "default payment next month    0\n",
       "dtype: int64"
      ]
     },
     "execution_count": 32,
     "metadata": {},
     "output_type": "execute_result"
    }
   ],
   "source": [
    "df_temp.isna().sum()"
   ]
  },
  {
   "cell_type": "code",
   "execution_count": 33,
   "id": "f659d148",
   "metadata": {},
   "outputs": [
    {
     "data": {
      "text/plain": [
       "(21000, 43)"
      ]
     },
     "execution_count": 33,
     "metadata": {},
     "output_type": "execute_result"
    }
   ],
   "source": [
    "df_temp.shape"
   ]
  },
  {
   "cell_type": "code",
   "execution_count": 34,
   "id": "1369f5b5",
   "metadata": {},
   "outputs": [],
   "source": [
    "# One-hot encoding without dropping any columns\n",
    "df_temp = pd.get_dummies(df_temp, columns=['EDUCATION', 'SEX','MARRIAGE'], drop_first=False)"
   ]
  },
  {
   "cell_type": "code",
   "execution_count": 35,
   "id": "f6ccb44f",
   "metadata": {},
   "outputs": [
    {
     "data": {
      "text/plain": [
       "array(['ID', 'LIMIT_BAL', 'AGE', 'PAY_Sep', 'BILL_AMT_Sep', 'PAY_AMT_Sep',\n",
       "       'utilization_ratio Sep', 'Paid Sep', 'Delinquent Sep', 'PAY_Aug',\n",
       "       'BILL_AMT_Aug', 'PAY_AMT_Aug', 'utilization_ratio Aug', 'Paid Aug',\n",
       "       'Delinquent Aug', 'PAY_Jul', 'BILL_AMT_Jul', 'PAY_AMT_Jul',\n",
       "       'utilization_ratio Jul', 'Paid Jul', 'Delinquent Jul', 'PAY_Jun',\n",
       "       'BILL_AMT_Jun', 'PAY_AMT_Jun', 'utilization_ratio Jun', 'Paid Jun',\n",
       "       'Delinquent Jun', 'PAY_May', 'BILL_AMT_May', 'PAY_AMT_May',\n",
       "       'utilization_ratio May', 'Paid May', 'Delinquent May', 'PAY_Apr',\n",
       "       'BILL_AMT_Apr', 'PAY_AMT_Apr', 'utilization_ratio Apr', 'Paid Apr',\n",
       "       'Delinquent Apr', 'default payment next month',\n",
       "       'EDUCATION_Graduate School', 'EDUCATION_High School',\n",
       "       'EDUCATION_Others', 'EDUCATION_University', 'SEX_Female',\n",
       "       'SEX_Male', 'MARRIAGE_Married', 'MARRIAGE_Others',\n",
       "       'MARRIAGE_Single'], dtype=object)"
      ]
     },
     "execution_count": 35,
     "metadata": {},
     "output_type": "execute_result"
    }
   ],
   "source": [
    "df_temp.columns.values"
   ]
  },
  {
   "cell_type": "code",
   "execution_count": 36,
   "id": "0dd18582",
   "metadata": {},
   "outputs": [],
   "source": [
    "#Columns to drop for multi-collinearity\n",
    "col_to_drop = ['EDUCATION_Others','SEX_Female','MARRIAGE_Others']"
   ]
  },
  {
   "cell_type": "code",
   "execution_count": 37,
   "id": "5aa20d60",
   "metadata": {},
   "outputs": [],
   "source": [
    "df_temp.drop(columns= col_to_drop, inplace= True)"
   ]
  },
  {
   "cell_type": "code",
   "execution_count": 38,
   "id": "4dfd058c",
   "metadata": {},
   "outputs": [],
   "source": [
    "df_train = df_temp.copy()"
   ]
  },
  {
   "cell_type": "code",
   "execution_count": 39,
   "id": "404a82d4",
   "metadata": {},
   "outputs": [
    {
     "name": "stdout",
     "output_type": "stream",
     "text": [
      "(21000, 46)\n"
     ]
    },
    {
     "data": {
      "text/html": [
       "<div>\n",
       "<style scoped>\n",
       "    .dataframe tbody tr th:only-of-type {\n",
       "        vertical-align: middle;\n",
       "    }\n",
       "\n",
       "    .dataframe tbody tr th {\n",
       "        vertical-align: top;\n",
       "    }\n",
       "\n",
       "    .dataframe thead th {\n",
       "        text-align: right;\n",
       "    }\n",
       "</style>\n",
       "<table border=\"1\" class=\"dataframe\">\n",
       "  <thead>\n",
       "    <tr style=\"text-align: right;\">\n",
       "      <th></th>\n",
       "      <th>ID</th>\n",
       "      <th>LIMIT_BAL</th>\n",
       "      <th>AGE</th>\n",
       "      <th>PAY_Sep</th>\n",
       "      <th>BILL_AMT_Sep</th>\n",
       "      <th>PAY_AMT_Sep</th>\n",
       "      <th>utilization_ratio Sep</th>\n",
       "      <th>Paid Sep</th>\n",
       "      <th>Delinquent Sep</th>\n",
       "      <th>PAY_Aug</th>\n",
       "      <th>...</th>\n",
       "      <th>utilization_ratio Apr</th>\n",
       "      <th>Paid Apr</th>\n",
       "      <th>Delinquent Apr</th>\n",
       "      <th>default payment next month</th>\n",
       "      <th>EDUCATION_Graduate School</th>\n",
       "      <th>EDUCATION_High School</th>\n",
       "      <th>EDUCATION_University</th>\n",
       "      <th>SEX_Male</th>\n",
       "      <th>MARRIAGE_Married</th>\n",
       "      <th>MARRIAGE_Single</th>\n",
       "    </tr>\n",
       "  </thead>\n",
       "  <tbody>\n",
       "    <tr>\n",
       "      <th>0</th>\n",
       "      <td>28466</td>\n",
       "      <td>240000</td>\n",
       "      <td>40</td>\n",
       "      <td>-2</td>\n",
       "      <td>0</td>\n",
       "      <td>0</td>\n",
       "      <td>0.000000</td>\n",
       "      <td>0</td>\n",
       "      <td>0</td>\n",
       "      <td>-2</td>\n",
       "      <td>...</td>\n",
       "      <td>0.000000</td>\n",
       "      <td>0</td>\n",
       "      <td>0</td>\n",
       "      <td>1</td>\n",
       "      <td>1</td>\n",
       "      <td>0</td>\n",
       "      <td>0</td>\n",
       "      <td>0</td>\n",
       "      <td>1</td>\n",
       "      <td>0</td>\n",
       "    </tr>\n",
       "    <tr>\n",
       "      <th>1</th>\n",
       "      <td>27623</td>\n",
       "      <td>50000</td>\n",
       "      <td>23</td>\n",
       "      <td>-1</td>\n",
       "      <td>3430</td>\n",
       "      <td>2548</td>\n",
       "      <td>0.068600</td>\n",
       "      <td>1</td>\n",
       "      <td>0</td>\n",
       "      <td>-1</td>\n",
       "      <td>...</td>\n",
       "      <td>0.013200</td>\n",
       "      <td>1</td>\n",
       "      <td>0</td>\n",
       "      <td>0</td>\n",
       "      <td>1</td>\n",
       "      <td>0</td>\n",
       "      <td>0</td>\n",
       "      <td>0</td>\n",
       "      <td>0</td>\n",
       "      <td>1</td>\n",
       "    </tr>\n",
       "    <tr>\n",
       "      <th>2</th>\n",
       "      <td>28377</td>\n",
       "      <td>50000</td>\n",
       "      <td>36</td>\n",
       "      <td>2</td>\n",
       "      <td>46203</td>\n",
       "      <td>0</td>\n",
       "      <td>0.924060</td>\n",
       "      <td>0</td>\n",
       "      <td>1</td>\n",
       "      <td>2</td>\n",
       "      <td>...</td>\n",
       "      <td>0.702520</td>\n",
       "      <td>0</td>\n",
       "      <td>0</td>\n",
       "      <td>0</td>\n",
       "      <td>0</td>\n",
       "      <td>0</td>\n",
       "      <td>1</td>\n",
       "      <td>0</td>\n",
       "      <td>1</td>\n",
       "      <td>0</td>\n",
       "    </tr>\n",
       "    <tr>\n",
       "      <th>3</th>\n",
       "      <td>10918</td>\n",
       "      <td>200000</td>\n",
       "      <td>54</td>\n",
       "      <td>6</td>\n",
       "      <td>110185</td>\n",
       "      <td>0</td>\n",
       "      <td>0.550925</td>\n",
       "      <td>0</td>\n",
       "      <td>1</td>\n",
       "      <td>5</td>\n",
       "      <td>...</td>\n",
       "      <td>0.000000</td>\n",
       "      <td>0</td>\n",
       "      <td>1</td>\n",
       "      <td>0</td>\n",
       "      <td>0</td>\n",
       "      <td>1</td>\n",
       "      <td>0</td>\n",
       "      <td>0</td>\n",
       "      <td>1</td>\n",
       "      <td>0</td>\n",
       "    </tr>\n",
       "    <tr>\n",
       "      <th>4</th>\n",
       "      <td>27235</td>\n",
       "      <td>240000</td>\n",
       "      <td>35</td>\n",
       "      <td>-1</td>\n",
       "      <td>2024</td>\n",
       "      <td>2017</td>\n",
       "      <td>0.008433</td>\n",
       "      <td>1</td>\n",
       "      <td>0</td>\n",
       "      <td>-1</td>\n",
       "      <td>...</td>\n",
       "      <td>0.094412</td>\n",
       "      <td>1</td>\n",
       "      <td>0</td>\n",
       "      <td>0</td>\n",
       "      <td>1</td>\n",
       "      <td>0</td>\n",
       "      <td>0</td>\n",
       "      <td>1</td>\n",
       "      <td>1</td>\n",
       "      <td>0</td>\n",
       "    </tr>\n",
       "  </tbody>\n",
       "</table>\n",
       "<p>5 rows × 46 columns</p>\n",
       "</div>"
      ],
      "text/plain": [
       "      ID  LIMIT_BAL  AGE  PAY_Sep  BILL_AMT_Sep  PAY_AMT_Sep  \\\n",
       "0  28466     240000   40       -2             0            0   \n",
       "1  27623      50000   23       -1          3430         2548   \n",
       "2  28377      50000   36        2         46203            0   \n",
       "3  10918     200000   54        6        110185            0   \n",
       "4  27235     240000   35       -1          2024         2017   \n",
       "\n",
       "   utilization_ratio Sep  Paid Sep  Delinquent Sep  PAY_Aug  ...  \\\n",
       "0               0.000000         0               0       -2  ...   \n",
       "1               0.068600         1               0       -1  ...   \n",
       "2               0.924060         0               1        2  ...   \n",
       "3               0.550925         0               1        5  ...   \n",
       "4               0.008433         1               0       -1  ...   \n",
       "\n",
       "   utilization_ratio Apr  Paid Apr  Delinquent Apr  \\\n",
       "0               0.000000         0               0   \n",
       "1               0.013200         1               0   \n",
       "2               0.702520         0               0   \n",
       "3               0.000000         0               1   \n",
       "4               0.094412         1               0   \n",
       "\n",
       "   default payment next month  EDUCATION_Graduate School  \\\n",
       "0                           1                          1   \n",
       "1                           0                          1   \n",
       "2                           0                          0   \n",
       "3                           0                          0   \n",
       "4                           0                          1   \n",
       "\n",
       "   EDUCATION_High School  EDUCATION_University  SEX_Male  MARRIAGE_Married  \\\n",
       "0                      0                     0         0                 1   \n",
       "1                      0                     0         0                 0   \n",
       "2                      0                     1         0                 1   \n",
       "3                      1                     0         0                 1   \n",
       "4                      0                     0         1                 1   \n",
       "\n",
       "   MARRIAGE_Single  \n",
       "0                0  \n",
       "1                1  \n",
       "2                0  \n",
       "3                0  \n",
       "4                0  \n",
       "\n",
       "[5 rows x 46 columns]"
      ]
     },
     "execution_count": 39,
     "metadata": {},
     "output_type": "execute_result"
    }
   ],
   "source": [
    "print(df_train.shape)\n",
    "df_train.head()"
   ]
  },
  {
   "cell_type": "code",
   "execution_count": 40,
   "id": "af8939c3",
   "metadata": {},
   "outputs": [
    {
     "data": {
      "text/plain": [
       "Index(['ID', 'LIMIT_BAL', 'AGE', 'PAY_Sep', 'BILL_AMT_Sep', 'PAY_AMT_Sep',\n",
       "       'utilization_ratio Sep', 'Paid Sep', 'Delinquent Sep', 'PAY_Aug',\n",
       "       'BILL_AMT_Aug', 'PAY_AMT_Aug', 'utilization_ratio Aug', 'Paid Aug',\n",
       "       'Delinquent Aug', 'PAY_Jul', 'BILL_AMT_Jul', 'PAY_AMT_Jul',\n",
       "       'utilization_ratio Jul', 'Paid Jul', 'Delinquent Jul', 'PAY_Jun',\n",
       "       'BILL_AMT_Jun', 'PAY_AMT_Jun', 'utilization_ratio Jun', 'Paid Jun',\n",
       "       'Delinquent Jun', 'PAY_May', 'BILL_AMT_May', 'PAY_AMT_May',\n",
       "       'utilization_ratio May', 'Paid May', 'Delinquent May', 'PAY_Apr',\n",
       "       'BILL_AMT_Apr', 'PAY_AMT_Apr', 'utilization_ratio Apr', 'Paid Apr',\n",
       "       'Delinquent Apr', 'default payment next month',\n",
       "       'EDUCATION_Graduate School', 'EDUCATION_High School',\n",
       "       'EDUCATION_University', 'SEX_Male', 'MARRIAGE_Married',\n",
       "       'MARRIAGE_Single'],\n",
       "      dtype='object')"
      ]
     },
     "execution_count": 40,
     "metadata": {},
     "output_type": "execute_result"
    }
   ],
   "source": [
    "df_train.columns"
   ]
  },
  {
   "cell_type": "code",
   "execution_count": 41,
   "id": "56a93003",
   "metadata": {},
   "outputs": [],
   "source": [
    "# Binary features already in 0/1 format — manually completed\n",
    "already_one_hot_encoded_cols = [\n",
    "    'Paid Sep', 'Delinquent Sep',\n",
    "    'Paid Aug', 'Delinquent Aug',\n",
    "    'Paid Jul', 'Delinquent Jul',\n",
    "    'Paid Jun', 'Delinquent Jun',\n",
    "    'Paid May', 'Delinquent May',\n",
    "    'Paid Apr', 'Delinquent Apr',\n",
    "    'EDUCATION_Graduate School', 'EDUCATION_High School',\n",
    "    'EDUCATION_University', 'SEX_Male', 'MARRIAGE_Married',\n",
    "    'MARRIAGE_Single'\n",
    "]"
   ]
  },
  {
   "cell_type": "code",
   "execution_count": 42,
   "id": "0fb62e0b",
   "metadata": {},
   "outputs": [],
   "source": [
    "cols_to_ignore_for_woe = already_one_hot_encoded_cols + ['ID']"
   ]
  },
  {
   "cell_type": "code",
   "execution_count": 43,
   "id": "429df1ae",
   "metadata": {},
   "outputs": [
    {
     "data": {
      "text/plain": [
       "['Paid Sep',\n",
       " 'Delinquent Sep',\n",
       " 'Paid Aug',\n",
       " 'Delinquent Aug',\n",
       " 'Paid Jul',\n",
       " 'Delinquent Jul',\n",
       " 'Paid Jun',\n",
       " 'Delinquent Jun',\n",
       " 'Paid May',\n",
       " 'Delinquent May',\n",
       " 'Paid Apr',\n",
       " 'Delinquent Apr',\n",
       " 'EDUCATION_Graduate School',\n",
       " 'EDUCATION_High School',\n",
       " 'EDUCATION_University',\n",
       " 'SEX_Male',\n",
       " 'MARRIAGE_Married',\n",
       " 'MARRIAGE_Single',\n",
       " 'ID']"
      ]
     },
     "execution_count": 43,
     "metadata": {},
     "output_type": "execute_result"
    }
   ],
   "source": [
    "cols_to_ignore_for_woe"
   ]
  },
  {
   "cell_type": "code",
   "execution_count": 44,
   "id": "5a9b3eaf",
   "metadata": {},
   "outputs": [],
   "source": [
    "import pandas as pd\n",
    "import numpy as np\n",
    "import matplotlib.pyplot as plt\n",
    "import re\n",
    "\n",
    "def iv_woe(df_1, target):\n",
    "    all_bins = []\n",
    "    epsilon = 1e-10\n",
    "    \n",
    "    for col in df_1.columns:\n",
    "        if col == target:\n",
    "            continue\n",
    "        \n",
    "        df = df_1[[col, target]].copy()\n",
    "        \n",
    "        if df[col].dtype != 'object' and pd.api.types.is_numeric_dtype(df[col]):\n",
    "            try:\n",
    "                df['bin'] = pd.qcut(df[col], 10, duplicates='drop')\n",
    "                group_col = 'bin'\n",
    "            except Exception as e:\n",
    "                print(f\"Could not bin numeric column {col}: {e}\")\n",
    "                continue\n",
    "        else:\n",
    "            df['bin'] = df[col].astype(str)\n",
    "            group_col = 'bin'\n",
    "\n",
    "        summary = df.groupby(group_col)[target].agg(['count','sum']).reset_index()\n",
    "        summary.rename(columns={'count': 'Total Observations', 'sum': 'Events'}, inplace=True)\n",
    "        summary['Non events'] = summary['Total Observations'] - summary['Events']\n",
    "        summary['% of Non events'] = summary['Non events'] / summary['Non events'].sum()\n",
    "        summary['% of Events'] = summary['Events'] / summary['Events'].sum()\n",
    "        summary['% of Non events'] = summary['% of Non events'].replace(0, epsilon)\n",
    "        summary['% of Events'] = summary['% of Events'].replace(0, epsilon)\n",
    "        summary['WoE'] = np.log(summary['% of Non events'] / summary['% of Events'])\n",
    "        summary['IV'] = summary['WoE'] * (summary['% of Non events'] - summary['% of Events'])\n",
    "        summary['Feature'] = col\n",
    "        summary = summary[['Feature', 'bin', 'Total Observations', 'Non events', 'Events',\n",
    "                           '% of Non events', '% of Events', 'WoE', 'IV']]\n",
    "        all_bins.append(summary)\n",
    "    \n",
    "    woe_df = pd.concat(all_bins, ignore_index=True)\n",
    "    iv_df = woe_df.groupby('Feature')['IV'].sum().reset_index(name='IV')\n",
    "    return woe_df, iv_df\n",
    "\n",
    "def parse_bounds(bin_label):\n",
    "    matches = re.findall(r\"[-+]?\\d*\\.\\d+|\\d+\", bin_label)\n",
    "    if len(matches) >= 2:\n",
    "        return float(matches[0]), float(matches[1])\n",
    "    else:\n",
    "        return None, None\n",
    "\n",
    "def merge_small_bins(woe_df, feature, min_bin_pct=0.02):\n",
    "    woe_df_temp = woe_df[woe_df['Feature'] == feature].copy()\n",
    "\n",
    "    # Skip merging for categorical bins\n",
    "    try:\n",
    "        pd.Interval(0, 1)  # test if Interval exists\n",
    "        test_bin = woe_df_temp['bin'].iloc[0]\n",
    "        if not isinstance(test_bin, pd.Interval):\n",
    "            return woe_df_temp\n",
    "    except:\n",
    "        return woe_df_temp\n",
    "\n",
    "    total_obs = woe_df_temp['Total Observations'].sum()\n",
    "    min_bin_cnt = total_obs * min_bin_pct\n",
    "\n",
    "    while (woe_df_temp['Total Observations'] < min_bin_cnt).any():\n",
    "        small_bin_indx = woe_df_temp[woe_df_temp['Total Observations'] < min_bin_cnt].index\n",
    "        if len(small_bin_indx) == 0:\n",
    "            break\n",
    "\n",
    "        idx = small_bin_indx[0]\n",
    "        if idx == 0:\n",
    "            merge_with = idx + 1\n",
    "        else:\n",
    "            merge_with = idx - 1\n",
    "\n",
    "        # Merge label\n",
    "        left_bound, _ = parse_bounds(str(woe_df_temp.at[merge_with, 'bin']))\n",
    "        _, right_bound = parse_bounds(str(woe_df_temp.at[idx, 'bin']))\n",
    "        if left_bound is not None and right_bound is not None:\n",
    "            merged_bin_label = f\"({left_bound}, {right_bound}]\"\n",
    "        else:\n",
    "            merged_bin_label = f\"{woe_df_temp.at[merge_with, 'bin']} + {woe_df_temp.at[idx, 'bin']}\"\n",
    "\n",
    "        woe_df_temp.at[merge_with, 'bin'] = merged_bin_label\n",
    "\n",
    "        for col in ['Total Observations', 'Events', 'Non events']:\n",
    "            woe_df_temp.at[merge_with, col] += woe_df_temp.at[idx, col]\n",
    "\n",
    "        woe_df_temp = woe_df_temp.drop(index=idx).reset_index(drop=True)\n",
    "\n",
    "        # Recalculate WoE/IV\n",
    "        epsilon = 1e-10\n",
    "        woe_df_temp['% of Non events'] = woe_df_temp['Non events'] / woe_df_temp['Non events'].sum()\n",
    "        woe_df_temp['% of Events'] = woe_df_temp['Events'] / woe_df_temp['Events'].sum()\n",
    "        woe_df_temp['% of Non events'] = woe_df_temp['% of Non events'].replace(0, epsilon)\n",
    "        woe_df_temp['% of Events'] = woe_df_temp['% of Events'].replace(0, epsilon)\n",
    "        woe_df_temp['WoE'] = np.log(woe_df_temp['% of Non events'] / woe_df_temp['% of Events'])\n",
    "        woe_df_temp['IV'] = (woe_df_temp['% of Non events'] - woe_df_temp['% of Events']) * woe_df_temp['WoE']\n",
    "\n",
    "    return woe_df_temp\n",
    "\n",
    "def is_monotonic(col_series):\n",
    "    return col_series.is_monotonic_increasing or col_series.is_monotonic_decreasing\n",
    "\n",
    "def bin_merge(woe_df, feature):\n",
    "    woe_df_temp = woe_df[woe_df['Feature'] == feature].copy()\n",
    "\n",
    "    # Skip if not numeric bins\n",
    "    try:\n",
    "        test_bin = woe_df_temp['bin'].iloc[0]\n",
    "        if not isinstance(test_bin, pd.Interval):\n",
    "            return woe_df_temp\n",
    "    except:\n",
    "        return woe_df_temp\n",
    "\n",
    "    while not is_monotonic(woe_df_temp['Total Observations']):\n",
    "        diffs = woe_df_temp['WoE'].diff().abs()\n",
    "        min_diff_index = diffs[1:].idxmin()\n",
    "        previous_index = min_diff_index - 1\n",
    "\n",
    "        left_bound, _ = parse_bounds(str(woe_df_temp.at[previous_index, 'bin']))\n",
    "        _, right_bound = parse_bounds(str(woe_df_temp.at[min_diff_index, 'bin']))\n",
    "        if left_bound is not None and right_bound is not None:\n",
    "            merged_bin_label = f\"({left_bound}, {right_bound}]\"\n",
    "        else:\n",
    "            merged_bin_label = f\"{woe_df_temp.at[previous_index, 'bin']} + {woe_df_temp.at[min_diff_index, 'bin']}\"\n",
    "\n",
    "        woe_df_temp.at[previous_index, 'bin'] = merged_bin_label\n",
    "\n",
    "        for col in ['Total Observations', 'Events', 'Non events']:\n",
    "            woe_df_temp.at[previous_index, col] += woe_df_temp.at[min_diff_index, col]\n",
    "\n",
    "        woe_df_temp = woe_df_temp.drop(index=min_diff_index).reset_index(drop=True)\n",
    "\n",
    "        # Recalculate WoE/IV\n",
    "        epsilon = 1e-10\n",
    "        woe_df_temp['% of Non events'] = woe_df_temp['Non events'] / woe_df_temp['Non events'].sum()\n",
    "        woe_df_temp['% of Events'] = woe_df_temp['Events'] / woe_df_temp['Events'].sum()\n",
    "        woe_df_temp['% of Non events'] = woe_df_temp['% of Non events'].replace(0, epsilon)\n",
    "        woe_df_temp['% of Events'] = woe_df_temp['% of Events'].replace(0, epsilon)\n",
    "        woe_df_temp['WoE'] = np.log(woe_df_temp['% of Non events'] / woe_df_temp['% of Events'])\n",
    "        woe_df_temp['IV'] = (\n",
    "            (woe_df_temp['% of Non events'] - woe_df_temp['% of Events']) * woe_df_temp['WoE']\n",
    "        )\n",
    "\n",
    "    return woe_df_temp\n",
    "\n",
    "def plot_woe_distribution(df, feature):\n",
    "    df_plot = df[df['Feature'] == feature].copy()\n",
    "    df_plot['bin'] = df_plot['bin'].astype(str)\n",
    "\n",
    "    fig, ax1 = plt.subplots(figsize=(10, 6))\n",
    "    ax1.bar(df_plot['bin'], df_plot['% of Non events'], label='% of Non events', color='blue')\n",
    "    ax1.bar(df_plot['bin'], df_plot['% of Events'], bottom=df_plot['% of Non events'],\n",
    "            label='% of Events', color='red')\n",
    "    ax1.set_ylabel('Event/Non-event %')\n",
    "    ax1.set_xlabel('Bins')\n",
    "    ax1.set_xticklabels(df_plot['bin'], rotation=45, ha='right')\n",
    "    ax1.legend(loc='upper left')\n",
    "\n",
    "    ax2 = ax1.twinx()\n",
    "    ax2.plot(df_plot['bin'], df_plot['WoE'], color='black', marker='o', label='WoE')\n",
    "    ax2.set_ylabel('Weight of Evidence')\n",
    "    ax2.axhline(y=0, color='gray', linestyle='--', linewidth=1)\n",
    "    plt.title(f'WoE & Event Distribution - {feature}')\n",
    "    fig.tight_layout()\n",
    "    ax2.legend(loc='upper right')\n",
    "    plt.show()\n",
    "\n",
    "def compute_iv_optimize(df_1, target, min_bin_pct=0.02, plot=False):\n",
    "    woe_df, iv_df = iv_woe(df_1, target)\n",
    "    features = woe_df['Feature'].unique()\n",
    "\n",
    "    final_df_list = []\n",
    "    for col in features:\n",
    "        merged = merge_small_bins(woe_df, col, min_bin_pct=min_bin_pct)\n",
    "        merged = bin_merge(merged, col)\n",
    "        final_df_list.append(merged)\n",
    "        if plot:\n",
    "            plot_woe_distribution(merged, col)\n",
    "\n",
    "    final_woe_df = pd.concat(final_df_list, ignore_index=True)\n",
    "    iv_df = final_woe_df.groupby('Feature')['IV'].sum().reset_index(name='IV')\n",
    "    return final_woe_df, iv_df"
   ]
  },
  {
   "cell_type": "code",
   "execution_count": 45,
   "id": "714ca23c",
   "metadata": {},
   "outputs": [],
   "source": [
    "woe_temp,iv_df = compute_iv_optimize(df_train.drop(columns=cols_to_ignore_for_woe),target = 'default payment next month',min_bin_pct= 0.02,plot = False)"
   ]
  },
  {
   "cell_type": "code",
   "execution_count": 46,
   "id": "57016632",
   "metadata": {},
   "outputs": [
    {
     "data": {
      "text/html": [
       "<div>\n",
       "<style scoped>\n",
       "    .dataframe tbody tr th:only-of-type {\n",
       "        vertical-align: middle;\n",
       "    }\n",
       "\n",
       "    .dataframe tbody tr th {\n",
       "        vertical-align: top;\n",
       "    }\n",
       "\n",
       "    .dataframe thead th {\n",
       "        text-align: right;\n",
       "    }\n",
       "</style>\n",
       "<table border=\"1\" class=\"dataframe\">\n",
       "  <thead>\n",
       "    <tr style=\"text-align: right;\">\n",
       "      <th></th>\n",
       "      <th>Feature</th>\n",
       "      <th>bin</th>\n",
       "      <th>Total Observations</th>\n",
       "      <th>Non events</th>\n",
       "      <th>Events</th>\n",
       "      <th>% of Non events</th>\n",
       "      <th>% of Events</th>\n",
       "      <th>WoE</th>\n",
       "      <th>IV</th>\n",
       "    </tr>\n",
       "  </thead>\n",
       "  <tbody>\n",
       "    <tr>\n",
       "      <th>0</th>\n",
       "      <td>LIMIT_BAL</td>\n",
       "      <td>(9999.999, 30000.0]</td>\n",
       "      <td>2843</td>\n",
       "      <td>1790</td>\n",
       "      <td>1053</td>\n",
       "      <td>0.109654</td>\n",
       "      <td>0.225192</td>\n",
       "      <td>-0.719621</td>\n",
       "      <td>0.083144</td>\n",
       "    </tr>\n",
       "    <tr>\n",
       "      <th>1</th>\n",
       "      <td>LIMIT_BAL</td>\n",
       "      <td>(30000.0, 140000.0]</td>\n",
       "      <td>7886</td>\n",
       "      <td>5899</td>\n",
       "      <td>1987</td>\n",
       "      <td>0.361370</td>\n",
       "      <td>0.424936</td>\n",
       "      <td>-0.162036</td>\n",
       "      <td>0.010300</td>\n",
       "    </tr>\n",
       "    <tr>\n",
       "      <th>2</th>\n",
       "      <td>LIMIT_BAL</td>\n",
       "      <td>(140000.0, 1000000.0]</td>\n",
       "      <td>10271</td>\n",
       "      <td>8635</td>\n",
       "      <td>1636</td>\n",
       "      <td>0.528976</td>\n",
       "      <td>0.349872</td>\n",
       "      <td>0.413376</td>\n",
       "      <td>0.074037</td>\n",
       "    </tr>\n",
       "    <tr>\n",
       "      <th>3</th>\n",
       "      <td>AGE</td>\n",
       "      <td>(20.999, 25.0]</td>\n",
       "      <td>2745</td>\n",
       "      <td>2006</td>\n",
       "      <td>739</td>\n",
       "      <td>0.122887</td>\n",
       "      <td>0.158041</td>\n",
       "      <td>-0.251593</td>\n",
       "      <td>0.008845</td>\n",
       "    </tr>\n",
       "    <tr>\n",
       "      <th>4</th>\n",
       "      <td>AGE</td>\n",
       "      <td>(25.0, 75.0]</td>\n",
       "      <td>18255</td>\n",
       "      <td>14318</td>\n",
       "      <td>3937</td>\n",
       "      <td>0.877113</td>\n",
       "      <td>0.841959</td>\n",
       "      <td>0.040905</td>\n",
       "      <td>0.001438</td>\n",
       "    </tr>\n",
       "    <tr>\n",
       "      <th>...</th>\n",
       "      <td>...</td>\n",
       "      <td>...</td>\n",
       "      <td>...</td>\n",
       "      <td>...</td>\n",
       "      <td>...</td>\n",
       "      <td>...</td>\n",
       "      <td>...</td>\n",
       "      <td>...</td>\n",
       "      <td>...</td>\n",
       "    </tr>\n",
       "    <tr>\n",
       "      <th>70</th>\n",
       "      <td>PAY_AMT_Apr</td>\n",
       "      <td>(1500.0, 5000.0]</td>\n",
       "      <td>6339</td>\n",
       "      <td>5087</td>\n",
       "      <td>1252</td>\n",
       "      <td>0.311627</td>\n",
       "      <td>0.267750</td>\n",
       "      <td>0.151753</td>\n",
       "      <td>0.006658</td>\n",
       "    </tr>\n",
       "    <tr>\n",
       "      <th>71</th>\n",
       "      <td>PAY_AMT_Apr</td>\n",
       "      <td>(5000.0, 527143.0]</td>\n",
       "      <td>3971</td>\n",
       "      <td>3414</td>\n",
       "      <td>557</td>\n",
       "      <td>0.209140</td>\n",
       "      <td>0.119119</td>\n",
       "      <td>0.562881</td>\n",
       "      <td>0.050671</td>\n",
       "    </tr>\n",
       "    <tr>\n",
       "      <th>72</th>\n",
       "      <td>utilization_ratio Apr</td>\n",
       "      <td>(-1.511, 0.349]</td>\n",
       "      <td>12600</td>\n",
       "      <td>10302</td>\n",
       "      <td>2298</td>\n",
       "      <td>0.631095</td>\n",
       "      <td>0.491446</td>\n",
       "      <td>0.250105</td>\n",
       "      <td>0.034927</td>\n",
       "    </tr>\n",
       "    <tr>\n",
       "      <th>73</th>\n",
       "      <td>utilization_ratio Apr</td>\n",
       "      <td>(0.349, 0.671]</td>\n",
       "      <td>4200</td>\n",
       "      <td>3198</td>\n",
       "      <td>1002</td>\n",
       "      <td>0.195908</td>\n",
       "      <td>0.214286</td>\n",
       "      <td>-0.089666</td>\n",
       "      <td>0.001648</td>\n",
       "    </tr>\n",
       "    <tr>\n",
       "      <th>74</th>\n",
       "      <td>utilization_ratio Apr</td>\n",
       "      <td>(0.671, 3.886]</td>\n",
       "      <td>4200</td>\n",
       "      <td>2824</td>\n",
       "      <td>1376</td>\n",
       "      <td>0.172997</td>\n",
       "      <td>0.294269</td>\n",
       "      <td>-0.531220</td>\n",
       "      <td>0.064422</td>\n",
       "    </tr>\n",
       "  </tbody>\n",
       "</table>\n",
       "<p>75 rows × 9 columns</p>\n",
       "</div>"
      ],
      "text/plain": [
       "                  Feature                    bin  Total Observations  \\\n",
       "0               LIMIT_BAL    (9999.999, 30000.0]                2843   \n",
       "1               LIMIT_BAL    (30000.0, 140000.0]                7886   \n",
       "2               LIMIT_BAL  (140000.0, 1000000.0]               10271   \n",
       "3                     AGE         (20.999, 25.0]                2745   \n",
       "4                     AGE           (25.0, 75.0]               18255   \n",
       "..                    ...                    ...                 ...   \n",
       "70            PAY_AMT_Apr       (1500.0, 5000.0]                6339   \n",
       "71            PAY_AMT_Apr     (5000.0, 527143.0]                3971   \n",
       "72  utilization_ratio Apr        (-1.511, 0.349]               12600   \n",
       "73  utilization_ratio Apr         (0.349, 0.671]                4200   \n",
       "74  utilization_ratio Apr         (0.671, 3.886]                4200   \n",
       "\n",
       "    Non events  Events  % of Non events  % of Events       WoE        IV  \n",
       "0         1790    1053         0.109654     0.225192 -0.719621  0.083144  \n",
       "1         5899    1987         0.361370     0.424936 -0.162036  0.010300  \n",
       "2         8635    1636         0.528976     0.349872  0.413376  0.074037  \n",
       "3         2006     739         0.122887     0.158041 -0.251593  0.008845  \n",
       "4        14318    3937         0.877113     0.841959  0.040905  0.001438  \n",
       "..         ...     ...              ...          ...       ...       ...  \n",
       "70        5087    1252         0.311627     0.267750  0.151753  0.006658  \n",
       "71        3414     557         0.209140     0.119119  0.562881  0.050671  \n",
       "72       10302    2298         0.631095     0.491446  0.250105  0.034927  \n",
       "73        3198    1002         0.195908     0.214286 -0.089666  0.001648  \n",
       "74        2824    1376         0.172997     0.294269 -0.531220  0.064422  \n",
       "\n",
       "[75 rows x 9 columns]"
      ]
     },
     "execution_count": 46,
     "metadata": {},
     "output_type": "execute_result"
    }
   ],
   "source": [
    "woe_temp"
   ]
  },
  {
   "cell_type": "code",
   "execution_count": 47,
   "id": "147704b3",
   "metadata": {},
   "outputs": [],
   "source": [
    "import pandas as pd\n",
    "import numpy as np\n",
    "import re\n",
    "\n",
    "def parse_interval(interval_str):\n",
    "    \"\"\"Parse a string like '(30000.0, 140000.0]' into a pd.Interval.\"\"\"\n",
    "    if not isinstance(interval_str, str):\n",
    "        return np.nan\n",
    "    match = re.match(r'[\\[\\(]([-\\d\\.]+),\\s*([-\\d\\.]+)[\\]\\)]', interval_str)\n",
    "    if match:\n",
    "        left = float(match.group(1))\n",
    "        right = float(match.group(2))\n",
    "        closed = 'right' if interval_str.endswith(']') else 'left'\n",
    "        return pd.Interval(left, right, closed=closed)\n",
    "    return np.nan\n",
    "\n",
    "def apply_woe_binning(df, woe_temp):\n",
    "    df_transformed = df.copy()\n",
    "\n",
    "    for feature in woe_temp['Feature'].unique():\n",
    "        if feature not in df_transformed.columns:\n",
    "            continue\n",
    "\n",
    "        feature_woe = woe_temp[woe_temp['Feature'] == feature].copy()\n",
    "        feature_woe['bin'] = feature_woe['bin'].astype(str)  # Ensure string for parsing\n",
    "\n",
    "        is_interval = feature_woe['bin'].str.contains(r'[\\[\\(].*,.*[\\]\\)]').any()\n",
    "\n",
    "        if is_interval:\n",
    "            # Parse intervals to pd.Interval\n",
    "            intervals = feature_woe['bin'].apply(parse_interval)\n",
    "            valid = intervals.notna()\n",
    "            woe_map = dict(zip(intervals[valid], feature_woe.loc[valid, 'WoE']))\n",
    "            cut_intervals = pd.IntervalIndex(intervals[valid])\n",
    "\n",
    "            df_transformed[feature] = pd.cut(df_transformed[feature], bins=cut_intervals).map(woe_map)\n",
    "\n",
    "        else:\n",
    "            # Map exact or categorical values\n",
    "            woe_map = dict(zip(feature_woe['bin'], feature_woe['WoE']))\n",
    "            df_transformed[feature] = df_transformed[feature].map(woe_map)\n",
    "\n",
    "    return df_transformed\n"
   ]
  },
  {
   "cell_type": "code",
   "execution_count": 48,
   "id": "34b18d80",
   "metadata": {},
   "outputs": [],
   "source": [
    "df_train_woe = apply_woe_binning(df_train, woe_temp)"
   ]
  },
  {
   "cell_type": "code",
   "execution_count": 49,
   "id": "ebe74f3c",
   "metadata": {},
   "outputs": [
    {
     "data": {
      "text/plain": [
       "Index(['ID', 'LIMIT_BAL', 'AGE', 'PAY_Sep', 'BILL_AMT_Sep', 'PAY_AMT_Sep',\n",
       "       'utilization_ratio Sep', 'Paid Sep', 'Delinquent Sep', 'PAY_Aug',\n",
       "       'BILL_AMT_Aug', 'PAY_AMT_Aug', 'utilization_ratio Aug', 'Paid Aug',\n",
       "       'Delinquent Aug', 'PAY_Jul', 'BILL_AMT_Jul', 'PAY_AMT_Jul',\n",
       "       'utilization_ratio Jul', 'Paid Jul', 'Delinquent Jul', 'PAY_Jun',\n",
       "       'BILL_AMT_Jun', 'PAY_AMT_Jun', 'utilization_ratio Jun', 'Paid Jun',\n",
       "       'Delinquent Jun', 'PAY_May', 'BILL_AMT_May', 'PAY_AMT_May',\n",
       "       'utilization_ratio May', 'Paid May', 'Delinquent May', 'PAY_Apr',\n",
       "       'BILL_AMT_Apr', 'PAY_AMT_Apr', 'utilization_ratio Apr', 'Paid Apr',\n",
       "       'Delinquent Apr', 'default payment next month',\n",
       "       'EDUCATION_Graduate School', 'EDUCATION_High School',\n",
       "       'EDUCATION_University', 'SEX_Male', 'MARRIAGE_Married',\n",
       "       'MARRIAGE_Single'],\n",
       "      dtype='object')"
      ]
     },
     "execution_count": 49,
     "metadata": {},
     "output_type": "execute_result"
    }
   ],
   "source": [
    "df_train_woe.columns"
   ]
  },
  {
   "cell_type": "code",
   "execution_count": 50,
   "id": "c33f6e0e",
   "metadata": {},
   "outputs": [
    {
     "data": {
      "text/plain": [
       "0    12724\n",
       "1     8276\n",
       "Name: SEX_Male, dtype: int64"
      ]
     },
     "execution_count": 50,
     "metadata": {},
     "output_type": "execute_result"
    }
   ],
   "source": [
    "df_train_woe['SEX_Male'].value_counts(dropna= False)"
   ]
  },
  {
   "cell_type": "markdown",
   "id": "decf74b0",
   "metadata": {},
   "source": [
    "# Feature Elimination: Train Data"
   ]
  },
  {
   "cell_type": "code",
   "execution_count": 51,
   "id": "2391f6f5",
   "metadata": {},
   "outputs": [],
   "source": [
    "iv_features = iv_df[iv_df['IV'] >= 0.02]['Feature'].tolist()"
   ]
  },
  {
   "cell_type": "code",
   "execution_count": 52,
   "id": "6966b56f",
   "metadata": {},
   "outputs": [
    {
     "data": {
      "text/plain": [
       "['LIMIT_BAL',\n",
       " 'PAY_AMT_Apr',\n",
       " 'PAY_AMT_Aug',\n",
       " 'PAY_AMT_Jul',\n",
       " 'PAY_AMT_Jun',\n",
       " 'PAY_AMT_May',\n",
       " 'PAY_AMT_Sep',\n",
       " 'PAY_Apr',\n",
       " 'PAY_Aug',\n",
       " 'PAY_Jul',\n",
       " 'PAY_Jun',\n",
       " 'PAY_May',\n",
       " 'PAY_Sep',\n",
       " 'utilization_ratio Apr',\n",
       " 'utilization_ratio Aug',\n",
       " 'utilization_ratio Jul',\n",
       " 'utilization_ratio Jun',\n",
       " 'utilization_ratio May',\n",
       " 'utilization_ratio Sep']"
      ]
     },
     "execution_count": 52,
     "metadata": {},
     "output_type": "execute_result"
    }
   ],
   "source": [
    "iv_features"
   ]
  },
  {
   "cell_type": "code",
   "execution_count": 53,
   "id": "f1862b64",
   "metadata": {},
   "outputs": [
    {
     "data": {
      "text/plain": [
       "['Paid Sep',\n",
       " 'Delinquent Sep',\n",
       " 'Paid Aug',\n",
       " 'Delinquent Aug',\n",
       " 'Paid Jul',\n",
       " 'Delinquent Jul',\n",
       " 'Paid Jun',\n",
       " 'Delinquent Jun',\n",
       " 'Paid May',\n",
       " 'Delinquent May',\n",
       " 'Paid Apr',\n",
       " 'Delinquent Apr',\n",
       " 'EDUCATION_Graduate School',\n",
       " 'EDUCATION_High School',\n",
       " 'EDUCATION_University',\n",
       " 'SEX_Male',\n",
       " 'MARRIAGE_Married',\n",
       " 'MARRIAGE_Single']"
      ]
     },
     "execution_count": 53,
     "metadata": {},
     "output_type": "execute_result"
    }
   ],
   "source": [
    "already_one_hot_encoded_cols"
   ]
  },
  {
   "cell_type": "code",
   "execution_count": 54,
   "id": "1fdbd6d7",
   "metadata": {},
   "outputs": [],
   "source": [
    "cols_to_select = iv_features + already_one_hot_encoded_cols"
   ]
  },
  {
   "cell_type": "code",
   "execution_count": 55,
   "id": "2155b251",
   "metadata": {},
   "outputs": [
    {
     "data": {
      "text/plain": [
       "37"
      ]
     },
     "execution_count": 55,
     "metadata": {},
     "output_type": "execute_result"
    }
   ],
   "source": [
    "len(cols_to_select)"
   ]
  },
  {
   "cell_type": "code",
   "execution_count": 56,
   "id": "a6168aeb",
   "metadata": {},
   "outputs": [],
   "source": [
    "cols_to_select.append('default payment next month')"
   ]
  },
  {
   "cell_type": "code",
   "execution_count": 57,
   "id": "408e0e51",
   "metadata": {},
   "outputs": [
    {
     "data": {
      "text/plain": [
       "38"
      ]
     },
     "execution_count": 57,
     "metadata": {},
     "output_type": "execute_result"
    }
   ],
   "source": [
    "len(cols_to_select)"
   ]
  },
  {
   "cell_type": "code",
   "execution_count": 58,
   "id": "fb0bcafe",
   "metadata": {},
   "outputs": [],
   "source": [
    "df_train_woe = df_train_woe[cols_to_select]"
   ]
  },
  {
   "cell_type": "code",
   "execution_count": 59,
   "id": "b6abc0bb",
   "metadata": {},
   "outputs": [],
   "source": [
    "features = list(woe_temp['Feature'].unique())\n",
    "\n",
    "monotonic_increase = []\n",
    "monotonic_decrease = []\n",
    "non_monotonic = []\n",
    "\n",
    "for att in features:\n",
    "    if woe_temp[woe_temp['Feature'] == att]['WoE'].is_monotonic_increasing:\n",
    "        monotonic_increase.append(att)\n",
    "    elif woe_temp[woe_temp['Feature'] == att]['WoE'].is_monotonic_decreasing:\n",
    "        monotonic_decrease.append(att)\n",
    "    else:\n",
    "        non_monotonic.append(att)\n"
   ]
  },
  {
   "cell_type": "code",
   "execution_count": 60,
   "id": "8925b43c",
   "metadata": {},
   "outputs": [
    {
     "data": {
      "text/plain": [
       "['LIMIT_BAL',\n",
       " 'AGE',\n",
       " 'BILL_AMT_Sep',\n",
       " 'PAY_AMT_Sep',\n",
       " 'BILL_AMT_Aug',\n",
       " 'PAY_AMT_Aug',\n",
       " 'PAY_AMT_Jul',\n",
       " 'BILL_AMT_Jun',\n",
       " 'PAY_AMT_Jun',\n",
       " 'PAY_AMT_May',\n",
       " 'PAY_AMT_Apr']"
      ]
     },
     "execution_count": 60,
     "metadata": {},
     "output_type": "execute_result"
    }
   ],
   "source": [
    "monotonic_increase"
   ]
  },
  {
   "cell_type": "code",
   "execution_count": 61,
   "id": "149a6824",
   "metadata": {},
   "outputs": [
    {
     "data": {
      "text/plain": [
       "['PAY_Sep',\n",
       " 'PAY_Aug',\n",
       " 'PAY_Jul',\n",
       " 'PAY_Jun',\n",
       " 'PAY_May',\n",
       " 'utilization_ratio May',\n",
       " 'PAY_Apr',\n",
       " 'BILL_AMT_Apr',\n",
       " 'utilization_ratio Apr']"
      ]
     },
     "execution_count": 61,
     "metadata": {},
     "output_type": "execute_result"
    }
   ],
   "source": [
    "monotonic_decrease"
   ]
  },
  {
   "cell_type": "code",
   "execution_count": 62,
   "id": "de050c8f",
   "metadata": {},
   "outputs": [
    {
     "data": {
      "text/plain": [
       "['utilization_ratio Sep',\n",
       " 'utilization_ratio Aug',\n",
       " 'BILL_AMT_Jul',\n",
       " 'utilization_ratio Jul',\n",
       " 'utilization_ratio Jun',\n",
       " 'BILL_AMT_May']"
      ]
     },
     "execution_count": 62,
     "metadata": {},
     "output_type": "execute_result"
    }
   ],
   "source": [
    "non_monotonic"
   ]
  },
  {
   "cell_type": "code",
   "execution_count": 63,
   "id": "3e10d0bc",
   "metadata": {},
   "outputs": [
    {
     "data": {
      "text/plain": [
       "Index(['LIMIT_BAL', 'PAY_AMT_Apr', 'PAY_AMT_Aug', 'PAY_AMT_Jul', 'PAY_AMT_Jun',\n",
       "       'PAY_AMT_May', 'PAY_AMT_Sep', 'PAY_Apr', 'PAY_Aug', 'PAY_Jul',\n",
       "       'PAY_Jun', 'PAY_May', 'PAY_Sep', 'utilization_ratio Apr',\n",
       "       'utilization_ratio Aug', 'utilization_ratio Jul',\n",
       "       'utilization_ratio Jun', 'utilization_ratio May',\n",
       "       'utilization_ratio Sep', 'Paid Sep', 'Delinquent Sep', 'Paid Aug',\n",
       "       'Delinquent Aug', 'Paid Jul', 'Delinquent Jul', 'Paid Jun',\n",
       "       'Delinquent Jun', 'Paid May', 'Delinquent May', 'Paid Apr',\n",
       "       'Delinquent Apr', 'EDUCATION_Graduate School', 'EDUCATION_High School',\n",
       "       'EDUCATION_University', 'SEX_Male', 'MARRIAGE_Married',\n",
       "       'MARRIAGE_Single', 'default payment next month'],\n",
       "      dtype='object')"
      ]
     },
     "execution_count": 63,
     "metadata": {},
     "output_type": "execute_result"
    }
   ],
   "source": [
    "df_train_woe.columns"
   ]
  },
  {
   "cell_type": "code",
   "execution_count": 64,
   "id": "5dcfca32",
   "metadata": {},
   "outputs": [],
   "source": [
    "slect_features = list(set(cols_to_select) - set(non_monotonic))"
   ]
  },
  {
   "cell_type": "code",
   "execution_count": 65,
   "id": "e05b4692",
   "metadata": {},
   "outputs": [
    {
     "data": {
      "text/plain": [
       "['MARRIAGE_Married',\n",
       " 'Paid Apr',\n",
       " 'Paid Sep',\n",
       " 'Paid May',\n",
       " 'Delinquent Jun',\n",
       " 'PAY_Sep',\n",
       " 'PAY_AMT_May',\n",
       " 'PAY_Aug',\n",
       " 'PAY_Jun',\n",
       " 'Delinquent Jul',\n",
       " 'PAY_AMT_Aug',\n",
       " 'PAY_AMT_Sep',\n",
       " 'SEX_Male',\n",
       " 'default payment next month',\n",
       " 'Paid Jul',\n",
       " 'Delinquent Sep',\n",
       " 'Delinquent Aug',\n",
       " 'Delinquent Apr',\n",
       " 'PAY_Apr',\n",
       " 'PAY_AMT_Jun',\n",
       " 'utilization_ratio Apr',\n",
       " 'Paid Aug',\n",
       " 'PAY_May',\n",
       " 'Delinquent May',\n",
       " 'utilization_ratio May',\n",
       " 'LIMIT_BAL',\n",
       " 'EDUCATION_High School',\n",
       " 'PAY_AMT_Apr',\n",
       " 'PAY_AMT_Jul',\n",
       " 'Paid Jun',\n",
       " 'EDUCATION_Graduate School',\n",
       " 'EDUCATION_University',\n",
       " 'MARRIAGE_Single',\n",
       " 'PAY_Jul']"
      ]
     },
     "execution_count": 65,
     "metadata": {},
     "output_type": "execute_result"
    }
   ],
   "source": [
    "slect_features"
   ]
  },
  {
   "cell_type": "code",
   "execution_count": 66,
   "id": "3ba21e23",
   "metadata": {},
   "outputs": [],
   "source": [
    "df_train_woe = df_train_woe[slect_features]"
   ]
  },
  {
   "cell_type": "code",
   "execution_count": 67,
   "id": "ecbbbe21",
   "metadata": {},
   "outputs": [
    {
     "data": {
      "text/plain": [
       "(21000, 34)"
      ]
     },
     "execution_count": 67,
     "metadata": {},
     "output_type": "execute_result"
    }
   ],
   "source": [
    "df_train_woe.shape"
   ]
  },
  {
   "cell_type": "code",
   "execution_count": 68,
   "id": "bb68bf28",
   "metadata": {},
   "outputs": [
    {
     "data": {
      "text/plain": [
       "MARRIAGE_Married                 uint8\n",
       "Paid Apr                         int64\n",
       "Paid Sep                         int64\n",
       "Paid May                         int64\n",
       "Delinquent Jun                   int64\n",
       "PAY_Sep                       category\n",
       "PAY_AMT_May                   category\n",
       "PAY_Aug                       category\n",
       "PAY_Jun                       category\n",
       "Delinquent Jul                   int64\n",
       "PAY_AMT_Aug                   category\n",
       "PAY_AMT_Sep                   category\n",
       "SEX_Male                         uint8\n",
       "default payment next month       int64\n",
       "Paid Jul                         int64\n",
       "Delinquent Sep                   int64\n",
       "Delinquent Aug                   int64\n",
       "Delinquent Apr                   int64\n",
       "PAY_Apr                       category\n",
       "PAY_AMT_Jun                   category\n",
       "utilization_ratio Apr         category\n",
       "Paid Aug                         int64\n",
       "PAY_May                       category\n",
       "Delinquent May                   int64\n",
       "utilization_ratio May         category\n",
       "LIMIT_BAL                     category\n",
       "EDUCATION_High School            uint8\n",
       "PAY_AMT_Apr                   category\n",
       "PAY_AMT_Jul                   category\n",
       "Paid Jun                         int64\n",
       "EDUCATION_Graduate School        uint8\n",
       "EDUCATION_University             uint8\n",
       "MARRIAGE_Single                  uint8\n",
       "PAY_Jul                       category\n",
       "dtype: object"
      ]
     },
     "execution_count": 68,
     "metadata": {},
     "output_type": "execute_result"
    }
   ],
   "source": [
    "df_train_woe.dtypes"
   ]
  },
  {
   "cell_type": "code",
   "execution_count": 69,
   "id": "994bcdbe",
   "metadata": {},
   "outputs": [],
   "source": [
    "features_in_woe = woe_temp['Feature'].unique().tolist()\n",
    "\n",
    "for cols in df_train_woe.columns: \n",
    "    if cols in features_in_woe:\n",
    "        df_train_woe[cols] = df_train_woe[cols].astype('float')"
   ]
  },
  {
   "cell_type": "code",
   "execution_count": 70,
   "id": "a9946d24",
   "metadata": {},
   "outputs": [
    {
     "data": {
      "text/plain": [
       "MARRIAGE_Married                uint8\n",
       "Paid Apr                        int64\n",
       "Paid Sep                        int64\n",
       "Paid May                        int64\n",
       "Delinquent Jun                  int64\n",
       "PAY_Sep                       float64\n",
       "PAY_AMT_May                   float64\n",
       "PAY_Aug                       float64\n",
       "PAY_Jun                       float64\n",
       "Delinquent Jul                  int64\n",
       "PAY_AMT_Aug                   float64\n",
       "PAY_AMT_Sep                   float64\n",
       "SEX_Male                        uint8\n",
       "default payment next month      int64\n",
       "Paid Jul                        int64\n",
       "Delinquent Sep                  int64\n",
       "Delinquent Aug                  int64\n",
       "Delinquent Apr                  int64\n",
       "PAY_Apr                       float64\n",
       "PAY_AMT_Jun                   float64\n",
       "utilization_ratio Apr         float64\n",
       "Paid Aug                        int64\n",
       "PAY_May                       float64\n",
       "Delinquent May                  int64\n",
       "utilization_ratio May         float64\n",
       "LIMIT_BAL                     float64\n",
       "EDUCATION_High School           uint8\n",
       "PAY_AMT_Apr                   float64\n",
       "PAY_AMT_Jul                   float64\n",
       "Paid Jun                        int64\n",
       "EDUCATION_Graduate School       uint8\n",
       "EDUCATION_University            uint8\n",
       "MARRIAGE_Single                 uint8\n",
       "PAY_Jul                       float64\n",
       "dtype: object"
      ]
     },
     "execution_count": 70,
     "metadata": {},
     "output_type": "execute_result"
    }
   ],
   "source": [
    "df_train_woe.dtypes"
   ]
  },
  {
   "cell_type": "code",
   "execution_count": 71,
   "id": "45aebae9",
   "metadata": {},
   "outputs": [],
   "source": [
    "import pandas as pd\n",
    "import seaborn as sns\n",
    "import matplotlib.pyplot as plt\n",
    "\n",
    "def correlation_summary(df, method='pearson', figsize=(12, 10), annot=False, cmap='coolwarm'):\n",
    "    \"\"\"\n",
    "    Displays a correlation heatmap and returns a table of correlation pairs.\n",
    "\n",
    "    Parameters:\n",
    "    - df: DataFrame with numeric features.\n",
    "    - method: Correlation method - 'pearson', 'kendall', or 'spearman'.\n",
    "    - figsize: Tuple for figure size.\n",
    "    - annot: Whether to annotate heatmap.\n",
    "    - cmap: Colormap for heatmap.\n",
    "\n",
    "    Returns:\n",
    "    - correlation_table: DataFrame with Feature 1, Feature 2, Correlation, Absolute Correlation\n",
    "    \"\"\"\n",
    "\n",
    "    # Compute correlation matrix\n",
    "    corr_matrix = df.corr(method=method)\n",
    "\n",
    "    # Display heatmap\n",
    "    plt.figure(figsize=figsize)\n",
    "    sns.heatmap(corr_matrix, annot=annot, cmap=cmap, square=True)\n",
    "    plt.title(f'{method.capitalize()} Correlation Heatmap')\n",
    "    plt.show()\n",
    "\n",
    "    # Create correlation pairs table\n",
    "    corr_pairs = (\n",
    "        corr_matrix.where(~pd.np.tril(pd.np.ones(corr_matrix.shape)).astype(bool))  # keep upper triangle\n",
    "        .stack()\n",
    "        .reset_index()\n",
    "    )\n",
    "    corr_pairs.columns = ['Feature 1', 'Feature 2', 'Correlation']\n",
    "    corr_pairs['Absolute Correlation'] = corr_pairs['Correlation'].abs()\n",
    "    corr_pairs = corr_pairs.sort_values(by='Absolute Correlation', ascending=False).reset_index(drop=True)\n",
    "\n",
    "    return corr_pairs"
   ]
  },
  {
   "cell_type": "code",
   "execution_count": 72,
   "id": "97047890",
   "metadata": {},
   "outputs": [
    {
     "data": {
      "image/png": "[encoded data removed]",
      "text/plain": [
       "<Figure size 1200x1000 with 2 Axes>"
      ]
     },
     "metadata": {},
     "output_type": "display_data"
    },
    {
     "data": {
      "text/html": [
       "<div>\n",
       "<style scoped>\n",
       "    .dataframe tbody tr th:only-of-type {\n",
       "        vertical-align: middle;\n",
       "    }\n",
       "\n",
       "    .dataframe tbody tr th {\n",
       "        vertical-align: top;\n",
       "    }\n",
       "\n",
       "    .dataframe thead th {\n",
       "        text-align: right;\n",
       "    }\n",
       "</style>\n",
       "<table border=\"1\" class=\"dataframe\">\n",
       "  <thead>\n",
       "    <tr style=\"text-align: right;\">\n",
       "      <th></th>\n",
       "      <th>Feature 1</th>\n",
       "      <th>Feature 2</th>\n",
       "      <th>Correlation</th>\n",
       "      <th>Absolute Correlation</th>\n",
       "    </tr>\n",
       "  </thead>\n",
       "  <tbody>\n",
       "    <tr>\n",
       "      <th>0</th>\n",
       "      <td>PAY_May</td>\n",
       "      <td>Delinquent May</td>\n",
       "      <td>-1.000000</td>\n",
       "      <td>1.000000</td>\n",
       "    </tr>\n",
       "    <tr>\n",
       "      <th>1</th>\n",
       "      <td>Delinquent Jul</td>\n",
       "      <td>PAY_Jul</td>\n",
       "      <td>-1.000000</td>\n",
       "      <td>1.000000</td>\n",
       "    </tr>\n",
       "    <tr>\n",
       "      <th>2</th>\n",
       "      <td>PAY_Aug</td>\n",
       "      <td>Delinquent Aug</td>\n",
       "      <td>-1.000000</td>\n",
       "      <td>1.000000</td>\n",
       "    </tr>\n",
       "    <tr>\n",
       "      <th>3</th>\n",
       "      <td>Delinquent Jun</td>\n",
       "      <td>PAY_Jun</td>\n",
       "      <td>-1.000000</td>\n",
       "      <td>1.000000</td>\n",
       "    </tr>\n",
       "    <tr>\n",
       "      <th>4</th>\n",
       "      <td>Delinquent Apr</td>\n",
       "      <td>PAY_Apr</td>\n",
       "      <td>-1.000000</td>\n",
       "      <td>1.000000</td>\n",
       "    </tr>\n",
       "    <tr>\n",
       "      <th>5</th>\n",
       "      <td>MARRIAGE_Married</td>\n",
       "      <td>MARRIAGE_Single</td>\n",
       "      <td>-0.978401</td>\n",
       "      <td>0.978401</td>\n",
       "    </tr>\n",
       "    <tr>\n",
       "      <th>6</th>\n",
       "      <td>Paid Sep</td>\n",
       "      <td>PAY_AMT_Sep</td>\n",
       "      <td>0.920457</td>\n",
       "      <td>0.920457</td>\n",
       "    </tr>\n",
       "    <tr>\n",
       "      <th>7</th>\n",
       "      <td>PAY_Sep</td>\n",
       "      <td>Delinquent Sep</td>\n",
       "      <td>-0.908848</td>\n",
       "      <td>0.908848</td>\n",
       "    </tr>\n",
       "    <tr>\n",
       "      <th>8</th>\n",
       "      <td>utilization_ratio Apr</td>\n",
       "      <td>utilization_ratio May</td>\n",
       "      <td>0.816214</td>\n",
       "      <td>0.816214</td>\n",
       "    </tr>\n",
       "    <tr>\n",
       "      <th>9</th>\n",
       "      <td>EDUCATION_Graduate School</td>\n",
       "      <td>EDUCATION_University</td>\n",
       "      <td>-0.692711</td>\n",
       "      <td>0.692711</td>\n",
       "    </tr>\n",
       "  </tbody>\n",
       "</table>\n",
       "</div>"
      ],
      "text/plain": [
       "                   Feature 1              Feature 2  Correlation  \\\n",
       "0                    PAY_May         Delinquent May    -1.000000   \n",
       "1             Delinquent Jul                PAY_Jul    -1.000000   \n",
       "2                    PAY_Aug         Delinquent Aug    -1.000000   \n",
       "3             Delinquent Jun                PAY_Jun    -1.000000   \n",
       "4             Delinquent Apr                PAY_Apr    -1.000000   \n",
       "5           MARRIAGE_Married        MARRIAGE_Single    -0.978401   \n",
       "6                   Paid Sep            PAY_AMT_Sep     0.920457   \n",
       "7                    PAY_Sep         Delinquent Sep    -0.908848   \n",
       "8      utilization_ratio Apr  utilization_ratio May     0.816214   \n",
       "9  EDUCATION_Graduate School   EDUCATION_University    -0.692711   \n",
       "\n",
       "   Absolute Correlation  \n",
       "0              1.000000  \n",
       "1              1.000000  \n",
       "2              1.000000  \n",
       "3              1.000000  \n",
       "4              1.000000  \n",
       "5              0.978401  \n",
       "6              0.920457  \n",
       "7              0.908848  \n",
       "8              0.816214  \n",
       "9              0.692711  "
      ]
     },
     "execution_count": 72,
     "metadata": {},
     "output_type": "execute_result"
    }
   ],
   "source": [
    "# Assuming df_train is your DataFrame\n",
    "correlation_table = correlation_summary(df_train_woe)\n",
    "\n",
    "# View top correlations\n",
    "correlation_table.head(10)"
   ]
  },
  {
   "cell_type": "code",
   "execution_count": 73,
   "id": "e11434ff",
   "metadata": {},
   "outputs": [
    {
     "data": {
      "text/html": [
       "<div>\n",
       "<style scoped>\n",
       "    .dataframe tbody tr th:only-of-type {\n",
       "        vertical-align: middle;\n",
       "    }\n",
       "\n",
       "    .dataframe tbody tr th {\n",
       "        vertical-align: top;\n",
       "    }\n",
       "\n",
       "    .dataframe thead th {\n",
       "        text-align: right;\n",
       "    }\n",
       "</style>\n",
       "<table border=\"1\" class=\"dataframe\">\n",
       "  <thead>\n",
       "    <tr style=\"text-align: right;\">\n",
       "      <th></th>\n",
       "      <th>Feature</th>\n",
       "      <th>IV</th>\n",
       "    </tr>\n",
       "  </thead>\n",
       "  <tbody>\n",
       "    <tr>\n",
       "      <th>0</th>\n",
       "      <td>AGE</td>\n",
       "      <td>0.010283</td>\n",
       "    </tr>\n",
       "    <tr>\n",
       "      <th>1</th>\n",
       "      <td>BILL_AMT_Apr</td>\n",
       "      <td>0.004611</td>\n",
       "    </tr>\n",
       "    <tr>\n",
       "      <th>2</th>\n",
       "      <td>BILL_AMT_Aug</td>\n",
       "      <td>0.003012</td>\n",
       "    </tr>\n",
       "    <tr>\n",
       "      <th>3</th>\n",
       "      <td>BILL_AMT_Jul</td>\n",
       "      <td>0.008554</td>\n",
       "    </tr>\n",
       "    <tr>\n",
       "      <th>4</th>\n",
       "      <td>BILL_AMT_Jun</td>\n",
       "      <td>0.001147</td>\n",
       "    </tr>\n",
       "    <tr>\n",
       "      <th>5</th>\n",
       "      <td>BILL_AMT_May</td>\n",
       "      <td>0.014649</td>\n",
       "    </tr>\n",
       "    <tr>\n",
       "      <th>6</th>\n",
       "      <td>BILL_AMT_Sep</td>\n",
       "      <td>0.005165</td>\n",
       "    </tr>\n",
       "    <tr>\n",
       "      <th>7</th>\n",
       "      <td>LIMIT_BAL</td>\n",
       "      <td>0.167481</td>\n",
       "    </tr>\n",
       "    <tr>\n",
       "      <th>8</th>\n",
       "      <td>PAY_AMT_Apr</td>\n",
       "      <td>0.090321</td>\n",
       "    </tr>\n",
       "    <tr>\n",
       "      <th>9</th>\n",
       "      <td>PAY_AMT_Aug</td>\n",
       "      <td>0.059331</td>\n",
       "    </tr>\n",
       "    <tr>\n",
       "      <th>10</th>\n",
       "      <td>PAY_AMT_Jul</td>\n",
       "      <td>0.109810</td>\n",
       "    </tr>\n",
       "    <tr>\n",
       "      <th>11</th>\n",
       "      <td>PAY_AMT_Jun</td>\n",
       "      <td>0.082331</td>\n",
       "    </tr>\n",
       "    <tr>\n",
       "      <th>12</th>\n",
       "      <td>PAY_AMT_May</td>\n",
       "      <td>0.068228</td>\n",
       "    </tr>\n",
       "    <tr>\n",
       "      <th>13</th>\n",
       "      <td>PAY_AMT_Sep</td>\n",
       "      <td>0.125502</td>\n",
       "    </tr>\n",
       "    <tr>\n",
       "      <th>14</th>\n",
       "      <td>PAY_Apr</td>\n",
       "      <td>0.281494</td>\n",
       "    </tr>\n",
       "    <tr>\n",
       "      <th>15</th>\n",
       "      <td>PAY_Aug</td>\n",
       "      <td>0.569411</td>\n",
       "    </tr>\n",
       "    <tr>\n",
       "      <th>16</th>\n",
       "      <td>PAY_Jul</td>\n",
       "      <td>0.434986</td>\n",
       "    </tr>\n",
       "    <tr>\n",
       "      <th>17</th>\n",
       "      <td>PAY_Jun</td>\n",
       "      <td>0.366326</td>\n",
       "    </tr>\n",
       "    <tr>\n",
       "      <th>18</th>\n",
       "      <td>PAY_May</td>\n",
       "      <td>0.327989</td>\n",
       "    </tr>\n",
       "    <tr>\n",
       "      <th>19</th>\n",
       "      <td>PAY_Sep</td>\n",
       "      <td>0.871415</td>\n",
       "    </tr>\n",
       "    <tr>\n",
       "      <th>20</th>\n",
       "      <td>utilization_ratio Apr</td>\n",
       "      <td>0.100997</td>\n",
       "    </tr>\n",
       "    <tr>\n",
       "      <th>21</th>\n",
       "      <td>utilization_ratio Aug</td>\n",
       "      <td>0.092772</td>\n",
       "    </tr>\n",
       "    <tr>\n",
       "      <th>22</th>\n",
       "      <td>utilization_ratio Jul</td>\n",
       "      <td>0.088591</td>\n",
       "    </tr>\n",
       "    <tr>\n",
       "      <th>23</th>\n",
       "      <td>utilization_ratio Jun</td>\n",
       "      <td>0.102001</td>\n",
       "    </tr>\n",
       "    <tr>\n",
       "      <th>24</th>\n",
       "      <td>utilization_ratio May</td>\n",
       "      <td>0.078822</td>\n",
       "    </tr>\n",
       "    <tr>\n",
       "      <th>25</th>\n",
       "      <td>utilization_ratio Sep</td>\n",
       "      <td>0.088380</td>\n",
       "    </tr>\n",
       "  </tbody>\n",
       "</table>\n",
       "</div>"
      ],
      "text/plain": [
       "                  Feature        IV\n",
       "0                     AGE  0.010283\n",
       "1            BILL_AMT_Apr  0.004611\n",
       "2            BILL_AMT_Aug  0.003012\n",
       "3            BILL_AMT_Jul  0.008554\n",
       "4            BILL_AMT_Jun  0.001147\n",
       "5            BILL_AMT_May  0.014649\n",
       "6            BILL_AMT_Sep  0.005165\n",
       "7               LIMIT_BAL  0.167481\n",
       "8             PAY_AMT_Apr  0.090321\n",
       "9             PAY_AMT_Aug  0.059331\n",
       "10            PAY_AMT_Jul  0.109810\n",
       "11            PAY_AMT_Jun  0.082331\n",
       "12            PAY_AMT_May  0.068228\n",
       "13            PAY_AMT_Sep  0.125502\n",
       "14                PAY_Apr  0.281494\n",
       "15                PAY_Aug  0.569411\n",
       "16                PAY_Jul  0.434986\n",
       "17                PAY_Jun  0.366326\n",
       "18                PAY_May  0.327989\n",
       "19                PAY_Sep  0.871415\n",
       "20  utilization_ratio Apr  0.100997\n",
       "21  utilization_ratio Aug  0.092772\n",
       "22  utilization_ratio Jul  0.088591\n",
       "23  utilization_ratio Jun  0.102001\n",
       "24  utilization_ratio May  0.078822\n",
       "25  utilization_ratio Sep  0.088380"
      ]
     },
     "execution_count": 73,
     "metadata": {},
     "output_type": "execute_result"
    }
   ],
   "source": [
    "iv_df"
   ]
  },
  {
   "cell_type": "code",
   "execution_count": 74,
   "id": "4ea91014",
   "metadata": {},
   "outputs": [],
   "source": [
    "# Step 1: Join IV for Feature 1\n",
    "correlation_with_iv = correlation_table.merge(\n",
    "    iv_df.rename(columns={'Feature': 'Feature 1', 'IV': 'IV Feature 1'}),\n",
    "    on='Feature 1',\n",
    "    how='left'\n",
    ")\n",
    "\n",
    "# Step 2: Join IV for Feature 2\n",
    "correlation_with_iv = correlation_with_iv.merge(\n",
    "    iv_df.rename(columns={'Feature': 'Feature 2', 'IV': 'IV Feature 2'}),\n",
    "    on='Feature 2',\n",
    "    how='left'\n",
    ")\n",
    "\n",
    "# Final output\n",
    "correlation_with_iv = correlation_with_iv[\n",
    "    ['Feature 1', 'Feature 2', 'Correlation', 'Absolute Correlation', 'IV Feature 1', 'IV Feature 2']\n",
    "]"
   ]
  },
  {
   "cell_type": "code",
   "execution_count": 75,
   "id": "55066c52",
   "metadata": {},
   "outputs": [
    {
     "data": {
      "text/html": [
       "<div>\n",
       "<style scoped>\n",
       "    .dataframe tbody tr th:only-of-type {\n",
       "        vertical-align: middle;\n",
       "    }\n",
       "\n",
       "    .dataframe tbody tr th {\n",
       "        vertical-align: top;\n",
       "    }\n",
       "\n",
       "    .dataframe thead th {\n",
       "        text-align: right;\n",
       "    }\n",
       "</style>\n",
       "<table border=\"1\" class=\"dataframe\">\n",
       "  <thead>\n",
       "    <tr style=\"text-align: right;\">\n",
       "      <th></th>\n",
       "      <th>Feature 1</th>\n",
       "      <th>Feature 2</th>\n",
       "      <th>Correlation</th>\n",
       "      <th>Absolute Correlation</th>\n",
       "      <th>IV Feature 1</th>\n",
       "      <th>IV Feature 2</th>\n",
       "    </tr>\n",
       "  </thead>\n",
       "  <tbody>\n",
       "    <tr>\n",
       "      <th>0</th>\n",
       "      <td>PAY_May</td>\n",
       "      <td>Delinquent May</td>\n",
       "      <td>-1.000000</td>\n",
       "      <td>1.000000</td>\n",
       "      <td>0.327989</td>\n",
       "      <td>NaN</td>\n",
       "    </tr>\n",
       "    <tr>\n",
       "      <th>1</th>\n",
       "      <td>Delinquent Jul</td>\n",
       "      <td>PAY_Jul</td>\n",
       "      <td>-1.000000</td>\n",
       "      <td>1.000000</td>\n",
       "      <td>NaN</td>\n",
       "      <td>0.434986</td>\n",
       "    </tr>\n",
       "    <tr>\n",
       "      <th>2</th>\n",
       "      <td>PAY_Aug</td>\n",
       "      <td>Delinquent Aug</td>\n",
       "      <td>-1.000000</td>\n",
       "      <td>1.000000</td>\n",
       "      <td>0.569411</td>\n",
       "      <td>NaN</td>\n",
       "    </tr>\n",
       "    <tr>\n",
       "      <th>3</th>\n",
       "      <td>Delinquent Jun</td>\n",
       "      <td>PAY_Jun</td>\n",
       "      <td>-1.000000</td>\n",
       "      <td>1.000000</td>\n",
       "      <td>NaN</td>\n",
       "      <td>0.366326</td>\n",
       "    </tr>\n",
       "    <tr>\n",
       "      <th>4</th>\n",
       "      <td>Delinquent Apr</td>\n",
       "      <td>PAY_Apr</td>\n",
       "      <td>-1.000000</td>\n",
       "      <td>1.000000</td>\n",
       "      <td>NaN</td>\n",
       "      <td>0.281494</td>\n",
       "    </tr>\n",
       "    <tr>\n",
       "      <th>...</th>\n",
       "      <td>...</td>\n",
       "      <td>...</td>\n",
       "      <td>...</td>\n",
       "      <td>...</td>\n",
       "      <td>...</td>\n",
       "      <td>...</td>\n",
       "    </tr>\n",
       "    <tr>\n",
       "      <th>556</th>\n",
       "      <td>MARRIAGE_Married</td>\n",
       "      <td>Delinquent Jul</td>\n",
       "      <td>-0.000342</td>\n",
       "      <td>0.000342</td>\n",
       "      <td>NaN</td>\n",
       "      <td>NaN</td>\n",
       "    </tr>\n",
       "    <tr>\n",
       "      <th>557</th>\n",
       "      <td>MARRIAGE_Married</td>\n",
       "      <td>PAY_Jul</td>\n",
       "      <td>0.000342</td>\n",
       "      <td>0.000342</td>\n",
       "      <td>NaN</td>\n",
       "      <td>0.434986</td>\n",
       "    </tr>\n",
       "    <tr>\n",
       "      <th>558</th>\n",
       "      <td>MARRIAGE_Single</td>\n",
       "      <td>PAY_Jul</td>\n",
       "      <td>0.000233</td>\n",
       "      <td>0.000233</td>\n",
       "      <td>NaN</td>\n",
       "      <td>0.434986</td>\n",
       "    </tr>\n",
       "    <tr>\n",
       "      <th>559</th>\n",
       "      <td>Delinquent Jul</td>\n",
       "      <td>MARRIAGE_Single</td>\n",
       "      <td>-0.000233</td>\n",
       "      <td>0.000233</td>\n",
       "      <td>NaN</td>\n",
       "      <td>NaN</td>\n",
       "    </tr>\n",
       "    <tr>\n",
       "      <th>560</th>\n",
       "      <td>SEX_Male</td>\n",
       "      <td>Paid Jul</td>\n",
       "      <td>-0.000230</td>\n",
       "      <td>0.000230</td>\n",
       "      <td>NaN</td>\n",
       "      <td>NaN</td>\n",
       "    </tr>\n",
       "  </tbody>\n",
       "</table>\n",
       "<p>561 rows × 6 columns</p>\n",
       "</div>"
      ],
      "text/plain": [
       "            Feature 1        Feature 2  Correlation  Absolute Correlation  \\\n",
       "0             PAY_May   Delinquent May    -1.000000              1.000000   \n",
       "1      Delinquent Jul          PAY_Jul    -1.000000              1.000000   \n",
       "2             PAY_Aug   Delinquent Aug    -1.000000              1.000000   \n",
       "3      Delinquent Jun          PAY_Jun    -1.000000              1.000000   \n",
       "4      Delinquent Apr          PAY_Apr    -1.000000              1.000000   \n",
       "..                ...              ...          ...                   ...   \n",
       "556  MARRIAGE_Married   Delinquent Jul    -0.000342              0.000342   \n",
       "557  MARRIAGE_Married          PAY_Jul     0.000342              0.000342   \n",
       "558   MARRIAGE_Single          PAY_Jul     0.000233              0.000233   \n",
       "559    Delinquent Jul  MARRIAGE_Single    -0.000233              0.000233   \n",
       "560          SEX_Male         Paid Jul    -0.000230              0.000230   \n",
       "\n",
       "     IV Feature 1  IV Feature 2  \n",
       "0        0.327989           NaN  \n",
       "1             NaN      0.434986  \n",
       "2        0.569411           NaN  \n",
       "3             NaN      0.366326  \n",
       "4             NaN      0.281494  \n",
       "..            ...           ...  \n",
       "556           NaN           NaN  \n",
       "557           NaN      0.434986  \n",
       "558           NaN      0.434986  \n",
       "559           NaN           NaN  \n",
       "560           NaN           NaN  \n",
       "\n",
       "[561 rows x 6 columns]"
      ]
     },
     "execution_count": 75,
     "metadata": {},
     "output_type": "execute_result"
    }
   ],
   "source": [
    "correlation_with_iv"
   ]
  },
  {
   "cell_type": "code",
   "execution_count": 76,
   "id": "93d065df",
   "metadata": {},
   "outputs": [],
   "source": [
    "high_corr_df = correlation_with_iv[correlation_with_iv['Absolute Correlation'] >= 0.8]"
   ]
  },
  {
   "cell_type": "code",
   "execution_count": 77,
   "id": "7cfcc0ea",
   "metadata": {},
   "outputs": [
    {
     "data": {
      "text/html": [
       "<div>\n",
       "<style scoped>\n",
       "    .dataframe tbody tr th:only-of-type {\n",
       "        vertical-align: middle;\n",
       "    }\n",
       "\n",
       "    .dataframe tbody tr th {\n",
       "        vertical-align: top;\n",
       "    }\n",
       "\n",
       "    .dataframe thead th {\n",
       "        text-align: right;\n",
       "    }\n",
       "</style>\n",
       "<table border=\"1\" class=\"dataframe\">\n",
       "  <thead>\n",
       "    <tr style=\"text-align: right;\">\n",
       "      <th></th>\n",
       "      <th>Feature 1</th>\n",
       "      <th>Feature 2</th>\n",
       "      <th>Correlation</th>\n",
       "      <th>Absolute Correlation</th>\n",
       "      <th>IV Feature 1</th>\n",
       "      <th>IV Feature 2</th>\n",
       "    </tr>\n",
       "  </thead>\n",
       "  <tbody>\n",
       "    <tr>\n",
       "      <th>0</th>\n",
       "      <td>PAY_May</td>\n",
       "      <td>Delinquent May</td>\n",
       "      <td>-1.000000</td>\n",
       "      <td>1.000000</td>\n",
       "      <td>0.327989</td>\n",
       "      <td>NaN</td>\n",
       "    </tr>\n",
       "    <tr>\n",
       "      <th>1</th>\n",
       "      <td>Delinquent Jul</td>\n",
       "      <td>PAY_Jul</td>\n",
       "      <td>-1.000000</td>\n",
       "      <td>1.000000</td>\n",
       "      <td>NaN</td>\n",
       "      <td>0.434986</td>\n",
       "    </tr>\n",
       "    <tr>\n",
       "      <th>2</th>\n",
       "      <td>PAY_Aug</td>\n",
       "      <td>Delinquent Aug</td>\n",
       "      <td>-1.000000</td>\n",
       "      <td>1.000000</td>\n",
       "      <td>0.569411</td>\n",
       "      <td>NaN</td>\n",
       "    </tr>\n",
       "    <tr>\n",
       "      <th>3</th>\n",
       "      <td>Delinquent Jun</td>\n",
       "      <td>PAY_Jun</td>\n",
       "      <td>-1.000000</td>\n",
       "      <td>1.000000</td>\n",
       "      <td>NaN</td>\n",
       "      <td>0.366326</td>\n",
       "    </tr>\n",
       "    <tr>\n",
       "      <th>4</th>\n",
       "      <td>Delinquent Apr</td>\n",
       "      <td>PAY_Apr</td>\n",
       "      <td>-1.000000</td>\n",
       "      <td>1.000000</td>\n",
       "      <td>NaN</td>\n",
       "      <td>0.281494</td>\n",
       "    </tr>\n",
       "    <tr>\n",
       "      <th>5</th>\n",
       "      <td>MARRIAGE_Married</td>\n",
       "      <td>MARRIAGE_Single</td>\n",
       "      <td>-0.978401</td>\n",
       "      <td>0.978401</td>\n",
       "      <td>NaN</td>\n",
       "      <td>NaN</td>\n",
       "    </tr>\n",
       "    <tr>\n",
       "      <th>6</th>\n",
       "      <td>Paid Sep</td>\n",
       "      <td>PAY_AMT_Sep</td>\n",
       "      <td>0.920457</td>\n",
       "      <td>0.920457</td>\n",
       "      <td>NaN</td>\n",
       "      <td>0.125502</td>\n",
       "    </tr>\n",
       "    <tr>\n",
       "      <th>7</th>\n",
       "      <td>PAY_Sep</td>\n",
       "      <td>Delinquent Sep</td>\n",
       "      <td>-0.908848</td>\n",
       "      <td>0.908848</td>\n",
       "      <td>0.871415</td>\n",
       "      <td>NaN</td>\n",
       "    </tr>\n",
       "    <tr>\n",
       "      <th>8</th>\n",
       "      <td>utilization_ratio Apr</td>\n",
       "      <td>utilization_ratio May</td>\n",
       "      <td>0.816214</td>\n",
       "      <td>0.816214</td>\n",
       "      <td>0.100997</td>\n",
       "      <td>0.078822</td>\n",
       "    </tr>\n",
       "  </tbody>\n",
       "</table>\n",
       "</div>"
      ],
      "text/plain": [
       "               Feature 1              Feature 2  Correlation  \\\n",
       "0                PAY_May         Delinquent May    -1.000000   \n",
       "1         Delinquent Jul                PAY_Jul    -1.000000   \n",
       "2                PAY_Aug         Delinquent Aug    -1.000000   \n",
       "3         Delinquent Jun                PAY_Jun    -1.000000   \n",
       "4         Delinquent Apr                PAY_Apr    -1.000000   \n",
       "5       MARRIAGE_Married        MARRIAGE_Single    -0.978401   \n",
       "6               Paid Sep            PAY_AMT_Sep     0.920457   \n",
       "7                PAY_Sep         Delinquent Sep    -0.908848   \n",
       "8  utilization_ratio Apr  utilization_ratio May     0.816214   \n",
       "\n",
       "   Absolute Correlation  IV Feature 1  IV Feature 2  \n",
       "0              1.000000      0.327989           NaN  \n",
       "1              1.000000           NaN      0.434986  \n",
       "2              1.000000      0.569411           NaN  \n",
       "3              1.000000           NaN      0.366326  \n",
       "4              1.000000           NaN      0.281494  \n",
       "5              0.978401           NaN           NaN  \n",
       "6              0.920457           NaN      0.125502  \n",
       "7              0.908848      0.871415           NaN  \n",
       "8              0.816214      0.100997      0.078822  "
      ]
     },
     "execution_count": 77,
     "metadata": {},
     "output_type": "execute_result"
    }
   ],
   "source": [
    "high_corr_df"
   ]
  },
  {
   "cell_type": "code",
   "execution_count": 78,
   "id": "2c60492b",
   "metadata": {},
   "outputs": [
    {
     "data": {
      "text/plain": [
       "Index(['MARRIAGE_Married', 'Paid Apr', 'Paid Sep', 'Paid May',\n",
       "       'Delinquent Jun', 'PAY_Sep', 'PAY_AMT_May', 'PAY_Aug', 'PAY_Jun',\n",
       "       'Delinquent Jul', 'PAY_AMT_Aug', 'PAY_AMT_Sep', 'SEX_Male',\n",
       "       'default payment next month', 'Paid Jul', 'Delinquent Sep',\n",
       "       'Delinquent Aug', 'Delinquent Apr', 'PAY_Apr', 'PAY_AMT_Jun',\n",
       "       'utilization_ratio Apr', 'Paid Aug', 'PAY_May', 'Delinquent May',\n",
       "       'utilization_ratio May', 'LIMIT_BAL', 'EDUCATION_High School',\n",
       "       'PAY_AMT_Apr', 'PAY_AMT_Jul', 'Paid Jun', 'EDUCATION_Graduate School',\n",
       "       'EDUCATION_University', 'MARRIAGE_Single', 'PAY_Jul'],\n",
       "      dtype='object')"
      ]
     },
     "execution_count": 78,
     "metadata": {},
     "output_type": "execute_result"
    }
   ],
   "source": [
    "df_train_woe.columns"
   ]
  },
  {
   "cell_type": "code",
   "execution_count": 79,
   "id": "97bcbf16",
   "metadata": {},
   "outputs": [],
   "source": [
    "high_corr_to_drop = ['Delinquent Aug','Delinquent Sep','Delinquent May','Delinquent Apr','Delinquent Jul','Delinquent Jun']"
   ]
  },
  {
   "cell_type": "code",
   "execution_count": 80,
   "id": "f7c7d40a",
   "metadata": {},
   "outputs": [],
   "source": [
    "df_train_woe.drop(columns=high_corr_to_drop,inplace= True)"
   ]
  },
  {
   "cell_type": "code",
   "execution_count": 81,
   "id": "b2bb5076",
   "metadata": {},
   "outputs": [
    {
     "name": "stdout",
     "output_type": "stream",
     "text": [
      "(21000, 28)\n"
     ]
    },
    {
     "data": {
      "text/html": [
       "<div>\n",
       "<style scoped>\n",
       "    .dataframe tbody tr th:only-of-type {\n",
       "        vertical-align: middle;\n",
       "    }\n",
       "\n",
       "    .dataframe tbody tr th {\n",
       "        vertical-align: top;\n",
       "    }\n",
       "\n",
       "    .dataframe thead th {\n",
       "        text-align: right;\n",
       "    }\n",
       "</style>\n",
       "<table border=\"1\" class=\"dataframe\">\n",
       "  <thead>\n",
       "    <tr style=\"text-align: right;\">\n",
       "      <th></th>\n",
       "      <th>MARRIAGE_Married</th>\n",
       "      <th>Paid Apr</th>\n",
       "      <th>Paid Sep</th>\n",
       "      <th>Paid May</th>\n",
       "      <th>PAY_Sep</th>\n",
       "      <th>PAY_AMT_May</th>\n",
       "      <th>PAY_Aug</th>\n",
       "      <th>PAY_Jun</th>\n",
       "      <th>PAY_AMT_Aug</th>\n",
       "      <th>PAY_AMT_Sep</th>\n",
       "      <th>...</th>\n",
       "      <th>utilization_ratio May</th>\n",
       "      <th>LIMIT_BAL</th>\n",
       "      <th>EDUCATION_High School</th>\n",
       "      <th>PAY_AMT_Apr</th>\n",
       "      <th>PAY_AMT_Jul</th>\n",
       "      <th>Paid Jun</th>\n",
       "      <th>EDUCATION_Graduate School</th>\n",
       "      <th>EDUCATION_University</th>\n",
       "      <th>MARRIAGE_Single</th>\n",
       "      <th>PAY_Jul</th>\n",
       "    </tr>\n",
       "  </thead>\n",
       "  <tbody>\n",
       "    <tr>\n",
       "      <th>0</th>\n",
       "      <td>1</td>\n",
       "      <td>0</td>\n",
       "      <td>0</td>\n",
       "      <td>0</td>\n",
       "      <td>0.572969</td>\n",
       "      <td>-0.182663</td>\n",
       "      <td>0.392536</td>\n",
       "      <td>0.265533</td>\n",
       "      <td>-0.070933</td>\n",
       "      <td>-0.638323</td>\n",
       "      <td>...</td>\n",
       "      <td>0.248510</td>\n",
       "      <td>0.413376</td>\n",
       "      <td>0</td>\n",
       "      <td>-0.246391</td>\n",
       "      <td>-0.382178</td>\n",
       "      <td>0</td>\n",
       "      <td>1</td>\n",
       "      <td>0</td>\n",
       "      <td>0</td>\n",
       "      <td>0.323462</td>\n",
       "    </tr>\n",
       "    <tr>\n",
       "      <th>1</th>\n",
       "      <td>0</td>\n",
       "      <td>1</td>\n",
       "      <td>1</td>\n",
       "      <td>1</td>\n",
       "      <td>0.572969</td>\n",
       "      <td>-0.182663</td>\n",
       "      <td>0.392536</td>\n",
       "      <td>0.265533</td>\n",
       "      <td>-0.070933</td>\n",
       "      <td>0.198678</td>\n",
       "      <td>...</td>\n",
       "      <td>0.248510</td>\n",
       "      <td>-0.162036</td>\n",
       "      <td>0</td>\n",
       "      <td>0.151753</td>\n",
       "      <td>0.253302</td>\n",
       "      <td>1</td>\n",
       "      <td>1</td>\n",
       "      <td>0</td>\n",
       "      <td>1</td>\n",
       "      <td>0.323462</td>\n",
       "    </tr>\n",
       "    <tr>\n",
       "      <th>2</th>\n",
       "      <td>1</td>\n",
       "      <td>0</td>\n",
       "      <td>0</td>\n",
       "      <td>1</td>\n",
       "      <td>-2.093205</td>\n",
       "      <td>0.222669</td>\n",
       "      <td>-1.520619</td>\n",
       "      <td>-1.421810</td>\n",
       "      <td>-0.070933</td>\n",
       "      <td>-0.638323</td>\n",
       "      <td>...</td>\n",
       "      <td>-0.319273</td>\n",
       "      <td>-0.162036</td>\n",
       "      <td>0</td>\n",
       "      <td>-0.246391</td>\n",
       "      <td>-0.382178</td>\n",
       "      <td>1</td>\n",
       "      <td>0</td>\n",
       "      <td>1</td>\n",
       "      <td>0</td>\n",
       "      <td>-1.394027</td>\n",
       "    </tr>\n",
       "    <tr>\n",
       "      <th>3</th>\n",
       "      <td>1</td>\n",
       "      <td>0</td>\n",
       "      <td>0</td>\n",
       "      <td>0</td>\n",
       "      <td>-2.093205</td>\n",
       "      <td>-0.182663</td>\n",
       "      <td>-1.520619</td>\n",
       "      <td>-1.421810</td>\n",
       "      <td>-0.070933</td>\n",
       "      <td>-0.638323</td>\n",
       "      <td>...</td>\n",
       "      <td>-0.319273</td>\n",
       "      <td>0.413376</td>\n",
       "      <td>1</td>\n",
       "      <td>-0.246391</td>\n",
       "      <td>-0.382178</td>\n",
       "      <td>0</td>\n",
       "      <td>0</td>\n",
       "      <td>0</td>\n",
       "      <td>0</td>\n",
       "      <td>-1.394027</td>\n",
       "    </tr>\n",
       "    <tr>\n",
       "      <th>4</th>\n",
       "      <td>1</td>\n",
       "      <td>1</td>\n",
       "      <td>1</td>\n",
       "      <td>1</td>\n",
       "      <td>0.572969</td>\n",
       "      <td>0.634028</td>\n",
       "      <td>0.392536</td>\n",
       "      <td>0.265533</td>\n",
       "      <td>0.840548</td>\n",
       "      <td>0.198678</td>\n",
       "      <td>...</td>\n",
       "      <td>0.248510</td>\n",
       "      <td>0.413376</td>\n",
       "      <td>0</td>\n",
       "      <td>0.562881</td>\n",
       "      <td>-0.029497</td>\n",
       "      <td>1</td>\n",
       "      <td>1</td>\n",
       "      <td>0</td>\n",
       "      <td>0</td>\n",
       "      <td>0.323462</td>\n",
       "    </tr>\n",
       "  </tbody>\n",
       "</table>\n",
       "<p>5 rows × 28 columns</p>\n",
       "</div>"
      ],
      "text/plain": [
       "   MARRIAGE_Married  Paid Apr  Paid Sep  Paid May   PAY_Sep  PAY_AMT_May  \\\n",
       "0                 1         0         0         0  0.572969    -0.182663   \n",
       "1                 0         1         1         1  0.572969    -0.182663   \n",
       "2                 1         0         0         1 -2.093205     0.222669   \n",
       "3                 1         0         0         0 -2.093205    -0.182663   \n",
       "4                 1         1         1         1  0.572969     0.634028   \n",
       "\n",
       "    PAY_Aug   PAY_Jun  PAY_AMT_Aug  PAY_AMT_Sep  ...  utilization_ratio May  \\\n",
       "0  0.392536  0.265533    -0.070933    -0.638323  ...               0.248510   \n",
       "1  0.392536  0.265533    -0.070933     0.198678  ...               0.248510   \n",
       "2 -1.520619 -1.421810    -0.070933    -0.638323  ...              -0.319273   \n",
       "3 -1.520619 -1.421810    -0.070933    -0.638323  ...              -0.319273   \n",
       "4  0.392536  0.265533     0.840548     0.198678  ...               0.248510   \n",
       "\n",
       "   LIMIT_BAL  EDUCATION_High School  PAY_AMT_Apr  PAY_AMT_Jul  Paid Jun  \\\n",
       "0   0.413376                      0    -0.246391    -0.382178         0   \n",
       "1  -0.162036                      0     0.151753     0.253302         1   \n",
       "2  -0.162036                      0    -0.246391    -0.382178         1   \n",
       "3   0.413376                      1    -0.246391    -0.382178         0   \n",
       "4   0.413376                      0     0.562881    -0.029497         1   \n",
       "\n",
       "   EDUCATION_Graduate School  EDUCATION_University  MARRIAGE_Single   PAY_Jul  \n",
       "0                          1                     0                0  0.323462  \n",
       "1                          1                     0                1  0.323462  \n",
       "2                          0                     1                0 -1.394027  \n",
       "3                          0                     0                0 -1.394027  \n",
       "4                          1                     0                0  0.323462  \n",
       "\n",
       "[5 rows x 28 columns]"
      ]
     },
     "execution_count": 81,
     "metadata": {},
     "output_type": "execute_result"
    }
   ],
   "source": [
    "print(df_train_woe.shape)\n",
    "df_train_woe.head()"
   ]
  },
  {
   "cell_type": "code",
   "execution_count": 82,
   "id": "cc3fccad",
   "metadata": {},
   "outputs": [
    {
     "data": {
      "text/plain": [
       "Index(['MARRIAGE_Married', 'Paid Apr', 'Paid Sep', 'Paid May', 'PAY_Sep',\n",
       "       'PAY_AMT_May', 'PAY_Aug', 'PAY_Jun', 'PAY_AMT_Aug', 'PAY_AMT_Sep',\n",
       "       'SEX_Male', 'default payment next month', 'Paid Jul', 'PAY_Apr',\n",
       "       'PAY_AMT_Jun', 'utilization_ratio Apr', 'Paid Aug', 'PAY_May',\n",
       "       'utilization_ratio May', 'LIMIT_BAL', 'EDUCATION_High School',\n",
       "       'PAY_AMT_Apr', 'PAY_AMT_Jul', 'Paid Jun', 'EDUCATION_Graduate School',\n",
       "       'EDUCATION_University', 'MARRIAGE_Single', 'PAY_Jul'],\n",
       "      dtype='object')"
      ]
     },
     "execution_count": 82,
     "metadata": {},
     "output_type": "execute_result"
    }
   ],
   "source": [
    "df_train_woe.columns"
   ]
  },
  {
   "cell_type": "markdown",
   "id": "e88b17de",
   "metadata": {},
   "source": [
    "# Feature Selection: Train Data"
   ]
  },
  {
   "cell_type": "code",
   "execution_count": 83,
   "id": "dab7e0f1",
   "metadata": {},
   "outputs": [],
   "source": [
    "X_train = df_train_woe.drop(columns='default payment next month')\n",
    "y_train = df_train_woe['default payment next month']"
   ]
  },
  {
   "cell_type": "code",
   "execution_count": 84,
   "id": "43fc39fc",
   "metadata": {},
   "outputs": [],
   "source": [
    "import statsmodels.api as sm\n",
    "import pandas as pd\n",
    "\n",
    "def backward_elimination(X, y, significance_level=0.05, verbose=True):\n",
    "    \"\"\"\n",
    "    Perform backward feature elimination based on p-values.\n",
    "\n",
    "    Parameters:\n",
    "    - X: DataFrame of features\n",
    "    - y: Series or array-like target\n",
    "    - significance_level: p-value threshold for retaining features\n",
    "    - verbose: if True, prints elimination steps\n",
    "\n",
    "    Returns:\n",
    "    - selected_features: list of features retained\n",
    "    - final_model: fitted statsmodels regression model\n",
    "    \"\"\"\n",
    "    X_ = X.copy()\n",
    "    X_ = sm.add_constant(X_)  # add intercept\n",
    "    features = list(X_.columns)\n",
    "\n",
    "    while True:\n",
    "        model = sm.OLS(y, X_).fit()  # Use sm.Logit for logistic regression\n",
    "        pvalues = model.pvalues\n",
    "        max_pval = pvalues.drop('const').max()\n",
    "        if max_pval > significance_level:\n",
    "            excluded_feature = pvalues.drop('const').idxmax()\n",
    "            if verbose:\n",
    "                print(f\"Dropping '{excluded_feature}' with p-value {max_pval:.4f}\")\n",
    "            X_.drop(columns=excluded_feature, inplace=True)\n",
    "            features.remove(excluded_feature)\n",
    "        else:\n",
    "            break\n",
    "\n",
    "    final_model = sm.OLS(y, X_).fit()\n",
    "    return features, final_model"
   ]
  },
  {
   "cell_type": "code",
   "execution_count": 85,
   "id": "25b0b91e",
   "metadata": {},
   "outputs": [
    {
     "name": "stdout",
     "output_type": "stream",
     "text": [
      "Dropping 'PAY_AMT_May' with p-value 0.9890\n",
      "Dropping 'MARRIAGE_Married' with p-value 0.8315\n",
      "Dropping 'Paid Aug' with p-value 0.6801\n",
      "Dropping 'PAY_AMT_Sep' with p-value 0.4750\n",
      "Dropping 'Paid May' with p-value 0.4425\n",
      "Dropping 'Paid Apr' with p-value 0.5024\n",
      "Dropping 'utilization_ratio May' with p-value 0.0925\n",
      "Dropping 'PAY_May' with p-value 0.0579\n",
      "Dropping 'Paid Jul' with p-value 0.0905\n",
      "Selected features: ['const', 'Paid Sep', 'PAY_Sep', 'PAY_Aug', 'PAY_Jun', 'PAY_AMT_Aug', 'SEX_Male', 'PAY_Apr', 'PAY_AMT_Jun', 'utilization_ratio Apr', 'LIMIT_BAL', 'EDUCATION_High School', 'PAY_AMT_Apr', 'PAY_AMT_Jul', 'Paid Jun', 'EDUCATION_Graduate School', 'EDUCATION_University', 'MARRIAGE_Single', 'PAY_Jul']\n",
      "                                OLS Regression Results                                \n",
      "======================================================================================\n",
      "Dep. Variable:     default payment next month   R-squared:                       0.214\n",
      "Model:                                    OLS   Adj. R-squared:                  0.213\n",
      "Method:                         Least Squares   F-statistic:                     317.6\n",
      "Date:                        Sat, 21 Jun 2025   Prob (F-statistic):               0.00\n",
      "Time:                                19:28:12   Log-Likelihood:                -8851.1\n",
      "No. Observations:                       21000   AIC:                         1.774e+04\n",
      "Df Residuals:                           20981   BIC:                         1.789e+04\n",
      "Df Model:                                  18                                         \n",
      "Covariance Type:                    nonrobust                                         \n",
      "=============================================================================================\n",
      "                                coef    std err          t      P>|t|      [0.025      0.975]\n",
      "---------------------------------------------------------------------------------------------\n",
      "const                         0.2356      0.022     10.604      0.000       0.192       0.279\n",
      "Paid Sep                     -0.0321      0.008     -3.899      0.000      -0.048      -0.016\n",
      "PAY_Sep                      -0.1456      0.004    -35.863      0.000      -0.154      -0.138\n",
      "PAY_Aug                      -0.0159      0.006     -2.574      0.010      -0.028      -0.004\n",
      "PAY_Jun                      -0.0296      0.007     -4.452      0.000      -0.043      -0.017\n",
      "PAY_AMT_Aug                  -0.0221      0.010     -2.209      0.027      -0.042      -0.002\n",
      "SEX_Male                      0.0178      0.005      3.401      0.001       0.008       0.028\n",
      "PAY_Apr                      -0.0515      0.006     -8.000      0.000      -0.064      -0.039\n",
      "PAY_AMT_Jun                  -0.0265      0.012     -2.261      0.024      -0.049      -0.004\n",
      "utilization_ratio Apr        -0.0537      0.010     -5.398      0.000      -0.073      -0.034\n",
      "LIMIT_BAL                    -0.0445      0.008     -5.588      0.000      -0.060      -0.029\n",
      "EDUCATION_High School         0.0827      0.022      3.812      0.000       0.040       0.125\n",
      "PAY_AMT_Apr                  -0.0332      0.010     -3.223      0.001      -0.053      -0.013\n",
      "PAY_AMT_Jul                  -0.0340      0.010     -3.527      0.000      -0.053      -0.015\n",
      "Paid Jun                     -0.0329      0.008     -4.305      0.000      -0.048      -0.018\n",
      "EDUCATION_Graduate School     0.0866      0.021      4.088      0.000       0.045       0.128\n",
      "EDUCATION_University          0.0889      0.021      4.217      0.000       0.048       0.130\n",
      "MARRIAGE_Single              -0.0285      0.005     -5.437      0.000      -0.039      -0.018\n",
      "PAY_Jul                      -0.0421      0.006     -6.533      0.000      -0.055      -0.029\n",
      "==============================================================================\n",
      "Omnibus:                     3287.943   Durbin-Watson:                   2.001\n",
      "Prob(Omnibus):                  0.000   Jarque-Bera (JB):             5053.368\n",
      "Skew:                           1.142   Prob(JB):                         0.00\n",
      "Kurtosis:                       3.748   Cond. No.                         30.2\n",
      "==============================================================================\n",
      "\n",
      "Notes:\n",
      "[1] Standard Errors assume that the covariance matrix of the errors is correctly specified.\n"
     ]
    }
   ],
   "source": [
    "# Assuming you have:\n",
    "# X = your feature dataframe (after one-hot encoding)\n",
    "# y = your target variable\n",
    "\n",
    "selected_features, final_model = backward_elimination(X_train, y_train)\n",
    "\n",
    "# Print final retained features\n",
    "print(\"Selected features:\", selected_features)\n",
    "\n",
    "# View summary\n",
    "print(final_model.summary())\n"
   ]
  },
  {
   "cell_type": "code",
   "execution_count": 86,
   "id": "c3c081f9",
   "metadata": {},
   "outputs": [
    {
     "data": {
      "text/plain": [
       "['const',\n",
       " 'Paid Sep',\n",
       " 'PAY_Sep',\n",
       " 'PAY_Aug',\n",
       " 'PAY_Jun',\n",
       " 'PAY_AMT_Aug',\n",
       " 'SEX_Male',\n",
       " 'PAY_Apr',\n",
       " 'PAY_AMT_Jun',\n",
       " 'utilization_ratio Apr',\n",
       " 'LIMIT_BAL',\n",
       " 'EDUCATION_High School',\n",
       " 'PAY_AMT_Apr',\n",
       " 'PAY_AMT_Jul',\n",
       " 'Paid Jun',\n",
       " 'EDUCATION_Graduate School',\n",
       " 'EDUCATION_University',\n",
       " 'MARRIAGE_Single',\n",
       " 'PAY_Jul']"
      ]
     },
     "execution_count": 86,
     "metadata": {},
     "output_type": "execute_result"
    }
   ],
   "source": [
    "selected_features"
   ]
  },
  {
   "cell_type": "code",
   "execution_count": 87,
   "id": "3f7348cf",
   "metadata": {},
   "outputs": [
    {
     "data": {
      "text/plain": [
       "18"
      ]
     },
     "execution_count": 87,
     "metadata": {},
     "output_type": "execute_result"
    }
   ],
   "source": [
    "len(selected_features) - 1"
   ]
  },
  {
   "cell_type": "markdown",
   "id": "e9b4ce61",
   "metadata": {},
   "source": [
    "# Feature Engineering: Test Data"
   ]
  },
  {
   "cell_type": "code",
   "execution_count": 88,
   "id": "6f24af9d",
   "metadata": {},
   "outputs": [],
   "source": [
    "df_temp = df_test.copy()"
   ]
  },
  {
   "cell_type": "code",
   "execution_count": 89,
   "id": "8ba0dc22",
   "metadata": {},
   "outputs": [
    {
     "name": "stdout",
     "output_type": "stream",
     "text": [
      "(9000, 25)\n"
     ]
    },
    {
     "data": {
      "text/html": [
       "<div>\n",
       "<style scoped>\n",
       "    .dataframe tbody tr th:only-of-type {\n",
       "        vertical-align: middle;\n",
       "    }\n",
       "\n",
       "    .dataframe tbody tr th {\n",
       "        vertical-align: top;\n",
       "    }\n",
       "\n",
       "    .dataframe thead th {\n",
       "        text-align: right;\n",
       "    }\n",
       "</style>\n",
       "<table border=\"1\" class=\"dataframe\">\n",
       "  <thead>\n",
       "    <tr style=\"text-align: right;\">\n",
       "      <th></th>\n",
       "      <th>ID</th>\n",
       "      <th>LIMIT_BAL</th>\n",
       "      <th>SEX</th>\n",
       "      <th>EDUCATION</th>\n",
       "      <th>MARRIAGE</th>\n",
       "      <th>AGE</th>\n",
       "      <th>PAY_0</th>\n",
       "      <th>PAY_2</th>\n",
       "      <th>PAY_3</th>\n",
       "      <th>PAY_4</th>\n",
       "      <th>...</th>\n",
       "      <th>BILL_AMT4</th>\n",
       "      <th>BILL_AMT5</th>\n",
       "      <th>BILL_AMT6</th>\n",
       "      <th>PAY_AMT1</th>\n",
       "      <th>PAY_AMT2</th>\n",
       "      <th>PAY_AMT3</th>\n",
       "      <th>PAY_AMT4</th>\n",
       "      <th>PAY_AMT5</th>\n",
       "      <th>PAY_AMT6</th>\n",
       "      <th>default payment next month</th>\n",
       "    </tr>\n",
       "  </thead>\n",
       "  <tbody>\n",
       "    <tr>\n",
       "      <th>2308</th>\n",
       "      <td>2309</td>\n",
       "      <td>30000</td>\n",
       "      <td>1</td>\n",
       "      <td>2</td>\n",
       "      <td>2</td>\n",
       "      <td>25</td>\n",
       "      <td>0</td>\n",
       "      <td>0</td>\n",
       "      <td>0</td>\n",
       "      <td>0</td>\n",
       "      <td>...</td>\n",
       "      <td>12580</td>\n",
       "      <td>13716</td>\n",
       "      <td>14828</td>\n",
       "      <td>1500</td>\n",
       "      <td>2000</td>\n",
       "      <td>1500</td>\n",
       "      <td>1500</td>\n",
       "      <td>1500</td>\n",
       "      <td>2000</td>\n",
       "      <td>0</td>\n",
       "    </tr>\n",
       "    <tr>\n",
       "      <th>22404</th>\n",
       "      <td>22405</td>\n",
       "      <td>150000</td>\n",
       "      <td>2</td>\n",
       "      <td>1</td>\n",
       "      <td>2</td>\n",
       "      <td>26</td>\n",
       "      <td>0</td>\n",
       "      <td>0</td>\n",
       "      <td>0</td>\n",
       "      <td>0</td>\n",
       "      <td>...</td>\n",
       "      <td>101581</td>\n",
       "      <td>77741</td>\n",
       "      <td>77264</td>\n",
       "      <td>4486</td>\n",
       "      <td>4235</td>\n",
       "      <td>3161</td>\n",
       "      <td>2647</td>\n",
       "      <td>2669</td>\n",
       "      <td>2669</td>\n",
       "      <td>0</td>\n",
       "    </tr>\n",
       "    <tr>\n",
       "      <th>23397</th>\n",
       "      <td>23398</td>\n",
       "      <td>70000</td>\n",
       "      <td>2</td>\n",
       "      <td>3</td>\n",
       "      <td>1</td>\n",
       "      <td>32</td>\n",
       "      <td>0</td>\n",
       "      <td>0</td>\n",
       "      <td>0</td>\n",
       "      <td>0</td>\n",
       "      <td>...</td>\n",
       "      <td>69753</td>\n",
       "      <td>70111</td>\n",
       "      <td>70212</td>\n",
       "      <td>2431</td>\n",
       "      <td>3112</td>\n",
       "      <td>3000</td>\n",
       "      <td>2438</td>\n",
       "      <td>2500</td>\n",
       "      <td>2554</td>\n",
       "      <td>0</td>\n",
       "    </tr>\n",
       "    <tr>\n",
       "      <th>25058</th>\n",
       "      <td>25059</td>\n",
       "      <td>130000</td>\n",
       "      <td>1</td>\n",
       "      <td>3</td>\n",
       "      <td>2</td>\n",
       "      <td>49</td>\n",
       "      <td>0</td>\n",
       "      <td>0</td>\n",
       "      <td>0</td>\n",
       "      <td>0</td>\n",
       "      <td>...</td>\n",
       "      <td>16898</td>\n",
       "      <td>11236</td>\n",
       "      <td>6944</td>\n",
       "      <td>1610</td>\n",
       "      <td>1808</td>\n",
       "      <td>7014</td>\n",
       "      <td>27</td>\n",
       "      <td>7011</td>\n",
       "      <td>4408</td>\n",
       "      <td>0</td>\n",
       "    </tr>\n",
       "    <tr>\n",
       "      <th>2664</th>\n",
       "      <td>2665</td>\n",
       "      <td>50000</td>\n",
       "      <td>2</td>\n",
       "      <td>2</td>\n",
       "      <td>2</td>\n",
       "      <td>36</td>\n",
       "      <td>0</td>\n",
       "      <td>0</td>\n",
       "      <td>0</td>\n",
       "      <td>0</td>\n",
       "      <td>...</td>\n",
       "      <td>19574</td>\n",
       "      <td>20295</td>\n",
       "      <td>19439</td>\n",
       "      <td>2000</td>\n",
       "      <td>1500</td>\n",
       "      <td>1000</td>\n",
       "      <td>1800</td>\n",
       "      <td>0</td>\n",
       "      <td>1000</td>\n",
       "      <td>1</td>\n",
       "    </tr>\n",
       "  </tbody>\n",
       "</table>\n",
       "<p>5 rows × 25 columns</p>\n",
       "</div>"
      ],
      "text/plain": [
       "          ID  LIMIT_BAL  SEX  EDUCATION  MARRIAGE  AGE  PAY_0  PAY_2  PAY_3  \\\n",
       "2308    2309      30000    1          2         2   25      0      0      0   \n",
       "22404  22405     150000    2          1         2   26      0      0      0   \n",
       "23397  23398      70000    2          3         1   32      0      0      0   \n",
       "25058  25059     130000    1          3         2   49      0      0      0   \n",
       "2664    2665      50000    2          2         2   36      0      0      0   \n",
       "\n",
       "       PAY_4  ...  BILL_AMT4  BILL_AMT5  BILL_AMT6  PAY_AMT1  PAY_AMT2  \\\n",
       "2308       0  ...      12580      13716      14828      1500      2000   \n",
       "22404      0  ...     101581      77741      77264      4486      4235   \n",
       "23397      0  ...      69753      70111      70212      2431      3112   \n",
       "25058      0  ...      16898      11236       6944      1610      1808   \n",
       "2664       0  ...      19574      20295      19439      2000      1500   \n",
       "\n",
       "       PAY_AMT3  PAY_AMT4  PAY_AMT5  PAY_AMT6  default payment next month  \n",
       "2308       1500      1500      1500      2000                           0  \n",
       "22404      3161      2647      2669      2669                           0  \n",
       "23397      3000      2438      2500      2554                           0  \n",
       "25058      7014        27      7011      4408                           0  \n",
       "2664       1000      1800         0      1000                           1  \n",
       "\n",
       "[5 rows x 25 columns]"
      ]
     },
     "execution_count": 89,
     "metadata": {},
     "output_type": "execute_result"
    }
   ],
   "source": [
    "print(df_temp.shape)\n",
    "df_temp.head()"
   ]
  },
  {
   "cell_type": "code",
   "execution_count": 90,
   "id": "8edaabfa",
   "metadata": {},
   "outputs": [
    {
     "data": {
      "text/plain": [
       "array(['ID', 'LIMIT_BAL', 'SEX', 'EDUCATION', 'MARRIAGE', 'AGE', 'PAY_0',\n",
       "       'PAY_2', 'PAY_3', 'PAY_4', 'PAY_5', 'PAY_6', 'BILL_AMT1',\n",
       "       'BILL_AMT2', 'BILL_AMT3', 'BILL_AMT4', 'BILL_AMT5', 'BILL_AMT6',\n",
       "       'PAY_AMT1', 'PAY_AMT2', 'PAY_AMT3', 'PAY_AMT4', 'PAY_AMT5',\n",
       "       'PAY_AMT6', 'default payment next month'], dtype=object)"
      ]
     },
     "execution_count": 90,
     "metadata": {},
     "output_type": "execute_result"
    }
   ],
   "source": [
    "df_temp.columns.values"
   ]
  },
  {
   "cell_type": "code",
   "execution_count": 91,
   "id": "4f389e34",
   "metadata": {},
   "outputs": [],
   "source": [
    "months_info = [\n",
    "    ('Sep', 'PAY_0', 'BILL_AMT1', 'PAY_AMT1'),\n",
    "    ('Aug', 'PAY_2', 'BILL_AMT2', 'PAY_AMT2'),\n",
    "    ('Jul', 'PAY_3', 'BILL_AMT3', 'PAY_AMT3'),\n",
    "    ('Jun', 'PAY_4', 'BILL_AMT4', 'PAY_AMT4'),\n",
    "    ('May', 'PAY_5', 'BILL_AMT5', 'PAY_AMT5'),\n",
    "    ('Apr', 'PAY_6', 'BILL_AMT6', 'PAY_AMT6'),\n",
    "]"
   ]
  },
  {
   "cell_type": "code",
   "execution_count": 92,
   "id": "32ea4458",
   "metadata": {},
   "outputs": [],
   "source": [
    "def generate_monthly_features(df,months_info):\n",
    "    \n",
    "    dfs = []\n",
    "    \n",
    "    for month,pay_col,bill_col,pay_amt_col in months_info:\n",
    "        temp_df = df[['ID','LIMIT_BAL',pay_col,bill_col,pay_amt_col]].copy()\n",
    "        \n",
    "        temp_df[f'utilization_ratio {month}'] = temp_df[bill_col]/temp_df['LIMIT_BAL']\n",
    "\n",
    "        temp_df[f'Paid {month}'] = np.where(temp_df[pay_amt_col] > 0, 1,0)\n",
    "\n",
    "        temp_df[f'Delinquent {month}'] = np.where(temp_df[pay_col] >= 1, 1,0)\n",
    "        \n",
    "        keep_cols = ['ID',f'utilization_ratio {month}',f'Paid {month}',f'Delinquent {month}']\n",
    "        \n",
    "        dfs.append(temp_df[keep_cols])\n",
    "    \n",
    "    for temp_df in dfs:\n",
    "        df = pd.merge(df,temp_df,on='ID',how='inner')\n",
    "            \n",
    "    return df"
   ]
  },
  {
   "cell_type": "code",
   "execution_count": 93,
   "id": "ac8fcf04",
   "metadata": {},
   "outputs": [],
   "source": [
    "df_temp = generate_monthly_features(df_temp, months_info)"
   ]
  },
  {
   "cell_type": "code",
   "execution_count": 94,
   "id": "f5ffca6f",
   "metadata": {},
   "outputs": [],
   "source": [
    "df_temp.rename(columns={'PAY_0':'PAY_Sep','PAY_2':'PAY_Aug','PAY_3':'PAY_Jul','PAY_4':'PAY_Jun','PAY_5':'PAY_May','PAY_6':'PAY_Apr'},inplace= True)"
   ]
  },
  {
   "cell_type": "code",
   "execution_count": 95,
   "id": "94fe19b0",
   "metadata": {},
   "outputs": [],
   "source": [
    "df_temp.rename(columns={'BILL_AMT1':'BILL_AMT_Sep','BILL_AMT2':'BILL_AMT_Aug','BILL_AMT3':'BILL_AMT_Jul','BILL_AMT4':'BILL_AMT_Jun','BILL_AMT5':'BILL_AMT_May','BILL_AMT6':'BILL_AMT_Apr'},inplace= True)"
   ]
  },
  {
   "cell_type": "code",
   "execution_count": 96,
   "id": "4c18aa73",
   "metadata": {},
   "outputs": [],
   "source": [
    "df_temp.rename(columns={'PAY_AMT1':'PAY_AMT_Sep','PAY_AMT2':'PAY_AMT_Aug','PAY_AMT3':'PAY_AMT_Jul','PAY_AMT4':'PAY_AMT_Jun','PAY_AMT5':'PAY_AMT_May','PAY_AMT6':'PAY_AMT_Apr'},inplace= True)"
   ]
  },
  {
   "cell_type": "code",
   "execution_count": 97,
   "id": "4f7390d1",
   "metadata": {},
   "outputs": [
    {
     "data": {
      "text/plain": [
       "array(['ID', 'LIMIT_BAL', 'SEX', 'EDUCATION', 'MARRIAGE', 'AGE',\n",
       "       'PAY_Sep', 'PAY_Aug', 'PAY_Jul', 'PAY_Jun', 'PAY_May', 'PAY_Apr',\n",
       "       'BILL_AMT_Sep', 'BILL_AMT_Aug', 'BILL_AMT_Jul', 'BILL_AMT_Jun',\n",
       "       'BILL_AMT_May', 'BILL_AMT_Apr', 'PAY_AMT_Sep', 'PAY_AMT_Aug',\n",
       "       'PAY_AMT_Jul', 'PAY_AMT_Jun', 'PAY_AMT_May', 'PAY_AMT_Apr',\n",
       "       'default payment next month', 'utilization_ratio Sep', 'Paid Sep',\n",
       "       'Delinquent Sep', 'utilization_ratio Aug', 'Paid Aug',\n",
       "       'Delinquent Aug', 'utilization_ratio Jul', 'Paid Jul',\n",
       "       'Delinquent Jul', 'utilization_ratio Jun', 'Paid Jun',\n",
       "       'Delinquent Jun', 'utilization_ratio May', 'Paid May',\n",
       "       'Delinquent May', 'utilization_ratio Apr', 'Paid Apr',\n",
       "       'Delinquent Apr'], dtype=object)"
      ]
     },
     "execution_count": 97,
     "metadata": {},
     "output_type": "execute_result"
    }
   ],
   "source": [
    "df_temp.columns.values"
   ]
  },
  {
   "cell_type": "code",
   "execution_count": 98,
   "id": "351cc1da",
   "metadata": {},
   "outputs": [],
   "source": [
    "def reorder_columns_monthwise(df):\n",
    "    base_cols = ['ID', 'LIMIT_BAL', 'SEX', 'EDUCATION', 'MARRIAGE', 'AGE']\n",
    "    target_col = ['default payment next month']\n",
    "    \n",
    "    months = ['Sep', 'Aug', 'Jul', 'Jun', 'May', 'Apr']\n",
    "    ordered_month_cols = []\n",
    "\n",
    "    for month in months:\n",
    "        for prefix in ['PAY', 'BILL_AMT', 'PAY_AMT', 'utilization_ratio', 'Paid', 'Delinquent']:\n",
    "            col_name = f'{prefix} {month}' if prefix in ['utilization_ratio', 'Paid', 'Delinquent'] else f'{prefix}_{month}'\n",
    "            if col_name in df.columns:\n",
    "                ordered_month_cols.append(col_name)\n",
    "\n",
    "    new_order = base_cols + ordered_month_cols + target_col\n",
    "    return df[new_order]"
   ]
  },
  {
   "cell_type": "code",
   "execution_count": 99,
   "id": "8f48bca3",
   "metadata": {},
   "outputs": [],
   "source": [
    "df_temp = reorder_columns_monthwise(df_temp)"
   ]
  },
  {
   "cell_type": "code",
   "execution_count": 100,
   "id": "abc1e633",
   "metadata": {},
   "outputs": [
    {
     "data": {
      "text/plain": [
       "array(['ID', 'LIMIT_BAL', 'SEX', 'EDUCATION', 'MARRIAGE', 'AGE',\n",
       "       'PAY_Sep', 'BILL_AMT_Sep', 'PAY_AMT_Sep', 'utilization_ratio Sep',\n",
       "       'Paid Sep', 'Delinquent Sep', 'PAY_Aug', 'BILL_AMT_Aug',\n",
       "       'PAY_AMT_Aug', 'utilization_ratio Aug', 'Paid Aug',\n",
       "       'Delinquent Aug', 'PAY_Jul', 'BILL_AMT_Jul', 'PAY_AMT_Jul',\n",
       "       'utilization_ratio Jul', 'Paid Jul', 'Delinquent Jul', 'PAY_Jun',\n",
       "       'BILL_AMT_Jun', 'PAY_AMT_Jun', 'utilization_ratio Jun', 'Paid Jun',\n",
       "       'Delinquent Jun', 'PAY_May', 'BILL_AMT_May', 'PAY_AMT_May',\n",
       "       'utilization_ratio May', 'Paid May', 'Delinquent May', 'PAY_Apr',\n",
       "       'BILL_AMT_Apr', 'PAY_AMT_Apr', 'utilization_ratio Apr', 'Paid Apr',\n",
       "       'Delinquent Apr', 'default payment next month'], dtype=object)"
      ]
     },
     "execution_count": 100,
     "metadata": {},
     "output_type": "execute_result"
    }
   ],
   "source": [
    "df_temp.columns.values"
   ]
  },
  {
   "cell_type": "code",
   "execution_count": 105,
   "id": "766ca30b",
   "metadata": {},
   "outputs": [
    {
     "data": {
      "text/plain": [
       "2    4239\n",
       "1    3152\n",
       "3    1473\n",
       "5      85\n",
       "4      38\n",
       "6      13\n",
       "Name: EDUCATION, dtype: int64"
      ]
     },
     "execution_count": 105,
     "metadata": {},
     "output_type": "execute_result"
    }
   ],
   "source": [
    "df_temp['EDUCATION'].value_counts(dropna= False)"
   ]
  },
  {
   "cell_type": "code",
   "execution_count": 104,
   "id": "9423a186",
   "metadata": {},
   "outputs": [],
   "source": [
    "df_temp['EDUCATION'] = np.where(df_temp['EDUCATION'] == 0, mode_education_train,df_temp['EDUCATION'])"
   ]
  },
  {
   "cell_type": "code",
   "execution_count": 106,
   "id": "3c79ec53",
   "metadata": {},
   "outputs": [],
   "source": [
    "education_mapping = {\n",
    "    1: 'Graduate School',\n",
    "    2: 'University',\n",
    "    3: 'High School',\n",
    "    4: \"Others\",\n",
    "    5: \"Others\",\n",
    "    6: \"Others\"\n",
    "}\n",
    "\n",
    "df_temp['EDUCATION'] = df_temp['EDUCATION'].map(education_mapping)"
   ]
  },
  {
   "cell_type": "code",
   "execution_count": 107,
   "id": "e9b11060",
   "metadata": {},
   "outputs": [
    {
     "data": {
      "text/plain": [
       "University         4239\n",
       "Graduate School    3152\n",
       "High School        1473\n",
       "Others              136\n",
       "Name: EDUCATION, dtype: int64"
      ]
     },
     "execution_count": 107,
     "metadata": {},
     "output_type": "execute_result"
    }
   ],
   "source": [
    "df_temp['EDUCATION'].value_counts(dropna= False)"
   ]
  },
  {
   "cell_type": "code",
   "execution_count": 108,
   "id": "c958175d",
   "metadata": {},
   "outputs": [
    {
     "data": {
      "text/plain": [
       "2    5388\n",
       "1    3612\n",
       "Name: SEX, dtype: int64"
      ]
     },
     "execution_count": 108,
     "metadata": {},
     "output_type": "execute_result"
    }
   ],
   "source": [
    "df_temp['SEX'].value_counts(dropna= False)"
   ]
  },
  {
   "cell_type": "code",
   "execution_count": 109,
   "id": "61d2b799",
   "metadata": {},
   "outputs": [],
   "source": [
    "gender_mapping = {\n",
    "    1: 'Male',\n",
    "    2: 'Female'\n",
    "}\n",
    "\n",
    "df_temp['SEX'] = df_temp['SEX'].map(gender_mapping)"
   ]
  },
  {
   "cell_type": "code",
   "execution_count": 110,
   "id": "b4aa2034",
   "metadata": {},
   "outputs": [
    {
     "data": {
      "text/plain": [
       "Female    5388\n",
       "Male      3612\n",
       "Name: SEX, dtype: int64"
      ]
     },
     "execution_count": 110,
     "metadata": {},
     "output_type": "execute_result"
    }
   ],
   "source": [
    "df_temp['SEX'].value_counts(dropna= False)"
   ]
  },
  {
   "cell_type": "code",
   "execution_count": 111,
   "id": "8066fd77",
   "metadata": {},
   "outputs": [
    {
     "data": {
      "text/plain": [
       "2    4832\n",
       "1    4054\n",
       "3      95\n",
       "0      19\n",
       "Name: MARRIAGE, dtype: int64"
      ]
     },
     "execution_count": 111,
     "metadata": {},
     "output_type": "execute_result"
    }
   ],
   "source": [
    "df_temp['MARRIAGE'].value_counts(dropna= False)"
   ]
  },
  {
   "cell_type": "code",
   "execution_count": 112,
   "id": "d3699c3f",
   "metadata": {},
   "outputs": [],
   "source": [
    "df_temp['MARRIAGE'] = np.where(df_temp['MARRIAGE'] == 0,2,df_temp['MARRIAGE'])"
   ]
  },
  {
   "cell_type": "code",
   "execution_count": 113,
   "id": "4c690945",
   "metadata": {},
   "outputs": [
    {
     "data": {
      "text/plain": [
       "2    4851\n",
       "1    4054\n",
       "3      95\n",
       "Name: MARRIAGE, dtype: int64"
      ]
     },
     "execution_count": 113,
     "metadata": {},
     "output_type": "execute_result"
    }
   ],
   "source": [
    "df_temp['MARRIAGE'].value_counts(dropna= False)"
   ]
  },
  {
   "cell_type": "code",
   "execution_count": 114,
   "id": "ce1653e9",
   "metadata": {},
   "outputs": [],
   "source": [
    "marital_mapping = {\n",
    "    1: 'Married',\n",
    "    2: 'Single',\n",
    "    3: 'Others'\n",
    "}\n",
    "\n",
    "df_temp['MARRIAGE'] = df_temp['MARRIAGE'].map(marital_mapping)"
   ]
  },
  {
   "cell_type": "code",
   "execution_count": 115,
   "id": "88b463c6",
   "metadata": {},
   "outputs": [
    {
     "data": {
      "text/plain": [
       "Single     4851\n",
       "Married    4054\n",
       "Others       95\n",
       "Name: MARRIAGE, dtype: int64"
      ]
     },
     "execution_count": 115,
     "metadata": {},
     "output_type": "execute_result"
    }
   ],
   "source": [
    "df_temp['MARRIAGE'].value_counts(dropna= False)"
   ]
  },
  {
   "cell_type": "code",
   "execution_count": 116,
   "id": "1b515fe1",
   "metadata": {},
   "outputs": [
    {
     "data": {
      "text/plain": [
       "ID                            0\n",
       "LIMIT_BAL                     0\n",
       "SEX                           0\n",
       "EDUCATION                     0\n",
       "MARRIAGE                      0\n",
       "AGE                           0\n",
       "PAY_Sep                       0\n",
       "BILL_AMT_Sep                  0\n",
       "PAY_AMT_Sep                   0\n",
       "utilization_ratio Sep         0\n",
       "Paid Sep                      0\n",
       "Delinquent Sep                0\n",
       "PAY_Aug                       0\n",
       "BILL_AMT_Aug                  0\n",
       "PAY_AMT_Aug                   0\n",
       "utilization_ratio Aug         0\n",
       "Paid Aug                      0\n",
       "Delinquent Aug                0\n",
       "PAY_Jul                       0\n",
       "BILL_AMT_Jul                  0\n",
       "PAY_AMT_Jul                   0\n",
       "utilization_ratio Jul         0\n",
       "Paid Jul                      0\n",
       "Delinquent Jul                0\n",
       "PAY_Jun                       0\n",
       "BILL_AMT_Jun                  0\n",
       "PAY_AMT_Jun                   0\n",
       "utilization_ratio Jun         0\n",
       "Paid Jun                      0\n",
       "Delinquent Jun                0\n",
       "PAY_May                       0\n",
       "BILL_AMT_May                  0\n",
       "PAY_AMT_May                   0\n",
       "utilization_ratio May         0\n",
       "Paid May                      0\n",
       "Delinquent May                0\n",
       "PAY_Apr                       0\n",
       "BILL_AMT_Apr                  0\n",
       "PAY_AMT_Apr                   0\n",
       "utilization_ratio Apr         0\n",
       "Paid Apr                      0\n",
       "Delinquent Apr                0\n",
       "default payment next month    0\n",
       "dtype: int64"
      ]
     },
     "execution_count": 116,
     "metadata": {},
     "output_type": "execute_result"
    }
   ],
   "source": [
    "df_temp.isna().sum()"
   ]
  },
  {
   "cell_type": "code",
   "execution_count": 117,
   "id": "ea8e3afc",
   "metadata": {},
   "outputs": [
    {
     "data": {
      "text/plain": [
       "(9000, 43)"
      ]
     },
     "execution_count": 117,
     "metadata": {},
     "output_type": "execute_result"
    }
   ],
   "source": [
    "df_temp.shape"
   ]
  },
  {
   "cell_type": "code",
   "execution_count": 118,
   "id": "ddc1cc01",
   "metadata": {},
   "outputs": [],
   "source": [
    "# One-hot encoding without dropping any columns\n",
    "df_temp = pd.get_dummies(df_temp, columns=['EDUCATION', 'SEX','MARRIAGE'], drop_first=False)"
   ]
  },
  {
   "cell_type": "code",
   "execution_count": 119,
   "id": "d860a8f2",
   "metadata": {},
   "outputs": [
    {
     "data": {
      "text/plain": [
       "array(['ID', 'LIMIT_BAL', 'AGE', 'PAY_Sep', 'BILL_AMT_Sep', 'PAY_AMT_Sep',\n",
       "       'utilization_ratio Sep', 'Paid Sep', 'Delinquent Sep', 'PAY_Aug',\n",
       "       'BILL_AMT_Aug', 'PAY_AMT_Aug', 'utilization_ratio Aug', 'Paid Aug',\n",
       "       'Delinquent Aug', 'PAY_Jul', 'BILL_AMT_Jul', 'PAY_AMT_Jul',\n",
       "       'utilization_ratio Jul', 'Paid Jul', 'Delinquent Jul', 'PAY_Jun',\n",
       "       'BILL_AMT_Jun', 'PAY_AMT_Jun', 'utilization_ratio Jun', 'Paid Jun',\n",
       "       'Delinquent Jun', 'PAY_May', 'BILL_AMT_May', 'PAY_AMT_May',\n",
       "       'utilization_ratio May', 'Paid May', 'Delinquent May', 'PAY_Apr',\n",
       "       'BILL_AMT_Apr', 'PAY_AMT_Apr', 'utilization_ratio Apr', 'Paid Apr',\n",
       "       'Delinquent Apr', 'default payment next month',\n",
       "       'EDUCATION_Graduate School', 'EDUCATION_High School',\n",
       "       'EDUCATION_Others', 'EDUCATION_University', 'SEX_Female',\n",
       "       'SEX_Male', 'MARRIAGE_Married', 'MARRIAGE_Others',\n",
       "       'MARRIAGE_Single'], dtype=object)"
      ]
     },
     "execution_count": 119,
     "metadata": {},
     "output_type": "execute_result"
    }
   ],
   "source": [
    "df_temp.columns.values"
   ]
  },
  {
   "cell_type": "code",
   "execution_count": 120,
   "id": "b55ce17d",
   "metadata": {},
   "outputs": [],
   "source": [
    "#Columns to drop for multi-collinearity\n",
    "col_to_drop = ['EDUCATION_Others','SEX_Female','MARRIAGE_Others']"
   ]
  },
  {
   "cell_type": "code",
   "execution_count": 121,
   "id": "1746c371",
   "metadata": {},
   "outputs": [],
   "source": [
    "df_temp.drop(columns= col_to_drop, inplace= True)"
   ]
  },
  {
   "cell_type": "code",
   "execution_count": 122,
   "id": "7037850a",
   "metadata": {},
   "outputs": [],
   "source": [
    "df_test = df_temp.copy()"
   ]
  },
  {
   "cell_type": "code",
   "execution_count": 123,
   "id": "08528f36",
   "metadata": {},
   "outputs": [
    {
     "name": "stdout",
     "output_type": "stream",
     "text": [
      "(9000, 46)\n"
     ]
    },
    {
     "data": {
      "text/html": [
       "<div>\n",
       "<style scoped>\n",
       "    .dataframe tbody tr th:only-of-type {\n",
       "        vertical-align: middle;\n",
       "    }\n",
       "\n",
       "    .dataframe tbody tr th {\n",
       "        vertical-align: top;\n",
       "    }\n",
       "\n",
       "    .dataframe thead th {\n",
       "        text-align: right;\n",
       "    }\n",
       "</style>\n",
       "<table border=\"1\" class=\"dataframe\">\n",
       "  <thead>\n",
       "    <tr style=\"text-align: right;\">\n",
       "      <th></th>\n",
       "      <th>ID</th>\n",
       "      <th>LIMIT_BAL</th>\n",
       "      <th>AGE</th>\n",
       "      <th>PAY_Sep</th>\n",
       "      <th>BILL_AMT_Sep</th>\n",
       "      <th>PAY_AMT_Sep</th>\n",
       "      <th>utilization_ratio Sep</th>\n",
       "      <th>Paid Sep</th>\n",
       "      <th>Delinquent Sep</th>\n",
       "      <th>PAY_Aug</th>\n",
       "      <th>...</th>\n",
       "      <th>utilization_ratio Apr</th>\n",
       "      <th>Paid Apr</th>\n",
       "      <th>Delinquent Apr</th>\n",
       "      <th>default payment next month</th>\n",
       "      <th>EDUCATION_Graduate School</th>\n",
       "      <th>EDUCATION_High School</th>\n",
       "      <th>EDUCATION_University</th>\n",
       "      <th>SEX_Male</th>\n",
       "      <th>MARRIAGE_Married</th>\n",
       "      <th>MARRIAGE_Single</th>\n",
       "    </tr>\n",
       "  </thead>\n",
       "  <tbody>\n",
       "    <tr>\n",
       "      <th>0</th>\n",
       "      <td>2309</td>\n",
       "      <td>30000</td>\n",
       "      <td>25</td>\n",
       "      <td>0</td>\n",
       "      <td>8864</td>\n",
       "      <td>1500</td>\n",
       "      <td>0.295467</td>\n",
       "      <td>1</td>\n",
       "      <td>0</td>\n",
       "      <td>0</td>\n",
       "      <td>...</td>\n",
       "      <td>0.494267</td>\n",
       "      <td>1</td>\n",
       "      <td>0</td>\n",
       "      <td>0</td>\n",
       "      <td>0</td>\n",
       "      <td>0</td>\n",
       "      <td>1</td>\n",
       "      <td>1</td>\n",
       "      <td>0</td>\n",
       "      <td>1</td>\n",
       "    </tr>\n",
       "    <tr>\n",
       "      <th>1</th>\n",
       "      <td>22405</td>\n",
       "      <td>150000</td>\n",
       "      <td>26</td>\n",
       "      <td>0</td>\n",
       "      <td>136736</td>\n",
       "      <td>4486</td>\n",
       "      <td>0.911573</td>\n",
       "      <td>1</td>\n",
       "      <td>0</td>\n",
       "      <td>0</td>\n",
       "      <td>...</td>\n",
       "      <td>0.515093</td>\n",
       "      <td>1</td>\n",
       "      <td>0</td>\n",
       "      <td>0</td>\n",
       "      <td>1</td>\n",
       "      <td>0</td>\n",
       "      <td>0</td>\n",
       "      <td>0</td>\n",
       "      <td>0</td>\n",
       "      <td>1</td>\n",
       "    </tr>\n",
       "    <tr>\n",
       "      <th>2</th>\n",
       "      <td>23398</td>\n",
       "      <td>70000</td>\n",
       "      <td>32</td>\n",
       "      <td>0</td>\n",
       "      <td>70122</td>\n",
       "      <td>2431</td>\n",
       "      <td>1.001743</td>\n",
       "      <td>1</td>\n",
       "      <td>0</td>\n",
       "      <td>0</td>\n",
       "      <td>...</td>\n",
       "      <td>1.003029</td>\n",
       "      <td>1</td>\n",
       "      <td>0</td>\n",
       "      <td>0</td>\n",
       "      <td>0</td>\n",
       "      <td>1</td>\n",
       "      <td>0</td>\n",
       "      <td>0</td>\n",
       "      <td>1</td>\n",
       "      <td>0</td>\n",
       "    </tr>\n",
       "    <tr>\n",
       "      <th>3</th>\n",
       "      <td>25059</td>\n",
       "      <td>130000</td>\n",
       "      <td>49</td>\n",
       "      <td>0</td>\n",
       "      <td>20678</td>\n",
       "      <td>1610</td>\n",
       "      <td>0.159062</td>\n",
       "      <td>1</td>\n",
       "      <td>0</td>\n",
       "      <td>0</td>\n",
       "      <td>...</td>\n",
       "      <td>0.053415</td>\n",
       "      <td>1</td>\n",
       "      <td>0</td>\n",
       "      <td>0</td>\n",
       "      <td>0</td>\n",
       "      <td>1</td>\n",
       "      <td>0</td>\n",
       "      <td>1</td>\n",
       "      <td>0</td>\n",
       "      <td>1</td>\n",
       "    </tr>\n",
       "    <tr>\n",
       "      <th>4</th>\n",
       "      <td>2665</td>\n",
       "      <td>50000</td>\n",
       "      <td>36</td>\n",
       "      <td>0</td>\n",
       "      <td>94228</td>\n",
       "      <td>2000</td>\n",
       "      <td>1.884560</td>\n",
       "      <td>1</td>\n",
       "      <td>0</td>\n",
       "      <td>0</td>\n",
       "      <td>...</td>\n",
       "      <td>0.388780</td>\n",
       "      <td>1</td>\n",
       "      <td>1</td>\n",
       "      <td>1</td>\n",
       "      <td>0</td>\n",
       "      <td>0</td>\n",
       "      <td>1</td>\n",
       "      <td>0</td>\n",
       "      <td>0</td>\n",
       "      <td>1</td>\n",
       "    </tr>\n",
       "  </tbody>\n",
       "</table>\n",
       "<p>5 rows × 46 columns</p>\n",
       "</div>"
      ],
      "text/plain": [
       "      ID  LIMIT_BAL  AGE  PAY_Sep  BILL_AMT_Sep  PAY_AMT_Sep  \\\n",
       "0   2309      30000   25        0          8864         1500   \n",
       "1  22405     150000   26        0        136736         4486   \n",
       "2  23398      70000   32        0         70122         2431   \n",
       "3  25059     130000   49        0         20678         1610   \n",
       "4   2665      50000   36        0         94228         2000   \n",
       "\n",
       "   utilization_ratio Sep  Paid Sep  Delinquent Sep  PAY_Aug  ...  \\\n",
       "0               0.295467         1               0        0  ...   \n",
       "1               0.911573         1               0        0  ...   \n",
       "2               1.001743         1               0        0  ...   \n",
       "3               0.159062         1               0        0  ...   \n",
       "4               1.884560         1               0        0  ...   \n",
       "\n",
       "   utilization_ratio Apr  Paid Apr  Delinquent Apr  \\\n",
       "0               0.494267         1               0   \n",
       "1               0.515093         1               0   \n",
       "2               1.003029         1               0   \n",
       "3               0.053415         1               0   \n",
       "4               0.388780         1               1   \n",
       "\n",
       "   default payment next month  EDUCATION_Graduate School  \\\n",
       "0                           0                          0   \n",
       "1                           0                          1   \n",
       "2                           0                          0   \n",
       "3                           0                          0   \n",
       "4                           1                          0   \n",
       "\n",
       "   EDUCATION_High School  EDUCATION_University  SEX_Male  MARRIAGE_Married  \\\n",
       "0                      0                     1         1                 0   \n",
       "1                      0                     0         0                 0   \n",
       "2                      1                     0         0                 1   \n",
       "3                      1                     0         1                 0   \n",
       "4                      0                     1         0                 0   \n",
       "\n",
       "   MARRIAGE_Single  \n",
       "0                1  \n",
       "1                1  \n",
       "2                0  \n",
       "3                1  \n",
       "4                1  \n",
       "\n",
       "[5 rows x 46 columns]"
      ]
     },
     "execution_count": 123,
     "metadata": {},
     "output_type": "execute_result"
    }
   ],
   "source": [
    "print(df_test.shape)\n",
    "df_test.head()"
   ]
  },
  {
   "cell_type": "code",
   "execution_count": 124,
   "id": "c1ac777d",
   "metadata": {},
   "outputs": [
    {
     "data": {
      "text/plain": [
       "Index(['ID', 'LIMIT_BAL', 'AGE', 'PAY_Sep', 'BILL_AMT_Sep', 'PAY_AMT_Sep',\n",
       "       'utilization_ratio Sep', 'Paid Sep', 'Delinquent Sep', 'PAY_Aug',\n",
       "       'BILL_AMT_Aug', 'PAY_AMT_Aug', 'utilization_ratio Aug', 'Paid Aug',\n",
       "       'Delinquent Aug', 'PAY_Jul', 'BILL_AMT_Jul', 'PAY_AMT_Jul',\n",
       "       'utilization_ratio Jul', 'Paid Jul', 'Delinquent Jul', 'PAY_Jun',\n",
       "       'BILL_AMT_Jun', 'PAY_AMT_Jun', 'utilization_ratio Jun', 'Paid Jun',\n",
       "       'Delinquent Jun', 'PAY_May', 'BILL_AMT_May', 'PAY_AMT_May',\n",
       "       'utilization_ratio May', 'Paid May', 'Delinquent May', 'PAY_Apr',\n",
       "       'BILL_AMT_Apr', 'PAY_AMT_Apr', 'utilization_ratio Apr', 'Paid Apr',\n",
       "       'Delinquent Apr', 'default payment next month',\n",
       "       'EDUCATION_Graduate School', 'EDUCATION_High School',\n",
       "       'EDUCATION_University', 'SEX_Male', 'MARRIAGE_Married',\n",
       "       'MARRIAGE_Single'],\n",
       "      dtype='object')"
      ]
     },
     "execution_count": 124,
     "metadata": {},
     "output_type": "execute_result"
    }
   ],
   "source": [
    "df_test.columns"
   ]
  },
  {
   "cell_type": "code",
   "execution_count": 137,
   "id": "753c51a1",
   "metadata": {},
   "outputs": [],
   "source": [
    "import pandas as pd\n",
    "import numpy as np\n",
    "import re\n",
    "\n",
    "def parse_interval(interval_str):\n",
    "    \"\"\"Parse a string like '(30000.0, 140000.0]' into a pd.Interval.\"\"\"\n",
    "    if not isinstance(interval_str, str):\n",
    "        return np.nan\n",
    "    match = re.match(r'[\\[\\(]([-\\d\\.]+),\\s*([-\\d\\.]+)[\\]\\)]', interval_str)\n",
    "    if match:\n",
    "        left = float(match.group(1))\n",
    "        right = float(match.group(2))\n",
    "        closed = 'right' if interval_str.endswith(']') else 'left'\n",
    "        return pd.Interval(left, right, closed=closed)\n",
    "    return np.nan\n",
    "\n",
    "def apply_woe_binning(df, woe_temp):\n",
    "    df_transformed = df.copy()\n",
    "\n",
    "    for feature in woe_temp['Feature'].unique():\n",
    "        if feature not in df_transformed.columns:\n",
    "            continue\n",
    "\n",
    "        feature_woe = woe_temp[woe_temp['Feature'] == feature].copy()\n",
    "        feature_woe['bin'] = feature_woe['bin'].astype(str)\n",
    "\n",
    "        is_interval = feature_woe['bin'].str.contains(r'[\\[\\(].*,.*[\\]\\)]').any()\n",
    "\n",
    "        if is_interval:\n",
    "            intervals = feature_woe['bin'].apply(parse_interval)\n",
    "            valid = intervals.notna()\n",
    "            cut_intervals = pd.IntervalIndex(intervals[valid])\n",
    "            woe_map = dict(zip(cut_intervals, feature_woe.loc[valid, 'WoE']))\n",
    "\n",
    "            def map_with_outliers(x):\n",
    "                for interval in cut_intervals:\n",
    "                    if x in interval:\n",
    "                        return woe_map[interval]\n",
    "                # Handle out-of-range values\n",
    "                if pd.notna(x):\n",
    "                    if x < cut_intervals.left.min():\n",
    "                        return woe_map[cut_intervals[0]]  # WoE of leftmost bin\n",
    "                    elif x > cut_intervals.right.max():\n",
    "                        return woe_map[cut_intervals[-1]]  # WoE of rightmost bin\n",
    "                return np.nan\n",
    "\n",
    "            df_transformed[feature] = df_transformed[feature].apply(map_with_outliers)\n",
    "\n",
    "        else:\n",
    "            # Map exact match bins (e.g., for categorical values)\n",
    "            woe_map = dict(zip(feature_woe['bin'], feature_woe['WoE']))\n",
    "            df_transformed[feature] = df_transformed[feature].map(woe_map)\n",
    "\n",
    "    return df_transformed\n"
   ]
  },
  {
   "cell_type": "code",
   "execution_count": 138,
   "id": "fac697d9",
   "metadata": {},
   "outputs": [],
   "source": [
    "df_test_woe = apply_woe_binning(df_test, woe_temp)"
   ]
  },
  {
   "cell_type": "code",
   "execution_count": 139,
   "id": "2b5270b9",
   "metadata": {},
   "outputs": [
    {
     "data": {
      "text/plain": [
       "Index(['ID', 'LIMIT_BAL', 'AGE', 'PAY_Sep', 'BILL_AMT_Sep', 'PAY_AMT_Sep',\n",
       "       'utilization_ratio Sep', 'Paid Sep', 'Delinquent Sep', 'PAY_Aug',\n",
       "       'BILL_AMT_Aug', 'PAY_AMT_Aug', 'utilization_ratio Aug', 'Paid Aug',\n",
       "       'Delinquent Aug', 'PAY_Jul', 'BILL_AMT_Jul', 'PAY_AMT_Jul',\n",
       "       'utilization_ratio Jul', 'Paid Jul', 'Delinquent Jul', 'PAY_Jun',\n",
       "       'BILL_AMT_Jun', 'PAY_AMT_Jun', 'utilization_ratio Jun', 'Paid Jun',\n",
       "       'Delinquent Jun', 'PAY_May', 'BILL_AMT_May', 'PAY_AMT_May',\n",
       "       'utilization_ratio May', 'Paid May', 'Delinquent May', 'PAY_Apr',\n",
       "       'BILL_AMT_Apr', 'PAY_AMT_Apr', 'utilization_ratio Apr', 'Paid Apr',\n",
       "       'Delinquent Apr', 'default payment next month',\n",
       "       'EDUCATION_Graduate School', 'EDUCATION_High School',\n",
       "       'EDUCATION_University', 'SEX_Male', 'MARRIAGE_Married',\n",
       "       'MARRIAGE_Single'],\n",
       "      dtype='object')"
      ]
     },
     "execution_count": 139,
     "metadata": {},
     "output_type": "execute_result"
    }
   ],
   "source": [
    "df_test_woe.columns"
   ]
  },
  {
   "cell_type": "code",
   "execution_count": 140,
   "id": "09dad2fd",
   "metadata": {},
   "outputs": [
    {
     "data": {
      "text/plain": [
       "-0.054388    5385\n",
       " 0.084808    3615\n",
       "Name: BILL_AMT_Apr, dtype: int64"
      ]
     },
     "execution_count": 140,
     "metadata": {},
     "output_type": "execute_result"
    }
   ],
   "source": [
    "df_test_woe['BILL_AMT_Apr'].value_counts(dropna= False)"
   ]
  },
  {
   "cell_type": "code",
   "execution_count": 141,
   "id": "8a0e289d",
   "metadata": {},
   "outputs": [
    {
     "data": {
      "text/plain": [
       "290   -339603\n",
       "Name: BILL_AMT6, dtype: int64"
      ]
     },
     "execution_count": 141,
     "metadata": {},
     "output_type": "execute_result"
    }
   ],
   "source": [
    "df[df['ID']==291]['BILL_AMT6']"
   ]
  },
  {
   "cell_type": "code",
   "execution_count": 142,
   "id": "110534d6",
   "metadata": {},
   "outputs": [
    {
     "data": {
      "text/html": [
       "<div>\n",
       "<style scoped>\n",
       "    .dataframe tbody tr th:only-of-type {\n",
       "        vertical-align: middle;\n",
       "    }\n",
       "\n",
       "    .dataframe tbody tr th {\n",
       "        vertical-align: top;\n",
       "    }\n",
       "\n",
       "    .dataframe thead th {\n",
       "        text-align: right;\n",
       "    }\n",
       "</style>\n",
       "<table border=\"1\" class=\"dataframe\">\n",
       "  <thead>\n",
       "    <tr style=\"text-align: right;\">\n",
       "      <th></th>\n",
       "      <th>Feature</th>\n",
       "      <th>bin</th>\n",
       "      <th>Total Observations</th>\n",
       "      <th>Non events</th>\n",
       "      <th>Events</th>\n",
       "      <th>% of Non events</th>\n",
       "      <th>% of Events</th>\n",
       "      <th>WoE</th>\n",
       "      <th>IV</th>\n",
       "    </tr>\n",
       "  </thead>\n",
       "  <tbody>\n",
       "    <tr>\n",
       "      <th>67</th>\n",
       "      <td>BILL_AMT_Apr</td>\n",
       "      <td>(-209051.001, 8791.2]</td>\n",
       "      <td>8400</td>\n",
       "      <td>6650</td>\n",
       "      <td>1750</td>\n",
       "      <td>0.407376</td>\n",
       "      <td>0.374251</td>\n",
       "      <td>0.084808</td>\n",
       "      <td>0.002809</td>\n",
       "    </tr>\n",
       "    <tr>\n",
       "      <th>68</th>\n",
       "      <td>BILL_AMT_Apr</td>\n",
       "      <td>(8791.2, 961664.0]</td>\n",
       "      <td>12600</td>\n",
       "      <td>9674</td>\n",
       "      <td>2926</td>\n",
       "      <td>0.592624</td>\n",
       "      <td>0.625749</td>\n",
       "      <td>-0.054388</td>\n",
       "      <td>0.001802</td>\n",
       "    </tr>\n",
       "  </tbody>\n",
       "</table>\n",
       "</div>"
      ],
      "text/plain": [
       "         Feature                    bin  Total Observations  Non events  \\\n",
       "67  BILL_AMT_Apr  (-209051.001, 8791.2]                8400        6650   \n",
       "68  BILL_AMT_Apr     (8791.2, 961664.0]               12600        9674   \n",
       "\n",
       "    Events  % of Non events  % of Events       WoE        IV  \n",
       "67    1750         0.407376     0.374251  0.084808  0.002809  \n",
       "68    2926         0.592624     0.625749 -0.054388  0.001802  "
      ]
     },
     "execution_count": 142,
     "metadata": {},
     "output_type": "execute_result"
    }
   ],
   "source": [
    "woe_temp[woe_temp['Feature']== 'BILL_AMT_Apr']"
   ]
  },
  {
   "cell_type": "code",
   "execution_count": 144,
   "id": "fe7947c5",
   "metadata": {},
   "outputs": [
    {
     "data": {
      "text/plain": [
       "ID                            0\n",
       "LIMIT_BAL                     0\n",
       "AGE                           0\n",
       "PAY_Sep                       0\n",
       "BILL_AMT_Sep                  0\n",
       "PAY_AMT_Sep                   0\n",
       "utilization_ratio Sep         0\n",
       "Paid Sep                      0\n",
       "Delinquent Sep                0\n",
       "PAY_Aug                       0\n",
       "BILL_AMT_Aug                  0\n",
       "PAY_AMT_Aug                   0\n",
       "utilization_ratio Aug         0\n",
       "Paid Aug                      0\n",
       "Delinquent Aug                0\n",
       "PAY_Jul                       0\n",
       "BILL_AMT_Jul                  0\n",
       "PAY_AMT_Jul                   0\n",
       "utilization_ratio Jul         0\n",
       "Paid Jul                      0\n",
       "Delinquent Jul                0\n",
       "PAY_Jun                       0\n",
       "BILL_AMT_Jun                  0\n",
       "PAY_AMT_Jun                   0\n",
       "utilization_ratio Jun         0\n",
       "Paid Jun                      0\n",
       "Delinquent Jun                0\n",
       "PAY_May                       0\n",
       "BILL_AMT_May                  0\n",
       "PAY_AMT_May                   0\n",
       "utilization_ratio May         0\n",
       "Paid May                      0\n",
       "Delinquent May                0\n",
       "PAY_Apr                       0\n",
       "BILL_AMT_Apr                  0\n",
       "PAY_AMT_Apr                   0\n",
       "utilization_ratio Apr         0\n",
       "Paid Apr                      0\n",
       "Delinquent Apr                0\n",
       "default payment next month    0\n",
       "EDUCATION_Graduate School     0\n",
       "EDUCATION_High School         0\n",
       "EDUCATION_University          0\n",
       "SEX_Male                      0\n",
       "MARRIAGE_Married              0\n",
       "MARRIAGE_Single               0\n",
       "dtype: int64"
      ]
     },
     "execution_count": 144,
     "metadata": {},
     "output_type": "execute_result"
    }
   ],
   "source": [
    "df_test_woe.isna().sum()"
   ]
  },
  {
   "cell_type": "markdown",
   "id": "d89662e3",
   "metadata": {},
   "source": [
    "# Final Feature Selection: Train and Test"
   ]
  },
  {
   "cell_type": "code",
   "execution_count": 145,
   "id": "1cff2eea",
   "metadata": {},
   "outputs": [],
   "source": [
    "X_test = df_test_woe.drop(columns='default payment next month')\n",
    "y_test = df_test_woe['default payment next month']"
   ]
  },
  {
   "cell_type": "code",
   "execution_count": 148,
   "id": "fd91ed27",
   "metadata": {},
   "outputs": [],
   "source": [
    "selected_features.remove('const')"
   ]
  },
  {
   "cell_type": "code",
   "execution_count": 150,
   "id": "cf52b7c1",
   "metadata": {},
   "outputs": [],
   "source": [
    "X_train_selected = X_train[selected_features]\n",
    "X_test_selected = X_test[selected_features]"
   ]
  },
  {
   "cell_type": "code",
   "execution_count": 151,
   "id": "a1d92c12",
   "metadata": {},
   "outputs": [
    {
     "name": "stdout",
     "output_type": "stream",
     "text": [
      "(21000, 18)\n",
      "(9000, 18)\n"
     ]
    }
   ],
   "source": [
    "print(X_train_selected.shape)\n",
    "print(X_test_selected.shape)"
   ]
  },
  {
   "cell_type": "markdown",
   "id": "ffcb0c80",
   "metadata": {},
   "source": [
    "# Model Development"
   ]
  },
  {
   "cell_type": "code",
   "execution_count": null,
   "id": "5052b8ee",
   "metadata": {},
   "outputs": [],
   "source": []
  },
  {
   "cell_type": "code",
   "execution_count": null,
   "id": "dedddf65",
   "metadata": {},
   "outputs": [],
   "source": []
  }
 ],
 "metadata": {
  "kernelspec": {
   "display_name": "base",
   "language": "python",
   "name": "python3"
  },
  "language_info": {
   "codemirror_mode": {
    "name": "ipython",
    "version": 3
   },
   "file_extension": ".py",
   "mimetype": "text/x-python",
   "name": "python",
   "nbconvert_exporter": "python",
   "pygments_lexer": "ipython3",
   "version": "3.10.9"
  }
 },
 "nbformat": 4,
 "nbformat_minor": 5
}
